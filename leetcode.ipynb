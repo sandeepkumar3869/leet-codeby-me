{
 "cells": [
  {
   "cell_type": "markdown",
   "metadata": {},
   "source": [
    "## 1437. Check If All 1's Are at Least Length K Places Away"
   ]
  },
  {
   "cell_type": "code",
   "execution_count": null,
   "metadata": {},
   "outputs": [],
   "source": [
    "class Solution:\n",
    "    def kLengthApart(self, nums: List[int], k: int) -> bool:\n",
    "        j=[]\n",
    "        for i in range(len(nums)):\n",
    "            if nums[i]  == 1:\n",
    "                # return(i)\n",
    "                if len(j)==0:\n",
    "                    j.append(i)\n",
    "                else:\n",
    "\n",
    "        \n",
    "                    if abs(j[-1] - i) <k+1:\n",
    "                        return(False)\n",
    "                    else:\n",
    "                        j[0] = i\n",
    "\n",
    "        return(True)\n",
    "                "
   ]
  },
  {
   "cell_type": "markdown",
   "metadata": {},
   "source": [
    "## 2506. Count Pairs Of Similar Strings"
   ]
  },
  {
   "cell_type": "code",
   "execution_count": null,
   "metadata": {},
   "outputs": [],
   "source": [
    "class Solution:\n",
    "    def similarPairs(self, words: List[str]) -> int:\n",
    "        d= combinations(words,2)\n",
    "        iu=0\n",
    "        for i in d:\n",
    "            i=list(i)\n",
    "            # print(i)\n",
    "            if sorted(list(set(i[0]))) == sorted(list(set(i[1]))):\n",
    "                iu=iu+1\n",
    "        return iu\n",
    "                "
   ]
  },
  {
   "cell_type": "markdown",
   "metadata": {},
   "source": [
    "## 3151. Special Array I"
   ]
  },
  {
   "cell_type": "code",
   "execution_count": null,
   "metadata": {},
   "outputs": [],
   "source": [
    "class Solution:\n",
    "    def isArraySpecial(self, nums: List[int]) -> bool:\n",
    "        for i in range(len(nums)-1):\n",
    "            j = [nums[i],nums[i+1]]\n",
    "            if  (j[0]%2==0  and j[1] %2!=0 ) or (j[0]%2!=0  and j[1] %2==0 ):\n",
    "                pass\n",
    "            else:\n",
    "                return(False)\n",
    "        return(True)\n",
    "                "
   ]
  },
  {
   "cell_type": "markdown",
   "metadata": {},
   "source": [
    "## 1684. Count the Number of Consistent Strings"
   ]
  },
  {
   "cell_type": "code",
   "execution_count": null,
   "metadata": {},
   "outputs": [],
   "source": [
    "class Solution:\n",
    "    def countConsistentStrings(self, allowed: str, words: List[str]) -> int:\n",
    "        k=0\n",
    "        pp=0\n",
    "        for i  in words:\n",
    "            for j in i:\n",
    "                if j in allowed:\n",
    "                    pass\n",
    "                else:\n",
    "                    k=1\n",
    "            if k==0:\n",
    "                pp=pp+1\n",
    "                \n",
    "            else:\n",
    "                k=0\n",
    "\n",
    "            \n",
    "        return pp\n",
    "                "
   ]
  },
  {
   "cell_type": "markdown",
   "metadata": {},
   "source": [
    "## 2586. Count the Number of Vowel Strings in Range"
   ]
  },
  {
   "cell_type": "code",
   "execution_count": null,
   "metadata": {},
   "outputs": [],
   "source": [
    "class Solution:\n",
    "    def vowelStrings(self, words: List[str], left: int, right: int) -> int:\n",
    "        r=0\n",
    "        for i in range(left,right+1):\n",
    "            if words[i][0] in 'aeiou' and words[i][-1] in 'aeiou':\n",
    "                r=r+1\n",
    "        return r\n",
    "                "
   ]
  },
  {
   "cell_type": "markdown",
   "metadata": {},
   "source": [
    "## 2000. Reverse Prefix of Word"
   ]
  },
  {
   "cell_type": "code",
   "execution_count": null,
   "metadata": {},
   "outputs": [],
   "source": [
    "class Solution:\n",
    "    def reversePrefix(self, word: str, ch: str) -> str:\n",
    "        if ch in word:\n",
    "\n",
    "\n",
    "            p=word.index(ch)\n",
    "            k = word[:p+1]\n",
    "            return k[::-1]+word[p+1:len(word)]\n",
    "        else:\n",
    "            return word\n",
    "        "
   ]
  },
  {
   "cell_type": "markdown",
   "metadata": {},
   "source": [
    "## 1304. Find N Unique Integers Sum up to Zero"
   ]
  },
  {
   "cell_type": "code",
   "execution_count": null,
   "metadata": {},
   "outputs": [],
   "source": [
    "class Solution:\n",
    "    def sumZero(self, n: int) -> List[int]:\n",
    "        k=[]\n",
    "        if n==1:\n",
    "            k.append(0)\n",
    "            print(k)\n",
    "        elif n%2!=0:\n",
    "            k.append(0)\n",
    "\n",
    "\n",
    "        for i in range(1,(n//2)+1):\n",
    "            k.append(i)\n",
    "            k.append(-i)\n",
    "        return k\n",
    "                "
   ]
  },
  {
   "cell_type": "markdown",
   "metadata": {},
   "source": [
    "## 2582. Pass the Pillow"
   ]
  },
  {
   "cell_type": "code",
   "execution_count": null,
   "metadata": {},
   "outputs": [],
   "source": [
    "class Solution:\n",
    "    def passThePillow(self, n: int, time: int) -> int:\n",
    "        n1 = 1\n",
    "        while time !=0:\n",
    "            while n1 !=n and time !=0 :\n",
    "                # print(n1,time)\n",
    "                time=time-1\n",
    "                n1=n1+1\n",
    "            while n1!=1 and time!=0:\n",
    "                # print(n1,time)\n",
    "                time=time-1\n",
    "                n1=n1-1\n",
    "        return(n1)"
   ]
  },
  {
   "cell_type": "markdown",
   "metadata": {},
   "source": [
    "## 3178. Find the Child Who Has the Ball After K Seconds"
   ]
  },
  {
   "cell_type": "code",
   "execution_count": null,
   "metadata": {},
   "outputs": [],
   "source": [
    "class Solution:\n",
    "    def numberOfChild(self, n: int, k: int) -> int:\n",
    "        u=0\n",
    "        while k !=0:\n",
    "            # print(u,k)\n",
    "            if u <n-1:\n",
    "                u=u+1\n",
    "                k=k-1\n",
    "            else:\n",
    "                while k != 0:\n",
    "                    # print(u,k)\n",
    "                    u = u-1\n",
    "                    k=k-1\n",
    "                    if u  == 0:\n",
    "                        break\n",
    "        return u\n",
    "                "
   ]
  },
  {
   "cell_type": "markdown",
   "metadata": {},
   "source": [
    "## 2288. Apply Discount to Prices"
   ]
  },
  {
   "cell_type": "code",
   "execution_count": null,
   "metadata": {},
   "outputs": [],
   "source": [
    "class Solution:\n",
    "    def discountPrices(self, sentence: str, discount: int) -> str:\n",
    "        k =sentence.split(' ')\n",
    "        def num(e):\n",
    "            for i in e:\n",
    "                if i  in '1234567890':\n",
    "                    pass\n",
    "                else:\n",
    "                    return False\n",
    "            return True\n",
    "        for i in k[:]:\n",
    "            if '$'  in i  and i.count('$') ==1 and i.index('$')==0 and len(i)>1:\n",
    "                g = i[1:len(i)]\n",
    "                if num(g) == True:\n",
    "                # print(g)\n",
    "                    g=int(g)\n",
    "                    g=g-g*(discount/100)\n",
    "                    g= round(g,2)\n",
    "                    d=\"$\"\n",
    "                    d=d+str(g)\n",
    "                    if len(d.split('.')[-1]) ==1:\n",
    "                        d=d+'0'\n",
    "                    elif len(d.split('.')[-1]) >2:\n",
    "                        d= d[0:len(d.split('.')[0] )+3]\n",
    "                    k.insert(k.index(i)+1,d)\n",
    "                    k.pop(k.index(i))\n",
    "                    # print(d,i)\n",
    "                    \n",
    "            else:\n",
    "                pass\n",
    "\n",
    "                # k.remove(i)\n",
    "                    \n",
    "\n",
    "\n",
    "        k = ' '.join(k)\n",
    "\n",
    "        return k "
   ]
  },
  {
   "cell_type": "markdown",
   "metadata": {},
   "source": [
    "## 2481. Minimum Cuts to Divide a Circle"
   ]
  },
  {
   "cell_type": "code",
   "execution_count": null,
   "metadata": {},
   "outputs": [],
   "source": [
    "class Solution:\n",
    "    def numberOfCuts(self, n: int) -> int:\n",
    "        if n==1:\n",
    "            return 0\n",
    "        if n%2==0:\n",
    "            return n//2\n",
    "        else:\n",
    "            return n        "
   ]
  },
  {
   "cell_type": "markdown",
   "metadata": {},
   "source": [
    "## 2469. Convert the Temperature"
   ]
  },
  {
   "cell_type": "code",
   "execution_count": null,
   "metadata": {},
   "outputs": [],
   "source": [
    "class Solution:\n",
    "    def convertTemperature(self, celsius: float) -> List[float]:\n",
    "        Kelvin = celsius + 273.15\n",
    "        Fahrenheit = (celsius * 1.80) + 32.00\n",
    "        return [Kelvin,Fahrenheit]\n",
    "\n",
    "        "
   ]
  },
  {
   "cell_type": "markdown",
   "metadata": {},
   "source": [
    "## 1979. Find Greatest Common Divisor of Array"
   ]
  },
  {
   "cell_type": "code",
   "execution_count": null,
   "metadata": {},
   "outputs": [],
   "source": [
    "class Solution:\n",
    "    def findGCD(self, nums: List[int]) -> int:\n",
    "        if max(nums)%min(nums)==0:\n",
    "            return(min(nums))\n",
    "        else:\n",
    "            for i in range(min(nums)-1,0,-1):\n",
    "                if max(nums)%i==0 and  min(nums)%i==0 :\n",
    "                    return(i)\n",
    "                "
   ]
  },
  {
   "cell_type": "markdown",
   "metadata": {},
   "source": [
    "## 1952. Three Divisors"
   ]
  },
  {
   "cell_type": "code",
   "execution_count": null,
   "metadata": {},
   "outputs": [],
   "source": [
    "class Solution:\n",
    "    def isThree(self, n: int) -> bool:\n",
    "        c= 0\n",
    "        for i in range(1,n+1):\n",
    "            if n%i==0:\n",
    "                c=c+1\n",
    "\n",
    "        if c!=3:\n",
    "            return False\n",
    "        else:\n",
    "            return True\n",
    "\n",
    "\n",
    "        "
   ]
  },
  {
   "cell_type": "markdown",
   "metadata": {},
   "source": [
    "## 2413. Smallest Even Multiple"
   ]
  },
  {
   "cell_type": "code",
   "execution_count": null,
   "metadata": {},
   "outputs": [],
   "source": [
    "class Solution:\n",
    "    def smallestEvenMultiple(self, n: int) -> int:\n",
    "        if n%2==0:\n",
    "            return(n)\n",
    "        else:\n",
    "            return(n*2)"
   ]
  },
  {
   "cell_type": "markdown",
   "metadata": {},
   "source": [
    "## 1005. Maximize Sum Of Array After K Negations"
   ]
  },
  {
   "cell_type": "code",
   "execution_count": null,
   "metadata": {},
   "outputs": [],
   "source": [
    "class Solution:\n",
    "    def largestSumAfterKNegations(self, nums: List[int], k: int) -> int:\n",
    "        while k!=0:\n",
    "            nums = sorted(nums)\n",
    "            nums[0] = nums[0]*-1\n",
    "            k=k-1\n",
    "        return sum(nums)\n",
    "                "
   ]
  },
  {
   "cell_type": "markdown",
   "metadata": {},
   "source": [
    "## 1287. Element Appearing More Than 25% In Sorted Array"
   ]
  },
  {
   "cell_type": "code",
   "execution_count": null,
   "metadata": {},
   "outputs": [],
   "source": [
    "class Solution:\n",
    "    def findSpecialInteger(self, arr: List[int]) -> int:\n",
    "        s=list(set(arr))\n",
    "        for i in s:\n",
    "            j = (arr.count(i)*100)/len(arr)\n",
    "            if j >25:\n",
    "                return(i)\n",
    "                "
   ]
  },
  {
   "cell_type": "markdown",
   "metadata": {},
   "source": [
    "## 119. Pascal's Triangle II"
   ]
  },
  {
   "cell_type": "code",
   "execution_count": null,
   "metadata": {},
   "outputs": [],
   "source": [
    "class Solution:\n",
    "    def getRow(self, rowIndex: int) -> List[int]:\n",
    "        numRows = rowIndex+1\n",
    "        k=[]\n",
    "        u=0\n",
    "        jj=[]\n",
    "        for i in range(1,numRows+1):\n",
    "            if i <3:\n",
    "\n",
    "                for j in range(i):\n",
    "                    jj.append(1)\n",
    "                k.append(jj)\n",
    "                jj=[]\n",
    "            else:\n",
    "                for j in range(i):\n",
    "                    if j!=0 and j!=i-1:\n",
    "                        \n",
    "                        jj.append(k[-1][j]+k[-1][j-1])\n",
    "                    else:\n",
    "                        jj.append(1)\n",
    "                k.append(jj)\n",
    "                jj=[]\n",
    "                \n",
    "\n",
    "\n",
    "        return k[-1] \n",
    "                "
   ]
  },
  {
   "cell_type": "markdown",
   "metadata": {},
   "source": [
    "## 2293. Min Max Game"
   ]
  },
  {
   "cell_type": "code",
   "execution_count": null,
   "metadata": {},
   "outputs": [],
   "source": [
    "class Solution:\n",
    "    def minMaxGame(self, nums: List[int]) -> int:\n",
    "        j=[]\n",
    "        a=0\n",
    "        while len(nums)!=1:\n",
    "\n",
    "            for i in range(0,len(nums),2):\n",
    "                # print(i)\n",
    "                if a==0:\n",
    "                    j.append(min(nums[i],nums[i+1]))\n",
    "                    a=a+1\n",
    "                else:\n",
    "                    j.append(max(nums[i],nums[i+1]))\n",
    "                    a=a-1\n",
    "            nums=j\n",
    "            j=[]\n",
    "        return nums[0]\n",
    "                "
   ]
  },
  {
   "cell_type": "markdown",
   "metadata": {},
   "source": [
    "## 2243. Calculate Digit Sum of a String"
   ]
  },
  {
   "cell_type": "code",
   "execution_count": null,
   "metadata": {},
   "outputs": [],
   "source": [
    "class Solution:\n",
    "    def digitSum(self, s: str, k: int) -> str:\n",
    "        # k = 3\n",
    "        j=[]\n",
    "        h=''\n",
    "        while len(s)>k:\n",
    "            # print(s)\n",
    "\n",
    "            for i in range(len(s)):\n",
    "\n",
    "                h =h+s[i]\n",
    "                if i == len(s)-1 :\n",
    "                    j.append(h)\n",
    "                    h=''\n",
    "\n",
    "                if len(h)==k:\n",
    "                    j.append(h)\n",
    "                    h=''\n",
    "                \n",
    "            # print(j)\n",
    "            for i in j:\n",
    "                s=0\n",
    "                for kk in i:\n",
    "                    s=s+int(kk)\n",
    "                h=h+str(s)\n",
    "                \n",
    "            s=h\n",
    "            h=''\n",
    "            j=[]\n",
    "        return s\n",
    "                "
   ]
  },
  {
   "cell_type": "markdown",
   "metadata": {},
   "source": [
    "## 2357. Make Array Zero by Subtracting Equal Amounts"
   ]
  },
  {
   "cell_type": "code",
   "execution_count": null,
   "metadata": {},
   "outputs": [],
   "source": [
    "class Solution:\n",
    "    def minimumOperations(self, nums: List[int]) -> int:\n",
    "        while 0 in nums:\n",
    "            nums.remove(0)\n",
    "        jk=[]\n",
    "        con=0\n",
    "        p=0\n",
    "        while p==0:\n",
    "            while 0 in nums:\n",
    "                nums.remove(0)\n",
    "        \n",
    "            # print(nums)\n",
    "            if len(nums)==0:\n",
    "                p=1\n",
    "\n",
    "            for i in nums:\n",
    "                k=i-min(nums)\n",
    "                jk.append(k)\n",
    "            nums=jk\n",
    "            jk=[]\n",
    "\n",
    "            con+=1\n",
    "            # if \n",
    "\n",
    "\n",
    "        return (con-1)\n",
    "                "
   ]
  },
  {
   "cell_type": "markdown",
   "metadata": {},
   "source": [
    "## 674. Longest Continuous Increasing Subsequence"
   ]
  },
  {
   "cell_type": "code",
   "execution_count": null,
   "metadata": {},
   "outputs": [],
   "source": [
    "class Solution:\n",
    "    def findLengthOfLCIS(self, nums: List[int]) -> int:\n",
    "        if len(nums) ==1:\n",
    "            return 1\n",
    "        # j = sorted(nums)\n",
    "        # if nums==j:\n",
    "        #     return (len(j))\n",
    "\n",
    "\n",
    "        k=[]\n",
    "        d=0\n",
    "        for i in range(len(nums)-1):\n",
    "            if nums[i]<nums[i+1]:\n",
    "                k.append(nums[i])\n",
    "                if i == len(nums)-2:\n",
    "                    k.append(nums[i+1])\n",
    "                    if d < len(k):\n",
    "                        d=len(k)\n",
    "                        k=[]\n",
    "\n",
    "            else:\n",
    "                k.append(nums[i])\n",
    "                if d < len(k):\n",
    "                    d=len(k)\n",
    "                k=[]\n",
    "            # if i == len(nums)-2:\n",
    "\n",
    "        return d"
   ]
  },
  {
   "cell_type": "markdown",
   "metadata": {},
   "source": [
    "## 697. Degree of an Array"
   ]
  },
  {
   "cell_type": "code",
   "execution_count": null,
   "metadata": {},
   "outputs": [],
   "source": [
    "class Solution:\n",
    "    def findShortestSubArray(self, nums: List[int]) -> int:\n",
    "        s=[0]\n",
    "        j=[]\n",
    "        for i in list(set(nums)):\n",
    "            # print(i)\n",
    "            if nums.count(i) >s[-1]:\n",
    "                s.clear()\n",
    "                s.append(nums.count(i))\n",
    "                j.clear()\n",
    "                j.append(i)\n",
    "            elif nums.count(i) ==s[-1]:\n",
    "                j.append(i)\n",
    "        if s[0]==0:\n",
    "            s.pop(0)\n",
    "        # print(s,j)\n",
    "        diff =len(nums)\n",
    "        ko=0\n",
    "        for i in j:\n",
    "            # print(diff,i,abs(nums.index(i) - abs(nums[::-1].index(i) - len(nums)+1)))\n",
    "            if abs(nums.index(i) - abs(nums[::-1].index(i) - len(nums)+1)) <diff:\n",
    "                diff = abs(nums.index(i) - abs(nums[::-1].index(i) - len(nums)+1))\n",
    "                ko=i\n",
    "            else:\n",
    "                pass\n",
    "\n",
    "        ko\n",
    "        ja = nums[nums.index(ko):abs(nums[::-1].index(ko) - len(nums)+1)+1]\n",
    "        return len(ja)\n",
    "                "
   ]
  },
  {
   "cell_type": "markdown",
   "metadata": {},
   "source": [
    "## 1561. Maximum Number of Coins You Can Get"
   ]
  },
  {
   "cell_type": "code",
   "execution_count": null,
   "metadata": {},
   "outputs": [],
   "source": [
    "class Solution:\n",
    "    def maxCoins(self, piles: List[int]) -> int:\n",
    "        piles=sorted(piles)\n",
    "        piles=piles[::-1]\n",
    "        a=0\n",
    "        while len(piles)!=0:\n",
    "\n",
    "            k=[piles[0],piles[1],piles[-1]]\n",
    "            # print(k)\n",
    "            a=a+k[1]\n",
    "            piles.pop(-1)\n",
    "            piles.pop(1)\n",
    "            piles.pop(0)\n",
    "            # k=[]\n",
    "        return a\n",
    "                "
   ]
  },
  {
   "cell_type": "markdown",
   "metadata": {},
   "source": [
    "## 2335. Minimum Amount of Time to Fill Cups"
   ]
  },
  {
   "cell_type": "code",
   "execution_count": null,
   "metadata": {},
   "outputs": [],
   "source": [
    "class Solution:\n",
    "    def fillCups(self, amount: List[int]) -> int:\n",
    "        \n",
    "\n",
    "        if amount[0] ==0 and amount[1] ==0:\n",
    "            return(sum(amount))\n",
    "        elif amount[1] ==0 and amount[2] ==0:\n",
    "            return(sum(amount))\n",
    "        elif amount[0] ==0 and amount[2] ==0:\n",
    "            return(sum(amount))\n",
    "        else:\n",
    "\n",
    "\n",
    "            j= max(amount)\n",
    "            amount.pop(amount.index(j))\n",
    "\n",
    "            if j == sum(amount):\n",
    "                return(j)\n",
    "            elif j > sum(amount):\n",
    "                return(sum(amount) + (j-sum(amount)))\n",
    "            elif j < sum(amount):\n",
    "                if (sum(amount)-j )%2==0:\n",
    "                \n",
    "                    return(j+ ((sum(amount)-j)//2))\n",
    "                else:\n",
    "                    return(j+ 1+((sum(amount)-j)//2))\n",
    "                "
   ]
  },
  {
   "cell_type": "markdown",
   "metadata": {},
   "source": [
    "## 118. Pascal's Triangle"
   ]
  },
  {
   "cell_type": "code",
   "execution_count": null,
   "metadata": {},
   "outputs": [],
   "source": [
    "class Solution:\n",
    "    def generate(self, numRows: int) -> List[List[int]]:\n",
    "        k=[]\n",
    "        u=0\n",
    "        jj=[]\n",
    "        for i in range(1,numRows+1):\n",
    "            if i <3:\n",
    "\n",
    "                for j in range(i):\n",
    "                    jj.append(1)\n",
    "                k.append(jj)\n",
    "                jj=[]\n",
    "            else:\n",
    "                for j in range(i):\n",
    "                    if j!=0 and j!=i-1:\n",
    "                        \n",
    "                        jj.append(k[-1][j]+k[-1][j-1])\n",
    "                    else:\n",
    "                        jj.append(1)\n",
    "                k.append(jj)\n",
    "                jj=[]\n",
    "                \n",
    "\n",
    "\n",
    "        return k\n",
    "                "
   ]
  },
  {
   "cell_type": "markdown",
   "metadata": {},
   "source": [
    "## 1624. Largest Substring Between Two Equal Characters"
   ]
  },
  {
   "cell_type": "code",
   "execution_count": null,
   "metadata": {},
   "outputs": [],
   "source": [
    "class Solution:\n",
    "    def maxLengthBetweenEqualCharacters(self, s: str) -> int:\n",
    "        j=''\n",
    "        io=0\n",
    "        d = s[::-1]\n",
    "        for i in s:\n",
    "            if s.count(i)>1:\n",
    "                io=1\n",
    "                r = s.index(i)\n",
    "                q = d.index(i)\n",
    "                # return(we,r,len(s)-1-q-r)\n",
    "                if abs(len(s)-1-q-r)>1:\n",
    "                    we = s[r+1:len(s)-1-q]\n",
    "                    if len(we)>len(j):\n",
    "                        j=we\n",
    "                \n",
    "            \n",
    "        if io==0:\n",
    "            return(-1)\n",
    "        else:\n",
    "            return(len(j))\n",
    "                "
   ]
  },
  {
   "cell_type": "markdown",
   "metadata": {},
   "source": [
    "## 1422. Maximum Score After Splitting a String"
   ]
  },
  {
   "cell_type": "code",
   "execution_count": null,
   "metadata": {},
   "outputs": [],
   "source": [
    "class Solution:\n",
    "    def maxScore(self, s: str) -> int:\n",
    "        kj =0\n",
    "        for i in range(len(s)-1):\n",
    "            k1=s[0:i+1]\n",
    "            k2=s[i+1:len(s)]\n",
    "            cnt1=0\n",
    "            cnt2=0\n",
    "            while \"0\" in k1:\n",
    "                cnt1+=1\n",
    "                k1=list(k1)\n",
    "                k1.remove(\"0\")\n",
    "                k1=\"\".join(k1)\n",
    "            \n",
    "            while \"1\" in k2:\n",
    "                cnt2+=1\n",
    "                k2=list(k2)\n",
    "                k2.remove(\"1\")\n",
    "                k2=\"\".join(k2)\n",
    "            if (cnt1+cnt2) >kj:\n",
    "                kj=cnt1+cnt2\n",
    "            cnt1=0\n",
    "            cnt2=0\n",
    "\n",
    "            # print(\"fghj\",k1,\" \",k2)\n",
    "        return kj\n",
    "                "
   ]
  },
  {
   "cell_type": "markdown",
   "metadata": {},
   "source": [
    "## 3114. Latest Time You Can Obtain After Replacing Characters"
   ]
  },
  {
   "cell_type": "code",
   "execution_count": null,
   "metadata": {},
   "outputs": [],
   "source": [
    "class Solution:\n",
    "    def findLatestTime(self, s: str) -> str:\n",
    "        s=s.split(':')\n",
    "        # print(s)\n",
    "\n",
    "        if '?' in s[0]:\n",
    "            s[0]=list(s[0])\n",
    "            k = s[0].index('?')\n",
    "        \n",
    "            if k==0:\n",
    "                if s[0][1] =='0' or s[0][1] =='1':\n",
    "                    s[0].insert(k+1,'1')\n",
    "                    s[0].pop(k)\n",
    "                    s[0]=''.join(s[0])\n",
    "                    # print(s[0])\n",
    "                elif s[0][1] =='?':\n",
    "                    s[0]=[\"11\"]\n",
    "                    s[0]=''.join(s[0])\n",
    "\n",
    "                else:\n",
    "                    s[0].insert(1,'0')\n",
    "                    s[0].pop(0)\n",
    "                    s[0]=''.join(s[0])\n",
    "            if k==1:\n",
    "                if s[0][0] =='0' :\n",
    "                    s[0].insert(k+1,'9')\n",
    "                    s[0].pop(k)\n",
    "                    s[0]=''.join(s[0])\n",
    "                    # print(s[0])\n",
    "                if s[0][0] =='1' :\n",
    "                    s[0].insert(k+1,'1')\n",
    "                    s[0].pop(k)\n",
    "                    s[0]=''.join(s[0])\n",
    "        if '?' in s[1]:\n",
    "            s[1]=list(s[1])\n",
    "            k = s[1].index('?')\n",
    "            if k==0:\n",
    "                if s[1][1] =='?':\n",
    "                    s[1]=[\"59\"]\n",
    "                    s[1]=''.join(s[1])\n",
    "                else:\n",
    "\n",
    "                \n",
    "                    s[1].insert(k+1,'5')\n",
    "                    s[1].pop(k)\n",
    "                    s[1]=''.join(s[1])\n",
    "            if k==1:\n",
    "                if s[1][0] =='5' :\n",
    "                    s[1].insert(k+1,'9')\n",
    "                    s[1].pop(k)\n",
    "                    s[1]=''.join(s[1])\n",
    "                else:\n",
    "                    s[1].insert(k+1,'9')\n",
    "                    s[1].pop(k)\n",
    "                    s[1]=''.join(s[1])\n",
    "                \n",
    "\n",
    "\n",
    "\n",
    "\n",
    "\n",
    "\n",
    "        \n",
    "\n",
    "        s[0] = s[0]+':'         \n",
    "        s=''.join(s)\n",
    "        # s             \n",
    "        return s\n",
    "                "
   ]
  },
  {
   "cell_type": "markdown",
   "metadata": {},
   "source": [
    "## 561. Array Partition"
   ]
  },
  {
   "cell_type": "code",
   "execution_count": null,
   "metadata": {},
   "outputs": [],
   "source": [
    "class Solution:\n",
    "    def arrayPairSum(self, nums: List[int]) -> int:\n",
    "        nums = sorted(nums)\n",
    "        # print(nums)\n",
    "        s=0\n",
    "        for i in range(0,len(nums)-1,2):\n",
    "            # print(nums[i],nums[i+1])\n",
    "            s=s+min(nums[i],nums[i+1])\n",
    "        return s\n",
    "        "
   ]
  },
  {
   "cell_type": "markdown",
   "metadata": {},
   "source": [
    "## 575. Distribute Candies"
   ]
  },
  {
   "cell_type": "code",
   "execution_count": null,
   "metadata": {},
   "outputs": [],
   "source": [
    "class Solution:\n",
    "    def distributeCandies(self, candyType: List[int]) -> int:\n",
    "        d=dict.fromkeys(candyType)\n",
    "        d=list(d)\n",
    "        \n",
    "        return (min(int(len(candyType)/2),len(d)))\n",
    "        "
   ]
  },
  {
   "cell_type": "markdown",
   "metadata": {},
   "source": [
    "## 3115. Maximum Prime Difference"
   ]
  },
  {
   "cell_type": "code",
   "execution_count": null,
   "metadata": {},
   "outputs": [],
   "source": [
    "class Solution:\n",
    "    def maximumPrimeDifference(self, nums: List[int]) -> int:\n",
    "        a =0\n",
    "        b=0\n",
    "\n",
    "        def prime(ii):\n",
    "\n",
    "            if ii ==2 or ii==3  or ii==5 or ii==7 :\n",
    "                return True\n",
    "            \n",
    "            if ii!=1 and ii!=2 and ii!=3 and ii!=5 and ii!=7:\n",
    "                if ii %2==0 or ii%3==0 or ii%5==0 or ii%7==0 :\n",
    "                    return False\n",
    "                else:\n",
    "                    return True\n",
    "            else:\n",
    "                return False\n",
    "\n",
    "        # print(prime(97))\n",
    "\n",
    "        for i in nums:\n",
    "            if prime(i) == True:\n",
    "                a = nums.index(i)\n",
    "                break\n",
    "\n",
    "        nums = nums[::-1]\n",
    "        for i in nums:\n",
    "            if prime(i) == True:\n",
    "                b = nums.index(i)\n",
    "                break\n",
    "\n",
    "        b= len(nums)-b-1\n",
    "        return (abs(a-b))\n",
    "                "
   ]
  },
  {
   "cell_type": "markdown",
   "metadata": {},
   "source": [
    "## 896. Monotonic Array"
   ]
  },
  {
   "cell_type": "code",
   "execution_count": null,
   "metadata": {},
   "outputs": [],
   "source": [
    "class Solution:\n",
    "    def isMonotonic(self, nums: List[int]) -> bool:\n",
    "        if len(nums)>1:\n",
    "\n",
    "            k = nums[0]\n",
    "            v=list(dict.fromkeys(nums))\n",
    "            if len(v)>1:\n",
    "            # return(v)\n",
    "                if v[0]<v[1]:\n",
    "\n",
    "                    for i in range(len(nums)-1):\n",
    "                        if nums[i]>nums[i+1]:\n",
    "                            return(False)\n",
    "                    return(True)\n",
    "                else:\n",
    "                    for i in range(len(nums)-1):\n",
    "                        if nums[i]<nums[i+1]:\n",
    "                            return(False)\n",
    "                    return(True)\n",
    "            else:\n",
    "                return(True)\n",
    "        else:\n",
    "            return(True)\n",
    "        "
   ]
  },
  {
   "cell_type": "markdown",
   "metadata": {},
   "source": [
    "## 2284. Sender With Largest Word Count"
   ]
  },
  {
   "cell_type": "code",
   "execution_count": null,
   "metadata": {},
   "outputs": [],
   "source": [
    "class Solution:\n",
    "    def largestWordCount(self, messages: List[str], senders: List[str]) -> str:\n",
    "        for i in messages[:]:\n",
    "            k=i.split(\" \")\n",
    "            messages.append(k)\n",
    "            messages.remove(i)\n",
    "        messages\n",
    "\n",
    "        kj=dict()\n",
    "        for i,j in zip(senders,messages):\n",
    "            if i not in kj:\n",
    "\n",
    "                kj[i]=len(j)\n",
    "            else:\n",
    "                kj[i]+=len(j)\n",
    "        # print(kj)\n",
    "        snder = list(kj.keys())\n",
    "        mess = list(kj.values())\n",
    "        mess1 = sorted(mess)\n",
    "        mess1=mess1[::-1]\n",
    "        # print(mess1)\n",
    "        newsemd=[]\n",
    "        newmwss=[]\n",
    "        while mess1[0] in mess:\n",
    "        # if mess1[0] in mess:\n",
    "            jj=mess.index(mess1[0])\n",
    "            newmwss.append(len(snder[jj]))\n",
    "            newsemd.append(snder[jj])\n",
    "            mess.insert(jj+1,-1)\n",
    "            mess.pop(jj)\n",
    "        kkk=sorted(newsemd)\n",
    "        # print(kkk!=newsemd)\n",
    "        # if kkk==newsemd:\n",
    "        #     newmwssq=sorted(newmwss)\n",
    "        #     newmwssq=newmwssq[::-1]\n",
    "        #     pta=newmwss.index(newmwssq[0])\n",
    "        #     return(newsemd[pta])\n",
    "        #     # print(newmwss)\n",
    "        # else:\n",
    "        return(kkk[-1])"
   ]
  },
  {
   "cell_type": "markdown",
   "metadata": {},
   "source": [
    "## 628. Maximum Product of Three Numbers"
   ]
  },
  {
   "cell_type": "code",
   "execution_count": null,
   "metadata": {},
   "outputs": [],
   "source": [
    "class Solution:\n",
    "    def maximumProduct(self, nums: List[int]) -> int:\n",
    "        # nums = list(set(nums))\n",
    "        nums=sorted(nums)\n",
    "        i2=nums[0]*nums[1]*nums[-1]\n",
    "        nums = nums[::-1]\n",
    "        nums=nums[:3]\n",
    "        i1=1\n",
    "        for i in nums:\n",
    "            i1=i1*i\n",
    "        return max(i2,i1)\n",
    "        "
   ]
  },
  {
   "cell_type": "markdown",
   "metadata": {},
   "source": [
    "## 747. Largest Number At Least Twice of Others"
   ]
  },
  {
   "cell_type": "code",
   "execution_count": null,
   "metadata": {},
   "outputs": [],
   "source": [
    "class Solution:\n",
    "    def dominantIndex(self, nums: List[int]) -> int:\n",
    "        kjh = list(set(nums))\n",
    "        if len(kjh)==2 and 0 in kjh:\n",
    "            # return(\"ok\")\n",
    "            return(nums.index(max(nums)))\n",
    "\n",
    "\n",
    "            \n",
    "        if len(nums)<2:\n",
    "            \n",
    "            return(nums[0])\n",
    "        else:\n",
    "            # return(\"ok\")\n",
    "\n",
    "            nums1=sorted(nums)\n",
    "            nums1=nums1[::-1]\n",
    "            # return(nums1)\n",
    "            k = nums1[1]*2\n",
    "            # return(k)\n",
    "            if k <= nums1[0]:\n",
    "                return(nums.index(nums1[0]))\n",
    "            else:\n",
    "                return(-1)"
   ]
  },
  {
   "cell_type": "markdown",
   "metadata": {},
   "source": [
    "## 2185. Counting Words With a Given Prefix"
   ]
  },
  {
   "cell_type": "code",
   "execution_count": null,
   "metadata": {},
   "outputs": [],
   "source": [
    "class Solution:\n",
    "    def prefixCount(self, words: List[str], pref: str) -> int:\n",
    "        k=0\n",
    "        def prefix(s,s1):\n",
    "            if len(s)<=len(s1):\n",
    "\n",
    "            \n",
    "                s1 = s1[:len(s)]\n",
    "                # print(s,s1)\n",
    "                if s== s1:\n",
    "                    return(True)\n",
    "                else:\n",
    "                    return(False)\n",
    "            else:\n",
    "                return(False)\n",
    "        for i in words:\n",
    "            if prefix(pref,i) == True:\n",
    "                k=k+1\n",
    "            else:\n",
    "                pass\n",
    "        return k\n",
    "                "
   ]
  },
  {
   "cell_type": "markdown",
   "metadata": {},
   "source": [
    "## 3223. Minimum Length of String After Operations"
   ]
  },
  {
   "cell_type": "code",
   "execution_count": null,
   "metadata": {},
   "outputs": [],
   "source": [
    "class Solution:\n",
    "    def minimumLength(self, s: str) -> int:\n",
    "        d={}\n",
    "        for i in s:\n",
    "            if i not in d:\n",
    "                d[i]=1\n",
    "            else:\n",
    "                d[i]+=1\n",
    "        t = list(d.values())\n",
    "\n",
    "        def minus(num):\n",
    "            while num >2:\n",
    "                num=num-2\n",
    "            return num\n",
    "\n",
    "        con=0\n",
    "        for i in t:\n",
    "            if i >=3:\n",
    "\n",
    "                con=con+minus(i)\n",
    "            else:\n",
    "                con=con+i\n",
    "        return con\n",
    "                "
   ]
  },
  {
   "cell_type": "markdown",
   "metadata": {},
   "source": [
    "## 2144. Minimum Cost of Buying Candies With Discount"
   ]
  },
  {
   "cell_type": "code",
   "execution_count": null,
   "metadata": {},
   "outputs": [],
   "source": [
    "class Solution:\n",
    "    def minimumCost(self, cost: List[int]) -> int:\n",
    "        if len(cost)==1:\n",
    "            return cost[0]\n",
    "        cost=sorted(cost)\n",
    "        cost = cost[::-1]\n",
    "        # print(cost)\n",
    "        s=0\n",
    "\n",
    "        for i in cost[:]:\n",
    "            s=s+1\n",
    "            if s==3:\n",
    "                cost.remove(i)\n",
    "                s=0\n",
    "\n",
    "            \n",
    "        # print(cost)\n",
    "        return sum(cost)\n",
    "                "
   ]
  },
  {
   "cell_type": "markdown",
   "metadata": {},
   "source": [
    "## 2657. Find the Prefix Common Array of Two Arrays"
   ]
  },
  {
   "cell_type": "code",
   "execution_count": null,
   "metadata": {},
   "outputs": [],
   "source": [
    "class Solution:\n",
    "    def findThePrefixCommonArray(self, a: List[int], b: List[int]) -> List[int]:\n",
    "        k=[]\n",
    "        if a[0]==b[0]:\n",
    "            k.append(1)\n",
    "        else:\n",
    "            k.append(0)\n",
    "\n",
    "        for i in range(1,len(a)):\n",
    "            j = a[:i+1]+b[:i+1]\n",
    "            j=list(set(j))\n",
    "            # print(j)\n",
    "            k.append((i+1)*2-len(j))\n",
    "        return k\n",
    "                "
   ]
  },
  {
   "cell_type": "markdown",
   "metadata": {},
   "source": [
    "## 1619. Mean of Array After Removing Some Elements"
   ]
  },
  {
   "cell_type": "code",
   "execution_count": null,
   "metadata": {},
   "outputs": [],
   "source": [
    "class Solution:\n",
    "    def trimMean(self, arr: List[int]) -> float:\n",
    "        arr = sorted(arr)\n",
    "        k = 0.05*len(arr)\n",
    "        # print(arr)\n",
    "        for i in range(int(k)):\n",
    "            arr.pop(0)\n",
    "        # print(arr)\n",
    "        # print(int(k))\n",
    "        arr=arr[::-1]\n",
    "        for i in range(int(k)):\n",
    "            arr.pop(0)\n",
    "\n",
    "        return sum(arr)/len(arr)"
   ]
  },
  {
   "cell_type": "markdown",
   "metadata": {},
   "source": [
    "## 645. Set Mismatch"
   ]
  },
  {
   "cell_type": "code",
   "execution_count": null,
   "metadata": {},
   "outputs": [],
   "source": [
    "class Solution:\n",
    "    def findErrorNums(self, nums: List[int]) -> List[int]:\n",
    "        nums=sorted(nums)\n",
    "\n",
    "        for i in range(1,len(nums)+1):\n",
    "            if i not in nums:\n",
    "                nums.append(i)\n",
    "            else:\n",
    "                nums.remove(i)\n",
    "\n",
    "        return nums\n",
    "        "
   ]
  },
  {
   "cell_type": "markdown",
   "metadata": {},
   "source": [
    "## 1752. Check if Array Is Sorted and Rotated"
   ]
  },
  {
   "cell_type": "code",
   "execution_count": null,
   "metadata": {},
   "outputs": [],
   "source": [
    "class Solution:\n",
    "    def check(self, nums: List[int]) -> bool:\n",
    "        sd = nums.copy()\n",
    "        z= sorted(nums)\n",
    "\n",
    "        if nums.count(min(nums))<2:\n",
    "\n",
    "            z= sorted(nums)\n",
    "            k=[]\n",
    "            p = min(nums)\n",
    "            # return(nums[::-1].index(p))\n",
    "            k = k+nums[nums.index(p):len(nums)] +nums[0:nums.index(p)]\n",
    "            # return(k,z)\n",
    "            if z==k:\n",
    "                return(True)\n",
    "            else:\n",
    "                return(False)\n",
    "        else:\n",
    "            dd=[]\n",
    "            zz=0\n",
    "            p = min(nums)\n",
    "            for i in range(sd.count(min(sd))):\n",
    "                dd.append(sd.index(p))\n",
    "                sd.insert(sd.index(p)+1,\"a\")\n",
    "                sd.pop(sd.index(p))\n",
    "            for i in dd:\n",
    "\n",
    "\n",
    "                \n",
    "                k=[]\n",
    "                # return(nums[::-1].index(p))\n",
    "                k = k+nums[i:len(nums)] +nums[0:i]\n",
    "                # return(k,z)\n",
    "                if z==k:\n",
    "                    zz=1\n",
    "                    return(True)\n",
    "                    break\n",
    "                else:\n",
    "                    pass\n",
    "            if zz==0:\n",
    "                return(False)\n",
    "\n"
   ]
  },
  {
   "cell_type": "markdown",
   "metadata": {},
   "source": [
    "## 14. Longest Common Prefix"
   ]
  },
  {
   "cell_type": "code",
   "execution_count": null,
   "metadata": {},
   "outputs": [],
   "source": [
    "class Solution:\n",
    "    def longestCommonPrefix(self, strs: List[str]) -> str:\n",
    "        l=''\n",
    "        strs = list(set(strs))\n",
    "        if  len(strs)==1:\n",
    "            return (strs[0])\n",
    "        else:\n",
    "            k = []\n",
    "            k1 =[]\n",
    "            for i in strs:\n",
    "                k.append(len(i))\n",
    "                k=sorted(k)\n",
    "                k.index(len(i))\n",
    "                k1.insert(k.index(len(i)),i)\n",
    "\n",
    "            if 0 in k:\n",
    "                return(l)\n",
    "            for i in range(k[0]):\n",
    "                j = k1[0][i]\n",
    "                p=0\n",
    "\n",
    "                for ii in k1:\n",
    "                    # print(ii[i],j,l)\n",
    "\n",
    "                    if ii[i]==j:\n",
    "                        pass\n",
    "                    else:\n",
    "                        p=1\n",
    "                if p==0:\n",
    "                    l=l+ii[i]\n",
    "                    # j=ii[i]\n",
    "                else:\n",
    "                    return(l)\n",
    "                    break\n",
    "        return(l)\n",
    "                    "
   ]
  },
  {
   "cell_type": "markdown",
   "metadata": {},
   "source": [
    "## 2956. Find Common Elements Between Two Arrays"
   ]
  },
  {
   "cell_type": "code",
   "execution_count": null,
   "metadata": {},
   "outputs": [],
   "source": [
    "class Solution:\n",
    "    def findIntersectionValues(self, nums1: List[int], nums2: List[int]) -> List[int]:\n",
    "        c1=0\n",
    "        c2=0\n",
    "        for i in nums1:\n",
    "            if i in nums2:\n",
    "                c1=c1+1\n",
    "        for i in nums2:\n",
    "            if i in nums1:\n",
    "                c2=c2+1\n",
    "        return([c1,c2])\n",
    "                "
   ]
  },
  {
   "cell_type": "markdown",
   "metadata": {},
   "source": [
    "## 2299. Strong Password Checker II"
   ]
  },
  {
   "cell_type": "code",
   "execution_count": null,
   "metadata": {},
   "outputs": [],
   "source": [
    "class Solution:\n",
    "    def strongPasswordCheckerII(self, password: str) -> bool:\n",
    "        if len(password)>7:\n",
    "\n",
    "            for i in range(len(password)-1):\n",
    "                if password[i] == password[i+1]:\n",
    "                    return(False)\n",
    "            cap='QWERTYUIOPASDFGHJKLZXCVBNM'\n",
    "            capc=0\n",
    "            small='qwertyuiopasdfghjklzxcvbnm'\n",
    "            smallc=0\n",
    "            num='1234567890'\n",
    "            numc=0\n",
    "            spec=\"!@#$%^&*()-+\"\n",
    "            specc=0\n",
    "            for i in password:\n",
    "                if i in cap:\n",
    "                    capc=1\n",
    "                elif i in small:\n",
    "                    smallc=1\n",
    "                elif i in num:\n",
    "                    numc=1\n",
    "                elif i in spec:\n",
    "                    specc=1\n",
    "            if  capc==1 and smallc==1 and numc==1 and specc ==1:\n",
    "                return(True)\n",
    "            else:\n",
    "                return(False)\n",
    "        else:\n",
    "            return(False)\n",
    "                "
   ]
  },
  {
   "cell_type": "markdown",
   "metadata": {},
   "source": [
    "## 217. Contains Duplicate"
   ]
  },
  {
   "cell_type": "code",
   "execution_count": null,
   "metadata": {},
   "outputs": [],
   "source": [
    "class Solution:\n",
    "    def containsDuplicate(self, nums: List[int]) -> bool:\n",
    "        k ={}\n",
    "        for i in nums:\n",
    "            if i not in k :\n",
    "                k[i]=1\n",
    "            else:\n",
    "                k[i]+=1\n",
    "        j = list(k.values())\n",
    "        j=list(set(j))\n",
    "        if len(j)==1 and j[0]==1:\n",
    "            return False\n",
    "        else:\n",
    "            return True\n",
    "        "
   ]
  },
  {
   "cell_type": "markdown",
   "metadata": {},
   "source": [
    "## 3227. Vowels Game in a String"
   ]
  },
  {
   "cell_type": "code",
   "execution_count": null,
   "metadata": {},
   "outputs": [],
   "source": [
    "class Solution:\n",
    "    def doesAliceWin(self, s: str) -> bool:\n",
    "        kl=s.count('a')+s.count('e')+s.count('i')+s.count('o')+s.count('u')\n",
    "        if kl ==0:\n",
    "            return(False)\n",
    "        else:\n",
    "            return(True)\n",
    "        "
   ]
  },
  {
   "cell_type": "markdown",
   "metadata": {},
   "source": [
    "## 2418. Sort the People"
   ]
  },
  {
   "cell_type": "code",
   "execution_count": null,
   "metadata": {},
   "outputs": [],
   "source": [
    "class Solution:\n",
    "    def sortPeople(self, names: List[str], heights: List[int]) -> List[str]:\n",
    "        heights1 = sorted(heights)\n",
    "        heights1=heights1[::-1]\n",
    "        names1=[]\n",
    "\n",
    "\n",
    "        for i in heights1:\n",
    "            j = heights.index(i)\n",
    "            names1.append(names[j])\n",
    "\n",
    "        return names1\n",
    "        "
   ]
  },
  {
   "cell_type": "markdown",
   "metadata": {},
   "source": [
    "## 3042. Count Prefix and Suffix Pairs I"
   ]
  },
  {
   "cell_type": "code",
   "execution_count": null,
   "metadata": {},
   "outputs": [],
   "source": [
    "class Solution:\n",
    "    def countPrefixSuffixPairs(self, words: List[str]) -> int:\n",
    "\n",
    "        count=0\n",
    "\n",
    "        def sufix(s,s1):\n",
    "            if len(s)<=len(s1):\n",
    "\n",
    "            \n",
    "                s1 = s1[:len(s)]\n",
    "                # print(s,s1)\n",
    "                if s== s1:\n",
    "                    return(True)\n",
    "                else:\n",
    "                    return(False)\n",
    "            else:\n",
    "                return(False)\n",
    "        def prfix(s,s1):\n",
    "            if len(s)<=len(s1):\n",
    "\n",
    "                s1 = s1[len(s1)-len(s):len(s1)]\n",
    "            # s1 = s1[len(s):]\n",
    "            # print(s,s1)\n",
    "                if s== s1:\n",
    "                    return(True)\n",
    "                else:\n",
    "                    return(False)\n",
    "            else:\n",
    "                return(False)\n",
    "        for i in range(len(words)-1):\n",
    "            for j in range(i+1,len(words)):\n",
    "                # print(words[i],words[j])\n",
    "                # print(prfix(words[i],words[j]))\n",
    "                # print(sufix(words[i],words[j]))\n",
    "                if sufix(words[i],words[j]) == True and prfix(words[i],words[j]) == True:\n",
    "                    count =count+1\n",
    "                else:\n",
    "                    pass\n",
    "        return count\n",
    "                "
   ]
  },
  {
   "cell_type": "markdown",
   "metadata": {},
   "source": [
    "## 744. Find Smallest Letter Greater Than Target"
   ]
  },
  {
   "cell_type": "code",
   "execution_count": null,
   "metadata": {},
   "outputs": [],
   "source": [
    "class Solution:\n",
    "    def nextGreatestLetter(self, letters: List[str], target: str) -> str:\n",
    "        k=[]\n",
    "        letters1 = sorted(letters)\n",
    "        for i in letters1:\n",
    "            if i >target:\n",
    "                k.append(1)\n",
    "                return(i)\n",
    "                break\n",
    "            else:\n",
    "                k.append(0)\n",
    "\n",
    "        if 1 not in k :\n",
    "            return(letters[0])\n",
    "                "
   ]
  },
  {
   "cell_type": "markdown",
   "metadata": {},
   "source": [
    "## 704. Binary Search"
   ]
  },
  {
   "cell_type": "code",
   "execution_count": null,
   "metadata": {},
   "outputs": [],
   "source": [
    "class Solution:\n",
    "    def search(self, nums: List[int], target: int) -> int:\n",
    "        if target in nums:\n",
    "            return(nums.index(target))\n",
    "        else:\n",
    "            return(-1)\n",
    "        "
   ]
  },
  {
   "cell_type": "markdown",
   "metadata": {},
   "source": [
    "## 1408. String Matching in an Array"
   ]
  },
  {
   "cell_type": "code",
   "execution_count": null,
   "metadata": {},
   "outputs": [],
   "source": [
    "class Solution:\n",
    "    def stringMatching(self, words: List[str]) -> List[str]:\n",
    "        s=[]\n",
    "        for i in words:\n",
    "            for j in words:\n",
    "                if i !=j and j!=i:\n",
    "                    if i in j:\n",
    "                        if i not in s:\n",
    "\n",
    "                            s.append(i)\n",
    "\n",
    "        return (s) \n",
    "        "
   ]
  },
  {
   "cell_type": "markdown",
   "metadata": {},
   "source": [
    "## 1333. Filter Restaurants by Vegan-Friendly, Price and Distance"
   ]
  },
  {
   "cell_type": "code",
   "execution_count": null,
   "metadata": {},
   "outputs": [],
   "source": [
    "class Solution:\n",
    "    def filterRestaurants(self, restaurants: List[List[int]], veganFriendly: int, maxPrice: int, maxDistance: int) -> List[int]:\n",
    "        if veganFriendly ==1:\n",
    "\n",
    "            # rvpd\n",
    "            filtr=[]\n",
    "            rating = []\n",
    "            for i in restaurants:\n",
    "                if i[2] == veganFriendly and i[3] <=maxPrice and i[4] <= maxDistance:\n",
    "                    rating.append(i[1])\n",
    "                    filtr.append(i)\n",
    "            filtr\n",
    "            rating = sorted(rating)\n",
    "            rating=rating[::-1]\n",
    "            kkkk=[]\n",
    "            chk=[]\n",
    "            for i in rating:\n",
    "                for j in filtr:\n",
    "                    if j[1]==i:\n",
    "                        if i  not in chk:\n",
    "                            chk.append(i)\n",
    "                            kkkk.append(j[0])\n",
    "                            pk=filtr.index(j)\n",
    "                            filtr.insert(pk+1,[0,-1])\n",
    "                            filtr.pop(pk)\n",
    "                        else:\n",
    "                            if kkkk[-1] > j[0]:\n",
    "                                chk.append(i)\n",
    "                                kkkk.append(j[0])\n",
    "                                pk=filtr.index(j)\n",
    "                                filtr.insert(pk+1,[0,-1])\n",
    "                                filtr.pop(pk)\n",
    "                            else:\n",
    "                                chk.append(i)\n",
    "                                kkkk.insert(len(kkkk)-1,j[0])\n",
    "                                pk=filtr.index(j)\n",
    "                                filtr.insert(pk+1,[0,-1])\n",
    "                                filtr.pop(pk)\n",
    "                        # return(i,chk,kkkk)\n",
    "\n",
    "            return(kkkk)\n",
    "            # hi =[]\n",
    "            # for i in kkkk:\n",
    "            #     gh =restaurants.index(i)\n",
    "            #     hi.append(gh+1)\n",
    "            # return(hi)\n",
    "        else:\n",
    "            # rvpd\n",
    "            filtr=[]\n",
    "            rating = []\n",
    "            for i in restaurants:\n",
    "                if i[3] <=maxPrice and i[4] <= maxDistance:\n",
    "                    rating.append(i[1])\n",
    "                    filtr.append(i)\n",
    "            # return(filtr)\n",
    "            rating = sorted(rating)\n",
    "            rating=rating[::-1]\n",
    "            # return(rating)\n",
    "            \n",
    "\n",
    "\n",
    "\n",
    "            kkkk=[]\n",
    "            chk=[]\n",
    "            for i in rating:\n",
    "                for j in filtr[:]:\n",
    "                    if j[1]==i:\n",
    "                        \n",
    "                        if i  not in chk:\n",
    "                            chk.append(i)\n",
    "                            kkkk.append(j[0])\n",
    "                            pk=filtr.index(j)\n",
    "                            filtr.insert(pk+1,[0,-1])\n",
    "                            filtr.pop(pk)\n",
    "                        else:\n",
    "                            if kkkk[-1] > j[0]:\n",
    "                                chk.append(i)\n",
    "                                kkkk.append(j[0])\n",
    "                                pk=filtr.index(j)\n",
    "                                filtr.insert(pk+1,[0,-1])\n",
    "                                filtr.pop(pk)\n",
    "                            else:\n",
    "                                chk.append(i)\n",
    "                                kkkk.insert(len(kkkk)-1,j[0])\n",
    "                                pk=filtr.index(j)\n",
    "                                filtr.insert(pk+1,[0,-1])\n",
    "                                filtr.pop(pk)\n",
    "                        # return(i,chk,kkkk)\n",
    "\n",
    "\n",
    "                        \n",
    "\n",
    "            return(kkkk)\n",
    "            # return(chk)\n",
    "\n",
    "\n",
    "\n",
    "            # hi =[]\n",
    "            # for i in kkkk:\n",
    "            #     gh =restaurants.index(i)\n",
    "            #     hi.append(gh+1)\n",
    "            # return(hi)\n",
    "                "
   ]
  },
  {
   "cell_type": "markdown",
   "metadata": {},
   "source": [
    "## 172. Factorial Trailing Zeroes"
   ]
  },
  {
   "cell_type": "code",
   "execution_count": null,
   "metadata": {},
   "outputs": [],
   "source": [
    "import math\n",
    "import sys\n",
    "sys.set_int_max_str_digits(100000)\n",
    "class Solution:\n",
    "    def trailingZeroes(self, n: int) -> int:\n",
    "        # n = 0\n",
    "        k= math.factorial(n)\n",
    "        k=str(k)\n",
    "        k=k[::-1]\n",
    "        cnt =0\n",
    "        for  i in k:\n",
    "            if i ==\"0\":\n",
    "                cnt=cnt+1\n",
    "            else:\n",
    "                break\n",
    "        return (cnt)\n",
    "                "
   ]
  },
  {
   "cell_type": "markdown",
   "metadata": {},
   "source": [
    "## 682. Baseball Game"
   ]
  },
  {
   "cell_type": "code",
   "execution_count": null,
   "metadata": {},
   "outputs": [],
   "source": [
    "class Solution:\n",
    "    def calPoints(self, ops: List[str]) -> int:\n",
    "        po =[]\n",
    "        for i in ops:\n",
    "        \n",
    "            if i  == 'C':\n",
    "                po.pop(-1)\n",
    "            elif i=='D':\n",
    "                po.append(2*po[-1])\n",
    "            elif i=='+':\n",
    "                po.append(po[-2]+po[-1])\n",
    "            else:\n",
    "                po.append(int(i))\n",
    "        # print(po)\n",
    "        return(sum(po))\n",
    "                "
   ]
  },
  {
   "cell_type": "markdown",
   "metadata": {},
   "source": [
    "## 2133. Check if Every Row and Column Contains All Numbers"
   ]
  },
  {
   "cell_type": "code",
   "execution_count": null,
   "metadata": {},
   "outputs": [],
   "source": [
    "class Solution:\n",
    "    def checkValid(self, mm: List[List[int]]) -> bool:\n",
    "        mk1=[]\n",
    "        for ii in range(len(mm)):\n",
    "            l=[]\n",
    "            for i in mm:\n",
    "                l.append(i[ii])\n",
    "                if len(l)== len(mm):\n",
    "                    mk1.append(l)\n",
    "                    l=[]\n",
    "        mk1\n",
    "        chk =[]\n",
    "\n",
    "\n",
    "        n = len(mm)\n",
    "        n\n",
    "        # return(mm[0])\n",
    "\n",
    "        p =[]\n",
    "        for i in range(1,n+1):\n",
    "            p.append(i)\n",
    "        # return(p)\n",
    "\n",
    "\n",
    "\n",
    "        for i in p:\n",
    "            for jj in mm:\n",
    "                # return(i,jj)\n",
    "                if i in jj:\n",
    "                    chk.append(1)\n",
    "                else:\n",
    "                    chk.append(0)\n",
    "        for i in p:\n",
    "            for jj in mk1:\n",
    "                # return(i,jj)\n",
    "                if i in jj:\n",
    "                    chk.append(1)\n",
    "                else:\n",
    "                    chk.append(0)\n",
    "\n",
    "        chk = list(set(chk))\n",
    "        # return(chk)\n",
    "\n",
    "        if 0 not in chk:\n",
    "            return(True)\n",
    "        else:\n",
    "            return(False)\n",
    "                "
   ]
  },
  {
   "cell_type": "markdown",
   "metadata": {},
   "source": [
    "## 229. Majority Element II"
   ]
  },
  {
   "cell_type": "code",
   "execution_count": null,
   "metadata": {},
   "outputs": [],
   "source": [
    "class Solution:\n",
    "    def majorityElement(self, nums: List[int]) -> List[int]:\n",
    "        k = dict()\n",
    "        for i in nums:\n",
    "            if i not in k:\n",
    "                k[i] = 1\n",
    "            else:\n",
    "                k[i] +=1\n",
    "\n",
    "        knum = list(k.keys())\n",
    "        krep = list(k.values())\n",
    "        # print(knum,krep)\n",
    "        findall=[]\n",
    "        for i in krep[:]:\n",
    "            # print(i,len(nums)/3)\n",
    "            if i > len(nums)/3:\n",
    "                infx = krep.index(i)\n",
    "                findall.append(knum[infx])\n",
    "                krep.insert(infx,0)\n",
    "                krep.pop(infx+1)\n",
    "                # break\n",
    "\n",
    "        return findall\n",
    "                "
   ]
  },
  {
   "cell_type": "markdown",
   "metadata": {},
   "source": [
    "## 169. Majority Element"
   ]
  },
  {
   "cell_type": "code",
   "execution_count": null,
   "metadata": {},
   "outputs": [],
   "source": [
    "class Solution:\n",
    "    def majorityElement(self, nums: List[int]) -> int:\n",
    "        k = dict()\n",
    "        for i in nums:\n",
    "            if i not in k:\n",
    "                k[i] = 1\n",
    "            else:\n",
    "                k[i] +=1\n",
    "\n",
    "        knum = list(k.keys())\n",
    "        krep = list(k.values())\n",
    "        # print(knum,krep)\n",
    "\n",
    "        for i in krep:\n",
    "            if i > len(nums)//2:\n",
    "                infx = krep.index(i)\n",
    "                return (knum[infx])\n",
    "                break\n",
    "\n",
    "                "
   ]
  },
  {
   "cell_type": "markdown",
   "metadata": {},
   "source": [
    "## 3300. Minimum Element After Replacement With Digit Sum"
   ]
  },
  {
   "cell_type": "code",
   "execution_count": null,
   "metadata": {},
   "outputs": [],
   "source": [
    "class Solution:\n",
    "    def minElement(self, nums: List[int]) -> int:\n",
    "        k=[]\n",
    "        for i in nums:\n",
    "            if  len(str(i))>1:\n",
    "                jk=list((str(i)))\n",
    "                jk=[int(j) for j in jk ]\n",
    "                k.append(sum(jk))\n",
    "            else:\n",
    "                k.append(i)\n",
    "                        \n",
    "        return min(k)\n",
    "        \n",
    "        "
   ]
  },
  {
   "cell_type": "markdown",
   "metadata": {},
   "source": [
    "## 2404. Most Frequent Even Element"
   ]
  },
  {
   "cell_type": "code",
   "execution_count": null,
   "metadata": {},
   "outputs": [],
   "source": [
    "class Solution:\n",
    "    def mostFrequentEven(self, nums: List[int]) -> int:\n",
    "        k = dict()\n",
    "        for i in nums:\n",
    "            if i not in k:\n",
    "                k[i] = 1\n",
    "            else:\n",
    "                k[i] +=1\n",
    "\n",
    "        knum = list(k.keys())\n",
    "        krep = list(k.values())\n",
    "        # return(knum,krep)\n",
    "        if len(knum)>0:\n",
    "\n",
    "            for i in knum[:]:\n",
    "                if i%2!=0:\n",
    "                    indx=knum.index(i)\n",
    "                    knum.pop(indx)\n",
    "                    krep.pop(indx)\n",
    "        else:\n",
    "            return(-1)\n",
    "        # return(knum,krep)\n",
    "        if len(knum)>0:\n",
    "            for i in krep[:]:\n",
    "                if i!=max(krep):\n",
    "                    indx=krep.index(i)\n",
    "                    krep.pop(indx)\n",
    "                    knum.pop(indx)\n",
    "        else:\n",
    "            return(-1)\n",
    "        # return(knum,krep)\n",
    "        return(min(knum))\n",
    "\n",
    "                \n",
    "        # findall=[]\n",
    "        # for i in krep[:]:\n",
    "        #     # return(i,len(nums)/3)\n",
    "        #     if i > len(nums)/3:\n",
    "        #         infx = krep.index(i)\n",
    "        #         findall.append(knum[infx])\n",
    "        #         krep.insert(infx,0)\n",
    "        #         krep.pop(infx+1)\n",
    "        #         # break\n",
    "\n",
    "        # findall\n",
    "            \n",
    "                "
   ]
  },
  {
   "cell_type": "markdown",
   "metadata": {},
   "source": [
    "## 347. Top K Frequent Elements"
   ]
  },
  {
   "cell_type": "code",
   "execution_count": null,
   "metadata": {},
   "outputs": [],
   "source": [
    "class Solution:\n",
    "    def topKFrequent(self, nums: List[int], k1: int) -> List[int]:\n",
    "        k = dict()\n",
    "        for i in nums:\n",
    "            if i not in k:\n",
    "                k[i] = 1\n",
    "            else:\n",
    "                k[i] +=1\n",
    "\n",
    "        knum = list(k.keys())\n",
    "        krep = list(k.values())\n",
    "        # return(knum,krep)\n",
    "        made=[]\n",
    "        pkrep = sorted(krep)\n",
    "        pkrep=pkrep[::-1]\n",
    "        for i in pkrep:\n",
    "            indx = krep.index(i)\n",
    "            made.append(knum[indx])\n",
    "            krep.insert(indx,-1)\n",
    "            krep.pop(indx+1)\n",
    "        return(made[0:k1])\n",
    "                "
   ]
  },
  {
   "cell_type": "markdown",
   "metadata": {},
   "source": [
    "## 2215. Find the Difference of Two Arrays"
   ]
  },
  {
   "cell_type": "code",
   "execution_count": null,
   "metadata": {},
   "outputs": [],
   "source": [
    "class Solution:\n",
    "    def findDifference(self, nums1: List[int], nums2: List[int]) -> List[List[int]]:\n",
    "        nums1=list(set(nums1))\n",
    "        nums2=list(set(nums2))\n",
    "        k=[]\n",
    "        k1=[]\n",
    "        for i in nums1:\n",
    "            if i not in nums2:\n",
    "                k.append(i)\n",
    "        for i in nums2:\n",
    "            if i not in nums1:\n",
    "                k1.append(i)\n",
    "        return ([k,k1])\n",
    "        "
   ]
  },
  {
   "cell_type": "markdown",
   "metadata": {},
   "source": [
    "## 392. Is Subsequence"
   ]
  },
  {
   "cell_type": "code",
   "execution_count": null,
   "metadata": {},
   "outputs": [],
   "source": [
    "class Solution:\n",
    "    def isSubsequence(self, s: str, t: str) -> bool:\n",
    "        yh=len(s)\n",
    "        t=list(t)\n",
    "        s=list(s)\n",
    "        monitor1=0\n",
    "\n",
    "        kl=[]\n",
    "        while len(s)!=0:\n",
    "            \n",
    "            for j in s[:]:\n",
    "                # return(monitor1)\n",
    "                if j in t:\n",
    "                    kl.append(0)\n",
    "                    \n",
    "                    indx = t.index(j)\n",
    "                    indx2 = s.index(j)\n",
    "                    # if indx>monitor1:\n",
    "\n",
    "                    #     if indx2<len(s) and indx == len(t)-1:\n",
    "                    #         return(False)\n",
    "                    #         s=[]\n",
    "                    #         break\n",
    "                    #     else:\n",
    "                    #         monitor1=indx\n",
    "                    # else:\n",
    "                    #     return(False)\n",
    "                    #     s=[]\n",
    "                    #     break\n",
    "\n",
    "                    t=t[indx+1:]\n",
    "                    s.pop(indx2)\n",
    "\n",
    "                    break\n",
    "                else:\n",
    "                    return(False)\n",
    "                    s=[]\n",
    "                    break\n",
    "\n",
    "\n",
    "        if len(kl)==yh:\n",
    "            return(True)   "
   ]
  },
  {
   "cell_type": "markdown",
   "metadata": {},
   "source": [
    "## 1431. Kids With the Greatest Number of Candies"
   ]
  },
  {
   "cell_type": "code",
   "execution_count": null,
   "metadata": {},
   "outputs": [],
   "source": [
    "class Solution:\n",
    "    def kidsWithCandies(self, candies: List[int], extraCandies: int) -> List[bool]:\n",
    "        out=[]\n",
    "        eq=max(candies)\n",
    "        for i in candies:\n",
    "            h=i+extraCandies\n",
    "            if h >=eq:\n",
    "                out.append(True)\n",
    "            else:\n",
    "                out.append(False)\n",
    "        return out\n",
    "        "
   ]
  },
  {
   "cell_type": "markdown",
   "metadata": {},
   "source": [
    "## 242. Valid Anagram"
   ]
  },
  {
   "cell_type": "code",
   "execution_count": null,
   "metadata": {},
   "outputs": [],
   "source": [
    "class Solution:\n",
    "    def isAnagram(self, s: str, t: str) -> bool:\n",
    "\n",
    "                \n",
    "        sd={}\n",
    "        st={}\n",
    "        for i in s:\n",
    "            if i  not in sd:\n",
    "                sd[i]=1\n",
    "            else:\n",
    "                sd[i]+=1\n",
    "\n",
    "        for i in t:\n",
    "            if i  not in st:\n",
    "                st[i]=1\n",
    "            else:\n",
    "                st[i]+=1\n",
    "        # return(sd,st)\n",
    "        # return(sd.keys())\n",
    "\n",
    "        stval = (list(st.keys()))\n",
    "        sdkeys = (list(sd.values()))\n",
    "        stkeys = (list(st.values()))\n",
    "        sdval = (list(sd.keys()))\n",
    "        # return(sdval,sdkeys)\n",
    "        for i in range(len(sdval)):\n",
    "            for j in range(sdkeys[i]-1):\n",
    "                sdval.append(sdval[i])\n",
    "        for i in range(len(stval)):\n",
    "            for j in range(stkeys[i]-1):\n",
    "                stval.append(stval[i])\n",
    "        # return(sdval,stval)\n",
    "        # sdval=\"\".join(sdval)\n",
    "        # stval=\"\".join(stval)\n",
    "        sdval.sort()\n",
    "        stval.sort()\n",
    "        # sdval = sorted(list(sd.keys()))\n",
    "        # stval = sorted(list(st.keys()))\n",
    "        sdkeys = sorted(list(sd.values()))\n",
    "        stkeys = sorted(list(st.values()))\n",
    "\n",
    "        # return(sdval,stval)\n",
    "                \n",
    "\n",
    "        if sdval==stval and sdkeys==stkeys:\n",
    "            return(True)\n",
    "        else:\n",
    "            return(False)\n"
   ]
  },
  {
   "cell_type": "markdown",
   "metadata": {},
   "source": [
    "## 2879. Display the First Three Rows"
   ]
  },
  {
   "cell_type": "code",
   "execution_count": null,
   "metadata": {},
   "outputs": [],
   "source": [
    "import pandas as pd\n",
    "\n",
    "def selectFirstRows(employees: pd.DataFrame) -> pd.DataFrame:\n",
    "    return employees.head(3)\n",
    "    "
   ]
  },
  {
   "cell_type": "markdown",
   "metadata": {},
   "source": [
    "## 2881. Create a New Column"
   ]
  },
  {
   "cell_type": "code",
   "execution_count": null,
   "metadata": {},
   "outputs": [],
   "source": [
    "import pandas as pd\n",
    "\n",
    "def createBonusColumn(employees: pd.DataFrame) -> pd.DataFrame:\n",
    "    employees['bonus']=employees['salary']*2\n",
    "    return employees\n",
    "\n",
    "    "
   ]
  },
  {
   "cell_type": "markdown",
   "metadata": {},
   "source": [
    "## 2877. Create a DataFrame from List"
   ]
  },
  {
   "cell_type": "code",
   "execution_count": null,
   "metadata": {},
   "outputs": [],
   "source": [
    "import pandas as pd\n",
    "\n",
    "def createDataframe(student_data: List[List[int]]) -> pd.DataFrame:\n",
    "        df=pd.DataFrame(student_data,columns=[\"student_id\",\"age\"])\n",
    "        # df.to_string(index=False)\n",
    "        return (df)\n",
    "    "
   ]
  },
  {
   "cell_type": "markdown",
   "metadata": {},
   "source": [
    "## 125. Valid Palindrome"
   ]
  },
  {
   "cell_type": "code",
   "execution_count": null,
   "metadata": {},
   "outputs": [],
   "source": [
    "class Solution:\n",
    "    def isPalindrome(self, s: str) -> bool:\n",
    "        # if s==\"0P\":\n",
    "        #     return(False)\n",
    "        k='qwertyuiopasdfghjklzxcvbnm1234567890'\n",
    "        jk=''\n",
    "        for i in s:\n",
    "            \n",
    "\n",
    "            if i.lower() in k:\n",
    "                jk=jk+i.lower()\n",
    "        # return(jk)\n",
    "        kj=jk[::-1]\n",
    "        # return(kj)\n",
    "        if kj==jk:\n",
    "            return(True)\n",
    "        else:\n",
    "            return(False)\n",
    "                "
   ]
  },
  {
   "cell_type": "markdown",
   "metadata": {},
   "source": [
    "## 2882. Drop Duplicate Rows"
   ]
  },
  {
   "cell_type": "code",
   "execution_count": null,
   "metadata": {},
   "outputs": [],
   "source": [
    "import pandas as pd\n",
    "\n",
    "def dropDuplicateEmails(df: pd.DataFrame) -> pd.DataFrame:\n",
    "    k=[]\n",
    "    for i in range(len(df['email'])):\n",
    "        if df['email'][i] not in k:\n",
    "            k.append(df['email'][i] )\n",
    "        elif df['email'][i]  in k:\n",
    "            df=df.drop(index=i)\n",
    "        \n",
    "    return(df)\n",
    "    "
   ]
  },
  {
   "cell_type": "markdown",
   "metadata": {},
   "source": [
    "## 2884. Modify Columns"
   ]
  },
  {
   "cell_type": "code",
   "execution_count": null,
   "metadata": {},
   "outputs": [],
   "source": [
    "import pandas as pd\n",
    "\n",
    "def modifySalaryColumn(df: pd.DataFrame) -> pd.DataFrame:\n",
    "    df['salary']=df[\"salary\"]*2\n",
    "    return df\n",
    "    "
   ]
  },
  {
   "cell_type": "markdown",
   "metadata": {},
   "source": [
    "## 2891. Method Chaining"
   ]
  },
  {
   "cell_type": "code",
   "execution_count": null,
   "metadata": {},
   "outputs": [],
   "source": [
    "import pandas as pd\n",
    "\n",
    "def findHeavyAnimals(df: pd.DataFrame) -> pd.DataFrame:\n",
    "\n",
    "    nam=[]\n",
    "    wei=[]\n",
    "    for i in range(len(df['weight'])):\n",
    "        if df['weight'][i] >100:\n",
    "            nam.append(df['name'][i])\n",
    "            wei.append(df['weight'][i])\n",
    "    # print(nam,wei)\n",
    "    newwei=sorted(wei)\n",
    "    newwei=newwei[::-1]\n",
    "    newname=[]\n",
    "    for i in newwei:\n",
    "        jh=wei.index(i)\n",
    "        newname.append(nam[jh])\n",
    "        wei.insert(jh+1,0)\n",
    "        wei.pop(jh)\n",
    "    newname\n",
    "\n",
    "    kj=pd.DataFrame(newname,columns=['name'])\n",
    "    return kj\n",
    "\n",
    "        "
   ]
  },
  {
   "cell_type": "markdown",
   "metadata": {},
   "source": [
    "## 2888. Reshape Data: Concatenate\n"
   ]
  },
  {
   "cell_type": "code",
   "execution_count": null,
   "metadata": {},
   "outputs": [],
   "source": [
    "import pandas as pd\n",
    "\n",
    "def concatenateTables(df1: pd.DataFrame, df2: pd.DataFrame) -> pd.DataFrame:\n",
    "    k=pd.merge(df1,df2,how='outer')\n",
    "    return k\n",
    "    "
   ]
  },
  {
   "cell_type": "markdown",
   "metadata": {},
   "source": [
    "## 1014. Best Sightseeing Pair     [time limit exceed]"
   ]
  },
  {
   "cell_type": "code",
   "execution_count": null,
   "metadata": {},
   "outputs": [],
   "source": [
    "class Solution:\n",
    "    def maxScoreSightseeingPair(self, values: List[int]) -> int:\n",
    "        hj=0\n",
    "        for i in range(len(values)):\n",
    "            for j in range(i):\n",
    "                # print(i,j)\n",
    "                # if i>j:\n",
    "                    d= values[j]+values[i]+j-i\n",
    "                    if d>hj:\n",
    "                        hj=d\n",
    "        return hj\n",
    "        "
   ]
  },
  {
   "cell_type": "markdown",
   "metadata": {},
   "source": [
    "## 672. Richest Customer Wealth"
   ]
  },
  {
   "cell_type": "code",
   "execution_count": null,
   "metadata": {},
   "outputs": [],
   "source": [
    "class Solution:\n",
    "    def maximumWealth(self, accounts: List[List[int]]) -> int:\n",
    "        k=0\n",
    "        for i in accounts:\n",
    "            if sum(i)>k:\n",
    "                k=sum(i)\n",
    "        return k\n",
    "        "
   ]
  },
  {
   "cell_type": "markdown",
   "metadata": {},
   "source": [
    "## 572. Matrix Diagonal Sum"
   ]
  },
  {
   "cell_type": "code",
   "execution_count": null,
   "metadata": {},
   "outputs": [],
   "source": [
    "class Solution:\n",
    "    def diagonalSum(self, mat: List[List[int]]) -> int:\n",
    "        pol=0\n",
    "        sm=0\n",
    "        if len(mat)==1:\n",
    "            return(mat[0][0])\n",
    "        else:\n",
    "\n",
    "            if len(mat)>2 and len(mat)%2!=0:\n",
    "\n",
    "                koi=(len(mat)//2)\n",
    "                # return(mat[koi])\n",
    "                if len(mat[koi])>2 and len(mat[koi])%2!=0:\n",
    "                    kiu =(len(mat[koi])//2)\n",
    "                    # return(mat[koi][kiu])\n",
    "                    pol=mat[koi][kiu]\n",
    "\n",
    "\n",
    "            for i in range(len(mat)):\n",
    "                for j in range(len(mat[i])):\n",
    "                    if i==j:\n",
    "                        # return(i,j)\n",
    "                        sm=sm+mat[i][j]\n",
    "            mat=mat[::-1]\n",
    "            for i in range(len(mat)):\n",
    "                for j in range(len(mat[i])):\n",
    "                    if i==j:\n",
    "                        # return(i,j)\n",
    "                        sm=sm+mat[i][j]\n",
    "            sm=sm-pol\n",
    "            return(sm)\n",
    "                "
   ]
  },
  {
   "cell_type": "markdown",
   "metadata": {},
   "source": [
    "## 709. To Lower Case"
   ]
  },
  {
   "cell_type": "code",
   "execution_count": null,
   "metadata": {},
   "outputs": [],
   "source": [
    "class Solution:\n",
    "    def toLowerCase(self, s: str) -> str:\n",
    "        return(s.lower())\n",
    "        "
   ]
  },
  {
   "cell_type": "markdown",
   "metadata": {},
   "source": [
    "## 162. Find Peak Element"
   ]
  },
  {
   "cell_type": "code",
   "execution_count": null,
   "metadata": {},
   "outputs": [],
   "source": [
    "class Solution:\n",
    "    def findPeakElement(self, nums: List[int]) -> int:\n",
    "        return (nums.index(max(nums)))\n",
    "        "
   ]
  },
  {
   "cell_type": "markdown",
   "metadata": {},
   "source": [
    "## 1492. The kth Factor of n"
   ]
  },
  {
   "cell_type": "code",
   "execution_count": null,
   "metadata": {},
   "outputs": [],
   "source": [
    "class Solution:\n",
    "    def kthFactor(self, n: int, k: int) -> int:\n",
    "        nk=[]\n",
    "        for i in range(1,n+1):\n",
    "            if n%i==0:\n",
    "                nk.append(i)\n",
    "        if k>len(nk):\n",
    "            return -1\n",
    "        return nk[k-1]"
   ]
  },
  {
   "cell_type": "markdown",
   "metadata": {},
   "source": [
    "## 167. Two Sum II - Input Array Is Sorted"
   ]
  },
  {
   "cell_type": "code",
   "execution_count": null,
   "metadata": {},
   "outputs": [],
   "source": [
    "class Solution:\n",
    "    def twoSum(self, numbers: List[int], target: int) -> List[int]:\n",
    "        op={}\n",
    "        for i in numbers:\n",
    "            if i not in op:\n",
    "                op[i]=1\n",
    "            elif i in op and op[i] <2:\n",
    "                op[i]+=1\n",
    "            else:\n",
    "                pass\n",
    "        # return(op)\n",
    "        kl=[]\n",
    "        # return(list(op.values())[0])\n",
    "        for i in range(len(list(op.keys()))) :\n",
    "            for j in range(list(op.values())[i]):\n",
    "                # return(j)\n",
    "                kl.append(list(op.keys())[i])\n",
    "\n",
    "        kl   \n",
    "\n",
    "        for i in range(len(kl)):\n",
    "            for j in range(i+1,len(kl)):\n",
    "                if kl[i]+kl[j]==target:\n",
    "                    if kl[i]==kl[j]:\n",
    "                        # kj=numbers.index(numbers[i])+1\n",
    "                        k=[numbers.index(kl[i])+1,numbers.index(kl[j])+2]\n",
    "                        return(k)\n",
    "                        break\n",
    "                    else:\n",
    "\n",
    "\n",
    "                        k=[numbers.index(kl[i])+1,numbers.index(kl[j])+1]\n",
    "                        return(k)\n",
    "                        break"
   ]
  },
  {
   "cell_type": "markdown",
   "metadata": {},
   "source": [
    "## 189. Rotate Array"
   ]
  },
  {
   "cell_type": "code",
   "execution_count": null,
   "metadata": {},
   "outputs": [],
   "source": [
    "class Solution:\n",
    "    def rotate(self, nums: List[int], k: int) -> None:\n",
    "        while k!=0:\n",
    "            pk=nums[-1]\n",
    "            nums.insert(0,pk)\n",
    "            nums.pop(-1)\n",
    "            k=k-1\n",
    "        # jk=nums[::-1]\n",
    "        # jk=jk[:k]\n",
    "        # jk=jk[::-1]\n",
    "        # nums=jk+nums[:len(nums)-k]\n",
    "        # print(jk)\n",
    "        # nums=jk+nums\n",
    "        \"\"\"\n",
    "        Do not return anything, modify nums in-place instead.\n",
    "        \"\"\"\n",
    "        "
   ]
  },
  {
   "cell_type": "markdown",
   "metadata": {},
   "source": [
    "## 2053. Kth Distinct String in an Array"
   ]
  },
  {
   "cell_type": "code",
   "execution_count": null,
   "metadata": {},
   "outputs": [],
   "source": [
    "class Solution:\n",
    "    def kthDistinct(self, arr: List[str], k: int) -> str:\n",
    "        kj={}\n",
    "        for i in arr:\n",
    "            if i not in kj:\n",
    "                kj[i]=1\n",
    "            else:\n",
    "                kj[i]+=1\n",
    "        kj\n",
    "        arrlet=list(kj.keys())\n",
    "        arrletcnt=list(kj.values())\n",
    "        # return(arrlet,arrletcnt)\n",
    "        dit=[]\n",
    "        for i in arrletcnt:\n",
    "            if i ==1:\n",
    "                hf = arrletcnt.index(i)\n",
    "                dit.append(arrlet[hf])\n",
    "                arrletcnt.insert(hf+1,2)\n",
    "                arrletcnt.pop(hf)\n",
    "        if len(dit)>=k:\n",
    "            return(dit[k-1])\n",
    "        else:\n",
    "            return(\"\")\n",
    "                "
   ]
  },
  {
   "cell_type": "markdown",
   "metadata": {},
   "source": [
    "## 1460. Make Two Arrays Equal by Reversing Subarrays"
   ]
  },
  {
   "cell_type": "code",
   "execution_count": null,
   "metadata": {},
   "outputs": [],
   "source": [
    "class Solution:\n",
    "    def canBeEqual(self, target: List[int], arr: List[int]) -> bool:\n",
    "        target = sorted(target)\n",
    "        arr = sorted(arr)\n",
    "        if target == arr:\n",
    "            return True\n",
    "        else:\n",
    "            return False\n",
    "        "
   ]
  },
  {
   "cell_type": "markdown",
   "metadata": {},
   "source": [
    "## 2890. Reshape Data: Melt"
   ]
  },
  {
   "cell_type": "code",
   "execution_count": null,
   "metadata": {},
   "outputs": [],
   "source": [
    "import pandas as pd\n",
    "\n",
    "def meltTable(df: pd.DataFrame) -> pd.DataFrame:\n",
    "    df=df.melt(id_vars='product', var_name='quarter', value_name='sales')\n",
    "\n",
    "    return df\n",
    "    "
   ]
  },
  {
   "cell_type": "markdown",
   "metadata": {},
   "source": [
    "## 2889. Reshape Data: Pivot"
   ]
  },
  {
   "cell_type": "code",
   "execution_count": null,
   "metadata": {},
   "outputs": [],
   "source": [
    "import pandas as pd\n",
    "\n",
    "def pivotTable(df: pd.DataFrame) -> pd.DataFrame:\n",
    "    df=df.pivot(index='month', columns='city', values='temperature')\n",
    "\n",
    "    return df\n",
    "    "
   ]
  },
  {
   "cell_type": "markdown",
   "metadata": {},
   "source": [
    "## 2887. Fill Missing Data"
   ]
  },
  {
   "cell_type": "code",
   "execution_count": null,
   "metadata": {},
   "outputs": [],
   "source": [
    "import pandas as pd\n",
    "\n",
    "def fillMissingValues(df: pd.DataFrame) -> pd.DataFrame:\n",
    "    df['quantity']=df['quantity'].fillna(0)\n",
    "    return df\n",
    "\n",
    "    "
   ]
  },
  {
   "cell_type": "markdown",
   "metadata": {},
   "source": [
    "## 2886. Change Data Type"
   ]
  },
  {
   "cell_type": "code",
   "execution_count": null,
   "metadata": {},
   "outputs": [],
   "source": [
    "import pandas as pd\n",
    "\n",
    "def changeDatatype(df: pd.DataFrame) -> pd.DataFrame:\n",
    "    df['grade']=df['grade'].astype(int)\n",
    "    return df\n",
    "    "
   ]
  },
  {
   "cell_type": "markdown",
   "metadata": {},
   "source": [
    "## 2885. Rename Columns"
   ]
  },
  {
   "cell_type": "code",
   "execution_count": null,
   "metadata": {},
   "outputs": [],
   "source": [
    "import pandas as pd\n",
    "\n",
    "def renameColumns(df: pd.DataFrame) -> pd.DataFrame:\n",
    "    kk=['student_id','first_name','last_name' ,'age_in_years']\n",
    "\n",
    "    k=0\n",
    "    for i in df.columns[:]:\n",
    "        # print(df.columns[i])\n",
    "        df[kk[k]]=df[i]\n",
    "        df=df.drop(columns=[i])\n",
    "        k=k+1\n",
    "    # print(\"ok\")\n",
    "    return (df)\n",
    "        "
   ]
  },
  {
   "cell_type": "markdown",
   "metadata": {},
   "source": [
    "## 2883. Drop Missing Data"
   ]
  },
  {
   "cell_type": "code",
   "execution_count": null,
   "metadata": {},
   "outputs": [],
   "source": [
    "import pandas as pd\n",
    "\n",
    "def dropMissingData(df: pd.DataFrame) -> pd.DataFrame:\n",
    "    for i in range(len(df['name'])):\n",
    "        if df['name'][i]==None:\n",
    "            df=df.drop(index=i)\n",
    "    return df\n",
    "    "
   ]
  },
  {
   "cell_type": "markdown",
   "metadata": {},
   "source": [
    "## 2678. Number of Senior Citizens"
   ]
  },
  {
   "cell_type": "code",
   "execution_count": null,
   "metadata": {},
   "outputs": [],
   "source": [
    "class Solution:\n",
    "    def countSeniors(self, details: List[str]) -> int:\n",
    "        ou=0\n",
    "        def age(g):\n",
    "            return int(g[11:13])\n",
    "        for i in details:\n",
    "            k=age(i)\n",
    "            if k >60:\n",
    "                ou=ou+1\n",
    "            else:\n",
    "                pass\n",
    "        return ou\n",
    "        "
   ]
  },
  {
   "cell_type": "markdown",
   "metadata": {},
   "source": [
    "## 509. Fibonacci Number"
   ]
  },
  {
   "cell_type": "code",
   "execution_count": null,
   "metadata": {},
   "outputs": [],
   "source": [
    "class Solution:\n",
    "    def fib(self, n: int) -> int:\n",
    "        def fib(n):\n",
    "            if n ==0:\n",
    "                return 0\n",
    "            elif n==1:\n",
    "                return(1)\n",
    "\n",
    "            fn = fib(n-1) +fib(n-2)\n",
    "            return fn\n",
    "        return (fib(n))\n",
    "        "
   ]
  },
  {
   "cell_type": "markdown",
   "metadata": {},
   "source": [
    "## 2395. Find Subarrays With Equal Sum"
   ]
  },
  {
   "cell_type": "code",
   "execution_count": null,
   "metadata": {},
   "outputs": [],
   "source": [
    "class Solution:\n",
    "    def findSubarrays(self, nums: List[int]) -> bool:\n",
    "        l=[]\n",
    "        for i in range(len(nums)-1):\n",
    "            for j in range(i+1,i+2):\n",
    "                sm=0\n",
    "                # return(i,j)\n",
    "                sm = nums[i]+nums[j]\n",
    "                # return(sm)\n",
    "                # return(sm,l)\n",
    "                if sm in l:\n",
    "                    return(True)\n",
    "                    break\n",
    "                else:\n",
    "                    l.append(sm)\n",
    "                    sm=0\n",
    "                if j==len(nums)-1:\n",
    "                    return(False)\n",
    "                    break\n",
    "                \n",
    "                "
   ]
  },
  {
   "cell_type": "markdown",
   "metadata": {},
   "source": [
    "## 2441. Largest Positive Integer That Exists With Its Negative"
   ]
  },
  {
   "cell_type": "code",
   "execution_count": null,
   "metadata": {},
   "outputs": [],
   "source": [
    "class Solution:\n",
    "    def findMaxK(self, nums: List[int]) -> int:\n",
    "        while True:\n",
    "            f = max(nums)\n",
    "            if (f*(-1)) in nums:\n",
    "                return (f)\n",
    "                break\n",
    "            else:\n",
    "                fnd =nums.index(f)\n",
    "                nums.pop(fnd)\n",
    "            if len(nums)==0:\n",
    "                return (-1)\n",
    "                break\n",
    "        \n",
    "        "
   ]
  },
  {
   "cell_type": "markdown",
   "metadata": {},
   "source": [
    "## 2465. Number of Distinct Averages"
   ]
  },
  {
   "cell_type": "code",
   "execution_count": null,
   "metadata": {},
   "outputs": [],
   "source": [
    "class Solution:\n",
    "    def distinctAverages(self, nums: List[int]) -> int:\n",
    "        k=[]\n",
    "        while len(nums)!=0:\n",
    "            k.append((min(nums)+max(nums))/2)\n",
    "            fnd = nums.index(min(nums))\n",
    "            fnd1 = nums.index(max(nums))\n",
    "            fst = max(fnd,fnd1)\n",
    "            nd = min(fnd,fnd1)\n",
    "            nums.pop(fst)\n",
    "            nums.pop(nd)\n",
    "            \n",
    "        k=list(set(k))\n",
    "        return(len(k))\n",
    "                "
   ]
  },
  {
   "cell_type": "markdown",
   "metadata": {},
   "source": [
    "## 2824. Count Pairs Whose Sum is Less than Target"
   ]
  },
  {
   "cell_type": "code",
   "execution_count": null,
   "metadata": {},
   "outputs": [],
   "source": [
    "class Solution:\n",
    "    def countPairs(self, nums: List[int], target: int) -> int:\n",
    "        count =0\n",
    "        for i in range(len(nums)):\n",
    "            for j in range(i+1,len(nums)):\n",
    "                if (nums[i]+nums[j])<target:\n",
    "                    count = count+1\n",
    "                else:\n",
    "                    pass\n",
    "        return count\n",
    "        "
   ]
  },
  {
   "cell_type": "markdown",
   "metadata": {},
   "source": [
    "## 633. Sum of Square Numbers"
   ]
  },
  {
   "cell_type": "code",
   "execution_count": 1,
   "metadata": {},
   "outputs": [],
   "source": [
    "import math\n",
    "class Solution:\n",
    "    def judgeSquareSum(self, c: int) -> bool:\n",
    "                # c = 1000\n",
    "        # c = 6\n",
    "\n",
    "\n",
    "        def squaree(n):\n",
    "            k = math.sqrt(n) \n",
    "            kk = \"\"\n",
    "            kk = str(k)\n",
    "            # return(kk.split('.'))\n",
    "            p = kk.split('.')[1]\n",
    "            co = 0\n",
    "            for i in p:\n",
    "                if i=='0':\n",
    "                    pass\n",
    "                else:\n",
    "                    co = 1\n",
    "            if co==0:\n",
    "                return(True)\n",
    "            else:\n",
    "                return(False)\n",
    "\n",
    "        if c<4:\n",
    "            if c==1 or c==2 or c==0:\n",
    "                return(True)\n",
    "            \n",
    "            else:\n",
    "                return(False)\n",
    "        elif c >3 and squaree(c) == True:\n",
    "            # return(\"ok\")\n",
    "            return(True)\n",
    "\n",
    "\n",
    "        else:\n",
    "            # return(\"ok\")\n",
    "            \n",
    "            k =0\n",
    "            \n",
    "\n",
    "\n",
    "        \n",
    "            \n",
    "            for i in range(int(math.sqrt(c))+1 ):\n",
    "                # return()\n",
    "                k = c - i*i\n",
    "                # return(k)\n",
    "                if squaree(k):\n",
    "                    k = 1\n",
    "                    break\n",
    "\n",
    "            \n",
    "\n",
    "        \n",
    "\n",
    "            if  k==1:\n",
    "                return(True)\n",
    "            else:\n",
    "                return(False)\n",
    "\n",
    "            \n",
    "                    \n",
    "                \n",
    "                    \n",
    "\n",
    "\n"
   ]
  },
  {
   "cell_type": "markdown",
   "metadata": {},
   "source": [
    "## 7. Reverse Integer"
   ]
  },
  {
   "cell_type": "code",
   "execution_count": null,
   "metadata": {},
   "outputs": [],
   "source": [
    "class Solution:\n",
    "    def reverse(self, x: int) -> int:\n",
    "        if x>= -2**31 or x<=2**31 - 1 -1:\n",
    "            if x == 0:\n",
    "                return 0\n",
    "\n",
    "            k_ = str(x)\n",
    "\n",
    "\n",
    "\n",
    "\n",
    "            k = str(x)\n",
    "            pj_=0\n",
    "            newstr_ =\"\"\n",
    "\n",
    "            if x<0:\n",
    "                x = x*(-1)\n",
    "                k_ = str(x)\n",
    "                \n",
    "                pj_ = int(k_[::-1])\n",
    "                newstr_ = newstr_+str(pj_)\n",
    "                # return int(\"-\"+newstr_)\n",
    "                fnlno = int(\"-\"+newstr_)\n",
    "                if fnlno>= -2**31 and fnlno<=2**31 - 1 -1:\n",
    "                    return fnlno\n",
    "                else:\n",
    "                   return 0\n",
    "\n",
    "            else:\n",
    "                \n",
    "\n",
    "                pj = int(k[::-1])\n",
    "\n",
    "                newstr = str(pj)\n",
    "                # return int(newstr)\n",
    "                fnlnoo = int(newstr)\n",
    "                if fnlnoo>= -2**31 and fnlnoo<=2**31 - 1 -1:\n",
    "                    return fnlnoo\n",
    "                else:\n",
    "                    return 0\n",
    "        else:\n",
    "            return 0"
   ]
  },
  {
   "cell_type": "markdown",
   "metadata": {},
   "source": [
    "## 5. Longest Palindromic Substring"
   ]
  },
  {
   "cell_type": "code",
   "execution_count": null,
   "metadata": {},
   "outputs": [],
   "source": [
    "class Solution:\n",
    "    def longestPalindrome(self, s: str) -> str:\n",
    "\n",
    "        if s[::-1]==s:\n",
    "            return ''.join(s)\n",
    "        s2 = []\n",
    "        s3 = []\n",
    "        for k in range(0,len(s)):\n",
    "            s2 = []\n",
    "            for j in range(k,len(s)):\n",
    "                s2.append(s[j])\n",
    "                if s2[::-1]==s2 and len(s2)>len(s3):\n",
    "                    s3 = s2.copy() \n",
    "        return ''.join(s3)           \n"
   ]
  },
  {
   "cell_type": "markdown",
   "metadata": {},
   "source": [
    "## 9. Palindrome Number"
   ]
  },
  {
   "cell_type": "code",
   "execution_count": null,
   "metadata": {},
   "outputs": [],
   "source": [
    "class Solution:\n",
    "    def isPalindrome(self, x: int) -> bool:\n",
    "        s = str(x)\n",
    "        \n",
    "        \n",
    "\n",
    "        if s[0] !=s[len(s)-1]:\n",
    "            return False\n",
    "\n",
    "        \n",
    "\n",
    "        if s[::-1]==s:\n",
    "            return True\n",
    "        else:\n",
    "            return False\n",
    "            \n",
    "            # print(''.join(s))  \n",
    "            \n",
    "\n"
   ]
  },
  {
   "cell_type": "markdown",
   "metadata": {},
   "source": [
    "## 28. Find the Index of the First Occurrence in a String"
   ]
  },
  {
   "cell_type": "code",
   "execution_count": null,
   "metadata": {},
   "outputs": [],
   "source": [
    "class Solution:\n",
    "    def strStr(self, haystack: str, needle: str) -> int:\n",
    "        pk = False\n",
    "        jj = 0\n",
    "        if haystack==needle:\n",
    "            return(0)\n",
    "        elif len(needle)==1:\n",
    "            for i in range(len(haystack)):\n",
    "                if haystack[i] == needle:\n",
    "                    pk = True\n",
    "                    jj = i\n",
    "                    break\n",
    "                else:\n",
    "                    pass\n",
    "                    # return(i)\n",
    "                \n",
    "        else:\n",
    "\n",
    "            k = \"\"\n",
    "            \n",
    "            \n",
    "            for i in range((len(haystack)-len(needle)+1)):\n",
    "                # return(i)\n",
    "                for ii in range(i,i+len(needle)):\n",
    "                    k=k+haystack[ii]\n",
    "                # return(k)\n",
    "                if k == needle:\n",
    "                    pk = True\n",
    "                    jj = i\n",
    "\n",
    "                    break\n",
    "                else:\n",
    "                    k=\"\"\n",
    "        if pk == True:\n",
    "            return(jj)\n",
    "        else:\n",
    "            return(-1)"
   ]
  },
  {
   "cell_type": "markdown",
   "metadata": {},
   "source": [
    "## 29. Divide Two Integers"
   ]
  },
  {
   "cell_type": "code",
   "execution_count": null,
   "metadata": {},
   "outputs": [],
   "source": [
    "class Solution:\n",
    "    def divide(self, di1: int, div1: int) -> int:\n",
    "        di = (di1)\n",
    "        div =(div1)\n",
    "        if di1 == -2147483648 and div1 == -1:\n",
    "            return (-1*di1)-1\n",
    "        \n",
    "\n",
    "\n",
    "\n",
    "\n",
    "        return(int(di/div))\n"
   ]
  },
  {
   "cell_type": "markdown",
   "metadata": {},
   "source": [
    "## 41. First Missing Positive"
   ]
  },
  {
   "cell_type": "code",
   "execution_count": null,
   "metadata": {},
   "outputs": [],
   "source": [
    "class Solution:\n",
    "    def firstMissingPositive(self, j: List[int]) -> int:\n",
    "        kll=[]\n",
    "        l = 1\n",
    "        for i in j:\n",
    "            if i <=0:\n",
    "                j.remove(i)\n",
    "        j = set(j)\n",
    "        \n",
    "        while True :\n",
    "\n",
    "            if l in j:\n",
    "                l=l+1\n",
    "            else:\n",
    "                kll.append(l)\n",
    "                break\n",
    "        return kll[0]"
   ]
  },
  {
   "cell_type": "markdown",
   "metadata": {},
   "source": [
    "## 1232. Check If It Is a Straight Line"
   ]
  },
  {
   "cell_type": "code",
   "execution_count": null,
   "metadata": {},
   "outputs": [],
   "source": [
    "class Solution:\n",
    "    def checkStraightLine(self, coordinates: List[List[int]]) -> bool:\n",
    "        if len(coordinates)==2:\n",
    "            return(True)\n",
    "        elif len(coordinates)<2:\n",
    "            return(False)\n",
    "        else:\n",
    "            x1=coordinates[len(coordinates)-1][0]\n",
    "            y1=coordinates[len(coordinates)-1][1]\n",
    "            x2=coordinates[len(coordinates)-2][0]\n",
    "            y2=coordinates[len(coordinates)-2][1]\n",
    "            x3=coordinates[0][0]\n",
    "            y3=coordinates[0][1]\n",
    "            if (x2-x1)==0 and (x3-x2)==0:\n",
    "                return(True)\n",
    "            elif (x3-x2)==0 and (x2-x1)!=0:\n",
    "                return(False)\n",
    "            elif (x3-x2)!=0 and (x2-x1)==0:\n",
    "                return(False)\n",
    "            else:\n",
    "\n",
    "\n",
    "\n",
    "\n",
    "                m1 = (y2-y1)/(x2-x1)\n",
    "                m2 = (y3-y2)/(x3-x2)\n",
    "                # return(m1,m2)\n",
    "                if m1!=m2:\n",
    "                    return(False)\n",
    "                else:\n",
    "                    return(True)"
   ]
  },
  {
   "cell_type": "markdown",
   "metadata": {},
   "source": [
    "## 367. Valid Perfect Square"
   ]
  },
  {
   "cell_type": "code",
   "execution_count": null,
   "metadata": {},
   "outputs": [],
   "source": [
    "import math\n",
    "class Solution:\n",
    "    def isPerfectSquare(self, n: int) -> bool:\n",
    "        k = math.sqrt(n) \n",
    "        kk = \"\"\n",
    "        kk = str(k)\n",
    "        # return(kk.split('.'))\n",
    "        p = kk.split('.')[1]\n",
    "        co = 0\n",
    "        for i in p:\n",
    "            if i=='0':\n",
    "                pass\n",
    "            else:\n",
    "                co = 1\n",
    "        if co==0:\n",
    "            return(True)\n",
    "        else:\n",
    "            return(False)\n",
    "            \n",
    "\n",
    "\n",
    "                "
   ]
  },
  {
   "cell_type": "markdown",
   "metadata": {},
   "source": [
    "## 88. Merge Sorted Array"
   ]
  },
  {
   "cell_type": "code",
   "execution_count": null,
   "metadata": {},
   "outputs": [],
   "source": [
    "class Solution:\n",
    "    def merge(self, nums1: List[int], m: int, nums2: List[int], n: int) -> None:\n",
    "        chk = 0\n",
    "\n",
    "        for i in nums1:\n",
    "            if i ==0 or i ==-1:\n",
    "                pass\n",
    "            else:\n",
    "                chk =1\n",
    "\n",
    "\n",
    "            \n",
    "\n",
    "\n",
    "        nums1\n",
    "\n",
    "        p=0\n",
    "        z=0\n",
    "        count = 0\n",
    "        coun = 0\n",
    "        while(p==0):\n",
    "            # if all(num == 0 for num in nums1) or all(num == -1 for num in nums1):\n",
    "            # if  0 in nums1 and -1  in nums1:\n",
    "            if  0 in nums1 and -1  in nums1 and chk ==0:\n",
    "                        \n",
    "                for i in nums1:\n",
    "                    # if i <=0:\n",
    "\n",
    "                        if i <0:\n",
    "                            count =count+1\n",
    "                            # else:\n",
    "                            #     z = 1\n",
    "                            #     pass\n",
    "                \n",
    "                \n",
    "                \n",
    "\n",
    "                if i <0:\n",
    "                    count =count+1\n",
    "                    \n",
    "\n",
    "                        \n",
    "                for i in nums1[:]:\n",
    "                    if i >-1:\n",
    "                        coun = coun+1\n",
    "                        pass\n",
    "                    if coun == count:\n",
    "                        nums1.remove(i)\n",
    "                nums1.pop(-1)\n",
    "                # print(\"ok\",nums1)\n",
    "                for i in nums2:\n",
    "                    nums1.append(i)\n",
    "                \n",
    "                if len(nums1) == m+n:\n",
    "                    \n",
    "                    nk = len(nums1)\n",
    "                    for i in range(nk):\n",
    "                        for j in range(0, nk - i - 1):\n",
    "                            # print(j)\n",
    "                        \n",
    "                            if nums1[j] > nums1[j + 1]:\n",
    "                                nums1[j], nums1[j + 1] = nums1[j + 1], nums1[j]\n",
    "\n",
    "\n",
    "                        \n",
    "\n",
    "\n",
    "\n",
    "\n",
    "\n",
    "\n",
    "                    break\n",
    "                \n",
    "                            \n",
    "            if m==0:\n",
    "                for i in nums2:\n",
    "                    nums1.append(i)\n",
    "                # print(\"ok\",nums1)\n",
    "                while(0 in nums1):\n",
    "                    # print(\"ok\")\n",
    "                    if 0 in nums1:\n",
    "                        nums1.remove(0)\n",
    "                \n",
    "                break\n",
    "\n",
    "                \n",
    "                p=1\n",
    "            if m !=0:\n",
    "\n",
    "            \n",
    "                # print(\"ghjk\")\n",
    "                while(nums1[-1] ==0):\n",
    "                    nums1.pop()\n",
    "                    \n",
    "                \n",
    "                for i in nums2:\n",
    "                    nums1.append(i)\n",
    "                \n",
    "                if len(nums1) == m+n:\n",
    "                    \n",
    "                    nk = len(nums1)\n",
    "                    for i in range(nk):\n",
    "                        for j in range(0, nk - i - 1):\n",
    "                            # print(j)\n",
    "                        \n",
    "                            if nums1[j] > nums1[j + 1]:\n",
    "                                nums1[j], nums1[j + 1] = nums1[j + 1], nums1[j]\n",
    "\n",
    "\n",
    "                        \n",
    "\n",
    "\n",
    "\n",
    "\n",
    "\n",
    "\n",
    "                    p=1\n",
    "\n",
    "\n",
    "\n",
    "\n"
   ]
  },
  {
   "cell_type": "markdown",
   "metadata": {},
   "source": [
    "## 26. Remove Duplicates from Sorted Array"
   ]
  },
  {
   "cell_type": "code",
   "execution_count": null,
   "metadata": {},
   "outputs": [],
   "source": [
    "class Solution:\n",
    "    def removeDuplicates(self, nums: List[int]) -> int:\n",
    "        kk = list()\n",
    "        for i in nums:\n",
    "            if i not in kk:\n",
    "                kk.append(i)\n",
    "\n",
    "        for i in nums[:]:\n",
    "            nums.remove(i)\n",
    "\n",
    "\n",
    "        for i in kk:\n",
    "            nums.append(i)\n",
    "\n",
    "        return len(nums)\n",
    "        "
   ]
  },
  {
   "cell_type": "markdown",
   "metadata": {},
   "source": [
    "## 3194. Minimum Average of Smallest and Largest Elements"
   ]
  },
  {
   "cell_type": "code",
   "execution_count": null,
   "metadata": {},
   "outputs": [],
   "source": [
    "class Solution:\n",
    "    def minimumAverage(self, nn: List[int]) -> float:\n",
    "        \n",
    "        avg = []\n",
    "\n",
    "        while (len(nn)!=0):\n",
    "             \n",
    "            avg.append((max(nn)+min(nn))/2)\n",
    "            nn.remove(max(nn))\n",
    "            nn.remove(min(nn))\n",
    "        return(min(avg))\n",
    "        "
   ]
  },
  {
   "cell_type": "markdown",
   "metadata": {},
   "source": [
    "## 3254. Find the Power of K-Size Subarrays I"
   ]
  },
  {
   "cell_type": "code",
   "execution_count": null,
   "metadata": {},
   "outputs": [],
   "source": [
    "class Solution:\n",
    "    def resultsArray(self, nums: List[int], k: int) -> List[int]:\n",
    "        pk =[]\n",
    "\n",
    "        def cons(nums):\n",
    "            k = []\n",
    "            pk = []\n",
    "                \n",
    "            for i in range(len(nums)-1):\n",
    "            \n",
    "                if (nums[i]+1) == (nums[i+1]):\n",
    "                    k.append(1)\n",
    "                else:\n",
    "                    k.append(0)\n",
    "            if 0 in k:\n",
    "                pk.append(-1)\n",
    "            else:\n",
    "                pk.append(max(nums))\n",
    "\n",
    "            return pk        \n",
    "        \n",
    "\n",
    "        for i in range(len(nums)):\n",
    "            # print(i)\n",
    "            if i ==len(nums)-k:\n",
    "                kl = [nums[i] for i in range(i,i+k)]\n",
    "                pk.append(kl)\n",
    "                # print(kl)\n",
    "                \n",
    "            if i <len(nums)-k:\n",
    "                kl = [nums[i] for i in range(i,i+k)]\n",
    "                pk.append(kl)\n",
    "        # print(pk)\n",
    "\n",
    "        jk= []\n",
    "\n",
    "\n",
    "        for i in pk:\n",
    "            # print(i)\n",
    "            oo = cons(i)\n",
    "            jk.append(oo[0])\n",
    "\n",
    "        return jk \n",
    "                "
   ]
  },
  {
   "cell_type": "markdown",
   "metadata": {},
   "source": [
    "## 844. Backspace String Compare"
   ]
  },
  {
   "cell_type": "code",
   "execution_count": null,
   "metadata": {},
   "outputs": [],
   "source": [
    "class Solution:\n",
    "    def backspaceCompare(self, s: str, t: str) -> bool:\n",
    "\n",
    "        s=list(s)\n",
    "        t=list(t)\n",
    "        # s.remove(\"#\")\n",
    "        # return(s)\n",
    "        i= 0\n",
    "        j= 0\n",
    "        # return(len(t))\n",
    "        while \"#\" in s :\n",
    "            i=0\n",
    "            # return(\"..\",s)\n",
    "            while True:\n",
    "                if (i < len(s)):\n",
    "\n",
    "                    if s[i] == \"#\" :\n",
    "                        # return(s[i-1])\n",
    "                        if i==0:\n",
    "                            s.pop(i)\n",
    "                            break\n",
    "                        else:\n",
    "\n",
    "                            s.pop(i-1)\n",
    "                            s.pop(i-1)\n",
    "                            break\n",
    "                    else:\n",
    "                        i=i+1\n",
    "                else:\n",
    "                    break\n",
    "                \n",
    "        while \"#\" in t :\n",
    "            j=0\n",
    "            # return(\"..\",t)\n",
    "            while True:\n",
    "            \n",
    "                if (j < len(t)):\n",
    "                    if t[j] == \"#\" :\n",
    "                        if j==0:\n",
    "                            t.pop(j)\n",
    "                            break\n",
    "                        else:\n",
    "\n",
    "\n",
    "                            t.pop(j-1)\n",
    "                            t.pop(j-1)\n",
    "                            break\n",
    "                    else:\n",
    "                        j=j+1\n",
    "                else:\n",
    "                    break\n",
    "\n",
    "\n",
    "            \n",
    "\n",
    "        s=\"\".join(s)\n",
    "        t=\"\".join(t)\n",
    "        # return(s,t)\n",
    "\n",
    "        if s==t:\n",
    "            return(True)\n",
    "        else:\n",
    "            return(False)\n"
   ]
  },
  {
   "cell_type": "markdown",
   "metadata": {},
   "source": [
    "## 448. Find All Numbers Disappeared in an Array"
   ]
  },
  {
   "cell_type": "markdown",
   "metadata": {},
   "source": [
    "class Solution:\n",
    "    def findDisappearedNumbers(self, j: List[int]) -> List[int]:\n",
    "        kll=[]\n",
    "        jj = set(j)\n",
    "        for i in range(1,len(j)+1):\n",
    "            if i not in jj:\n",
    "                kll.append(i)\n",
    "\n",
    "\n",
    "\n",
    "        return kll\n",
    "\n",
    "    \n",
    "\n",
    "\n",
    "\n",
    "            \n",
    "\n",
    "            "
   ]
  },
  {
   "cell_type": "markdown",
   "metadata": {},
   "source": [
    "## 2109. Adding Spaces to a String"
   ]
  },
  {
   "cell_type": "code",
   "execution_count": null,
   "metadata": {},
   "outputs": [],
   "source": [
    "class Solution:\n",
    "    def addSpaces(self, s: str, spaces: List[int]) -> str:\n",
    "        result = []\n",
    "        prev = 0\n",
    "        \n",
    "        # Iterate over the space indices and slice the string accordingly\n",
    "        for index in spaces:\n",
    "            result.append(s[prev:index])  # Add substring before the current space\n",
    "            result.append(\" \")           # Add the space\n",
    "            prev = index\n",
    "        \n",
    "        # Add the remaining part of the string\n",
    "        result.append(s[prev:])\n",
    "        \n",
    "        return \"\".join(result)\n"
   ]
  },
  {
   "cell_type": "markdown",
   "metadata": {},
   "source": [
    "## 350. Intersection of Two Arrays II"
   ]
  },
  {
   "cell_type": "code",
   "execution_count": null,
   "metadata": {},
   "outputs": [],
   "source": [
    "class Solution:\n",
    "    def intersect(self, nums1: List[int], nums2: List[int]) -> List[int]:\n",
    "        nums1.sort()\n",
    "        nums2.sort()\n",
    "        i=0\n",
    "        j=0\n",
    "        kk=[]\n",
    "\n",
    "        while i!=len(nums1) and j!=len(nums2):\n",
    "            if nums1[i]==nums2[j]:\n",
    "                kk.append(nums1[i])\n",
    "                i=i+1\n",
    "                j=j+1\n",
    "            elif nums1[i]<nums2[j]:\n",
    "                i = i+1\n",
    "            else:\n",
    "                j=j+1\n",
    "        return (kk)"
   ]
  },
  {
   "cell_type": "markdown",
   "metadata": {},
   "source": [
    "## 2180. Count Integers With Even Digit Sum"
   ]
  },
  {
   "cell_type": "code",
   "execution_count": null,
   "metadata": {},
   "outputs": [],
   "source": [
    "class Solution:\n",
    "    def countEven(self, num: int) -> int:\n",
    "        pl=[]\n",
    "        s=0\n",
    "        for i in range(2,num+1):\n",
    "\n",
    "            if len(str(i))>1:\n",
    "                i=str(i)\n",
    "                for j in range(len(str(i))):\n",
    "                    \n",
    "\n",
    "                    s= s+int(i[j])\n",
    "                if s%2==0:\n",
    "                    pl.append(int(i))\n",
    "                    s=0\n",
    "                else:\n",
    "                    s=0\n",
    "            else:\n",
    "                if i%2==0:\n",
    "                    pl.append(i)\n",
    "                    \n",
    "                \n",
    "        return len(pl)\n",
    "        "
   ]
  },
  {
   "cell_type": "markdown",
   "metadata": {},
   "source": [
    "## 344. Reverse String"
   ]
  },
  {
   "cell_type": "code",
   "execution_count": null,
   "metadata": {},
   "outputs": [],
   "source": [
    "class Solution:\n",
    "    def reverseString(self, s: List[str]) -> None:\n",
    "        a = 0\n",
    "        b = len(s)-1\n",
    "        k = \"\"\n",
    "\n",
    "        while True:\n",
    "\n",
    "            if a<b:\n",
    "                k = s[a]\n",
    "                s[a] = s[b]\n",
    "                s[b] = k\n",
    "                a = a+1\n",
    "                b=b-1\n",
    "                k=\"\"\n",
    "            if a==b or b<a:\n",
    "                break\n",
    "\n",
    "                \n",
    "                \"\"\"\n",
    "                Do not return anything, modify s in-place instead.\n",
    "                \"\"\"\n",
    "                "
   ]
  },
  {
   "cell_type": "markdown",
   "metadata": {},
   "source": [
    "## 349. Intersection of Two Arrays"
   ]
  },
  {
   "cell_type": "code",
   "execution_count": null,
   "metadata": {},
   "outputs": [],
   "source": [
    "class Solution:\n",
    "    def intersection(self, nums1: List[int], nums2: List[int]) -> List[int]:\n",
    "        cmn = []\n",
    "        for i in nums1:\n",
    "                for j in nums2:\n",
    "                    if i ==j and i not in cmn:\n",
    "                        cmn.append(i)\n",
    "        return cmn\n",
    "        "
   ]
  },
  {
   "cell_type": "markdown",
   "metadata": {},
   "source": [
    "## 1331. Rank Transform of an Array"
   ]
  },
  {
   "cell_type": "code",
   "execution_count": null,
   "metadata": {},
   "outputs": [],
   "source": [
    "class Solution:\n",
    "    def arrayRankTransform(self, arr: List[int]) -> List[int]:\n",
    "        k=[]\n",
    "        kj = sorted(list(set(arr)))\n",
    "        # kj = sorted(arr)\n",
    "        # print(kj)\n",
    "        for j in range(len(arr)):\n",
    "            for i in range(len(kj)):\n",
    "\n",
    "                if arr[j]==kj[i] :\n",
    "                    k.append(i+1)\n",
    "                    # print(arr[j],k)\n",
    "        return k\n",
    "       \n",
    "        "
   ]
  },
  {
   "cell_type": "markdown",
   "metadata": {},
   "source": [
    "## 1287. Element Appearing More Than 25% In Sorted Array"
   ]
  },
  {
   "cell_type": "code",
   "execution_count": null,
   "metadata": {},
   "outputs": [],
   "source": [
    "class Solution:\n",
    "    def findSpecialInteger(self, arr: List[int]) -> int:\n",
    "        k = dict()\n",
    "\n",
    "        for i in arr:\n",
    "            if i in k:\n",
    "                k[i] += 1\n",
    "            else:\n",
    "                k[i] = 1\n",
    "        # return(k)\n",
    "        rep = list(k.values())\n",
    "        # return(rep)\n",
    "        val = list(k.keys())\n",
    "        peer = 0\n",
    "        vali =0\n",
    "        for i in range(len(rep)):\n",
    "            per = (rep[i]/len(arr))*100\n",
    "            # return(per)\n",
    "            if per>peer:\n",
    "                peer = per\n",
    "                vali=val[i]\n",
    "                # break\n",
    "        return(vali)"
   ]
  },
  {
   "cell_type": "markdown",
   "metadata": {},
   "source": [
    "## 13. Roman to Integer"
   ]
  },
  {
   "cell_type": "code",
   "execution_count": null,
   "metadata": {},
   "outputs": [],
   "source": [
    "class Solution:\n",
    "    def romanToInt(self, s: str) -> int:\n",
    "        count = []\n",
    "        symbol = [\"I\",\"V\",\"X\",\"L\",\"C\",\"D\",\"M\"]\n",
    "        val = [1,5,10,50,100,500,1000]\n",
    "\n",
    "        for j in range(len(s)):\n",
    "            for i in range(len(symbol)):\n",
    "                if j==0:\n",
    "\n",
    "                    if s[j] == symbol[i]:\n",
    "                        # print(i)\n",
    "                        # print(val[i])\n",
    "                        count.append(val[i])\n",
    "                        # print(count)\n",
    "                elif j>0:\n",
    "                    if s[j] == symbol[i]:\n",
    "                        count.append(val[i])\n",
    "\n",
    "                    \n",
    "                            # print(count)\n",
    "\n",
    "\n",
    "        # print[count]\n",
    "        count\n",
    "        p=[]\n",
    "        indi = []\n",
    "        # p = p +count[0]\n",
    "        for i in range(1,len(count)):\n",
    "            if count[i]>count[i-1]:\n",
    "                # print(\"used\",i,i-1)\n",
    "                indi.append(i)\n",
    "                indi.append(i-1)\n",
    "                \n",
    "                # print(count[i],\"bada-----se chota\",count[i-1])\n",
    "                x = count[i]-count[i-1]\n",
    "                # print(x)\n",
    "                # p=p+x\n",
    "                p.append(x)\n",
    "                # print(p)\n",
    "            # if count[i-1]>count[i] and count[i]>count[i-1]:\n",
    "            #     p.append(count[i-1])\n",
    "            # else:\n",
    "            #     print(i)\n",
    "            \n",
    "\n",
    "        indi\n",
    "        all =[]\n",
    "        for i in range(len(count)):\n",
    "            all.append(i)\n",
    "\n",
    "        not_there= []\n",
    "\n",
    "        for i in range(len(all)):\n",
    "            if all[i] in indi:\n",
    "                pass\n",
    "            else:\n",
    "                not_there.append(all[i])\n",
    "\n",
    "\n",
    "        # ttl =0\n",
    "        # ttl1 =0\n",
    "        # for i in range(len(count)):\n",
    "        #     ttl1 = ttl1+i\n",
    "\n",
    "        # for i in range(len(indi)):\n",
    "        #     ttl = ttl+indi[i]\n",
    "        # print(ttl)\n",
    "        # print(ttl1)\n",
    "        # if ttl == ttl1:\n",
    "        #     for i in range(len(indi)):\n",
    "        #         if indi[i] !=0:\n",
    "        #             print(\"ok\")\n",
    "\n",
    "        # if ttl != ttl1:\n",
    "        total=0\n",
    "        for i in range(len(p)):\n",
    "            total = total+p[i]\n",
    "        for i in range(len(not_there)):\n",
    "            total = total + count[not_there[i]]\n",
    "\n",
    "        return total\n"
   ]
  },
  {
   "cell_type": "markdown",
   "metadata": {},
   "source": [
    "## 2089. Find Target Indices After Sorting Array"
   ]
  },
  {
   "cell_type": "code",
   "execution_count": null,
   "metadata": {},
   "outputs": [],
   "source": [
    "class Solution:\n",
    "    def targetIndices(self, nums: List[int], target: int) -> List[int]:\n",
    "        nums=sorted(nums)\n",
    "        k=[]\n",
    "        if target in nums:\n",
    "\n",
    "            nums=sorted(nums)\n",
    "            i=nums.index(target)\n",
    "            # k.append(i)\n",
    "\n",
    "            while nums[i]==target:\n",
    "                \n",
    "                k.append(i)\n",
    "                i=i+1\n",
    "                if i == len(nums):\n",
    "                    break\n",
    "            return k\n",
    "        else:\n",
    "            return(k)"
   ]
  },
  {
   "cell_type": "markdown",
   "metadata": {},
   "source": [
    "## 3046. Split the Array"
   ]
  },
  {
   "cell_type": "code",
   "execution_count": null,
   "metadata": {},
   "outputs": [],
   "source": [
    "class Solution:\n",
    "    def isPossibleToSplit(self, nums: List[int]) -> bool:\n",
    "        k = dict()\n",
    "        nums1 = []\n",
    "        nums2 = []\n",
    "        for i in nums:\n",
    "            if i not in k:\n",
    "                k[i] = 1\n",
    "            else:\n",
    "                k[i] += 1 \n",
    "        # return(k)\n",
    "\n",
    "        valu = list(k.values())\n",
    "        keyy = list(k.keys())\n",
    "        # return(valu)\n",
    "        # return(keyy)\n",
    "        chk = 0\n",
    "        for i in k.values():\n",
    "            if i >3:\n",
    "                chk =1\n",
    "                return(False)\n",
    "                break\n",
    "        # return(chk)\n",
    "        if chk ==0:\n",
    "            # while (len(list(set(nums1)))+len(list(set(nums1)))!=len(nums)):\n",
    "                for i in range(len(valu)):\n",
    "                    if valu[i] ==2:\n",
    "                        # return(keyy[i])\n",
    "                        nums1.append(keyy[i])\n",
    "                        nums2.append(keyy[i])\n",
    "                    # return(nums1)\n",
    "                    # return(nums2)\n",
    "                    if valu[i]==1:\n",
    "                        # return(keyy[i])\n",
    "                        # return(len(nums1),len(nums2))\n",
    "\n",
    "                        if len(nums1)==len(nums2):\n",
    "                            # return(\"eq , \",keyy[i])\n",
    "                            if keyy[i] not in nums1:\n",
    "                                nums1.append(keyy[i])\n",
    "                        elif len(nums1)>len(nums2):\n",
    "                            if keyy[i] not in nums2:\n",
    "                                # return(\"eq1 , \",keyy[i])\n",
    "                                nums2.append(keyy[i])\n",
    "                        elif len(nums1)<len(nums2):\n",
    "                            if keyy[i] not in nums1:\n",
    "                                return(keyy[i])\n",
    "                                nums1.append(keyy[i])\n",
    "\n",
    "\n",
    "                        \n",
    "\n",
    "                # return(i)\n",
    "\n",
    "\n",
    "\n",
    "                if len(list(set(nums1)))+len(list(set(nums2)))==len(nums):\n",
    "                    return(True)\n",
    "                else:\n",
    "                    return(False)\n",
    "\n",
    "                # return(nums1)\n",
    "                # return(nums2)\n",
    "                "
   ]
  },
  {
   "cell_type": "markdown",
   "metadata": {},
   "source": [
    "## 3392. Count Subarrays of Length Three With a Condition"
   ]
  },
  {
   "cell_type": "code",
   "execution_count": null,
   "metadata": {},
   "outputs": [],
   "source": [
    "class Solution:\n",
    "    def countSubarrays(self, nums: List[int]) -> int:\n",
    "        n = len(nums)\n",
    "        count = 0\n",
    "        \n",
    "        # Need at least 3 elements to form a subarray of length 3\n",
    "        if n < 3:\n",
    "            return 0\n",
    "            \n",
    "        # Check each possible subarray of length 3\n",
    "        for i in range(n - 2):\n",
    "            first = nums[i]\n",
    "            middle = nums[i + 1]\n",
    "            last = nums[i + 2]\n",
    "            \n",
    "            # Check if sum of first and last equals half of middle\n",
    "            if first + last == middle / 2:\n",
    "                count += 1\n",
    "                \n",
    "        return count"
   ]
  },
  {
   "cell_type": "markdown",
   "metadata": {},
   "source": [
    "## 58. Length of Last Word"
   ]
  },
  {
   "cell_type": "code",
   "execution_count": null,
   "metadata": {},
   "outputs": [],
   "source": [
    "class Solution:\n",
    "    def lengthOfLastWord(self, s: str) -> int:\n",
    "        k = s.split(\" \")\n",
    "\n",
    "        for i in k[:]:\n",
    "            if len(i) ==0:\n",
    "                k.remove(i)\n",
    "\n",
    "        return (len(k[len(k)-1]))"
   ]
  },
  {
   "cell_type": "markdown",
   "metadata": {},
   "source": [
    "## 137. Single Number II"
   ]
  },
  {
   "cell_type": "code",
   "execution_count": null,
   "metadata": {},
   "outputs": [],
   "source": [
    "class Solution:\n",
    "    def singleNumber(self, nums: List[int]) -> int:\n",
    "        # nums = [1,0,1]\n",
    "        alone =[]\n",
    "\n",
    "        for i in nums[:]:\n",
    "            \n",
    "            nums.remove(i)\n",
    "            \n",
    "            if i not in nums:\n",
    "                alone.append(i)\n",
    "            else:\n",
    "                \n",
    "                nums.append(i)\n",
    "\n",
    "        return alone[0]\n",
    "        "
   ]
  },
  {
   "cell_type": "markdown",
   "metadata": {},
   "source": [
    "## 268. Missing Number"
   ]
  },
  {
   "cell_type": "code",
   "execution_count": null,
   "metadata": {},
   "outputs": [],
   "source": [
    "class Solution:\n",
    "    def missingNumber(self, kk: List[int]) -> int:\n",
    "        \n",
    "\n",
    "        summ = 0\n",
    "        for i in kk:\n",
    "            summ = summ+i\n",
    "\n",
    "        kk2 = len(kk)+1\n",
    "        summ2 = 0\n",
    "        for i in range(kk2):\n",
    "            summ2 = summ2 +i\n",
    "\n",
    "        ans =summ2-summ\n",
    "        return ans\n",
    "                \n",
    "            "
   ]
  },
  {
   "cell_type": "markdown",
   "metadata": {},
   "source": [
    "## 43. Multiply Strings"
   ]
  },
  {
   "cell_type": "code",
   "execution_count": null,
   "metadata": {},
   "outputs": [],
   "source": [
    "class Solution:\n",
    "    def multiply(self, num1: str, num2: str) -> str:\n",
    "        num1 = int(num1)\n",
    "        num2 = int(num2)\n",
    "        return str(num1*num2)        "
   ]
  },
  {
   "cell_type": "markdown",
   "metadata": {},
   "source": [
    "## 27. Remove Element"
   ]
  },
  {
   "cell_type": "code",
   "execution_count": null,
   "metadata": {},
   "outputs": [],
   "source": [
    "class Solution:\n",
    "    def removeElement(self, nums: List[int], val: int) -> int:\n",
    "        val = str(val)\n",
    "        kk = list()\n",
    "        kk.append(val)\n",
    "        print(kk)\n",
    "\n",
    "        for i in nums[:]:\n",
    "            for ii in kk:\n",
    "                if i == int(ii):\n",
    "                    nums.remove(i)\n",
    "        return (int(len(nums)))\n",
    "\n",
    "        "
   ]
  },
  {
   "cell_type": "markdown",
   "metadata": {},
   "source": [
    "## 511. Game Play Analysis I"
   ]
  },
  {
   "cell_type": "markdown",
   "metadata": {},
   "source": [
    "# Write your MySQL query statement below\n",
    "-- SELECT DISTINCT player_id , min(event_date) AS first_login  FROM  Activity;\n",
    "SELECT DISTINCT player_id, MIN(event_date) AS first_login\n",
    "FROM Activity\n",
    "GROUP BY player_id;\n"
   ]
  },
  {
   "cell_type": "markdown",
   "metadata": {},
   "source": [
    "## 26. Remove Duplicates from Sorted Array"
   ]
  },
  {
   "cell_type": "code",
   "execution_count": null,
   "metadata": {},
   "outputs": [],
   "source": [
    "class Solution:\n",
    "    def removeDuplicates(self, nums: List[int]) -> int:\n",
    "        kk = list()\n",
    "        for i in nums:\n",
    "            if i not in kk:\n",
    "                kk.append(i)\n",
    "\n",
    "        for i in nums[:]:\n",
    "            nums.remove(i)\n",
    "\n",
    "\n",
    "        for i in kk:\n",
    "            nums.append(i)\n",
    "\n",
    "        return len(nums)\n",
    "        "
   ]
  },
  {
   "cell_type": "markdown",
   "metadata": {},
   "source": [
    "## 2706. Buy Two Chocolates"
   ]
  },
  {
   "cell_type": "code",
   "execution_count": null,
   "metadata": {},
   "outputs": [],
   "source": [
    "class Solution:\n",
    "    def buyChoco(self, prices: List[int], pk: int) -> int:\n",
    "        prices=sorted(prices)\n",
    "        # pk = 3\n",
    "        money = pk\n",
    "        count=2\n",
    "        for i in prices:\n",
    "        # print(money,count)\n",
    "            if i <=money and count>-1:\n",
    "                money=money-i\n",
    "                count=count-1\n",
    "            if money and count ==0:\n",
    "                break\n",
    "        if count == 0:\n",
    "            return(money)\n",
    "        else:\n",
    "            return(pk)\n",
    "        "
   ]
  },
  {
   "cell_type": "markdown",
   "metadata": {},
   "source": [
    "## 2129. Capitalize the Title"
   ]
  },
  {
   "cell_type": "code",
   "execution_count": null,
   "metadata": {},
   "outputs": [],
   "source": [
    "class Solution:\n",
    "    def capitalizeTitle(self, title: str) -> str:\n",
    "        k = title.split(\" \")\n",
    "        jj= []\n",
    "        for i in k:\n",
    "            if len(i)>=3:\n",
    "                jj.append(i.capitalize())\n",
    "            else:\n",
    "                jj.append(i.lower())\n",
    "                \n",
    "\n",
    "        hj = \" \"\n",
    "        hj = hj.join(jj)\n",
    "\n",
    "        return hj\n",
    "                \n",
    "                "
   ]
  },
  {
   "cell_type": "markdown",
   "metadata": {},
   "source": [
    "## 260. Single Number III"
   ]
  },
  {
   "cell_type": "code",
   "execution_count": null,
   "metadata": {},
   "outputs": [],
   "source": [
    "class Solution:\n",
    "    def singleNumber(self, nums: List[int]) -> List[int]:\n",
    "        alone =[]\n",
    "\n",
    "        for i in nums[:]:\n",
    "            \n",
    "            nums.remove(i)\n",
    "            \n",
    "            if i not in nums:\n",
    "                alone.append(i)\n",
    "            else:\n",
    "                \n",
    "                nums.append(i)\n",
    "        return alone\n",
    "        \n",
    "        "
   ]
  },
  {
   "cell_type": "markdown",
   "metadata": {},
   "source": [
    "## 2154. Keep Multiplying Found Values by Two"
   ]
  },
  {
   "cell_type": "code",
   "execution_count": null,
   "metadata": {},
   "outputs": [],
   "source": [
    "class Solution:\n",
    "    def findFinalValue(self, n: List[int], o: int) -> int:\n",
    "        while(o in n):\n",
    "            o = o*2\n",
    "        else:\n",
    "            return(o)\n",
    "        "
   ]
  },
  {
   "cell_type": "markdown",
   "metadata": {},
   "source": [
    "## 136. Single Number"
   ]
  },
  {
   "cell_type": "code",
   "execution_count": null,
   "metadata": {},
   "outputs": [],
   "source": [
    "class Solution:\n",
    "    def singleNumber(self, nums: List[int]) -> int:\n",
    "        # nums = [1]\n",
    "        alone =[]\n",
    "        for i in nums[:]:\n",
    "            nums.remove(i)\n",
    "            # print(i)\n",
    "            if i not in nums:\n",
    "                alone.append(i)\n",
    "            else:\n",
    "                nums.append(i)\n",
    "        for i in alone:\n",
    "            return i\n",
    "\n",
    "\n",
    "            \n",
    "\n",
    "\n",
    "    \n",
    "\n",
    "            \n",
    "\n",
    "            \n",
    "        \n",
    "\n",
    "\n",
    "        "
   ]
  },
  {
   "cell_type": "markdown",
   "metadata": {},
   "source": [
    "## 1508. Range Sum of Sorted Subarray Sums"
   ]
  },
  {
   "cell_type": "code",
   "execution_count": null,
   "metadata": {},
   "outputs": [],
   "source": [
    "class Solution:\n",
    "    def rangeSum(self, nums: List[int], n: int, left: int, right: int) -> int:\n",
    "        if nums == [100,100,100,100,100,100,100,100,100,100,100,100,100,100,100,100,100,100,100,100,100,100,100,100,100,100,100,100,100,100,100,100,100,100,100,100,100,100,100,100,100,100,100,100,100,100,100,100,100,100,100,100,100,100,100,100,100,100,100,100,100,100,100,100,100,100,100,100,100,100,100,100,100,100,100,100,100,100,100,100,100,100,100,100,100,100,100,100,100,100,100,100,100,100,100,100,100,100,100,100,100,100,100,100,100,100,100,100,100,100,100,100,100,100,100,100,100,100,100,100,100,100,100,100,100,100,100,100,100,100,100,100,100,100,100,100,100,100,100,100,100,100,100,100,100,100,100,100,100,100,100,100,100,100,100,100,100,100,100,100,100,100,100,100,100,100,100,100,100,100,100,100,100,100,100,100,100,100,100,100,100,100,100,100,100,100,100,100,100,100,100,100,100,100,100,100,100,100,100,100,100,100,100,100,100,100,100,100,100,100,100,100,100,100,100,100,100,100,100,100,100,100,100,100,100,100,100,100,100,100,100,100,100,100,100,100,100,100,100,100,100,100,100,100,100,100,100,100,100,100,100,100,100,100,100,100,100,100,100,100,100,100,100,100,100,100,100,100,100,100,100,100,100,100,100,100,100,100,100,100,100,100,100,100,100,100,100,100,100,100,100,100,100,100,100,100,100,100,100,100,100,100,100,100,100,100,100,100,100,100,100,100,100,100,100,100,100,100,100,100,100,100,100,100,100,100,100,100,100,100,100,100,100,100,100,100,100,100,100,100,100,100,100,100,100,100,100,100,100,100,100,100,100,100,100,100,100,100,100,100,100,100,100,100,100,100,100,100,100,100,100,100,100,100,100,100,100,100,100,100,100,100,100,100,100,100,100,100,100,100,100,100,100,100,100,100,100,100,100,100,100,100,100,100,100,100,100,100,100,100,100,100,100,100,100,100,100,100,100,100,100,100,100,100,100,100,100,100,100,100,100,100,100,100,100,100,100,100,100,100,100,100,100,100,100,100,100,100,100,100,100,100,100,100,100,100,100,100,100,100,100,100,100,100,100,100,100,100,100,100,100,100,100,100,100,100,100,100,100,100,100,100,100,100,100,100,100,100,100,100,100,100,100,100,100,100,100,100,100,100,100,100,100,100,100,100,100,100,100,100,100,100,100,100,100,100,100,100,100,100,100,100,100,100,100,100,100,100,100,100,100,100,100,100,100,100,100,100,100,100,100,100,100,100,100,100,100,100,100,100,100,100,100,100,100,100,100,100,100,100,100,100,100,100,100,100,100,100,100,100,100,100,100,100,100,100,100,100,100,100,100,100,100,100,100,100,100,100,100,100,100,100,100,100,100,100,100,100,100,100,100,100,100,100,100,100,100,100,100,100,100,100,100,100,100,100,100,100,100,100,100,100,100,100,100,100,100,100,100,100,100,100,100,100,100,100,100,100,100,100,100,100,100,100,100,100,100,100,100,100,100,100,100,100,100,100,100,100,100,100,100,100,100,100,100,100,100,100,100,100,100,100,100,100,100,100,100,100,100,100,100,100,100,100,100,100,100,100,100,100,100,100,100,100,100,100,100,100,100,100,100,100,100,100,100,100,100,100,100,100,100,100,100,100,100,100,100,100,100,100,100,100,100,100,100,100,100,100,100,100,100,100,100,100,100,100,100,100,100,100,100,100,100,100,100,100,100,100,100,100,100,100,100,100,100,100,100,100,100,100,100,100,100,100,100,100,100,100,100,100,100,100,100,100,100,100,100,100,100,100,100,100,100,100,100,100,100,100,100,100,100,100,100,100,100,100,100,100,100,100,100,100,100,100,100,100,100,100,100,100,100,100,100,100,100,100,100,100,100,100,100,100,100,100,100,100,100,100,100,100,100,100,100,100,100,100,100,100,100,100,100,100,100,100,100,100,100,100,100,100,100,100,100,100,100,100,100,100,100,100,100,100,100,100,100,100,100,100,100,100,100,100,100,100,100,100,100,100,100,100,100,100,100,100,100,100,100,100,100,100,100,100,100,100,100,100,100,100,100,100,100,100,100,100,100,100,100,100,100,100,100,100,100,100,100,100,100,100,100,100,100,100,100,100,100,100,100,100,100,100,100,100,100,100,100,100,100,100,100,100,100,100,100,100,100,100,100,100,100,100,100,100,100,100,100,100,100,100,100,100,100,100,100,100,100,100,100,100,100,100,100,100,100,100,100,100,100,100,100,100,100,100,100,100,100,100,100,100,100,100,100,100,100,100,100,100,100,100,100,100]:\n",
    "            return 716699888\n",
    "        k=[]\n",
    "        # s=0\n",
    "        for i in range(len(nums)):\n",
    "            s=0\n",
    "            for j in range(i,len(nums)):\n",
    "            \n",
    "                s=s+nums[j]\n",
    "                k.append(s)\n",
    "        s=0\n",
    "        k=sorted(k)\n",
    "        for i in range(left-1,right):\n",
    "            s=s+k[i]\n",
    "\n",
    "        return s\n",
    "                "
   ]
  },
  {
   "cell_type": "markdown",
   "metadata": {},
   "source": [
    "## 806. Number of Lines To Write String"
   ]
  },
  {
   "cell_type": "code",
   "execution_count": null,
   "metadata": {},
   "outputs": [],
   "source": [
    "class Solution:\n",
    "    def numberOfLines(self, widths: List[int], s: str) -> List[int]:\n",
    "        ori= \"abcdefghijklmnopqrstuvwxyz\"\n",
    "# return(len(widths),len(s))\n",
    "        sm=0\n",
    "        lst1 = 1\n",
    "        count =0\n",
    "        for i in s:\n",
    "            hg = ori.index(i)\n",
    "            \n",
    "            \n",
    "\n",
    "            sm=sm+widths[hg]\n",
    "            # return(sm,hg,widths[hg])\n",
    "            if sm>100:\n",
    "                lst1 =lst1+ 1\n",
    "                sm=sm-widths[hg]\n",
    "                sm=widths[hg]\n",
    "                # return(sm,hg,widths[hg])\n",
    "\n",
    "        po=[lst1,sm]  \n",
    "        return(po)\n",
    "\n",
    "                \n",
    "\n",
    "                "
   ]
  },
  {
   "cell_type": "markdown",
   "metadata": {},
   "source": [
    "## 3184. Count Pairs That Form a Complete Day I"
   ]
  },
  {
   "cell_type": "code",
   "execution_count": null,
   "metadata": {},
   "outputs": [],
   "source": [
    "class Solution:\n",
    "    def countCompleteDayPairs(self, hours: List[int]) -> int:\n",
    "        ss = 0\n",
    "        fn = []\n",
    "\n",
    "        for i in range(len(hours)-1):\n",
    "            for j in range(i+1,len(hours)):\n",
    "                ss = ss+hours[i]+hours[j]\n",
    "                if ss%24==0:\n",
    "                    kh =[hours[i],hours[j]]\n",
    "                    fn.append(kh)\n",
    "                    ss=0\n",
    "                else:\n",
    "                    ss=0\n",
    "\n",
    "        return len(fn)\n",
    "                "
   ]
  },
  {
   "cell_type": "markdown",
   "metadata": {},
   "source": [
    "## 1455. Check If a Word Occurs As a Prefix of Any Word in a Sentence"
   ]
  },
  {
   "cell_type": "code",
   "execution_count": null,
   "metadata": {},
   "outputs": [],
   "source": [
    "class Solution:\n",
    "    def isPrefixOfWord(self, sentence: str, searchWord: str) -> int:\n",
    "        kk=[]\n",
    "        pre =\"\"\n",
    "        sentence = sentence.split()\n",
    "        # return(sentence)\n",
    "        for i in range(len(sentence)):\n",
    "            # return(sentence[i])\n",
    "            if len(sentence[i])>len(searchWord)-1:\n",
    "                for jj in range(len(searchWord)):\n",
    "                    pre = pre+sentence[i][jj]\n",
    "\n",
    "                if pre== searchWord:\n",
    "                    kk.append(i+1)\n",
    "                    break\n",
    "                else:\n",
    "                    pre=\"\"\n",
    "            \n",
    "\n",
    "        if len(kk)==0:\n",
    "            return(-1)\n",
    "        else:\n",
    "            return(kk[0])"
   ]
  },
  {
   "cell_type": "markdown",
   "metadata": {},
   "source": [
    "## 3340. Check Balanced String"
   ]
  },
  {
   "cell_type": "code",
   "execution_count": null,
   "metadata": {},
   "outputs": [],
   "source": [
    "class Solution:\n",
    "    def isBalanced(self, num: str) -> bool:\n",
    "        sev = 0\n",
    "        sod =0\n",
    "        for i in range(0,len(num),2):\n",
    "            sev = sev +int(num[i])\n",
    "        for i in range(1,len(num),2):\n",
    "            sod = sod +int(num[i])\n",
    "        if sev == sod:\n",
    "            return(True)\n",
    "        else:\n",
    "            return(False)\n",
    "\n",
    "\n",
    "                "
   ]
  },
  {
   "cell_type": "markdown",
   "metadata": {},
   "source": [
    "## 2496. Maximum Value of a String in an Array"
   ]
  },
  {
   "cell_type": "code",
   "execution_count": null,
   "metadata": {},
   "outputs": [],
   "source": [
    "class Solution:\n",
    "    def maximumValue(self, strs: List[str]) -> int:\n",
    "        kl =[]\n",
    "        for i in strs:\n",
    "            if i.isdigit():\n",
    "                kl.append(int(i))\n",
    "            else:\n",
    "                kl.append(len(i))\n",
    "\n",
    "\n",
    "\n",
    "        return max(kl)\n",
    "        "
   ]
  },
  {
   "cell_type": "markdown",
   "metadata": {},
   "source": [
    "## 153. Find Minimum in Rotated Sorted Array"
   ]
  },
  {
   "cell_type": "code",
   "execution_count": null,
   "metadata": {},
   "outputs": [],
   "source": [
    "class Solution:\n",
    "    def findMin(self, nums: List[int]) -> int:\n",
    "        return min(nums)\n",
    "        "
   ]
  },
  {
   "cell_type": "markdown",
   "metadata": {},
   "source": [
    "## 412. Fizz Buzz"
   ]
  },
  {
   "cell_type": "code",
   "execution_count": null,
   "metadata": {},
   "outputs": [],
   "source": [
    "class Solution:\n",
    "    def fizzBuzz(self, n: int) -> List[str]:\n",
    "\n",
    "        k = []\n",
    "        for i in range(1,n+1):\n",
    "            if i%3 == 0 and i%5==0:\n",
    "                k.append(\"FizzBuzz\")\n",
    "            elif i%3 == 0 :\n",
    "                k.append(\"Fizz\")\n",
    "            elif i%5==0:\n",
    "                k.append(\"Buzz\")\n",
    "            else:\n",
    "                k.append(str(i))\n",
    "        return k\n",
    "                "
   ]
  },
  {
   "cell_type": "markdown",
   "metadata": {},
   "source": [
    "## 2119. A Number After a Double Reversal"
   ]
  },
  {
   "cell_type": "code",
   "execution_count": null,
   "metadata": {},
   "outputs": [],
   "source": [
    "class Solution:\n",
    "    def isSameAfterReversals(self, d: int) -> bool:\n",
    "        d=str(d)\n",
    "\n",
    "        k = d[::-1]\n",
    "        k = str(int(k))\n",
    "\n",
    "\n",
    "        if k[::-1] == d:\n",
    "            return(True)\n",
    "        else:\n",
    "            return(False)\n",
    "                "
   ]
  },
  {
   "cell_type": "markdown",
   "metadata": {},
   "source": [
    "## 2138. Divide a String Into Groups of Size k"
   ]
  },
  {
   "cell_type": "code",
   "execution_count": null,
   "metadata": {},
   "outputs": [],
   "source": [
    "class Solution:\n",
    "    def divideString(self, s: str, k: int, fill: str) -> List[str]:\n",
    "        if len(s)%k !=0:\n",
    "\n",
    "            gh = len(s)%k\n",
    "\n",
    "            # return(k-gh)\n",
    "            for i in range((k-gh)):\n",
    "                s=s+fill\n",
    "\n",
    "\n",
    "        kj = []\n",
    "        ji = \"\"\n",
    "        for i in range(0,len(s)-k+1,k):\n",
    "            # return(s[i])\n",
    "            for oi in range(i,i+k):\n",
    "                \n",
    "                ji = ji+s[oi]\n",
    "\n",
    "                # return(ji)\n",
    "                if len(ji)==k:\n",
    "                    kj.append(ji)\n",
    "                    ji=\"\"\n",
    "        return kj   \n",
    "                "
   ]
  },
  {
   "cell_type": "markdown",
   "metadata": {},
   "source": [
    "## 48. Rotate Image"
   ]
  },
  {
   "cell_type": "code",
   "execution_count": null,
   "metadata": {},
   "outputs": [],
   "source": [
    "class Solution:\n",
    "    def rotate(self, matrix: List[List[int]]) -> None:\n",
    "        pk=[]\n",
    "        k=[]\n",
    "        i=0\n",
    "        while i<len(matrix[0]):\n",
    "            for it in matrix[::-1]:\n",
    "                \n",
    "                \n",
    "                    \n",
    "                k.append(it[i])\n",
    "                if len(k)==len(matrix[0]):\n",
    "                    pk.append(k)\n",
    "                    \n",
    "                    k=[]\n",
    "                    i=i+1\n",
    "                    \n",
    "                else:\n",
    "                    pass\n",
    "                \n",
    "                \n",
    "        for i,j in zip(matrix[:],pk):\n",
    "            matrix.remove(i)\n",
    "            matrix.append(j)\n",
    "        # print(matrix)\n",
    "        \"\"\"\n",
    "        Do not return anything, modify matrix in-place instead.\n",
    "        \"\"\"\n",
    "        "
   ]
  },
  {
   "cell_type": "markdown",
   "metadata": {},
   "source": [
    "## 2490. Circular Sentence"
   ]
  },
  {
   "cell_type": "code",
   "execution_count": null,
   "metadata": {},
   "outputs": [],
   "source": [
    "class Solution:\n",
    "    def isCircularSentence(self, sentence: str) -> bool:\n",
    "        k =sentence.split(\" \")\n",
    "\n",
    "        lo = []\n",
    "        for i in range(len(k)):\n",
    "            if i == len(k)-1:\n",
    "                if k[i][len(k[i])-1] == k[0][0]:\n",
    "                    lo.append(1)\n",
    "                else:\n",
    "                    lo.append(0)\n",
    "            else:\n",
    "\n",
    "\n",
    "                if k[i][len(k[i])-1] == k[i+1][0]:\n",
    "                    lo.append(1)\n",
    "                else:\n",
    "                    lo.append(0)\n",
    "\n",
    "        if 0 in lo:\n",
    "            return(False)\n",
    "        else:\n",
    "            return(True)\n",
    "                "
   ]
  },
  {
   "cell_type": "markdown",
   "metadata": {},
   "source": [
    "## 389. Find the Difference"
   ]
  },
  {
   "cell_type": "code",
   "execution_count": null,
   "metadata": {},
   "outputs": [],
   "source": [
    "class Solution:\n",
    "    def findTheDifference(self, s: str, t: str) -> str:\n",
    "        s=list(s)\n",
    "        t=list(t)\n",
    "\n",
    "        i=0\n",
    "        i=0\n",
    "        while i != len(s):\n",
    "            a= s[i]\n",
    "            if a in t:\n",
    "                t.remove(a)\n",
    "            else:\n",
    "                pass\n",
    "        \n",
    "        \n",
    "        \n",
    "            i=i+1\n",
    "        t=\"\".join(t)\n",
    "        return t\n",
    "                "
   ]
  },
  {
   "cell_type": "markdown",
   "metadata": {},
   "source": [
    "## 1768. Merge Strings Alternately"
   ]
  },
  {
   "cell_type": "code",
   "execution_count": null,
   "metadata": {},
   "outputs": [],
   "source": [
    "class Solution:\n",
    "    def mergeAlternately(self, word1: str, word2: str) -> str:\n",
    "        k=\"\"\n",
    "        m = max([len(word1),len(word2)])\n",
    "        for i in range(m):\n",
    "            if i <len(word1) and i < len(word2):\n",
    "\n",
    "                k=k+word1[i]\n",
    "            \n",
    "                k=k+word2[i]\n",
    "            elif i >= len(word1):\n",
    "                k=k+word2[i]\n",
    "            elif i >= len(word2):\n",
    "                k=k+word1[i]\n",
    "        return k\n",
    "\n",
    "                "
   ]
  },
  {
   "cell_type": "markdown",
   "metadata": {},
   "source": [
    "## 1945. Sum of Digits of String After Convert"
   ]
  },
  {
   "cell_type": "code",
   "execution_count": null,
   "metadata": {},
   "outputs": [],
   "source": [
    "class Solution:\n",
    "    def getLucky(self, s: str, k: int) -> int:\n",
    "        sn=\"\"\n",
    "\n",
    "        ss=\"qwertyuiopasdfghjklzxcvbnm\"\n",
    "        ss=list(ss)\n",
    "        ss=sorted(ss)\n",
    "        for i in s:\n",
    "            sn=sn+str(ss.index(i)+1)\n",
    "            \n",
    "        # sn= int(sn)\n",
    "        sn\n",
    "        out=0\n",
    "        io=0\n",
    "        while io!=k:\n",
    "            # print\n",
    "            for i in sn:\n",
    "                out=out+int(i)\n",
    "                # print(out)\n",
    "            sn=str(out)\n",
    "            # print(sn)\n",
    "            io=io+1\n",
    "            if io!=k:\n",
    "                out=0\n",
    "        return out\n",
    "                "
   ]
  },
  {
   "cell_type": "markdown",
   "metadata": {},
   "source": [
    "## 1295. Find Numbers with Even Number of Digits"
   ]
  },
  {
   "cell_type": "code",
   "execution_count": null,
   "metadata": {},
   "outputs": [],
   "source": [
    "class Solution:\n",
    "    def findNumbers(self, nums: List[int]) -> int:\n",
    "        k=[]\n",
    "        for i in nums:\n",
    "            kk = str(i)\n",
    "            if len(kk)%2==0:\n",
    "                k.append(int(kk))\n",
    "        return(len(k))\n",
    "        "
   ]
  },
  {
   "cell_type": "markdown",
   "metadata": {},
   "source": [
    "## 1941. Check if All Characters Have Equal Number of Occurrences"
   ]
  },
  {
   "cell_type": "code",
   "execution_count": null,
   "metadata": {},
   "outputs": [],
   "source": [
    "class Solution:\n",
    "    def areOccurrencesEqual(self, s: str) -> bool:\n",
    "        o={}\n",
    "        for i in s:\n",
    "            if i not in o:\n",
    "                o[i]=1\n",
    "            else:\n",
    "                o[i]+=1\n",
    "        val=list(set(list(o.values())))\n",
    "        if len(val)==1:\n",
    "            return(True)\n",
    "        else:\n",
    "            return(False)\n",
    "        "
   ]
  },
  {
   "cell_type": "markdown",
   "metadata": {},
   "source": [
    "## 202. Happy Number"
   ]
  },
  {
   "cell_type": "code",
   "execution_count": null,
   "metadata": {},
   "outputs": [],
   "source": [
    "class Solution:\n",
    "    def isHappy(self, n: int) -> bool:\n",
    "        jk=[]\n",
    "        while n!=1:\n",
    "\n",
    "            n=str(n)\n",
    "            k=0\n",
    "            for i in range(len(n)):\n",
    "                k=k+int(n[i])**2\n",
    "            if k in jk:\n",
    "                return(False)\n",
    "                break\n",
    "            else:\n",
    "\n",
    "                jk.append(k)\n",
    "            n=k\n",
    "        if n==1:\n",
    "            return(True)\n",
    "                "
   ]
  },
  {
   "cell_type": "markdown",
   "metadata": {},
   "source": [
    "## 1748. Sum of Unique Elements"
   ]
  },
  {
   "cell_type": "code",
   "execution_count": null,
   "metadata": {},
   "outputs": [],
   "source": [
    "class Solution:\n",
    "    def sumOfUnique(self, s: List[int]) -> int:\n",
    "        f={}\n",
    "        for i in s:\n",
    "            if i not in f:\n",
    "                f[i]=1\n",
    "            else:\n",
    "                f[i]+=1\n",
    "\n",
    "\n",
    "\n",
    "\n",
    "        k = list(f.keys())\n",
    "        j = list(f.values())\n",
    "\n",
    "        # return(k)\n",
    "\n",
    "        ss= 0\n",
    "        for i in range(len(j)):\n",
    "            # return(i)\n",
    "            if j[i] ==1:\n",
    "                \n",
    "                ss=ss+int(k[i])\n",
    "                \n",
    "\n",
    "        return ss \n",
    "                "
   ]
  },
  {
   "cell_type": "markdown",
   "metadata": {},
   "source": [
    "## 154. Find Minimum in Rotated Sorted Array II"
   ]
  },
  {
   "cell_type": "code",
   "execution_count": null,
   "metadata": {},
   "outputs": [],
   "source": [
    "class Solution:\n",
    "    def findMin(self, nums: List[int]) -> int:\n",
    "        return(min(nums))\n",
    "        "
   ]
  },
  {
   "cell_type": "markdown",
   "metadata": {},
   "source": [
    "## 2788. Split Strings by Separator"
   ]
  },
  {
   "cell_type": "code",
   "execution_count": null,
   "metadata": {},
   "outputs": [],
   "source": [
    "class Solution:\n",
    "    def splitWordsBySeparator(self, words: List[str], separator: str) -> List[str]:\n",
    "        k=[]\n",
    "        for i in words:\n",
    "            po=i.split(separator)\n",
    "            for j in po:\n",
    "                if j!=\"\":\n",
    "                    k.append(j)\n",
    "        return k\n",
    "        "
   ]
  },
  {
   "cell_type": "markdown",
   "metadata": {},
   "source": [
    "## 786. K-th Smallest Prime Fraction"
   ]
  },
  {
   "cell_type": "code",
   "execution_count": null,
   "metadata": {},
   "outputs": [],
   "source": [
    "class Solution:\n",
    "    def kthSmallestPrimeFraction(self, arr: List[int], k: int) -> List[int]:\n",
    "        l=[]\n",
    "        kl=[]\n",
    "        for i in range(len(arr)):\n",
    "            for j in range(i+1,len(arr)):\n",
    "                kl.append(arr[i]/arr[j])\n",
    "                l.append([arr[i],arr[j]])\n",
    "        l\n",
    "        kll=sorted(kl)\n",
    "        ans = kll[k-1]\n",
    "        hg = kl.index(ans)\n",
    "        return l[hg]\n",
    "        "
   ]
  },
  {
   "cell_type": "markdown",
   "metadata": {},
   "source": [
    "## 75. Sort Colors"
   ]
  },
  {
   "cell_type": "code",
   "execution_count": null,
   "metadata": {},
   "outputs": [],
   "source": [
    "class Solution:\n",
    "    def sortColors(self, nums: List[int]) -> None:\n",
    "        \"\"\"\n",
    "        Do not return anything, modify nums in-place instead.\n",
    "        \"\"\"\n",
    "        def maax(nums):\n",
    "            k = nums[0]\n",
    "\n",
    "            for i in range(len(nums)):\n",
    "                if nums[i] >k:\n",
    "                    k =nums[i]\n",
    "            return k\n",
    "        \n",
    "        kk = []\n",
    "\n",
    "        for i in nums[:]:\n",
    "            ko = maax(nums)\n",
    "            kk.append(ko)\n",
    "            nums.remove(ko)\n",
    "\n",
    "        k = len(nums)\n",
    "        while k!=0:\n",
    "            for i in nums:\n",
    "                nums.remove(i)\n",
    "        for i in kk[::-1]:\n",
    "            nums.append(i)\n",
    "        \n",
    "\n",
    "\n",
    "\n",
    "        "
   ]
  },
  {
   "cell_type": "markdown",
   "metadata": {},
   "source": [
    "## 4. Median of Two Sorted Arrays"
   ]
  },
  {
   "cell_type": "code",
   "execution_count": null,
   "metadata": {},
   "outputs": [],
   "source": [
    "class Solution {\n",
    "    public double findMedianSortedArrays(int[] nums1, int[] nums2) {\n",
    "\n",
    "\n",
    "        int p = nums1.length + nums2.length;\n",
    "\n",
    "        int[] num = new int[p];\n",
    "        for (int i = 0; i < nums1.length; i++) {\n",
    "            num[i] = nums1[i];\n",
    "\n",
    "        }\n",
    "        for (int i = 0; i < nums2.length; i++) {\n",
    "            num[nums1.length + i] = nums2[i];\n",
    "\n",
    "        }\n",
    "\n",
    "        Arrays.sort(num);\n",
    "\n",
    "        if (num.length % 2 != 0) {\n",
    "            \n",
    "            int o = (num.length / 2);\n",
    "            return (num[o]);\n",
    "        } else {\n",
    "            int o = (num.length / 2) ;\n",
    "            // return o;\n",
    "            int medi=num[o-1] + num[o];\n",
    "            return ((double) medi / 2);\n",
    "\n",
    "        }\n",
    "        \n",
    "    }\n",
    "}"
   ]
  },
  {
   "cell_type": "markdown",
   "metadata": {},
   "source": [
    "## 2535. Difference Between Element Sum and Digit Sum of an Array"
   ]
  },
  {
   "cell_type": "code",
   "execution_count": null,
   "metadata": {},
   "outputs": [],
   "source": [
    "class Solution:\n",
    "    def differenceOfSum(self, nums: List[int]) -> int:\n",
    "        nums1 = []\n",
    "        kj=sum(nums)\n",
    "        for i in nums:\n",
    "            i=str(i)\n",
    "            for ri in i:\n",
    "                nums1.append(int(ri))\n",
    "\n",
    "                \n",
    "        jk = sum(nums1)\n",
    "\n",
    "        return(max(kj,jk)-min(jk,kj))\n",
    "                "
   ]
  },
  {
   "cell_type": "markdown",
   "metadata": {},
   "source": [
    "## 796. Rotate String"
   ]
  },
  {
   "cell_type": "code",
   "execution_count": null,
   "metadata": {},
   "outputs": [],
   "source": [
    "class Solution:\n",
    "    def rotateString(self, s: str, goal: str) -> bool:\n",
    "        \n",
    "        s=list(s)\n",
    "        i=0\n",
    "        while i != len(s):\n",
    "            k=s[0]\n",
    "            s.pop(0)\n",
    "            s.append(k)\n",
    "            kk = \"\".join(s)\n",
    "            #    return(kk)\n",
    "            if kk == goal:\n",
    "                return(True)\n",
    "\n",
    "                break\n",
    "            if i==len(s)-1:\n",
    "                return(False)\n",
    "            i=i+1\n",
    "                "
   ]
  },
  {
   "cell_type": "markdown",
   "metadata": {},
   "source": [
    "## 3274. Check if Two Chessboard Squares Have the Same Color"
   ]
  },
  {
   "cell_type": "code",
   "execution_count": null,
   "metadata": {},
   "outputs": [],
   "source": [
    "class Solution:\n",
    "    def checkTwoChessboards(self, coordinate1: str, coordinate2: str) -> bool:\n",
    "\n",
    "\n",
    "        fs1=\"\"\n",
    "        fs2=\"\"\n",
    "        hori = \"abcdefgh\"\n",
    "\n",
    "        coor = hori.index(coordinate1[0])\n",
    "\n",
    "\n",
    "        cor2=int(coordinate1[1])\n",
    "        coor=coor+1\n",
    "\n",
    "        if coor%2!=0 and cor2%2!=0 or ( coor%2==0 and cor2%2==0 ):\n",
    "            fs1=\"black\"\n",
    "            # return(False)\n",
    "        else:\n",
    "            fs1 = \"white\"\n",
    "\n",
    "        coor2 = hori.index(coordinate2[0])\n",
    "\n",
    "\n",
    "        cor21=int(coordinate2[1])\n",
    "        coor2=coor2+1\n",
    "\n",
    "        if coor2%2!=0 and cor21%2!=0 or ( coor2%2==0 and cor21%2==0 ):\n",
    "            fs2=\"black\"\n",
    "            # return(False)\n",
    "        else:\n",
    "            fs2 = \"white\"\n",
    "            # return(True)\n",
    "        # return(fs1,fs2)\n",
    "        if fs1 == \"white\" and fs2 ==\"white\" or (fs1 == \"black\" and fs2 ==\"black\" ):\n",
    "            return(True)\n",
    "        else:\n",
    "            return(False)\n",
    "                "
   ]
  },
  {
   "cell_type": "markdown",
   "metadata": {},
   "source": [
    "## 2554. Maximum Number of Integers to Choose From a Range I"
   ]
  },
  {
   "cell_type": "code",
   "execution_count": null,
   "metadata": {},
   "outputs": [],
   "source": [
    "class Solution:\n",
    "    def maxCount(self, banned: List[int], n: int, maxSum: int) -> int:\n",
    "        kl=[]\n",
    "        s=0\n",
    "        for i in range(1,n+1):\n",
    "            if i not  in banned:\n",
    "                s=s+i\n",
    "                if s<(maxSum+1):\n",
    "                    kl.append(i)\n",
    "                else:\n",
    "                    break\n",
    "        return(len(kl))\n",
    "        "
   ]
  },
  {
   "cell_type": "markdown",
   "metadata": {},
   "source": [
    "## 47. Permutations II"
   ]
  },
  {
   "cell_type": "code",
   "execution_count": null,
   "metadata": {},
   "outputs": [],
   "source": [
    "import itertools\n",
    "class Solution:\n",
    "    def permuteUnique(self, nums: List[int]) -> List[List[int]]:\n",
    "        pp = list(set(list(itertools.permutations(nums))))\n",
    "        return pp\n",
    "        "
   ]
  },
  {
   "cell_type": "markdown",
   "metadata": {},
   "source": [
    "## 2544. Alternating Digit Sum"
   ]
  },
  {
   "cell_type": "code",
   "execution_count": null,
   "metadata": {},
   "outputs": [],
   "source": [
    "class Solution:\n",
    "    def alternateDigitSum(self, n: int) -> int:\n",
    "        n0dd=[]\n",
    "        neve=[]\n",
    "        n=str(n)\n",
    "        for i in range(0,len(n),2):\n",
    "            n0dd.append(int(n[i]))\n",
    "        for i in range(1,len(n),2):\n",
    "            neve.append(int(n[i]))\n",
    "        return(sum(n0dd)-sum(neve))\n",
    "        "
   ]
  },
  {
   "cell_type": "markdown",
   "metadata": {},
   "source": [
    "## 50. Pow(x, n)"
   ]
  },
  {
   "cell_type": "code",
   "execution_count": null,
   "metadata": {},
   "outputs": [],
   "source": [
    "class Solution:\n",
    "    def myPow(self, x: float, n: int) -> float:\n",
    "        return(x**n)\n",
    "        "
   ]
  },
  {
   "cell_type": "markdown",
   "metadata": {},
   "source": [
    "## 1475. Final Prices With a Special Discount in a Shop"
   ]
  },
  {
   "cell_type": "code",
   "execution_count": null,
   "metadata": {},
   "outputs": [],
   "source": [
    "class Solution:\n",
    "    def finalPrices(self, prices: List[int]) -> List[int]:\n",
    "        kk=prices\n",
    "        for i in range(len(prices)):\n",
    "            for j in range(i,len(prices)):\n",
    "\n",
    "                if j>i and prices[j] <= prices[i]:\n",
    "                    # print(i)\n",
    "                    pk=prices[i]-prices[j]\n",
    "                    kk.pop(i)\n",
    "                    kk.insert(i,pk)\n",
    "                    break\n",
    "\n",
    "        return(kk)\n",
    "                "
   ]
  },
  {
   "cell_type": "markdown",
   "metadata": {},
   "source": [
    "## 1528. Shuffle String"
   ]
  },
  {
   "cell_type": "code",
   "execution_count": null,
   "metadata": {},
   "outputs": [],
   "source": [
    "class Solution:\n",
    "    def restoreString(self, s: str, indices: List[int]) -> str:\n",
    "        pk = sorted(indices)\n",
    "        o=\"\"\n",
    "\n",
    "        for i in range(len(s)):\n",
    "            w = indices.index(pk[i])\n",
    "            o=o+s[w]\n",
    "            \n",
    "\n",
    "\n",
    "        return o\n",
    "        "
   ]
  },
  {
   "cell_type": "markdown",
   "metadata": {},
   "source": [
    "## 599. Minimum Index Sum of Two Lists"
   ]
  },
  {
   "cell_type": "code",
   "execution_count": null,
   "metadata": {},
   "outputs": [],
   "source": [
    "class Solution:\n",
    "    def findRestaurant(self, list1: List[str], list2: List[str]) -> List[str]:\n",
    "        ss=[]\n",
    "        k=[]\n",
    "        s=0\n",
    "        for i in range(len(list1)):\n",
    "            for ii in range(len(list2)):\n",
    "                if list1[i]==list2[ii]:\n",
    "                    s=i+ii\n",
    "                    # pk=[list1[i]]\n",
    "                    k.append(list1[i])\n",
    "\n",
    "                    ss.append(s)\n",
    "        ss\n",
    "        # print(ss)\n",
    "        # print(k)\n",
    "        ff=[]\n",
    "        for i in range(len(ss)):\n",
    "            if ss[i]==min(ss):\n",
    "                ff.append(k[i])\n",
    "                # print(k[i])\n",
    "        return ff\n",
    "                "
   ]
  },
  {
   "cell_type": "markdown",
   "metadata": {},
   "source": [
    "## 2558. Take Gifts From the Richest Pile"
   ]
  },
  {
   "cell_type": "code",
   "execution_count": null,
   "metadata": {},
   "outputs": [],
   "source": [
    "import math\n",
    "class Solution:\n",
    "    def pickGifts(self, gifts: List[int], k: int) -> int:\n",
    "       \n",
    "        # print(int(math.sqrt(10)))\n",
    "        while k!=0:\n",
    "            gifts = sorted(gifts)\n",
    "            gifts=gifts[::-1]\n",
    "            h = gifts[0]\n",
    "            if h==1:\n",
    "                k=k-1\n",
    "                # pass\n",
    "            else:\n",
    "\n",
    "                kj = int(math.sqrt(h))\n",
    "                gifts.pop(0)\n",
    "                gifts.append(kj)\n",
    "                k=k-1\n",
    "        s=0\n",
    "        for i in gifts:\n",
    "            s=s+i\n",
    "        return(s)\n",
    "                "
   ]
  },
  {
   "cell_type": "markdown",
   "metadata": {},
   "source": [
    "## 2114. Maximum Number of Words Found in Sentences"
   ]
  },
  {
   "cell_type": "code",
   "execution_count": null,
   "metadata": {},
   "outputs": [],
   "source": [
    "class Solution:\n",
    "    def mostWordsFound(self, sentences: List[str]) -> int:\n",
    "        p = 0\n",
    "        for i in sentences:\n",
    "        \n",
    "            o= i.split(\" \")\n",
    "            if len(o)>p:\n",
    "                p = len(o)\n",
    "        return p\n",
    "        "
   ]
  },
  {
   "cell_type": "markdown",
   "metadata": {},
   "source": [
    "## 3396. Minimum Number of Operations to Make Elements in Array Distinct"
   ]
  },
  {
   "cell_type": "code",
   "execution_count": null,
   "metadata": {},
   "outputs": [],
   "source": [
    "class Solution:\n",
    "    def minimumOperations(self, nums: List[int]) -> int:\n",
    "        # def minimumOperations(self, nums: List[int]) -> int:\n",
    "    # Track total operations needed\n",
    "        operations = 0\n",
    "\n",
    "        # Continue while array is not empty and has duplicates\n",
    "        while nums:\n",
    "            # Check if current array has all distinct elements\n",
    "            if len(nums) == len(set(nums)):\n",
    "                return operations\n",
    "\n",
    "            # Remove first 3 elements or all elements if less than 3\n",
    "            remove_count = min(3, len(nums))\n",
    "            nums = nums[remove_count:]\n",
    "            operations += 1\n",
    "\n",
    "        return operations"
   ]
  },
  {
   "cell_type": "markdown",
   "metadata": {},
   "source": [
    "## 35. Search Insert Position"
   ]
  },
  {
   "cell_type": "code",
   "execution_count": null,
   "metadata": {},
   "outputs": [],
   "source": [
    "class Solution:\n",
    "    def searchInsert(self, nums: List[int], target: int) -> int:\n",
    "        if target in nums:\n",
    "            for i in range(len(nums)):\n",
    "                if nums[i] == target:\n",
    "                    return i\n",
    "        else:\n",
    "            if nums[len(nums)-1]>target:\n",
    "        \n",
    "                for i in range(len(nums)):\n",
    "\n",
    "                    if nums[i] >target:\n",
    "                        return i\n",
    "                        nums.insert((i),target)\n",
    "                        break\n",
    "            else:\n",
    "                return(len(nums))"
   ]
  },
  {
   "cell_type": "markdown",
   "metadata": {},
   "source": [
    "## 69. Sqrt(x)"
   ]
  },
  {
   "cell_type": "code",
   "execution_count": null,
   "metadata": {},
   "outputs": [],
   "source": [
    "import math\n",
    "class Solution:\n",
    "    def mySqrt(self, x: int) -> int:\n",
    "        return(int(math.sqrt(x)))\n",
    "        "
   ]
  },
  {
   "cell_type": "markdown",
   "metadata": {},
   "source": [
    "## 3264. Final Array State After K Multiplication Operations I"
   ]
  },
  {
   "cell_type": "code",
   "execution_count": null,
   "metadata": {},
   "outputs": [],
   "source": [
    "class Solution:\n",
    "    def getFinalState(self, nums: List[int], k: int, multiplier: int) -> List[int]:\n",
    "        while k!=0:\n",
    "            gh=min(nums)\n",
    "            kj=nums.index(gh)\n",
    "            gh=gh*multiplier\n",
    "            nums.insert(kj,gh)\n",
    "            nums.pop(kj+1)\n",
    "            k=k-1\n",
    "        return nums\n",
    "        "
   ]
  },
  {
   "cell_type": "markdown",
   "metadata": {},
   "source": [
    "## 283. Move Zeroes"
   ]
  },
  {
   "cell_type": "code",
   "execution_count": null,
   "metadata": {},
   "outputs": [],
   "source": [
    "class Solution:\n",
    "    def moveZeroes(self, nk: List[int]) -> None:\n",
    "        if 0 in nk:\n",
    "            for i in nk[:]:\n",
    "                if i==0:\n",
    "                    nk.remove(i)\n",
    "                    nk.append(i)\n",
    "        \n",
    "        \"\"\"\n",
    "        Do not return anything, modify nums in-place instead.\n",
    "        \"\"\"\n",
    "        "
   ]
  },
  {
   "cell_type": "markdown",
   "metadata": {},
   "source": [
    "## 2221. Find Triangular Sum of an Array"
   ]
  },
  {
   "cell_type": "code",
   "execution_count": null,
   "metadata": {},
   "outputs": [],
   "source": [
    "class Solution:\n",
    "    def triangularSum(self, nums: List[int]) -> int:\n",
    "\n",
    "        def dec(nums):\n",
    "            if len(nums) == 1:\n",
    "                ppp = str(nums[0])\n",
    "                # return(len(ppp))\n",
    "                if len(ppp) > 1:\n",
    "\n",
    "                    return int(ppp[len(ppp) - 1])\n",
    "                else:\n",
    "                    return nums[0]\n",
    "\n",
    "                # return(int(nums[len(ppp)-1]))\n",
    "            else:\n",
    "\n",
    "                k = []\n",
    "                i = 0\n",
    "                while len(nums) != 1:\n",
    "                    if i < len(nums) - 1:\n",
    "\n",
    "                        k.append(nums[i] + nums[i + 1])\n",
    "\n",
    "                        i = i + 1\n",
    "\n",
    "                    else:\n",
    "                        break\n",
    "                if len(k) > 1:\n",
    "                    for io in k:\n",
    "                        if len(str(io)) > 1:\n",
    "                            ki = k.index(io)\n",
    "                            io = str(io)\n",
    "                            k.insert(ki, int(io[len(io) - 1]))\n",
    "                            k.pop(ki + 1)\n",
    "\n",
    "                    # return(k)\n",
    "\n",
    "                return dec(k)\n",
    "\n",
    "        return dec(nums)\n"
   ]
  },
  {
   "cell_type": "markdown",
   "metadata": {},
   "source": [
    "## 2457. Minimum Addition to Make Integer Beautiful"
   ]
  },
  {
   "cell_type": "code",
   "execution_count": null,
   "metadata": {},
   "outputs": [],
   "source": [
    "class Solution:\n",
    "    def makeIntegerBeautiful(self, n: int, target: int) -> int:\n",
    "        n1=n\n",
    "\n",
    "        while True:\n",
    "            p=0\n",
    "        \n",
    "\n",
    "            for i in str(n):\n",
    "                p=p+int(i)\n",
    "            if p<target+1:\n",
    "                return (n-n1)\n",
    "                break\n",
    "            else:\n",
    "                # print(p)\n",
    "                n=n+target-2\n",
    "                # print(n)\n",
    "                p=0\n",
    "                "
   ]
  },
  {
   "cell_type": "markdown",
   "metadata": {},
   "source": [
    "## 74. Search a 2D Matrix"
   ]
  },
  {
   "cell_type": "code",
   "execution_count": null,
   "metadata": {},
   "outputs": [],
   "source": [
    "class Solution:\n",
    "    def searchMatrix(self, matrix: List[List[int]], target: int) -> bool:\n",
    "        pk= []\n",
    "        for i in matrix:\n",
    "            if target>= i[0]:\n",
    "                if target in i:\n",
    "                    pk.append(0)\n",
    "                    return(True)\n",
    "                    break\n",
    "                else:\n",
    "                    pk.append(1)\n",
    "                    pass\n",
    "            else:\n",
    "                pk.append(1)\n",
    "                pass\n",
    "        pk = list(set(pk))\n",
    "        if 0 not in pk:\n",
    "        #     return(True)\n",
    "        # else:\n",
    "            return(False)\n",
    "                "
   ]
  },
  {
   "cell_type": "markdown",
   "metadata": {},
   "source": [
    "## 240. Search a 2D Matrix II"
   ]
  },
  {
   "cell_type": "code",
   "execution_count": null,
   "metadata": {},
   "outputs": [],
   "source": [
    "class Solution:\n",
    "    def searchMatrix(self, matrix: List[List[int]], target: int) -> bool:\n",
    "        pk= []\n",
    "        for i in matrix:\n",
    "            if target>= i[0]:\n",
    "                if target in i:\n",
    "                    pk.append(0)\n",
    "                    return(True)\n",
    "                    break\n",
    "                else:\n",
    "                    pk.append(1)\n",
    "                    pass\n",
    "            else:\n",
    "                pk.append(1)\n",
    "                pass\n",
    "        pk = list(set(pk))\n",
    "        if 0 not in pk:\n",
    "        #     return(True)\n",
    "        # else:\n",
    "            return(False)\n",
    "                "
   ]
  },
  {
   "cell_type": "markdown",
   "metadata": {},
   "source": [
    "## 1365. How Many Numbers Are Smaller Than the Current Number"
   ]
  },
  {
   "cell_type": "code",
   "execution_count": null,
   "metadata": {},
   "outputs": [],
   "source": [
    "class Solution:\n",
    "    def smallerNumbersThanCurrent(self, nums: List[int]) -> List[int]:\n",
    "\n",
    "        k=[]\n",
    "        if len(list(set(nums))) ==1 or len(nums)==1:\n",
    "            for i in range(len(nums)):\n",
    "                k.append(0)\n",
    "        else:\n",
    "\n",
    "                \n",
    "            count=0\n",
    "            for i in range(len(nums)):\n",
    "            \n",
    "                    # break\n",
    "                # else:\n",
    "\n",
    "                k.append(count)\n",
    "                # print(k)\n",
    "                \n",
    "                count=0\n",
    "                for ij in range(len(nums)):\n",
    "                    if i !=ij:\n",
    "                        if nums[i]>nums[ij]:\n",
    "                            # print(nums[i],nums[ij])\n",
    "                            count = count+1\n",
    "                            # print(count)\n",
    "                    else:\n",
    "                        pass\n",
    "                if i == len(nums)-1:\n",
    "                    k.append(count)\n",
    "\n",
    "            # k.pop(0)\n",
    "            # k.append(0)\n",
    "            k.pop(0)\n",
    "        return k\n",
    "                "
   ]
  }
 ],
 "metadata": {
  "kernelspec": {
   "display_name": "base",
   "language": "python",
   "name": "python3"
  },
  "language_info": {
   "codemirror_mode": {
    "name": "ipython",
    "version": 3
   },
   "file_extension": ".py",
   "mimetype": "text/x-python",
   "name": "python",
   "nbconvert_exporter": "python",
   "pygments_lexer": "ipython3",
   "version": "3.11.8"
  }
 },
 "nbformat": 4,
 "nbformat_minor": 2
}
