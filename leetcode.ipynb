{
 "cells": [
  {
   "cell_type": "markdown",
   "metadata": {},
   "source": [
    "## 633. Sum of Square Numbers"
   ]
  },
  {
   "cell_type": "code",
   "execution_count": null,
   "metadata": {},
   "outputs": [],
   "source": [
    "import math\n",
    "class Solution:\n",
    "    def judgeSquareSum(self, c: int) -> bool:\n",
    "                # c = 1000\n",
    "        # c = 6\n",
    "\n",
    "\n",
    "        def squaree(n):\n",
    "            k = math.sqrt(n) \n",
    "            kk = \"\"\n",
    "            kk = str(k)\n",
    "            # return(kk.split('.'))\n",
    "            p = kk.split('.')[1]\n",
    "            co = 0\n",
    "            for i in p:\n",
    "                if i=='0':\n",
    "                    pass\n",
    "                else:\n",
    "                    co = 1\n",
    "            if co==0:\n",
    "                return(True)\n",
    "            else:\n",
    "                return(False)\n",
    "\n",
    "        if c<4:\n",
    "            if c==1 or c==2 or c==0:\n",
    "                return(True)\n",
    "            \n",
    "            else:\n",
    "                return(False)\n",
    "        elif c >3 and squaree(c) == True:\n",
    "            # return(\"ok\")\n",
    "            return(True)\n",
    "\n",
    "\n",
    "        else:\n",
    "            # return(\"ok\")\n",
    "            \n",
    "            k =0\n",
    "            \n",
    "\n",
    "\n",
    "        \n",
    "            \n",
    "            for i in range(int(math.sqrt(c))+1 ):\n",
    "                # return()\n",
    "                k = c - i*i\n",
    "                # return(k)\n",
    "                if squaree(k):\n",
    "                    k = 1\n",
    "                    break\n",
    "\n",
    "            \n",
    "\n",
    "        \n",
    "\n",
    "            if  k==1:\n",
    "                return(True)\n",
    "            else:\n",
    "                return(False)\n",
    "\n",
    "            \n",
    "                    \n",
    "                \n",
    "                    \n",
    "\n",
    "\n"
   ]
  },
  {
   "cell_type": "markdown",
   "metadata": {},
   "source": [
    "## 7. Reverse Integer"
   ]
  },
  {
   "cell_type": "code",
   "execution_count": null,
   "metadata": {},
   "outputs": [],
   "source": [
    "class Solution:\n",
    "    def reverse(self, x: int) -> int:\n",
    "        if x>= -2**31 or x<=2**31 - 1 -1:\n",
    "            if x == 0:\n",
    "                return 0\n",
    "\n",
    "            k_ = str(x)\n",
    "\n",
    "\n",
    "\n",
    "\n",
    "            k = str(x)\n",
    "            pj_=0\n",
    "            newstr_ =\"\"\n",
    "\n",
    "            if x<0:\n",
    "                x = x*(-1)\n",
    "                k_ = str(x)\n",
    "                \n",
    "                pj_ = int(k_[::-1])\n",
    "                newstr_ = newstr_+str(pj_)\n",
    "                # return int(\"-\"+newstr_)\n",
    "                fnlno = int(\"-\"+newstr_)\n",
    "                if fnlno>= -2**31 and fnlno<=2**31 - 1 -1:\n",
    "                    return fnlno\n",
    "                else:\n",
    "                   return 0\n",
    "\n",
    "            else:\n",
    "                \n",
    "\n",
    "                pj = int(k[::-1])\n",
    "\n",
    "                newstr = str(pj)\n",
    "                # return int(newstr)\n",
    "                fnlnoo = int(newstr)\n",
    "                if fnlnoo>= -2**31 and fnlnoo<=2**31 - 1 -1:\n",
    "                    return fnlnoo\n",
    "                else:\n",
    "                    return 0\n",
    "        else:\n",
    "            return 0"
   ]
  },
  {
   "cell_type": "markdown",
   "metadata": {},
   "source": [
    "## 5. Longest Palindromic Substring"
   ]
  },
  {
   "cell_type": "code",
   "execution_count": null,
   "metadata": {},
   "outputs": [],
   "source": [
    "class Solution:\n",
    "    def longestPalindrome(self, s: str) -> str:\n",
    "\n",
    "        if s[::-1]==s:\n",
    "            return ''.join(s)\n",
    "        s2 = []\n",
    "        s3 = []\n",
    "        for k in range(0,len(s)):\n",
    "            s2 = []\n",
    "            for j in range(k,len(s)):\n",
    "                s2.append(s[j])\n",
    "                if s2[::-1]==s2 and len(s2)>len(s3):\n",
    "                    s3 = s2.copy() \n",
    "        return ''.join(s3)           \n"
   ]
  },
  {
   "cell_type": "markdown",
   "metadata": {},
   "source": [
    "## 9. Palindrome Number"
   ]
  },
  {
   "cell_type": "code",
   "execution_count": null,
   "metadata": {},
   "outputs": [],
   "source": [
    "class Solution:\n",
    "    def isPalindrome(self, x: int) -> bool:\n",
    "        s = str(x)\n",
    "        \n",
    "        \n",
    "\n",
    "        if s[0] !=s[len(s)-1]:\n",
    "            return False\n",
    "\n",
    "        \n",
    "\n",
    "        if s[::-1]==s:\n",
    "            return True\n",
    "        else:\n",
    "            return False\n",
    "            \n",
    "            # print(''.join(s))  \n",
    "            \n",
    "\n"
   ]
  },
  {
   "cell_type": "markdown",
   "metadata": {},
   "source": []
  }
 ],
 "metadata": {
  "kernelspec": {
   "display_name": "Python 3",
   "language": "python",
   "name": "python3"
  },
  "language_info": {
   "name": "python",
   "version": "3.13.0"
  }
 },
 "nbformat": 4,
 "nbformat_minor": 2
}
