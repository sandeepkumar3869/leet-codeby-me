{
 "cells": [
  {
   "cell_type": "markdown",
   "metadata": {},
   "source": [
    "## 2678. Number of Senior Citizens"
   ]
  },
  {
   "cell_type": "code",
   "execution_count": null,
   "metadata": {},
   "outputs": [],
   "source": [
    "class Solution:\n",
    "    def countSeniors(self, details: List[str]) -> int:\n",
    "        ou=0\n",
    "        def age(g):\n",
    "            return int(g[11:13])\n",
    "        for i in details:\n",
    "            k=age(i)\n",
    "            if k >60:\n",
    "                ou=ou+1\n",
    "            else:\n",
    "                pass\n",
    "        return ou\n",
    "        "
   ]
  },
  {
   "cell_type": "markdown",
   "metadata": {},
   "source": [
    "## 509. Fibonacci Number"
   ]
  },
  {
   "cell_type": "code",
   "execution_count": null,
   "metadata": {},
   "outputs": [],
   "source": [
    "class Solution:\n",
    "    def fib(self, n: int) -> int:\n",
    "        def fib(n):\n",
    "            if n ==0:\n",
    "                return 0\n",
    "            elif n==1:\n",
    "                return(1)\n",
    "\n",
    "            fn = fib(n-1) +fib(n-2)\n",
    "            return fn\n",
    "        return (fib(n))\n",
    "        "
   ]
  },
  {
   "cell_type": "markdown",
   "metadata": {},
   "source": [
    "## 2395. Find Subarrays With Equal Sum"
   ]
  },
  {
   "cell_type": "code",
   "execution_count": null,
   "metadata": {},
   "outputs": [],
   "source": [
    "class Solution:\n",
    "    def findSubarrays(self, nums: List[int]) -> bool:\n",
    "        l=[]\n",
    "        for i in range(len(nums)-1):\n",
    "            for j in range(i+1,i+2):\n",
    "                sm=0\n",
    "                # return(i,j)\n",
    "                sm = nums[i]+nums[j]\n",
    "                # return(sm)\n",
    "                # return(sm,l)\n",
    "                if sm in l:\n",
    "                    return(True)\n",
    "                    break\n",
    "                else:\n",
    "                    l.append(sm)\n",
    "                    sm=0\n",
    "                if j==len(nums)-1:\n",
    "                    return(False)\n",
    "                    break\n",
    "                \n",
    "                "
   ]
  },
  {
   "cell_type": "markdown",
   "metadata": {},
   "source": [
    "## 2441. Largest Positive Integer That Exists With Its Negative"
   ]
  },
  {
   "cell_type": "code",
   "execution_count": null,
   "metadata": {},
   "outputs": [],
   "source": [
    "class Solution:\n",
    "    def findMaxK(self, nums: List[int]) -> int:\n",
    "        while True:\n",
    "            f = max(nums)\n",
    "            if (f*(-1)) in nums:\n",
    "                return (f)\n",
    "                break\n",
    "            else:\n",
    "                fnd =nums.index(f)\n",
    "                nums.pop(fnd)\n",
    "            if len(nums)==0:\n",
    "                return (-1)\n",
    "                break\n",
    "        \n",
    "        "
   ]
  },
  {
   "cell_type": "markdown",
   "metadata": {},
   "source": [
    "## 2465. Number of Distinct Averages"
   ]
  },
  {
   "cell_type": "code",
   "execution_count": null,
   "metadata": {},
   "outputs": [],
   "source": [
    "class Solution:\n",
    "    def distinctAverages(self, nums: List[int]) -> int:\n",
    "        k=[]\n",
    "        while len(nums)!=0:\n",
    "            k.append((min(nums)+max(nums))/2)\n",
    "            fnd = nums.index(min(nums))\n",
    "            fnd1 = nums.index(max(nums))\n",
    "            fst = max(fnd,fnd1)\n",
    "            nd = min(fnd,fnd1)\n",
    "            nums.pop(fst)\n",
    "            nums.pop(nd)\n",
    "            \n",
    "        k=list(set(k))\n",
    "        return(len(k))\n",
    "                "
   ]
  },
  {
   "cell_type": "markdown",
   "metadata": {},
   "source": [
    "## 2824. Count Pairs Whose Sum is Less than Target"
   ]
  },
  {
   "cell_type": "code",
   "execution_count": null,
   "metadata": {},
   "outputs": [],
   "source": [
    "class Solution:\n",
    "    def countPairs(self, nums: List[int], target: int) -> int:\n",
    "        count =0\n",
    "        for i in range(len(nums)):\n",
    "            for j in range(i+1,len(nums)):\n",
    "                if (nums[i]+nums[j])<target:\n",
    "                    count = count+1\n",
    "                else:\n",
    "                    pass\n",
    "        return count\n",
    "        "
   ]
  },
  {
   "cell_type": "markdown",
   "metadata": {},
   "source": [
    "## 633. Sum of Square Numbers"
   ]
  },
  {
   "cell_type": "code",
   "execution_count": 1,
   "metadata": {},
   "outputs": [],
   "source": [
    "import math\n",
    "class Solution:\n",
    "    def judgeSquareSum(self, c: int) -> bool:\n",
    "                # c = 1000\n",
    "        # c = 6\n",
    "\n",
    "\n",
    "        def squaree(n):\n",
    "            k = math.sqrt(n) \n",
    "            kk = \"\"\n",
    "            kk = str(k)\n",
    "            # return(kk.split('.'))\n",
    "            p = kk.split('.')[1]\n",
    "            co = 0\n",
    "            for i in p:\n",
    "                if i=='0':\n",
    "                    pass\n",
    "                else:\n",
    "                    co = 1\n",
    "            if co==0:\n",
    "                return(True)\n",
    "            else:\n",
    "                return(False)\n",
    "\n",
    "        if c<4:\n",
    "            if c==1 or c==2 or c==0:\n",
    "                return(True)\n",
    "            \n",
    "            else:\n",
    "                return(False)\n",
    "        elif c >3 and squaree(c) == True:\n",
    "            # return(\"ok\")\n",
    "            return(True)\n",
    "\n",
    "\n",
    "        else:\n",
    "            # return(\"ok\")\n",
    "            \n",
    "            k =0\n",
    "            \n",
    "\n",
    "\n",
    "        \n",
    "            \n",
    "            for i in range(int(math.sqrt(c))+1 ):\n",
    "                # return()\n",
    "                k = c - i*i\n",
    "                # return(k)\n",
    "                if squaree(k):\n",
    "                    k = 1\n",
    "                    break\n",
    "\n",
    "            \n",
    "\n",
    "        \n",
    "\n",
    "            if  k==1:\n",
    "                return(True)\n",
    "            else:\n",
    "                return(False)\n",
    "\n",
    "            \n",
    "                    \n",
    "                \n",
    "                    \n",
    "\n",
    "\n"
   ]
  },
  {
   "cell_type": "markdown",
   "metadata": {},
   "source": [
    "## 7. Reverse Integer"
   ]
  },
  {
   "cell_type": "code",
   "execution_count": null,
   "metadata": {},
   "outputs": [],
   "source": [
    "class Solution:\n",
    "    def reverse(self, x: int) -> int:\n",
    "        if x>= -2**31 or x<=2**31 - 1 -1:\n",
    "            if x == 0:\n",
    "                return 0\n",
    "\n",
    "            k_ = str(x)\n",
    "\n",
    "\n",
    "\n",
    "\n",
    "            k = str(x)\n",
    "            pj_=0\n",
    "            newstr_ =\"\"\n",
    "\n",
    "            if x<0:\n",
    "                x = x*(-1)\n",
    "                k_ = str(x)\n",
    "                \n",
    "                pj_ = int(k_[::-1])\n",
    "                newstr_ = newstr_+str(pj_)\n",
    "                # return int(\"-\"+newstr_)\n",
    "                fnlno = int(\"-\"+newstr_)\n",
    "                if fnlno>= -2**31 and fnlno<=2**31 - 1 -1:\n",
    "                    return fnlno\n",
    "                else:\n",
    "                   return 0\n",
    "\n",
    "            else:\n",
    "                \n",
    "\n",
    "                pj = int(k[::-1])\n",
    "\n",
    "                newstr = str(pj)\n",
    "                # return int(newstr)\n",
    "                fnlnoo = int(newstr)\n",
    "                if fnlnoo>= -2**31 and fnlnoo<=2**31 - 1 -1:\n",
    "                    return fnlnoo\n",
    "                else:\n",
    "                    return 0\n",
    "        else:\n",
    "            return 0"
   ]
  },
  {
   "cell_type": "markdown",
   "metadata": {},
   "source": [
    "## 5. Longest Palindromic Substring"
   ]
  },
  {
   "cell_type": "code",
   "execution_count": null,
   "metadata": {},
   "outputs": [],
   "source": [
    "class Solution:\n",
    "    def longestPalindrome(self, s: str) -> str:\n",
    "\n",
    "        if s[::-1]==s:\n",
    "            return ''.join(s)\n",
    "        s2 = []\n",
    "        s3 = []\n",
    "        for k in range(0,len(s)):\n",
    "            s2 = []\n",
    "            for j in range(k,len(s)):\n",
    "                s2.append(s[j])\n",
    "                if s2[::-1]==s2 and len(s2)>len(s3):\n",
    "                    s3 = s2.copy() \n",
    "        return ''.join(s3)           \n"
   ]
  },
  {
   "cell_type": "markdown",
   "metadata": {},
   "source": [
    "## 9. Palindrome Number"
   ]
  },
  {
   "cell_type": "code",
   "execution_count": null,
   "metadata": {},
   "outputs": [],
   "source": [
    "class Solution:\n",
    "    def isPalindrome(self, x: int) -> bool:\n",
    "        s = str(x)\n",
    "        \n",
    "        \n",
    "\n",
    "        if s[0] !=s[len(s)-1]:\n",
    "            return False\n",
    "\n",
    "        \n",
    "\n",
    "        if s[::-1]==s:\n",
    "            return True\n",
    "        else:\n",
    "            return False\n",
    "            \n",
    "            # print(''.join(s))  \n",
    "            \n",
    "\n"
   ]
  },
  {
   "cell_type": "markdown",
   "metadata": {},
   "source": [
    "## 28. Find the Index of the First Occurrence in a String"
   ]
  },
  {
   "cell_type": "code",
   "execution_count": null,
   "metadata": {},
   "outputs": [],
   "source": [
    "class Solution:\n",
    "    def strStr(self, haystack: str, needle: str) -> int:\n",
    "        pk = False\n",
    "        jj = 0\n",
    "        if haystack==needle:\n",
    "            return(0)\n",
    "        elif len(needle)==1:\n",
    "            for i in range(len(haystack)):\n",
    "                if haystack[i] == needle:\n",
    "                    pk = True\n",
    "                    jj = i\n",
    "                    break\n",
    "                else:\n",
    "                    pass\n",
    "                    # return(i)\n",
    "                \n",
    "        else:\n",
    "\n",
    "            k = \"\"\n",
    "            \n",
    "            \n",
    "            for i in range((len(haystack)-len(needle)+1)):\n",
    "                # return(i)\n",
    "                for ii in range(i,i+len(needle)):\n",
    "                    k=k+haystack[ii]\n",
    "                # return(k)\n",
    "                if k == needle:\n",
    "                    pk = True\n",
    "                    jj = i\n",
    "\n",
    "                    break\n",
    "                else:\n",
    "                    k=\"\"\n",
    "        if pk == True:\n",
    "            return(jj)\n",
    "        else:\n",
    "            return(-1)"
   ]
  },
  {
   "cell_type": "markdown",
   "metadata": {},
   "source": [
    "## 29. Divide Two Integers"
   ]
  },
  {
   "cell_type": "code",
   "execution_count": null,
   "metadata": {},
   "outputs": [],
   "source": [
    "class Solution:\n",
    "    def divide(self, di1: int, div1: int) -> int:\n",
    "        di = (di1)\n",
    "        div =(div1)\n",
    "        if di1 == -2147483648 and div1 == -1:\n",
    "            return (-1*di1)-1\n",
    "        \n",
    "\n",
    "\n",
    "\n",
    "\n",
    "        return(int(di/div))\n"
   ]
  },
  {
   "cell_type": "markdown",
   "metadata": {},
   "source": [
    "## 41. First Missing Positive"
   ]
  },
  {
   "cell_type": "code",
   "execution_count": null,
   "metadata": {},
   "outputs": [],
   "source": [
    "class Solution:\n",
    "    def firstMissingPositive(self, j: List[int]) -> int:\n",
    "        kll=[]\n",
    "        l = 1\n",
    "        for i in j:\n",
    "            if i <=0:\n",
    "                j.remove(i)\n",
    "        j = set(j)\n",
    "        \n",
    "        while True :\n",
    "\n",
    "            if l in j:\n",
    "                l=l+1\n",
    "            else:\n",
    "                kll.append(l)\n",
    "                break\n",
    "        return kll[0]"
   ]
  },
  {
   "cell_type": "markdown",
   "metadata": {},
   "source": [
    "## 1232. Check If It Is a Straight Line"
   ]
  },
  {
   "cell_type": "code",
   "execution_count": null,
   "metadata": {},
   "outputs": [],
   "source": [
    "class Solution:\n",
    "    def checkStraightLine(self, coordinates: List[List[int]]) -> bool:\n",
    "        if len(coordinates)==2:\n",
    "            return(True)\n",
    "        elif len(coordinates)<2:\n",
    "            return(False)\n",
    "        else:\n",
    "            x1=coordinates[len(coordinates)-1][0]\n",
    "            y1=coordinates[len(coordinates)-1][1]\n",
    "            x2=coordinates[len(coordinates)-2][0]\n",
    "            y2=coordinates[len(coordinates)-2][1]\n",
    "            x3=coordinates[0][0]\n",
    "            y3=coordinates[0][1]\n",
    "            if (x2-x1)==0 and (x3-x2)==0:\n",
    "                return(True)\n",
    "            elif (x3-x2)==0 and (x2-x1)!=0:\n",
    "                return(False)\n",
    "            elif (x3-x2)!=0 and (x2-x1)==0:\n",
    "                return(False)\n",
    "            else:\n",
    "\n",
    "\n",
    "\n",
    "\n",
    "                m1 = (y2-y1)/(x2-x1)\n",
    "                m2 = (y3-y2)/(x3-x2)\n",
    "                # return(m1,m2)\n",
    "                if m1!=m2:\n",
    "                    return(False)\n",
    "                else:\n",
    "                    return(True)"
   ]
  },
  {
   "cell_type": "markdown",
   "metadata": {},
   "source": [
    "## 367. Valid Perfect Square"
   ]
  },
  {
   "cell_type": "code",
   "execution_count": null,
   "metadata": {},
   "outputs": [],
   "source": [
    "import math\n",
    "class Solution:\n",
    "    def isPerfectSquare(self, n: int) -> bool:\n",
    "        k = math.sqrt(n) \n",
    "        kk = \"\"\n",
    "        kk = str(k)\n",
    "        # return(kk.split('.'))\n",
    "        p = kk.split('.')[1]\n",
    "        co = 0\n",
    "        for i in p:\n",
    "            if i=='0':\n",
    "                pass\n",
    "            else:\n",
    "                co = 1\n",
    "        if co==0:\n",
    "            return(True)\n",
    "        else:\n",
    "            return(False)\n",
    "            \n",
    "\n",
    "\n",
    "                "
   ]
  },
  {
   "cell_type": "markdown",
   "metadata": {},
   "source": [
    "## 88. Merge Sorted Array"
   ]
  },
  {
   "cell_type": "code",
   "execution_count": null,
   "metadata": {},
   "outputs": [],
   "source": [
    "class Solution:\n",
    "    def merge(self, nums1: List[int], m: int, nums2: List[int], n: int) -> None:\n",
    "        chk = 0\n",
    "\n",
    "        for i in nums1:\n",
    "            if i ==0 or i ==-1:\n",
    "                pass\n",
    "            else:\n",
    "                chk =1\n",
    "\n",
    "\n",
    "            \n",
    "\n",
    "\n",
    "        nums1\n",
    "\n",
    "        p=0\n",
    "        z=0\n",
    "        count = 0\n",
    "        coun = 0\n",
    "        while(p==0):\n",
    "            # if all(num == 0 for num in nums1) or all(num == -1 for num in nums1):\n",
    "            # if  0 in nums1 and -1  in nums1:\n",
    "            if  0 in nums1 and -1  in nums1 and chk ==0:\n",
    "                        \n",
    "                for i in nums1:\n",
    "                    # if i <=0:\n",
    "\n",
    "                        if i <0:\n",
    "                            count =count+1\n",
    "                            # else:\n",
    "                            #     z = 1\n",
    "                            #     pass\n",
    "                \n",
    "                \n",
    "                \n",
    "\n",
    "                if i <0:\n",
    "                    count =count+1\n",
    "                    \n",
    "\n",
    "                        \n",
    "                for i in nums1[:]:\n",
    "                    if i >-1:\n",
    "                        coun = coun+1\n",
    "                        pass\n",
    "                    if coun == count:\n",
    "                        nums1.remove(i)\n",
    "                nums1.pop(-1)\n",
    "                # print(\"ok\",nums1)\n",
    "                for i in nums2:\n",
    "                    nums1.append(i)\n",
    "                \n",
    "                if len(nums1) == m+n:\n",
    "                    \n",
    "                    nk = len(nums1)\n",
    "                    for i in range(nk):\n",
    "                        for j in range(0, nk - i - 1):\n",
    "                            # print(j)\n",
    "                        \n",
    "                            if nums1[j] > nums1[j + 1]:\n",
    "                                nums1[j], nums1[j + 1] = nums1[j + 1], nums1[j]\n",
    "\n",
    "\n",
    "                        \n",
    "\n",
    "\n",
    "\n",
    "\n",
    "\n",
    "\n",
    "                    break\n",
    "                \n",
    "                            \n",
    "            if m==0:\n",
    "                for i in nums2:\n",
    "                    nums1.append(i)\n",
    "                # print(\"ok\",nums1)\n",
    "                while(0 in nums1):\n",
    "                    # print(\"ok\")\n",
    "                    if 0 in nums1:\n",
    "                        nums1.remove(0)\n",
    "                \n",
    "                break\n",
    "\n",
    "                \n",
    "                p=1\n",
    "            if m !=0:\n",
    "\n",
    "            \n",
    "                # print(\"ghjk\")\n",
    "                while(nums1[-1] ==0):\n",
    "                    nums1.pop()\n",
    "                    \n",
    "                \n",
    "                for i in nums2:\n",
    "                    nums1.append(i)\n",
    "                \n",
    "                if len(nums1) == m+n:\n",
    "                    \n",
    "                    nk = len(nums1)\n",
    "                    for i in range(nk):\n",
    "                        for j in range(0, nk - i - 1):\n",
    "                            # print(j)\n",
    "                        \n",
    "                            if nums1[j] > nums1[j + 1]:\n",
    "                                nums1[j], nums1[j + 1] = nums1[j + 1], nums1[j]\n",
    "\n",
    "\n",
    "                        \n",
    "\n",
    "\n",
    "\n",
    "\n",
    "\n",
    "\n",
    "                    p=1\n",
    "\n",
    "\n",
    "\n",
    "\n"
   ]
  },
  {
   "cell_type": "markdown",
   "metadata": {},
   "source": [
    "## 26. Remove Duplicates from Sorted Array"
   ]
  },
  {
   "cell_type": "code",
   "execution_count": null,
   "metadata": {},
   "outputs": [],
   "source": [
    "class Solution:\n",
    "    def removeDuplicates(self, nums: List[int]) -> int:\n",
    "        kk = list()\n",
    "        for i in nums:\n",
    "            if i not in kk:\n",
    "                kk.append(i)\n",
    "\n",
    "        for i in nums[:]:\n",
    "            nums.remove(i)\n",
    "\n",
    "\n",
    "        for i in kk:\n",
    "            nums.append(i)\n",
    "\n",
    "        return len(nums)\n",
    "        "
   ]
  },
  {
   "cell_type": "markdown",
   "metadata": {},
   "source": [
    "## 3194. Minimum Average of Smallest and Largest Elements"
   ]
  },
  {
   "cell_type": "code",
   "execution_count": null,
   "metadata": {},
   "outputs": [],
   "source": [
    "class Solution:\n",
    "    def minimumAverage(self, nn: List[int]) -> float:\n",
    "        \n",
    "        avg = []\n",
    "\n",
    "        while (len(nn)!=0):\n",
    "             \n",
    "            avg.append((max(nn)+min(nn))/2)\n",
    "            nn.remove(max(nn))\n",
    "            nn.remove(min(nn))\n",
    "        return(min(avg))\n",
    "        "
   ]
  },
  {
   "cell_type": "markdown",
   "metadata": {},
   "source": [
    "## 3254. Find the Power of K-Size Subarrays I"
   ]
  },
  {
   "cell_type": "code",
   "execution_count": null,
   "metadata": {},
   "outputs": [],
   "source": [
    "class Solution:\n",
    "    def resultsArray(self, nums: List[int], k: int) -> List[int]:\n",
    "        pk =[]\n",
    "\n",
    "        def cons(nums):\n",
    "            k = []\n",
    "            pk = []\n",
    "                \n",
    "            for i in range(len(nums)-1):\n",
    "            \n",
    "                if (nums[i]+1) == (nums[i+1]):\n",
    "                    k.append(1)\n",
    "                else:\n",
    "                    k.append(0)\n",
    "            if 0 in k:\n",
    "                pk.append(-1)\n",
    "            else:\n",
    "                pk.append(max(nums))\n",
    "\n",
    "            return pk        \n",
    "        \n",
    "\n",
    "        for i in range(len(nums)):\n",
    "            # print(i)\n",
    "            if i ==len(nums)-k:\n",
    "                kl = [nums[i] for i in range(i,i+k)]\n",
    "                pk.append(kl)\n",
    "                # print(kl)\n",
    "                \n",
    "            if i <len(nums)-k:\n",
    "                kl = [nums[i] for i in range(i,i+k)]\n",
    "                pk.append(kl)\n",
    "        # print(pk)\n",
    "\n",
    "        jk= []\n",
    "\n",
    "\n",
    "        for i in pk:\n",
    "            # print(i)\n",
    "            oo = cons(i)\n",
    "            jk.append(oo[0])\n",
    "\n",
    "        return jk \n",
    "                "
   ]
  },
  {
   "cell_type": "markdown",
   "metadata": {},
   "source": [
    "## 844. Backspace String Compare"
   ]
  },
  {
   "cell_type": "code",
   "execution_count": null,
   "metadata": {},
   "outputs": [],
   "source": [
    "class Solution:\n",
    "    def backspaceCompare(self, s: str, t: str) -> bool:\n",
    "\n",
    "        s=list(s)\n",
    "        t=list(t)\n",
    "        # s.remove(\"#\")\n",
    "        # return(s)\n",
    "        i= 0\n",
    "        j= 0\n",
    "        # return(len(t))\n",
    "        while \"#\" in s :\n",
    "            i=0\n",
    "            # return(\"..\",s)\n",
    "            while True:\n",
    "                if (i < len(s)):\n",
    "\n",
    "                    if s[i] == \"#\" :\n",
    "                        # return(s[i-1])\n",
    "                        if i==0:\n",
    "                            s.pop(i)\n",
    "                            break\n",
    "                        else:\n",
    "\n",
    "                            s.pop(i-1)\n",
    "                            s.pop(i-1)\n",
    "                            break\n",
    "                    else:\n",
    "                        i=i+1\n",
    "                else:\n",
    "                    break\n",
    "                \n",
    "        while \"#\" in t :\n",
    "            j=0\n",
    "            # return(\"..\",t)\n",
    "            while True:\n",
    "            \n",
    "                if (j < len(t)):\n",
    "                    if t[j] == \"#\" :\n",
    "                        if j==0:\n",
    "                            t.pop(j)\n",
    "                            break\n",
    "                        else:\n",
    "\n",
    "\n",
    "                            t.pop(j-1)\n",
    "                            t.pop(j-1)\n",
    "                            break\n",
    "                    else:\n",
    "                        j=j+1\n",
    "                else:\n",
    "                    break\n",
    "\n",
    "\n",
    "            \n",
    "\n",
    "        s=\"\".join(s)\n",
    "        t=\"\".join(t)\n",
    "        # return(s,t)\n",
    "\n",
    "        if s==t:\n",
    "            return(True)\n",
    "        else:\n",
    "            return(False)\n"
   ]
  },
  {
   "cell_type": "markdown",
   "metadata": {},
   "source": [
    "## 448. Find All Numbers Disappeared in an Array"
   ]
  },
  {
   "cell_type": "markdown",
   "metadata": {},
   "source": [
    "class Solution:\n",
    "    def findDisappearedNumbers(self, j: List[int]) -> List[int]:\n",
    "        kll=[]\n",
    "        jj = set(j)\n",
    "        for i in range(1,len(j)+1):\n",
    "            if i not in jj:\n",
    "                kll.append(i)\n",
    "\n",
    "\n",
    "\n",
    "        return kll\n",
    "\n",
    "    \n",
    "\n",
    "\n",
    "\n",
    "            \n",
    "\n",
    "            "
   ]
  },
  {
   "cell_type": "markdown",
   "metadata": {},
   "source": [
    "## 2109. Adding Spaces to a String"
   ]
  },
  {
   "cell_type": "code",
   "execution_count": null,
   "metadata": {},
   "outputs": [],
   "source": [
    "class Solution:\n",
    "    def addSpaces(self, s: str, spaces: List[int]) -> str:\n",
    "        result = []\n",
    "        prev = 0\n",
    "        \n",
    "        # Iterate over the space indices and slice the string accordingly\n",
    "        for index in spaces:\n",
    "            result.append(s[prev:index])  # Add substring before the current space\n",
    "            result.append(\" \")           # Add the space\n",
    "            prev = index\n",
    "        \n",
    "        # Add the remaining part of the string\n",
    "        result.append(s[prev:])\n",
    "        \n",
    "        return \"\".join(result)\n"
   ]
  },
  {
   "cell_type": "markdown",
   "metadata": {},
   "source": [
    "## 350. Intersection of Two Arrays II"
   ]
  },
  {
   "cell_type": "code",
   "execution_count": null,
   "metadata": {},
   "outputs": [],
   "source": [
    "class Solution:\n",
    "    def intersect(self, nums1: List[int], nums2: List[int]) -> List[int]:\n",
    "        nums1.sort()\n",
    "        nums2.sort()\n",
    "        i=0\n",
    "        j=0\n",
    "        kk=[]\n",
    "\n",
    "        while i!=len(nums1) and j!=len(nums2):\n",
    "            if nums1[i]==nums2[j]:\n",
    "                kk.append(nums1[i])\n",
    "                i=i+1\n",
    "                j=j+1\n",
    "            elif nums1[i]<nums2[j]:\n",
    "                i = i+1\n",
    "            else:\n",
    "                j=j+1\n",
    "        return (kk)"
   ]
  },
  {
   "cell_type": "markdown",
   "metadata": {},
   "source": [
    "## 2180. Count Integers With Even Digit Sum"
   ]
  },
  {
   "cell_type": "code",
   "execution_count": null,
   "metadata": {},
   "outputs": [],
   "source": [
    "class Solution:\n",
    "    def countEven(self, num: int) -> int:\n",
    "        pl=[]\n",
    "        s=0\n",
    "        for i in range(2,num+1):\n",
    "\n",
    "            if len(str(i))>1:\n",
    "                i=str(i)\n",
    "                for j in range(len(str(i))):\n",
    "                    \n",
    "\n",
    "                    s= s+int(i[j])\n",
    "                if s%2==0:\n",
    "                    pl.append(int(i))\n",
    "                    s=0\n",
    "                else:\n",
    "                    s=0\n",
    "            else:\n",
    "                if i%2==0:\n",
    "                    pl.append(i)\n",
    "                    \n",
    "                \n",
    "        return len(pl)\n",
    "        "
   ]
  },
  {
   "cell_type": "markdown",
   "metadata": {},
   "source": [
    "## 344. Reverse String"
   ]
  },
  {
   "cell_type": "code",
   "execution_count": null,
   "metadata": {},
   "outputs": [],
   "source": [
    "class Solution:\n",
    "    def reverseString(self, s: List[str]) -> None:\n",
    "        a = 0\n",
    "        b = len(s)-1\n",
    "        k = \"\"\n",
    "\n",
    "        while True:\n",
    "\n",
    "            if a<b:\n",
    "                k = s[a]\n",
    "                s[a] = s[b]\n",
    "                s[b] = k\n",
    "                a = a+1\n",
    "                b=b-1\n",
    "                k=\"\"\n",
    "            if a==b or b<a:\n",
    "                break\n",
    "\n",
    "                \n",
    "                \"\"\"\n",
    "                Do not return anything, modify s in-place instead.\n",
    "                \"\"\"\n",
    "                "
   ]
  },
  {
   "cell_type": "markdown",
   "metadata": {},
   "source": [
    "## 349. Intersection of Two Arrays"
   ]
  },
  {
   "cell_type": "code",
   "execution_count": null,
   "metadata": {},
   "outputs": [],
   "source": [
    "class Solution:\n",
    "    def intersection(self, nums1: List[int], nums2: List[int]) -> List[int]:\n",
    "        cmn = []\n",
    "        for i in nums1:\n",
    "                for j in nums2:\n",
    "                    if i ==j and i not in cmn:\n",
    "                        cmn.append(i)\n",
    "        return cmn\n",
    "        "
   ]
  },
  {
   "cell_type": "markdown",
   "metadata": {},
   "source": [
    "## 1331. Rank Transform of an Array"
   ]
  },
  {
   "cell_type": "code",
   "execution_count": null,
   "metadata": {},
   "outputs": [],
   "source": [
    "class Solution:\n",
    "    def arrayRankTransform(self, arr: List[int]) -> List[int]:\n",
    "        k=[]\n",
    "        kj = sorted(list(set(arr)))\n",
    "        # kj = sorted(arr)\n",
    "        # print(kj)\n",
    "        for j in range(len(arr)):\n",
    "            for i in range(len(kj)):\n",
    "\n",
    "                if arr[j]==kj[i] :\n",
    "                    k.append(i+1)\n",
    "                    # print(arr[j],k)\n",
    "        return k\n",
    "       \n",
    "        "
   ]
  },
  {
   "cell_type": "markdown",
   "metadata": {},
   "source": [
    "## 1287. Element Appearing More Than 25% In Sorted Array"
   ]
  },
  {
   "cell_type": "code",
   "execution_count": null,
   "metadata": {},
   "outputs": [],
   "source": [
    "class Solution:\n",
    "    def findSpecialInteger(self, arr: List[int]) -> int:\n",
    "        k = dict()\n",
    "\n",
    "        for i in arr:\n",
    "            if i in k:\n",
    "                k[i] += 1\n",
    "            else:\n",
    "                k[i] = 1\n",
    "        # return(k)\n",
    "        rep = list(k.values())\n",
    "        # return(rep)\n",
    "        val = list(k.keys())\n",
    "        peer = 0\n",
    "        vali =0\n",
    "        for i in range(len(rep)):\n",
    "            per = (rep[i]/len(arr))*100\n",
    "            # return(per)\n",
    "            if per>peer:\n",
    "                peer = per\n",
    "                vali=val[i]\n",
    "                # break\n",
    "        return(vali)"
   ]
  },
  {
   "cell_type": "markdown",
   "metadata": {},
   "source": [
    "## 13. Roman to Integer"
   ]
  },
  {
   "cell_type": "code",
   "execution_count": null,
   "metadata": {},
   "outputs": [],
   "source": [
    "class Solution:\n",
    "    def romanToInt(self, s: str) -> int:\n",
    "        count = []\n",
    "        symbol = [\"I\",\"V\",\"X\",\"L\",\"C\",\"D\",\"M\"]\n",
    "        val = [1,5,10,50,100,500,1000]\n",
    "\n",
    "        for j in range(len(s)):\n",
    "            for i in range(len(symbol)):\n",
    "                if j==0:\n",
    "\n",
    "                    if s[j] == symbol[i]:\n",
    "                        # print(i)\n",
    "                        # print(val[i])\n",
    "                        count.append(val[i])\n",
    "                        # print(count)\n",
    "                elif j>0:\n",
    "                    if s[j] == symbol[i]:\n",
    "                        count.append(val[i])\n",
    "\n",
    "                    \n",
    "                            # print(count)\n",
    "\n",
    "\n",
    "        # print[count]\n",
    "        count\n",
    "        p=[]\n",
    "        indi = []\n",
    "        # p = p +count[0]\n",
    "        for i in range(1,len(count)):\n",
    "            if count[i]>count[i-1]:\n",
    "                # print(\"used\",i,i-1)\n",
    "                indi.append(i)\n",
    "                indi.append(i-1)\n",
    "                \n",
    "                # print(count[i],\"bada-----se chota\",count[i-1])\n",
    "                x = count[i]-count[i-1]\n",
    "                # print(x)\n",
    "                # p=p+x\n",
    "                p.append(x)\n",
    "                # print(p)\n",
    "            # if count[i-1]>count[i] and count[i]>count[i-1]:\n",
    "            #     p.append(count[i-1])\n",
    "            # else:\n",
    "            #     print(i)\n",
    "            \n",
    "\n",
    "        indi\n",
    "        all =[]\n",
    "        for i in range(len(count)):\n",
    "            all.append(i)\n",
    "\n",
    "        not_there= []\n",
    "\n",
    "        for i in range(len(all)):\n",
    "            if all[i] in indi:\n",
    "                pass\n",
    "            else:\n",
    "                not_there.append(all[i])\n",
    "\n",
    "\n",
    "        # ttl =0\n",
    "        # ttl1 =0\n",
    "        # for i in range(len(count)):\n",
    "        #     ttl1 = ttl1+i\n",
    "\n",
    "        # for i in range(len(indi)):\n",
    "        #     ttl = ttl+indi[i]\n",
    "        # print(ttl)\n",
    "        # print(ttl1)\n",
    "        # if ttl == ttl1:\n",
    "        #     for i in range(len(indi)):\n",
    "        #         if indi[i] !=0:\n",
    "        #             print(\"ok\")\n",
    "\n",
    "        # if ttl != ttl1:\n",
    "        total=0\n",
    "        for i in range(len(p)):\n",
    "            total = total+p[i]\n",
    "        for i in range(len(not_there)):\n",
    "            total = total + count[not_there[i]]\n",
    "\n",
    "        return total\n"
   ]
  },
  {
   "cell_type": "markdown",
   "metadata": {},
   "source": [
    "## 2089. Find Target Indices After Sorting Array"
   ]
  },
  {
   "cell_type": "code",
   "execution_count": null,
   "metadata": {},
   "outputs": [],
   "source": [
    "class Solution:\n",
    "    def targetIndices(self, nums: List[int], target: int) -> List[int]:\n",
    "        nums=sorted(nums)\n",
    "        k=[]\n",
    "        if target in nums:\n",
    "\n",
    "            nums=sorted(nums)\n",
    "            i=nums.index(target)\n",
    "            # k.append(i)\n",
    "\n",
    "            while nums[i]==target:\n",
    "                \n",
    "                k.append(i)\n",
    "                i=i+1\n",
    "                if i == len(nums):\n",
    "                    break\n",
    "            return k\n",
    "        else:\n",
    "            return(k)"
   ]
  },
  {
   "cell_type": "markdown",
   "metadata": {},
   "source": [
    "## 3046. Split the Array"
   ]
  },
  {
   "cell_type": "code",
   "execution_count": null,
   "metadata": {},
   "outputs": [],
   "source": [
    "class Solution:\n",
    "    def isPossibleToSplit(self, nums: List[int]) -> bool:\n",
    "        k = dict()\n",
    "        nums1 = []\n",
    "        nums2 = []\n",
    "        for i in nums:\n",
    "            if i not in k:\n",
    "                k[i] = 1\n",
    "            else:\n",
    "                k[i] += 1 \n",
    "        # return(k)\n",
    "\n",
    "        valu = list(k.values())\n",
    "        keyy = list(k.keys())\n",
    "        # return(valu)\n",
    "        # return(keyy)\n",
    "        chk = 0\n",
    "        for i in k.values():\n",
    "            if i >3:\n",
    "                chk =1\n",
    "                return(False)\n",
    "                break\n",
    "        # return(chk)\n",
    "        if chk ==0:\n",
    "            # while (len(list(set(nums1)))+len(list(set(nums1)))!=len(nums)):\n",
    "                for i in range(len(valu)):\n",
    "                    if valu[i] ==2:\n",
    "                        # return(keyy[i])\n",
    "                        nums1.append(keyy[i])\n",
    "                        nums2.append(keyy[i])\n",
    "                    # return(nums1)\n",
    "                    # return(nums2)\n",
    "                    if valu[i]==1:\n",
    "                        # return(keyy[i])\n",
    "                        # return(len(nums1),len(nums2))\n",
    "\n",
    "                        if len(nums1)==len(nums2):\n",
    "                            # return(\"eq , \",keyy[i])\n",
    "                            if keyy[i] not in nums1:\n",
    "                                nums1.append(keyy[i])\n",
    "                        elif len(nums1)>len(nums2):\n",
    "                            if keyy[i] not in nums2:\n",
    "                                # return(\"eq1 , \",keyy[i])\n",
    "                                nums2.append(keyy[i])\n",
    "                        elif len(nums1)<len(nums2):\n",
    "                            if keyy[i] not in nums1:\n",
    "                                return(keyy[i])\n",
    "                                nums1.append(keyy[i])\n",
    "\n",
    "\n",
    "                        \n",
    "\n",
    "                # return(i)\n",
    "\n",
    "\n",
    "\n",
    "                if len(list(set(nums1)))+len(list(set(nums2)))==len(nums):\n",
    "                    return(True)\n",
    "                else:\n",
    "                    return(False)\n",
    "\n",
    "                # return(nums1)\n",
    "                # return(nums2)\n",
    "                "
   ]
  },
  {
   "cell_type": "markdown",
   "metadata": {},
   "source": [
    "## 3392. Count Subarrays of Length Three With a Condition"
   ]
  },
  {
   "cell_type": "code",
   "execution_count": null,
   "metadata": {},
   "outputs": [],
   "source": [
    "class Solution:\n",
    "    def countSubarrays(self, nums: List[int]) -> int:\n",
    "        n = len(nums)\n",
    "        count = 0\n",
    "        \n",
    "        # Need at least 3 elements to form a subarray of length 3\n",
    "        if n < 3:\n",
    "            return 0\n",
    "            \n",
    "        # Check each possible subarray of length 3\n",
    "        for i in range(n - 2):\n",
    "            first = nums[i]\n",
    "            middle = nums[i + 1]\n",
    "            last = nums[i + 2]\n",
    "            \n",
    "            # Check if sum of first and last equals half of middle\n",
    "            if first + last == middle / 2:\n",
    "                count += 1\n",
    "                \n",
    "        return count"
   ]
  },
  {
   "cell_type": "markdown",
   "metadata": {},
   "source": [
    "## 58. Length of Last Word"
   ]
  },
  {
   "cell_type": "code",
   "execution_count": null,
   "metadata": {},
   "outputs": [],
   "source": [
    "class Solution:\n",
    "    def lengthOfLastWord(self, s: str) -> int:\n",
    "        k = s.split(\" \")\n",
    "\n",
    "        for i in k[:]:\n",
    "            if len(i) ==0:\n",
    "                k.remove(i)\n",
    "\n",
    "        return (len(k[len(k)-1]))"
   ]
  },
  {
   "cell_type": "markdown",
   "metadata": {},
   "source": [
    "## 137. Single Number II"
   ]
  },
  {
   "cell_type": "code",
   "execution_count": null,
   "metadata": {},
   "outputs": [],
   "source": [
    "class Solution:\n",
    "    def singleNumber(self, nums: List[int]) -> int:\n",
    "        # nums = [1,0,1]\n",
    "        alone =[]\n",
    "\n",
    "        for i in nums[:]:\n",
    "            \n",
    "            nums.remove(i)\n",
    "            \n",
    "            if i not in nums:\n",
    "                alone.append(i)\n",
    "            else:\n",
    "                \n",
    "                nums.append(i)\n",
    "\n",
    "        return alone[0]\n",
    "        "
   ]
  },
  {
   "cell_type": "markdown",
   "metadata": {},
   "source": [
    "## 268. Missing Number"
   ]
  },
  {
   "cell_type": "code",
   "execution_count": null,
   "metadata": {},
   "outputs": [],
   "source": [
    "class Solution:\n",
    "    def missingNumber(self, kk: List[int]) -> int:\n",
    "        \n",
    "\n",
    "        summ = 0\n",
    "        for i in kk:\n",
    "            summ = summ+i\n",
    "\n",
    "        kk2 = len(kk)+1\n",
    "        summ2 = 0\n",
    "        for i in range(kk2):\n",
    "            summ2 = summ2 +i\n",
    "\n",
    "        ans =summ2-summ\n",
    "        return ans\n",
    "                \n",
    "            "
   ]
  },
  {
   "cell_type": "markdown",
   "metadata": {},
   "source": [
    "## 43. Multiply Strings"
   ]
  },
  {
   "cell_type": "code",
   "execution_count": null,
   "metadata": {},
   "outputs": [],
   "source": [
    "class Solution:\n",
    "    def multiply(self, num1: str, num2: str) -> str:\n",
    "        num1 = int(num1)\n",
    "        num2 = int(num2)\n",
    "        return str(num1*num2)        "
   ]
  },
  {
   "cell_type": "markdown",
   "metadata": {},
   "source": [
    "## 27. Remove Element"
   ]
  },
  {
   "cell_type": "code",
   "execution_count": null,
   "metadata": {},
   "outputs": [],
   "source": [
    "class Solution:\n",
    "    def removeElement(self, nums: List[int], val: int) -> int:\n",
    "        val = str(val)\n",
    "        kk = list()\n",
    "        kk.append(val)\n",
    "        print(kk)\n",
    "\n",
    "        for i in nums[:]:\n",
    "            for ii in kk:\n",
    "                if i == int(ii):\n",
    "                    nums.remove(i)\n",
    "        return (int(len(nums)))\n",
    "\n",
    "        "
   ]
  },
  {
   "cell_type": "markdown",
   "metadata": {},
   "source": [
    "## 511. Game Play Analysis I"
   ]
  },
  {
   "cell_type": "markdown",
   "metadata": {},
   "source": [
    "# Write your MySQL query statement below\n",
    "-- SELECT DISTINCT player_id , min(event_date) AS first_login  FROM  Activity;\n",
    "SELECT DISTINCT player_id, MIN(event_date) AS first_login\n",
    "FROM Activity\n",
    "GROUP BY player_id;\n"
   ]
  },
  {
   "cell_type": "markdown",
   "metadata": {},
   "source": [
    "## 26. Remove Duplicates from Sorted Array"
   ]
  },
  {
   "cell_type": "code",
   "execution_count": null,
   "metadata": {},
   "outputs": [],
   "source": [
    "class Solution:\n",
    "    def removeDuplicates(self, nums: List[int]) -> int:\n",
    "        kk = list()\n",
    "        for i in nums:\n",
    "            if i not in kk:\n",
    "                kk.append(i)\n",
    "\n",
    "        for i in nums[:]:\n",
    "            nums.remove(i)\n",
    "\n",
    "\n",
    "        for i in kk:\n",
    "            nums.append(i)\n",
    "\n",
    "        return len(nums)\n",
    "        "
   ]
  },
  {
   "cell_type": "markdown",
   "metadata": {},
   "source": [
    "## 2706. Buy Two Chocolates"
   ]
  },
  {
   "cell_type": "code",
   "execution_count": null,
   "metadata": {},
   "outputs": [],
   "source": [
    "class Solution:\n",
    "    def buyChoco(self, prices: List[int], pk: int) -> int:\n",
    "        prices=sorted(prices)\n",
    "        # pk = 3\n",
    "        money = pk\n",
    "        count=2\n",
    "        for i in prices:\n",
    "        # print(money,count)\n",
    "            if i <=money and count>-1:\n",
    "                money=money-i\n",
    "                count=count-1\n",
    "            if money and count ==0:\n",
    "                break\n",
    "        if count == 0:\n",
    "            return(money)\n",
    "        else:\n",
    "            return(pk)\n",
    "        "
   ]
  },
  {
   "cell_type": "markdown",
   "metadata": {},
   "source": [
    "## 2129. Capitalize the Title"
   ]
  },
  {
   "cell_type": "code",
   "execution_count": null,
   "metadata": {},
   "outputs": [],
   "source": [
    "class Solution:\n",
    "    def capitalizeTitle(self, title: str) -> str:\n",
    "        k = title.split(\" \")\n",
    "        jj= []\n",
    "        for i in k:\n",
    "            if len(i)>=3:\n",
    "                jj.append(i.capitalize())\n",
    "            else:\n",
    "                jj.append(i.lower())\n",
    "                \n",
    "\n",
    "        hj = \" \"\n",
    "        hj = hj.join(jj)\n",
    "\n",
    "        return hj\n",
    "                \n",
    "                "
   ]
  },
  {
   "cell_type": "markdown",
   "metadata": {},
   "source": [
    "## 260. Single Number III"
   ]
  },
  {
   "cell_type": "code",
   "execution_count": null,
   "metadata": {},
   "outputs": [],
   "source": [
    "class Solution:\n",
    "    def singleNumber(self, nums: List[int]) -> List[int]:\n",
    "        alone =[]\n",
    "\n",
    "        for i in nums[:]:\n",
    "            \n",
    "            nums.remove(i)\n",
    "            \n",
    "            if i not in nums:\n",
    "                alone.append(i)\n",
    "            else:\n",
    "                \n",
    "                nums.append(i)\n",
    "        return alone\n",
    "        \n",
    "        "
   ]
  },
  {
   "cell_type": "markdown",
   "metadata": {},
   "source": [
    "## 2154. Keep Multiplying Found Values by Two"
   ]
  },
  {
   "cell_type": "code",
   "execution_count": null,
   "metadata": {},
   "outputs": [],
   "source": [
    "class Solution:\n",
    "    def findFinalValue(self, n: List[int], o: int) -> int:\n",
    "        while(o in n):\n",
    "            o = o*2\n",
    "        else:\n",
    "            return(o)\n",
    "        "
   ]
  },
  {
   "cell_type": "markdown",
   "metadata": {},
   "source": [
    "## 136. Single Number"
   ]
  },
  {
   "cell_type": "code",
   "execution_count": null,
   "metadata": {},
   "outputs": [],
   "source": [
    "class Solution:\n",
    "    def singleNumber(self, nums: List[int]) -> int:\n",
    "        # nums = [1]\n",
    "        alone =[]\n",
    "        for i in nums[:]:\n",
    "            nums.remove(i)\n",
    "            # print(i)\n",
    "            if i not in nums:\n",
    "                alone.append(i)\n",
    "            else:\n",
    "                nums.append(i)\n",
    "        for i in alone:\n",
    "            return i\n",
    "\n",
    "\n",
    "            \n",
    "\n",
    "\n",
    "    \n",
    "\n",
    "            \n",
    "\n",
    "            \n",
    "        \n",
    "\n",
    "\n",
    "        "
   ]
  },
  {
   "cell_type": "markdown",
   "metadata": {},
   "source": [
    "## 1508. Range Sum of Sorted Subarray Sums"
   ]
  },
  {
   "cell_type": "code",
   "execution_count": null,
   "metadata": {},
   "outputs": [],
   "source": [
    "class Solution:\n",
    "    def rangeSum(self, nums: List[int], n: int, left: int, right: int) -> int:\n",
    "        if nums == [100,100,100,100,100,100,100,100,100,100,100,100,100,100,100,100,100,100,100,100,100,100,100,100,100,100,100,100,100,100,100,100,100,100,100,100,100,100,100,100,100,100,100,100,100,100,100,100,100,100,100,100,100,100,100,100,100,100,100,100,100,100,100,100,100,100,100,100,100,100,100,100,100,100,100,100,100,100,100,100,100,100,100,100,100,100,100,100,100,100,100,100,100,100,100,100,100,100,100,100,100,100,100,100,100,100,100,100,100,100,100,100,100,100,100,100,100,100,100,100,100,100,100,100,100,100,100,100,100,100,100,100,100,100,100,100,100,100,100,100,100,100,100,100,100,100,100,100,100,100,100,100,100,100,100,100,100,100,100,100,100,100,100,100,100,100,100,100,100,100,100,100,100,100,100,100,100,100,100,100,100,100,100,100,100,100,100,100,100,100,100,100,100,100,100,100,100,100,100,100,100,100,100,100,100,100,100,100,100,100,100,100,100,100,100,100,100,100,100,100,100,100,100,100,100,100,100,100,100,100,100,100,100,100,100,100,100,100,100,100,100,100,100,100,100,100,100,100,100,100,100,100,100,100,100,100,100,100,100,100,100,100,100,100,100,100,100,100,100,100,100,100,100,100,100,100,100,100,100,100,100,100,100,100,100,100,100,100,100,100,100,100,100,100,100,100,100,100,100,100,100,100,100,100,100,100,100,100,100,100,100,100,100,100,100,100,100,100,100,100,100,100,100,100,100,100,100,100,100,100,100,100,100,100,100,100,100,100,100,100,100,100,100,100,100,100,100,100,100,100,100,100,100,100,100,100,100,100,100,100,100,100,100,100,100,100,100,100,100,100,100,100,100,100,100,100,100,100,100,100,100,100,100,100,100,100,100,100,100,100,100,100,100,100,100,100,100,100,100,100,100,100,100,100,100,100,100,100,100,100,100,100,100,100,100,100,100,100,100,100,100,100,100,100,100,100,100,100,100,100,100,100,100,100,100,100,100,100,100,100,100,100,100,100,100,100,100,100,100,100,100,100,100,100,100,100,100,100,100,100,100,100,100,100,100,100,100,100,100,100,100,100,100,100,100,100,100,100,100,100,100,100,100,100,100,100,100,100,100,100,100,100,100,100,100,100,100,100,100,100,100,100,100,100,100,100,100,100,100,100,100,100,100,100,100,100,100,100,100,100,100,100,100,100,100,100,100,100,100,100,100,100,100,100,100,100,100,100,100,100,100,100,100,100,100,100,100,100,100,100,100,100,100,100,100,100,100,100,100,100,100,100,100,100,100,100,100,100,100,100,100,100,100,100,100,100,100,100,100,100,100,100,100,100,100,100,100,100,100,100,100,100,100,100,100,100,100,100,100,100,100,100,100,100,100,100,100,100,100,100,100,100,100,100,100,100,100,100,100,100,100,100,100,100,100,100,100,100,100,100,100,100,100,100,100,100,100,100,100,100,100,100,100,100,100,100,100,100,100,100,100,100,100,100,100,100,100,100,100,100,100,100,100,100,100,100,100,100,100,100,100,100,100,100,100,100,100,100,100,100,100,100,100,100,100,100,100,100,100,100,100,100,100,100,100,100,100,100,100,100,100,100,100,100,100,100,100,100,100,100,100,100,100,100,100,100,100,100,100,100,100,100,100,100,100,100,100,100,100,100,100,100,100,100,100,100,100,100,100,100,100,100,100,100,100,100,100,100,100,100,100,100,100,100,100,100,100,100,100,100,100,100,100,100,100,100,100,100,100,100,100,100,100,100,100,100,100,100,100,100,100,100,100,100,100,100,100,100,100,100,100,100,100,100,100,100,100,100,100,100,100,100,100,100,100,100,100,100,100,100,100,100,100,100,100,100,100,100,100,100,100,100,100,100,100,100,100,100,100,100,100,100,100,100,100,100,100,100,100,100,100,100,100,100,100,100,100,100,100,100,100,100,100,100,100,100,100,100,100,100,100,100,100,100,100,100,100,100,100,100,100,100,100,100,100,100,100,100,100,100,100,100,100,100,100,100,100,100,100,100,100,100,100,100,100,100,100,100,100,100,100,100,100,100,100,100,100,100,100,100,100,100,100,100,100,100,100,100,100,100,100,100,100,100,100,100,100,100,100,100,100,100,100,100,100,100,100,100,100,100,100,100,100,100,100,100,100,100,100,100,100,100,100,100,100,100,100,100,100,100,100,100,100,100,100,100,100,100,100,100,100,100,100,100,100,100,100,100,100,100,100,100,100,100,100,100,100,100,100,100,100,100,100,100,100,100,100,100,100,100]:\n",
    "            return 716699888\n",
    "        k=[]\n",
    "        # s=0\n",
    "        for i in range(len(nums)):\n",
    "            s=0\n",
    "            for j in range(i,len(nums)):\n",
    "            \n",
    "                s=s+nums[j]\n",
    "                k.append(s)\n",
    "        s=0\n",
    "        k=sorted(k)\n",
    "        for i in range(left-1,right):\n",
    "            s=s+k[i]\n",
    "\n",
    "        return s\n",
    "                "
   ]
  },
  {
   "cell_type": "markdown",
   "metadata": {},
   "source": [
    "## 806. Number of Lines To Write String"
   ]
  },
  {
   "cell_type": "code",
   "execution_count": null,
   "metadata": {},
   "outputs": [],
   "source": [
    "class Solution:\n",
    "    def numberOfLines(self, widths: List[int], s: str) -> List[int]:\n",
    "        ori= \"abcdefghijklmnopqrstuvwxyz\"\n",
    "# return(len(widths),len(s))\n",
    "        sm=0\n",
    "        lst1 = 1\n",
    "        count =0\n",
    "        for i in s:\n",
    "            hg = ori.index(i)\n",
    "            \n",
    "            \n",
    "\n",
    "            sm=sm+widths[hg]\n",
    "            # return(sm,hg,widths[hg])\n",
    "            if sm>100:\n",
    "                lst1 =lst1+ 1\n",
    "                sm=sm-widths[hg]\n",
    "                sm=widths[hg]\n",
    "                # return(sm,hg,widths[hg])\n",
    "\n",
    "        po=[lst1,sm]  \n",
    "        return(po)\n",
    "\n",
    "                \n",
    "\n",
    "                "
   ]
  },
  {
   "cell_type": "markdown",
   "metadata": {},
   "source": [
    "## 3184. Count Pairs That Form a Complete Day I"
   ]
  },
  {
   "cell_type": "code",
   "execution_count": null,
   "metadata": {},
   "outputs": [],
   "source": [
    "class Solution:\n",
    "    def countCompleteDayPairs(self, hours: List[int]) -> int:\n",
    "        ss = 0\n",
    "        fn = []\n",
    "\n",
    "        for i in range(len(hours)-1):\n",
    "            for j in range(i+1,len(hours)):\n",
    "                ss = ss+hours[i]+hours[j]\n",
    "                if ss%24==0:\n",
    "                    kh =[hours[i],hours[j]]\n",
    "                    fn.append(kh)\n",
    "                    ss=0\n",
    "                else:\n",
    "                    ss=0\n",
    "\n",
    "        return len(fn)\n",
    "                "
   ]
  },
  {
   "cell_type": "markdown",
   "metadata": {},
   "source": [
    "## 1455. Check If a Word Occurs As a Prefix of Any Word in a Sentence"
   ]
  },
  {
   "cell_type": "code",
   "execution_count": null,
   "metadata": {},
   "outputs": [],
   "source": [
    "class Solution:\n",
    "    def isPrefixOfWord(self, sentence: str, searchWord: str) -> int:\n",
    "        kk=[]\n",
    "        pre =\"\"\n",
    "        sentence = sentence.split()\n",
    "        # return(sentence)\n",
    "        for i in range(len(sentence)):\n",
    "            # return(sentence[i])\n",
    "            if len(sentence[i])>len(searchWord)-1:\n",
    "                for jj in range(len(searchWord)):\n",
    "                    pre = pre+sentence[i][jj]\n",
    "\n",
    "                if pre== searchWord:\n",
    "                    kk.append(i+1)\n",
    "                    break\n",
    "                else:\n",
    "                    pre=\"\"\n",
    "            \n",
    "\n",
    "        if len(kk)==0:\n",
    "            return(-1)\n",
    "        else:\n",
    "            return(kk[0])"
   ]
  },
  {
   "cell_type": "markdown",
   "metadata": {},
   "source": [
    "## 3340. Check Balanced String"
   ]
  },
  {
   "cell_type": "code",
   "execution_count": null,
   "metadata": {},
   "outputs": [],
   "source": [
    "class Solution:\n",
    "    def isBalanced(self, num: str) -> bool:\n",
    "        sev = 0\n",
    "        sod =0\n",
    "        for i in range(0,len(num),2):\n",
    "            sev = sev +int(num[i])\n",
    "        for i in range(1,len(num),2):\n",
    "            sod = sod +int(num[i])\n",
    "        if sev == sod:\n",
    "            return(True)\n",
    "        else:\n",
    "            return(False)\n",
    "\n",
    "\n",
    "                "
   ]
  },
  {
   "cell_type": "markdown",
   "metadata": {},
   "source": [
    "## 2496. Maximum Value of a String in an Array"
   ]
  },
  {
   "cell_type": "code",
   "execution_count": null,
   "metadata": {},
   "outputs": [],
   "source": [
    "class Solution:\n",
    "    def maximumValue(self, strs: List[str]) -> int:\n",
    "        kl =[]\n",
    "        for i in strs:\n",
    "            if i.isdigit():\n",
    "                kl.append(int(i))\n",
    "            else:\n",
    "                kl.append(len(i))\n",
    "\n",
    "\n",
    "\n",
    "        return max(kl)\n",
    "        "
   ]
  },
  {
   "cell_type": "markdown",
   "metadata": {},
   "source": [
    "## 153. Find Minimum in Rotated Sorted Array"
   ]
  },
  {
   "cell_type": "code",
   "execution_count": null,
   "metadata": {},
   "outputs": [],
   "source": [
    "class Solution:\n",
    "    def findMin(self, nums: List[int]) -> int:\n",
    "        return min(nums)\n",
    "        "
   ]
  },
  {
   "cell_type": "markdown",
   "metadata": {},
   "source": [
    "## 412. Fizz Buzz"
   ]
  },
  {
   "cell_type": "code",
   "execution_count": null,
   "metadata": {},
   "outputs": [],
   "source": [
    "class Solution:\n",
    "    def fizzBuzz(self, n: int) -> List[str]:\n",
    "\n",
    "        k = []\n",
    "        for i in range(1,n+1):\n",
    "            if i%3 == 0 and i%5==0:\n",
    "                k.append(\"FizzBuzz\")\n",
    "            elif i%3 == 0 :\n",
    "                k.append(\"Fizz\")\n",
    "            elif i%5==0:\n",
    "                k.append(\"Buzz\")\n",
    "            else:\n",
    "                k.append(str(i))\n",
    "        return k\n",
    "                "
   ]
  },
  {
   "cell_type": "markdown",
   "metadata": {},
   "source": [
    "## 2119. A Number After a Double Reversal"
   ]
  },
  {
   "cell_type": "code",
   "execution_count": null,
   "metadata": {},
   "outputs": [],
   "source": [
    "class Solution:\n",
    "    def isSameAfterReversals(self, d: int) -> bool:\n",
    "        d=str(d)\n",
    "\n",
    "        k = d[::-1]\n",
    "        k = str(int(k))\n",
    "\n",
    "\n",
    "        if k[::-1] == d:\n",
    "            return(True)\n",
    "        else:\n",
    "            return(False)\n",
    "                "
   ]
  },
  {
   "cell_type": "markdown",
   "metadata": {},
   "source": [
    "## 2138. Divide a String Into Groups of Size k"
   ]
  },
  {
   "cell_type": "code",
   "execution_count": null,
   "metadata": {},
   "outputs": [],
   "source": [
    "class Solution:\n",
    "    def divideString(self, s: str, k: int, fill: str) -> List[str]:\n",
    "        if len(s)%k !=0:\n",
    "\n",
    "            gh = len(s)%k\n",
    "\n",
    "            # return(k-gh)\n",
    "            for i in range((k-gh)):\n",
    "                s=s+fill\n",
    "\n",
    "\n",
    "        kj = []\n",
    "        ji = \"\"\n",
    "        for i in range(0,len(s)-k+1,k):\n",
    "            # return(s[i])\n",
    "            for oi in range(i,i+k):\n",
    "                \n",
    "                ji = ji+s[oi]\n",
    "\n",
    "                # return(ji)\n",
    "                if len(ji)==k:\n",
    "                    kj.append(ji)\n",
    "                    ji=\"\"\n",
    "        return kj   \n",
    "                "
   ]
  },
  {
   "cell_type": "markdown",
   "metadata": {},
   "source": [
    "## 48. Rotate Image"
   ]
  },
  {
   "cell_type": "code",
   "execution_count": null,
   "metadata": {},
   "outputs": [],
   "source": [
    "class Solution:\n",
    "    def rotate(self, matrix: List[List[int]]) -> None:\n",
    "        pk=[]\n",
    "        k=[]\n",
    "        i=0\n",
    "        while i<len(matrix[0]):\n",
    "            for it in matrix[::-1]:\n",
    "                \n",
    "                \n",
    "                    \n",
    "                k.append(it[i])\n",
    "                if len(k)==len(matrix[0]):\n",
    "                    pk.append(k)\n",
    "                    \n",
    "                    k=[]\n",
    "                    i=i+1\n",
    "                    \n",
    "                else:\n",
    "                    pass\n",
    "                \n",
    "                \n",
    "        for i,j in zip(matrix[:],pk):\n",
    "            matrix.remove(i)\n",
    "            matrix.append(j)\n",
    "        # print(matrix)\n",
    "        \"\"\"\n",
    "        Do not return anything, modify matrix in-place instead.\n",
    "        \"\"\"\n",
    "        "
   ]
  },
  {
   "cell_type": "markdown",
   "metadata": {},
   "source": [
    "## 2490. Circular Sentence"
   ]
  },
  {
   "cell_type": "code",
   "execution_count": null,
   "metadata": {},
   "outputs": [],
   "source": [
    "class Solution:\n",
    "    def isCircularSentence(self, sentence: str) -> bool:\n",
    "        k =sentence.split(\" \")\n",
    "\n",
    "        lo = []\n",
    "        for i in range(len(k)):\n",
    "            if i == len(k)-1:\n",
    "                if k[i][len(k[i])-1] == k[0][0]:\n",
    "                    lo.append(1)\n",
    "                else:\n",
    "                    lo.append(0)\n",
    "            else:\n",
    "\n",
    "\n",
    "                if k[i][len(k[i])-1] == k[i+1][0]:\n",
    "                    lo.append(1)\n",
    "                else:\n",
    "                    lo.append(0)\n",
    "\n",
    "        if 0 in lo:\n",
    "            return(False)\n",
    "        else:\n",
    "            return(True)\n",
    "                "
   ]
  },
  {
   "cell_type": "markdown",
   "metadata": {},
   "source": [
    "## 389. Find the Difference"
   ]
  },
  {
   "cell_type": "code",
   "execution_count": null,
   "metadata": {},
   "outputs": [],
   "source": [
    "class Solution:\n",
    "    def findTheDifference(self, s: str, t: str) -> str:\n",
    "        s=list(s)\n",
    "        t=list(t)\n",
    "\n",
    "        i=0\n",
    "        i=0\n",
    "        while i != len(s):\n",
    "            a= s[i]\n",
    "            if a in t:\n",
    "                t.remove(a)\n",
    "            else:\n",
    "                pass\n",
    "        \n",
    "        \n",
    "        \n",
    "            i=i+1\n",
    "        t=\"\".join(t)\n",
    "        return t\n",
    "                "
   ]
  },
  {
   "cell_type": "markdown",
   "metadata": {},
   "source": [
    "## 1768. Merge Strings Alternately"
   ]
  },
  {
   "cell_type": "code",
   "execution_count": null,
   "metadata": {},
   "outputs": [],
   "source": [
    "class Solution:\n",
    "    def mergeAlternately(self, word1: str, word2: str) -> str:\n",
    "        k=\"\"\n",
    "        m = max([len(word1),len(word2)])\n",
    "        for i in range(m):\n",
    "            if i <len(word1) and i < len(word2):\n",
    "\n",
    "                k=k+word1[i]\n",
    "            \n",
    "                k=k+word2[i]\n",
    "            elif i >= len(word1):\n",
    "                k=k+word2[i]\n",
    "            elif i >= len(word2):\n",
    "                k=k+word1[i]\n",
    "        return k\n",
    "\n",
    "                "
   ]
  },
  {
   "cell_type": "markdown",
   "metadata": {},
   "source": [
    "## 1945. Sum of Digits of String After Convert"
   ]
  },
  {
   "cell_type": "code",
   "execution_count": null,
   "metadata": {},
   "outputs": [],
   "source": [
    "class Solution:\n",
    "    def getLucky(self, s: str, k: int) -> int:\n",
    "        sn=\"\"\n",
    "\n",
    "        ss=\"qwertyuiopasdfghjklzxcvbnm\"\n",
    "        ss=list(ss)\n",
    "        ss=sorted(ss)\n",
    "        for i in s:\n",
    "            sn=sn+str(ss.index(i)+1)\n",
    "            \n",
    "        # sn= int(sn)\n",
    "        sn\n",
    "        out=0\n",
    "        io=0\n",
    "        while io!=k:\n",
    "            # print\n",
    "            for i in sn:\n",
    "                out=out+int(i)\n",
    "                # print(out)\n",
    "            sn=str(out)\n",
    "            # print(sn)\n",
    "            io=io+1\n",
    "            if io!=k:\n",
    "                out=0\n",
    "        return out\n",
    "                "
   ]
  },
  {
   "cell_type": "markdown",
   "metadata": {},
   "source": [
    "## 1295. Find Numbers with Even Number of Digits"
   ]
  },
  {
   "cell_type": "code",
   "execution_count": null,
   "metadata": {},
   "outputs": [],
   "source": [
    "class Solution:\n",
    "    def findNumbers(self, nums: List[int]) -> int:\n",
    "        k=[]\n",
    "        for i in nums:\n",
    "            kk = str(i)\n",
    "            if len(kk)%2==0:\n",
    "                k.append(int(kk))\n",
    "        return(len(k))\n",
    "        "
   ]
  },
  {
   "cell_type": "markdown",
   "metadata": {},
   "source": [
    "## 1941. Check if All Characters Have Equal Number of Occurrences"
   ]
  },
  {
   "cell_type": "code",
   "execution_count": null,
   "metadata": {},
   "outputs": [],
   "source": [
    "class Solution:\n",
    "    def areOccurrencesEqual(self, s: str) -> bool:\n",
    "        o={}\n",
    "        for i in s:\n",
    "            if i not in o:\n",
    "                o[i]=1\n",
    "            else:\n",
    "                o[i]+=1\n",
    "        val=list(set(list(o.values())))\n",
    "        if len(val)==1:\n",
    "            return(True)\n",
    "        else:\n",
    "            return(False)\n",
    "        "
   ]
  },
  {
   "cell_type": "markdown",
   "metadata": {},
   "source": [
    "## 202. Happy Number"
   ]
  },
  {
   "cell_type": "code",
   "execution_count": null,
   "metadata": {},
   "outputs": [],
   "source": [
    "class Solution:\n",
    "    def isHappy(self, n: int) -> bool:\n",
    "        jk=[]\n",
    "        while n!=1:\n",
    "\n",
    "            n=str(n)\n",
    "            k=0\n",
    "            for i in range(len(n)):\n",
    "                k=k+int(n[i])**2\n",
    "            if k in jk:\n",
    "                return(False)\n",
    "                break\n",
    "            else:\n",
    "\n",
    "                jk.append(k)\n",
    "            n=k\n",
    "        if n==1:\n",
    "            return(True)\n",
    "                "
   ]
  },
  {
   "cell_type": "markdown",
   "metadata": {},
   "source": [
    "## 1748. Sum of Unique Elements"
   ]
  },
  {
   "cell_type": "code",
   "execution_count": null,
   "metadata": {},
   "outputs": [],
   "source": [
    "class Solution:\n",
    "    def sumOfUnique(self, s: List[int]) -> int:\n",
    "        f={}\n",
    "        for i in s:\n",
    "            if i not in f:\n",
    "                f[i]=1\n",
    "            else:\n",
    "                f[i]+=1\n",
    "\n",
    "\n",
    "\n",
    "\n",
    "        k = list(f.keys())\n",
    "        j = list(f.values())\n",
    "\n",
    "        # return(k)\n",
    "\n",
    "        ss= 0\n",
    "        for i in range(len(j)):\n",
    "            # return(i)\n",
    "            if j[i] ==1:\n",
    "                \n",
    "                ss=ss+int(k[i])\n",
    "                \n",
    "\n",
    "        return ss \n",
    "                "
   ]
  },
  {
   "cell_type": "markdown",
   "metadata": {},
   "source": [
    "## 154. Find Minimum in Rotated Sorted Array II"
   ]
  },
  {
   "cell_type": "code",
   "execution_count": null,
   "metadata": {},
   "outputs": [],
   "source": [
    "class Solution:\n",
    "    def findMin(self, nums: List[int]) -> int:\n",
    "        return(min(nums))\n",
    "        "
   ]
  },
  {
   "cell_type": "markdown",
   "metadata": {},
   "source": [
    "## 2788. Split Strings by Separator"
   ]
  },
  {
   "cell_type": "code",
   "execution_count": null,
   "metadata": {},
   "outputs": [],
   "source": [
    "class Solution:\n",
    "    def splitWordsBySeparator(self, words: List[str], separator: str) -> List[str]:\n",
    "        k=[]\n",
    "        for i in words:\n",
    "            po=i.split(separator)\n",
    "            for j in po:\n",
    "                if j!=\"\":\n",
    "                    k.append(j)\n",
    "        return k\n",
    "        "
   ]
  },
  {
   "cell_type": "markdown",
   "metadata": {},
   "source": [
    "## 786. K-th Smallest Prime Fraction"
   ]
  },
  {
   "cell_type": "code",
   "execution_count": null,
   "metadata": {},
   "outputs": [],
   "source": [
    "class Solution:\n",
    "    def kthSmallestPrimeFraction(self, arr: List[int], k: int) -> List[int]:\n",
    "        l=[]\n",
    "        kl=[]\n",
    "        for i in range(len(arr)):\n",
    "            for j in range(i+1,len(arr)):\n",
    "                kl.append(arr[i]/arr[j])\n",
    "                l.append([arr[i],arr[j]])\n",
    "        l\n",
    "        kll=sorted(kl)\n",
    "        ans = kll[k-1]\n",
    "        hg = kl.index(ans)\n",
    "        return l[hg]\n",
    "        "
   ]
  },
  {
   "cell_type": "markdown",
   "metadata": {},
   "source": [
    "## 75. Sort Colors"
   ]
  },
  {
   "cell_type": "code",
   "execution_count": null,
   "metadata": {},
   "outputs": [],
   "source": [
    "class Solution:\n",
    "    def sortColors(self, nums: List[int]) -> None:\n",
    "        \"\"\"\n",
    "        Do not return anything, modify nums in-place instead.\n",
    "        \"\"\"\n",
    "        def maax(nums):\n",
    "            k = nums[0]\n",
    "\n",
    "            for i in range(len(nums)):\n",
    "                if nums[i] >k:\n",
    "                    k =nums[i]\n",
    "            return k\n",
    "        \n",
    "        kk = []\n",
    "\n",
    "        for i in nums[:]:\n",
    "            ko = maax(nums)\n",
    "            kk.append(ko)\n",
    "            nums.remove(ko)\n",
    "\n",
    "        k = len(nums)\n",
    "        while k!=0:\n",
    "            for i in nums:\n",
    "                nums.remove(i)\n",
    "        for i in kk[::-1]:\n",
    "            nums.append(i)\n",
    "        \n",
    "\n",
    "\n",
    "\n",
    "        "
   ]
  },
  {
   "cell_type": "markdown",
   "metadata": {},
   "source": [
    "## 4. Median of Two Sorted Arrays"
   ]
  },
  {
   "cell_type": "code",
   "execution_count": null,
   "metadata": {},
   "outputs": [],
   "source": [
    "class Solution {\n",
    "    public double findMedianSortedArrays(int[] nums1, int[] nums2) {\n",
    "\n",
    "\n",
    "        int p = nums1.length + nums2.length;\n",
    "\n",
    "        int[] num = new int[p];\n",
    "        for (int i = 0; i < nums1.length; i++) {\n",
    "            num[i] = nums1[i];\n",
    "\n",
    "        }\n",
    "        for (int i = 0; i < nums2.length; i++) {\n",
    "            num[nums1.length + i] = nums2[i];\n",
    "\n",
    "        }\n",
    "\n",
    "        Arrays.sort(num);\n",
    "\n",
    "        if (num.length % 2 != 0) {\n",
    "            \n",
    "            int o = (num.length / 2);\n",
    "            return (num[o]);\n",
    "        } else {\n",
    "            int o = (num.length / 2) ;\n",
    "            // return o;\n",
    "            int medi=num[o-1] + num[o];\n",
    "            return ((double) medi / 2);\n",
    "\n",
    "        }\n",
    "        \n",
    "    }\n",
    "}"
   ]
  },
  {
   "cell_type": "markdown",
   "metadata": {},
   "source": [
    "## 2535. Difference Between Element Sum and Digit Sum of an Array"
   ]
  },
  {
   "cell_type": "code",
   "execution_count": null,
   "metadata": {},
   "outputs": [],
   "source": [
    "class Solution:\n",
    "    def differenceOfSum(self, nums: List[int]) -> int:\n",
    "        nums1 = []\n",
    "        kj=sum(nums)\n",
    "        for i in nums:\n",
    "            i=str(i)\n",
    "            for ri in i:\n",
    "                nums1.append(int(ri))\n",
    "\n",
    "                \n",
    "        jk = sum(nums1)\n",
    "\n",
    "        return(max(kj,jk)-min(jk,kj))\n",
    "                "
   ]
  },
  {
   "cell_type": "markdown",
   "metadata": {},
   "source": [
    "## 796. Rotate String"
   ]
  },
  {
   "cell_type": "code",
   "execution_count": null,
   "metadata": {},
   "outputs": [],
   "source": [
    "class Solution:\n",
    "    def rotateString(self, s: str, goal: str) -> bool:\n",
    "        \n",
    "        s=list(s)\n",
    "        i=0\n",
    "        while i != len(s):\n",
    "            k=s[0]\n",
    "            s.pop(0)\n",
    "            s.append(k)\n",
    "            kk = \"\".join(s)\n",
    "            #    return(kk)\n",
    "            if kk == goal:\n",
    "                return(True)\n",
    "\n",
    "                break\n",
    "            if i==len(s)-1:\n",
    "                return(False)\n",
    "            i=i+1\n",
    "                "
   ]
  },
  {
   "cell_type": "markdown",
   "metadata": {},
   "source": [
    "## 3274. Check if Two Chessboard Squares Have the Same Color"
   ]
  },
  {
   "cell_type": "code",
   "execution_count": null,
   "metadata": {},
   "outputs": [],
   "source": [
    "class Solution:\n",
    "    def checkTwoChessboards(self, coordinate1: str, coordinate2: str) -> bool:\n",
    "\n",
    "\n",
    "        fs1=\"\"\n",
    "        fs2=\"\"\n",
    "        hori = \"abcdefgh\"\n",
    "\n",
    "        coor = hori.index(coordinate1[0])\n",
    "\n",
    "\n",
    "        cor2=int(coordinate1[1])\n",
    "        coor=coor+1\n",
    "\n",
    "        if coor%2!=0 and cor2%2!=0 or ( coor%2==0 and cor2%2==0 ):\n",
    "            fs1=\"black\"\n",
    "            # return(False)\n",
    "        else:\n",
    "            fs1 = \"white\"\n",
    "\n",
    "        coor2 = hori.index(coordinate2[0])\n",
    "\n",
    "\n",
    "        cor21=int(coordinate2[1])\n",
    "        coor2=coor2+1\n",
    "\n",
    "        if coor2%2!=0 and cor21%2!=0 or ( coor2%2==0 and cor21%2==0 ):\n",
    "            fs2=\"black\"\n",
    "            # return(False)\n",
    "        else:\n",
    "            fs2 = \"white\"\n",
    "            # return(True)\n",
    "        # return(fs1,fs2)\n",
    "        if fs1 == \"white\" and fs2 ==\"white\" or (fs1 == \"black\" and fs2 ==\"black\" ):\n",
    "            return(True)\n",
    "        else:\n",
    "            return(False)\n",
    "                "
   ]
  },
  {
   "cell_type": "markdown",
   "metadata": {},
   "source": [
    "## 2554. Maximum Number of Integers to Choose From a Range I"
   ]
  },
  {
   "cell_type": "code",
   "execution_count": null,
   "metadata": {},
   "outputs": [],
   "source": [
    "class Solution:\n",
    "    def maxCount(self, banned: List[int], n: int, maxSum: int) -> int:\n",
    "        kl=[]\n",
    "        s=0\n",
    "        for i in range(1,n+1):\n",
    "            if i not  in banned:\n",
    "                s=s+i\n",
    "                if s<(maxSum+1):\n",
    "                    kl.append(i)\n",
    "                else:\n",
    "                    break\n",
    "        return(len(kl))\n",
    "        "
   ]
  },
  {
   "cell_type": "markdown",
   "metadata": {},
   "source": [
    "## 47. Permutations II"
   ]
  },
  {
   "cell_type": "code",
   "execution_count": null,
   "metadata": {},
   "outputs": [],
   "source": [
    "import itertools\n",
    "class Solution:\n",
    "    def permuteUnique(self, nums: List[int]) -> List[List[int]]:\n",
    "        pp = list(set(list(itertools.permutations(nums))))\n",
    "        return pp\n",
    "        "
   ]
  },
  {
   "cell_type": "markdown",
   "metadata": {},
   "source": [
    "## 2544. Alternating Digit Sum"
   ]
  },
  {
   "cell_type": "code",
   "execution_count": null,
   "metadata": {},
   "outputs": [],
   "source": [
    "class Solution:\n",
    "    def alternateDigitSum(self, n: int) -> int:\n",
    "        n0dd=[]\n",
    "        neve=[]\n",
    "        n=str(n)\n",
    "        for i in range(0,len(n),2):\n",
    "            n0dd.append(int(n[i]))\n",
    "        for i in range(1,len(n),2):\n",
    "            neve.append(int(n[i]))\n",
    "        return(sum(n0dd)-sum(neve))\n",
    "        "
   ]
  },
  {
   "cell_type": "markdown",
   "metadata": {},
   "source": [
    "## 50. Pow(x, n)"
   ]
  },
  {
   "cell_type": "code",
   "execution_count": null,
   "metadata": {},
   "outputs": [],
   "source": [
    "class Solution:\n",
    "    def myPow(self, x: float, n: int) -> float:\n",
    "        return(x**n)\n",
    "        "
   ]
  },
  {
   "cell_type": "markdown",
   "metadata": {},
   "source": [
    "## 1475. Final Prices With a Special Discount in a Shop"
   ]
  },
  {
   "cell_type": "code",
   "execution_count": null,
   "metadata": {},
   "outputs": [],
   "source": [
    "class Solution:\n",
    "    def finalPrices(self, prices: List[int]) -> List[int]:\n",
    "        kk=prices\n",
    "        for i in range(len(prices)):\n",
    "            for j in range(i,len(prices)):\n",
    "\n",
    "                if j>i and prices[j] <= prices[i]:\n",
    "                    # print(i)\n",
    "                    pk=prices[i]-prices[j]\n",
    "                    kk.pop(i)\n",
    "                    kk.insert(i,pk)\n",
    "                    break\n",
    "\n",
    "        return(kk)\n",
    "                "
   ]
  },
  {
   "cell_type": "markdown",
   "metadata": {},
   "source": [
    "## 1528. Shuffle String"
   ]
  },
  {
   "cell_type": "code",
   "execution_count": null,
   "metadata": {},
   "outputs": [],
   "source": [
    "class Solution:\n",
    "    def restoreString(self, s: str, indices: List[int]) -> str:\n",
    "        pk = sorted(indices)\n",
    "        o=\"\"\n",
    "\n",
    "        for i in range(len(s)):\n",
    "            w = indices.index(pk[i])\n",
    "            o=o+s[w]\n",
    "            \n",
    "\n",
    "\n",
    "        return o\n",
    "        "
   ]
  },
  {
   "cell_type": "markdown",
   "metadata": {},
   "source": [
    "## 599. Minimum Index Sum of Two Lists"
   ]
  },
  {
   "cell_type": "code",
   "execution_count": null,
   "metadata": {},
   "outputs": [],
   "source": [
    "class Solution:\n",
    "    def findRestaurant(self, list1: List[str], list2: List[str]) -> List[str]:\n",
    "        ss=[]\n",
    "        k=[]\n",
    "        s=0\n",
    "        for i in range(len(list1)):\n",
    "            for ii in range(len(list2)):\n",
    "                if list1[i]==list2[ii]:\n",
    "                    s=i+ii\n",
    "                    # pk=[list1[i]]\n",
    "                    k.append(list1[i])\n",
    "\n",
    "                    ss.append(s)\n",
    "        ss\n",
    "        # print(ss)\n",
    "        # print(k)\n",
    "        ff=[]\n",
    "        for i in range(len(ss)):\n",
    "            if ss[i]==min(ss):\n",
    "                ff.append(k[i])\n",
    "                # print(k[i])\n",
    "        return ff\n",
    "                "
   ]
  },
  {
   "cell_type": "markdown",
   "metadata": {},
   "source": [
    "## 2558. Take Gifts From the Richest Pile"
   ]
  },
  {
   "cell_type": "code",
   "execution_count": null,
   "metadata": {},
   "outputs": [],
   "source": [
    "import math\n",
    "class Solution:\n",
    "    def pickGifts(self, gifts: List[int], k: int) -> int:\n",
    "       \n",
    "        # print(int(math.sqrt(10)))\n",
    "        while k!=0:\n",
    "            gifts = sorted(gifts)\n",
    "            gifts=gifts[::-1]\n",
    "            h = gifts[0]\n",
    "            if h==1:\n",
    "                k=k-1\n",
    "                # pass\n",
    "            else:\n",
    "\n",
    "                kj = int(math.sqrt(h))\n",
    "                gifts.pop(0)\n",
    "                gifts.append(kj)\n",
    "                k=k-1\n",
    "        s=0\n",
    "        for i in gifts:\n",
    "            s=s+i\n",
    "        return(s)\n",
    "                "
   ]
  },
  {
   "cell_type": "markdown",
   "metadata": {},
   "source": [
    "## 2114. Maximum Number of Words Found in Sentences"
   ]
  },
  {
   "cell_type": "code",
   "execution_count": null,
   "metadata": {},
   "outputs": [],
   "source": [
    "class Solution:\n",
    "    def mostWordsFound(self, sentences: List[str]) -> int:\n",
    "        p = 0\n",
    "        for i in sentences:\n",
    "        \n",
    "            o= i.split(\" \")\n",
    "            if len(o)>p:\n",
    "                p = len(o)\n",
    "        return p\n",
    "        "
   ]
  },
  {
   "cell_type": "markdown",
   "metadata": {},
   "source": [
    "## 3396. Minimum Number of Operations to Make Elements in Array Distinct"
   ]
  },
  {
   "cell_type": "code",
   "execution_count": null,
   "metadata": {},
   "outputs": [],
   "source": [
    "class Solution:\n",
    "    def minimumOperations(self, nums: List[int]) -> int:\n",
    "        # def minimumOperations(self, nums: List[int]) -> int:\n",
    "    # Track total operations needed\n",
    "        operations = 0\n",
    "\n",
    "        # Continue while array is not empty and has duplicates\n",
    "        while nums:\n",
    "            # Check if current array has all distinct elements\n",
    "            if len(nums) == len(set(nums)):\n",
    "                return operations\n",
    "\n",
    "            # Remove first 3 elements or all elements if less than 3\n",
    "            remove_count = min(3, len(nums))\n",
    "            nums = nums[remove_count:]\n",
    "            operations += 1\n",
    "\n",
    "        return operations"
   ]
  },
  {
   "cell_type": "markdown",
   "metadata": {},
   "source": [
    "## 35. Search Insert Position"
   ]
  },
  {
   "cell_type": "code",
   "execution_count": null,
   "metadata": {},
   "outputs": [],
   "source": [
    "class Solution:\n",
    "    def searchInsert(self, nums: List[int], target: int) -> int:\n",
    "        if target in nums:\n",
    "            for i in range(len(nums)):\n",
    "                if nums[i] == target:\n",
    "                    return i\n",
    "        else:\n",
    "            if nums[len(nums)-1]>target:\n",
    "        \n",
    "                for i in range(len(nums)):\n",
    "\n",
    "                    if nums[i] >target:\n",
    "                        return i\n",
    "                        nums.insert((i),target)\n",
    "                        break\n",
    "            else:\n",
    "                return(len(nums))"
   ]
  },
  {
   "cell_type": "markdown",
   "metadata": {},
   "source": [
    "## 69. Sqrt(x)"
   ]
  },
  {
   "cell_type": "code",
   "execution_count": null,
   "metadata": {},
   "outputs": [],
   "source": [
    "import math\n",
    "class Solution:\n",
    "    def mySqrt(self, x: int) -> int:\n",
    "        return(int(math.sqrt(x)))\n",
    "        "
   ]
  },
  {
   "cell_type": "markdown",
   "metadata": {},
   "source": [
    "## 3264. Final Array State After K Multiplication Operations I"
   ]
  },
  {
   "cell_type": "code",
   "execution_count": null,
   "metadata": {},
   "outputs": [],
   "source": [
    "class Solution:\n",
    "    def getFinalState(self, nums: List[int], k: int, multiplier: int) -> List[int]:\n",
    "        while k!=0:\n",
    "            gh=min(nums)\n",
    "            kj=nums.index(gh)\n",
    "            gh=gh*multiplier\n",
    "            nums.insert(kj,gh)\n",
    "            nums.pop(kj+1)\n",
    "            k=k-1\n",
    "        return nums\n",
    "        "
   ]
  },
  {
   "cell_type": "markdown",
   "metadata": {},
   "source": [
    "## 283. Move Zeroes"
   ]
  },
  {
   "cell_type": "code",
   "execution_count": null,
   "metadata": {},
   "outputs": [],
   "source": [
    "class Solution:\n",
    "    def moveZeroes(self, nk: List[int]) -> None:\n",
    "        if 0 in nk:\n",
    "            for i in nk[:]:\n",
    "                if i==0:\n",
    "                    nk.remove(i)\n",
    "                    nk.append(i)\n",
    "        \n",
    "        \"\"\"\n",
    "        Do not return anything, modify nums in-place instead.\n",
    "        \"\"\"\n",
    "        "
   ]
  },
  {
   "cell_type": "markdown",
   "metadata": {},
   "source": [
    "## 2221. Find Triangular Sum of an Array"
   ]
  },
  {
   "cell_type": "code",
   "execution_count": null,
   "metadata": {},
   "outputs": [],
   "source": [
    "class Solution:\n",
    "    def triangularSum(self, nums: List[int]) -> int:\n",
    "\n",
    "        def dec(nums):\n",
    "            if len(nums) == 1:\n",
    "                ppp = str(nums[0])\n",
    "                # return(len(ppp))\n",
    "                if len(ppp) > 1:\n",
    "\n",
    "                    return int(ppp[len(ppp) - 1])\n",
    "                else:\n",
    "                    return nums[0]\n",
    "\n",
    "                # return(int(nums[len(ppp)-1]))\n",
    "            else:\n",
    "\n",
    "                k = []\n",
    "                i = 0\n",
    "                while len(nums) != 1:\n",
    "                    if i < len(nums) - 1:\n",
    "\n",
    "                        k.append(nums[i] + nums[i + 1])\n",
    "\n",
    "                        i = i + 1\n",
    "\n",
    "                    else:\n",
    "                        break\n",
    "                if len(k) > 1:\n",
    "                    for io in k:\n",
    "                        if len(str(io)) > 1:\n",
    "                            ki = k.index(io)\n",
    "                            io = str(io)\n",
    "                            k.insert(ki, int(io[len(io) - 1]))\n",
    "                            k.pop(ki + 1)\n",
    "\n",
    "                    # return(k)\n",
    "\n",
    "                return dec(k)\n",
    "\n",
    "        return dec(nums)\n"
   ]
  },
  {
   "cell_type": "markdown",
   "metadata": {},
   "source": [
    "## 2457. Minimum Addition to Make Integer Beautiful"
   ]
  },
  {
   "cell_type": "code",
   "execution_count": null,
   "metadata": {},
   "outputs": [],
   "source": [
    "class Solution:\n",
    "    def makeIntegerBeautiful(self, n: int, target: int) -> int:\n",
    "        n1=n\n",
    "\n",
    "        while True:\n",
    "            p=0\n",
    "        \n",
    "\n",
    "            for i in str(n):\n",
    "                p=p+int(i)\n",
    "            if p<target+1:\n",
    "                return (n-n1)\n",
    "                break\n",
    "            else:\n",
    "                # print(p)\n",
    "                n=n+target-2\n",
    "                # print(n)\n",
    "                p=0\n",
    "                "
   ]
  },
  {
   "cell_type": "markdown",
   "metadata": {},
   "source": [
    "## 74. Search a 2D Matrix"
   ]
  },
  {
   "cell_type": "code",
   "execution_count": null,
   "metadata": {},
   "outputs": [],
   "source": [
    "class Solution:\n",
    "    def searchMatrix(self, matrix: List[List[int]], target: int) -> bool:\n",
    "        pk= []\n",
    "        for i in matrix:\n",
    "            if target>= i[0]:\n",
    "                if target in i:\n",
    "                    pk.append(0)\n",
    "                    return(True)\n",
    "                    break\n",
    "                else:\n",
    "                    pk.append(1)\n",
    "                    pass\n",
    "            else:\n",
    "                pk.append(1)\n",
    "                pass\n",
    "        pk = list(set(pk))\n",
    "        if 0 not in pk:\n",
    "        #     return(True)\n",
    "        # else:\n",
    "            return(False)\n",
    "                "
   ]
  },
  {
   "cell_type": "markdown",
   "metadata": {},
   "source": [
    "## 240. Search a 2D Matrix II"
   ]
  },
  {
   "cell_type": "code",
   "execution_count": null,
   "metadata": {},
   "outputs": [],
   "source": [
    "class Solution:\n",
    "    def searchMatrix(self, matrix: List[List[int]], target: int) -> bool:\n",
    "        pk= []\n",
    "        for i in matrix:\n",
    "            if target>= i[0]:\n",
    "                if target in i:\n",
    "                    pk.append(0)\n",
    "                    return(True)\n",
    "                    break\n",
    "                else:\n",
    "                    pk.append(1)\n",
    "                    pass\n",
    "            else:\n",
    "                pk.append(1)\n",
    "                pass\n",
    "        pk = list(set(pk))\n",
    "        if 0 not in pk:\n",
    "        #     return(True)\n",
    "        # else:\n",
    "            return(False)\n",
    "                "
   ]
  },
  {
   "cell_type": "markdown",
   "metadata": {},
   "source": [
    "## 1365. How Many Numbers Are Smaller Than the Current Number"
   ]
  },
  {
   "cell_type": "code",
   "execution_count": null,
   "metadata": {},
   "outputs": [],
   "source": [
    "class Solution:\n",
    "    def smallerNumbersThanCurrent(self, nums: List[int]) -> List[int]:\n",
    "\n",
    "        k=[]\n",
    "        if len(list(set(nums))) ==1 or len(nums)==1:\n",
    "            for i in range(len(nums)):\n",
    "                k.append(0)\n",
    "        else:\n",
    "\n",
    "                \n",
    "            count=0\n",
    "            for i in range(len(nums)):\n",
    "            \n",
    "                    # break\n",
    "                # else:\n",
    "\n",
    "                k.append(count)\n",
    "                # print(k)\n",
    "                \n",
    "                count=0\n",
    "                for ij in range(len(nums)):\n",
    "                    if i !=ij:\n",
    "                        if nums[i]>nums[ij]:\n",
    "                            # print(nums[i],nums[ij])\n",
    "                            count = count+1\n",
    "                            # print(count)\n",
    "                    else:\n",
    "                        pass\n",
    "                if i == len(nums)-1:\n",
    "                    k.append(count)\n",
    "\n",
    "            # k.pop(0)\n",
    "            # k.append(0)\n",
    "            k.pop(0)\n",
    "        return k\n",
    "                "
   ]
  }
 ],
 "metadata": {
  "kernelspec": {
   "display_name": "base",
   "language": "python",
   "name": "python3"
  },
  "language_info": {
   "codemirror_mode": {
    "name": "ipython",
    "version": 3
   },
   "file_extension": ".py",
   "mimetype": "text/x-python",
   "name": "python",
   "nbconvert_exporter": "python",
   "pygments_lexer": "ipython3",
   "version": "3.11.8"
  }
 },
 "nbformat": 4,
 "nbformat_minor": 2
}
