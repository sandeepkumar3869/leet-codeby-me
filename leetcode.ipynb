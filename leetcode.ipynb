{
 "cells": [
  {
   "cell_type": "markdown",
   "metadata": {},
   "source": [
    "## 3099. Harshad Number"
   ]
  },
  {
   "cell_type": "code",
   "execution_count": null,
   "metadata": {},
   "outputs": [],
   "source": [
    "class Solution:\n",
    "    def sumOfTheDigitsOfHarshadNumber(self, x: int) -> int:\n",
    "        y=list(str(x))\n",
    "        y= list(map(int,y))\n",
    "        y=sum(y)\n",
    "        if x%y==0:\n",
    "            return y\n",
    "        return -1\n",
    "        "
   ]
  },
  {
   "cell_type": "markdown",
   "metadata": {},
   "source": [
    "## 2591. Distribute Money to Maximum Children"
   ]
  },
  {
   "cell_type": "code",
   "execution_count": null,
   "metadata": {},
   "outputs": [],
   "source": [
    "class Solution:\n",
    "    def distMoney(self, money: int, children: int) -> int:\n",
    "        if money < children:\n",
    "            return ( -1)\n",
    "        if money == children:\n",
    "            return ( 0  )      \n",
    "        if money > children:\n",
    "            y = children *8\n",
    "            if y==money:\n",
    "                return ( children)\n",
    "            if money>y:\n",
    "                return ( children-1)\n",
    "            if y>money:\n",
    "                t =y-money\n",
    "                if t ==4:\n",
    "                    return ( children-2)\n",
    "                if t<4:\n",
    "                    return ( children-1)\n",
    "                if t>4:\n",
    "                    op=0\n",
    "                    money = money-children\n",
    "                    while True:\n",
    "                        \n",
    "                        if money >6 and children!=0:\n",
    "                            money=money-7\n",
    "                            op=op+1\n",
    "                            children =children-1\n",
    "                        else:\n",
    "                            return (op)\n",
    "                            break\n",
    "        \n",
    "\n",
    "                \n",
    "        "
   ]
  },
  {
   "cell_type": "markdown",
   "metadata": {},
   "source": [
    "## 3701. Compute Alternating Sum"
   ]
  },
  {
   "cell_type": "code",
   "execution_count": null,
   "metadata": {},
   "outputs": [],
   "source": [
    "class Solution:\n",
    "    def alternatingSum(self, nums: List[int]) -> int:\n",
    "        s=0\n",
    "        for i in range(1,(len(nums)+1)):\n",
    "            # print(s)\n",
    "            if i%2==0:\n",
    "                s=s-nums[i-1]\n",
    "            else:\n",
    "                s=s+nums[i-1]   \n",
    "        return s "
   ]
  },
  {
   "cell_type": "markdown",
   "metadata": {},
   "source": [
    "## 1207. Unique Number of Occurrences"
   ]
  },
  {
   "cell_type": "code",
   "execution_count": null,
   "metadata": {},
   "outputs": [],
   "source": [
    "class Solution:\n",
    "    def uniqueOccurrences(self, arr: List[int]) -> bool:\n",
    "        k=[]\n",
    "        for i in list(set(arr)):\n",
    "            if arr.count(i) not in k:\n",
    "                k.append(arr.count(i))\n",
    "            else:\n",
    "                return False\n",
    "        return True\n",
    "        \n",
    "        "
   ]
  },
  {
   "cell_type": "markdown",
   "metadata": {},
   "source": [
    "## 1823. Find the Winner of the Circular Game"
   ]
  },
  {
   "cell_type": "code",
   "execution_count": null,
   "metadata": {},
   "outputs": [],
   "source": [
    "class Solution:\n",
    "    def findTheWinner(self, n: int, k: int) -> int:\n",
    "        a=[i for i in range(1,n+1)]\n",
    "        # print(a)\n",
    "        p =0\n",
    "        while len(a)!=1:\n",
    "            for i in a[:]:\n",
    "                p=p+1\n",
    "                if p==k:\n",
    "                    a.pop(a.index(i))\n",
    "                    p=0\n",
    "                if len(a)==1:\n",
    "                    break\n",
    "        return a[0]\n",
    "            \n",
    "\n",
    "        "
   ]
  },
  {
   "cell_type": "markdown",
   "metadata": {},
   "source": [
    "## 165. Compare Version Numbers"
   ]
  },
  {
   "cell_type": "code",
   "execution_count": null,
   "metadata": {},
   "outputs": [],
   "source": [
    "class Solution:\n",
    "    def compareVersion(self, version1: str, version2: str) -> int:\n",
    "        version1=version1.split('.')\n",
    "        version2=version2.split('.')\n",
    "        if len(version1)>len(version2):\n",
    "            while len(version2)!= len(version1):\n",
    "                version2.append('0')\n",
    "        if len(version2)>len(version1):\n",
    "            while len(version1)!= len(version2):\n",
    "                version1.append('0')\n",
    "            \n",
    "            \n",
    "        # version1,version2\n",
    "        for i in range(len(version2)):\n",
    "            if int(version2[i]) > int(version1[i]):\n",
    "                return(-1)\n",
    "                break\n",
    "            if int(version1[i]) > int(version2[i]):\n",
    "                return(1)\n",
    "                break\n",
    "        return(0)\n",
    "        "
   ]
  },
  {
   "cell_type": "markdown",
   "metadata": {},
   "source": [
    "## 164. Maximum Gap"
   ]
  },
  {
   "cell_type": "code",
   "execution_count": null,
   "metadata": {},
   "outputs": [],
   "source": [
    "class Solution:\n",
    "    def maximumGap(self, nums: List[int]) -> int:\n",
    "        if len(nums)<2:\n",
    "            return 0\n",
    "        nums =sorted(nums)\n",
    "        k=[]\n",
    "        for i in range(len(nums)-1):\n",
    "            k.append(abs(nums[i]-nums[i+1]))\n",
    "        # print(max(k))\n",
    "        return max(k)"
   ]
  },
  {
   "cell_type": "markdown",
   "metadata": {},
   "source": [
    "## 1822. Sign of the Product of an Array"
   ]
  },
  {
   "cell_type": "code",
   "execution_count": null,
   "metadata": {},
   "outputs": [],
   "source": [
    "class Solution:\n",
    "    def arraySign(self, nums: List[int]) -> int:\n",
    "       \n",
    "        neg=0\n",
    "\n",
    "        if 0 in nums:\n",
    "            return 0\n",
    "        else:\n",
    "            for i in sorted(nums):\n",
    "                if i<0:\n",
    "                    neg=neg+1\n",
    "                else:\n",
    "                    break\n",
    "            if neg%2 ==0:\n",
    "                return 1\n",
    "            else:\n",
    "                return -1\n",
    "\n",
    "        "
   ]
  },
  {
   "cell_type": "markdown",
   "metadata": {},
   "source": [
    "## 345. Reverse Vowels of a String"
   ]
  },
  {
   "cell_type": "code",
   "execution_count": null,
   "metadata": {},
   "outputs": [],
   "source": [
    "class Solution:\n",
    "    def reverseVowels(self, s: str) -> str:\n",
    "        lp=[]\n",
    "        pos=[]\n",
    "        for i in range(len(s)):\n",
    "            if s[i] in 'AEIOUaeiou':\n",
    "                lp.append(s[i])\n",
    "                pos.append(i)\n",
    "\n",
    "        lp\n",
    "        kp = lp[::-1]\n",
    "\n",
    "        s=list(s)\n",
    "        for i in range(len(pos)):\n",
    "            s.pop(pos[i])\n",
    "            s.insert(pos[i],kp[i])\n",
    "        s=''.join(s)\n",
    "        return s "
   ]
  },
  {
   "cell_type": "markdown",
   "metadata": {},
   "source": [
    "## 557. Reverse Words in a String III"
   ]
  },
  {
   "cell_type": "code",
   "execution_count": null,
   "metadata": {},
   "outputs": [],
   "source": [
    "class Solution:\n",
    "    def reverseWords(self, s: str) -> str:\n",
    "        s=s.split(' ')\n",
    "        k=''\n",
    "        for i in s[:]:\n",
    "            \n",
    "            k=k+i[::-1]+' '\n",
    "        return k[:len(k)-1]\n",
    "        "
   ]
  },
  {
   "cell_type": "markdown",
   "metadata": {},
   "source": [
    "## 812. Largest Triangle Area"
   ]
  },
  {
   "cell_type": "code",
   "execution_count": null,
   "metadata": {},
   "outputs": [],
   "source": [
    "class Solution:\n",
    "    def largestTriangleArea(self, points: List[List[int]]) -> float:\n",
    "        ui = combinations(points,3)\n",
    "        an =[]\n",
    "        for i in ui:\n",
    "            i =list(i)\n",
    "            x1= i[0][0]\n",
    "            x2=i[1][0]\n",
    "            x3=i[2][0]\n",
    "            y1=i[0][1]\n",
    "            y2=i[1][1]\n",
    "            y3=i[2][1]\n",
    "            s = abs(0.5*(y1*(x2-x3)+y2*(x3-x1)+y3*(x1-x2)))\n",
    "            an.append(s)\n",
    "        return max(an)\n",
    "        "
   ]
  },
  {
   "cell_type": "markdown",
   "metadata": {},
   "source": [
    "## 771. Jewels and Stones"
   ]
  },
  {
   "cell_type": "code",
   "execution_count": null,
   "metadata": {},
   "outputs": [],
   "source": [
    "class Solution:\n",
    "    def numJewelsInStones(self, jewels: str, stones: str) -> int:\n",
    "        s=0\n",
    "        for i in stones:\n",
    "            if i in jewels:\n",
    "                s=s+1\n",
    "        return s\n",
    "        "
   ]
  },
  {
   "cell_type": "markdown",
   "metadata": {},
   "source": [
    "## 3227. Vowels Game in a String"
   ]
  },
  {
   "cell_type": "code",
   "execution_count": null,
   "metadata": {},
   "outputs": [],
   "source": [
    "class Solution:\n",
    "    def doesAliceWin(self, s: str) -> bool:\n",
    "        for i in s:\n",
    "            if i in 'aeiou':\n",
    "                return (True)\n",
    "        return(False)"
   ]
  },
  {
   "cell_type": "markdown",
   "metadata": {},
   "source": [
    "## 3271. Hash Divided String"
   ]
  },
  {
   "cell_type": "code",
   "execution_count": null,
   "metadata": {},
   "outputs": [],
   "source": [
    "class Solution:\n",
    "    def stringHash(self, s: str, k: int) -> str:\n",
    "        ko =''\n",
    "        qw = 'qwertyuiopasdfghjklzxcvbnm'\n",
    "        qw = sorted(qw)\n",
    "        for i in range(0,len(s),k):\n",
    "            \n",
    "            io =(s[i:i+k])\n",
    "            ss=0\n",
    "            for ie in io:\n",
    "                ss = ss+qw.index(ie)\n",
    "            ko=ko+qw[ss%26]\n",
    "        return ko"
   ]
  },
  {
   "cell_type": "markdown",
   "metadata": {},
   "source": [
    "## 2177. Find Three Consecutive Integers That Sum to a Given Number"
   ]
  },
  {
   "cell_type": "code",
   "execution_count": null,
   "metadata": {},
   "outputs": [],
   "source": [
    "class Solution:\n",
    "    def sumOfThree(self, num: int) -> List[int]:\n",
    "        w=(num//3)-1\n",
    "        while True:\n",
    "            io = [w,w+1,w+2]\n",
    "            if sum(io) ==num:\n",
    "                return(io)\n",
    "                \n",
    "            w=w+1\n",
    "            if w > num//3:\n",
    "                return([])\n",
    "       \n",
    "        "
   ]
  },
  {
   "cell_type": "markdown",
   "metadata": {},
   "source": [
    "## 128. Longest Consecutive Sequence"
   ]
  },
  {
   "cell_type": "code",
   "execution_count": null,
   "metadata": {},
   "outputs": [],
   "source": [
    "class Solution:\n",
    "    def longestConsecutive(self, nums: List[int]) -> int:\n",
    "        nums = list(set(nums))\n",
    "        nums =sorted(nums)\n",
    "        lee=0\n",
    "        kk=[]\n",
    "        for i in nums:\n",
    "            # print(kk,lee)\n",
    "            if len(kk)==0:\n",
    "                kk.append(i)\n",
    "            else:\n",
    "                if (i-1) == kk[-1]:\n",
    "                    kk.append(i)\n",
    "                else:\n",
    "                    if len(kk)>lee:\n",
    "                        lee =len(kk)\n",
    "                        kk=[i]\n",
    "                    else:\n",
    "                        kk=[i]\n",
    "\n",
    "        return max(lee,len(kk))\n",
    "        "
   ]
  },
  {
   "cell_type": "markdown",
   "metadata": {},
   "source": [
    "## 929. Unique Email Addresses"
   ]
  },
  {
   "cell_type": "code",
   "execution_count": null,
   "metadata": {},
   "outputs": [],
   "source": [
    "class Solution:\n",
    "    def numUniqueEmails(self, emails: List[str]) -> int:\n",
    "        f=[]\n",
    "        for i in emails:\n",
    "            k=''\n",
    "            i = i.split('@')\n",
    "            for j in i[0]:\n",
    "                if j !='.' and j!='+':\n",
    "\n",
    "                    k=k+j\n",
    "                if j=='+':\n",
    "                    break\n",
    "            k=k+'@'+i[1]\n",
    "            if k not in f:\n",
    "                f.append(k)\n",
    "        return len(f)\n",
    "        "
   ]
  },
  {
   "cell_type": "markdown",
   "metadata": {},
   "source": [
    "## 2828. Check if a String Is an Acronym of Words"
   ]
  },
  {
   "cell_type": "code",
   "execution_count": null,
   "metadata": {},
   "outputs": [],
   "source": [
    "class Solution:\n",
    "    def isAcronym(self, words: List[str], s: str) -> bool:\n",
    "        if len(words) != len(s):\n",
    "            return False\n",
    "\n",
    "        for i in range(len(words)):\n",
    "            if words[i][0] != s[i]:\n",
    "                return False\n",
    "        return True\n",
    "\n",
    "\n",
    "        "
   ]
  },
  {
   "cell_type": "markdown",
   "metadata": {},
   "source": [
    "## 2315. Count Asterisks"
   ]
  },
  {
   "cell_type": "code",
   "execution_count": null,
   "metadata": {},
   "outputs": [],
   "source": [
    "class Solution:\n",
    "    def countAsterisks(self, s: str) -> int:\n",
    "        k='0'\n",
    "        p=0\n",
    "        for i in s:\n",
    "            if  i=='|':\n",
    "\n",
    "                if k=='0':\n",
    "                    k=int(k)\n",
    "                    k=k+1\n",
    "                else:\n",
    "                    k=k+1\n",
    "            if k =='0' or k%2==0:\n",
    "                if  i=='*':\n",
    "                    p=p+1\n",
    "        return p\n",
    "        "
   ]
  },
  {
   "cell_type": "markdown",
   "metadata": {},
   "source": [
    "## 1417. Reformat The String"
   ]
  },
  {
   "cell_type": "code",
   "execution_count": null,
   "metadata": {},
   "outputs": [],
   "source": [
    "class Solution:\n",
    "    def reformat(self, s: str) -> str:\n",
    "        k=''\n",
    "        alpha = []\n",
    "        num =[]\n",
    "        for i in s:\n",
    "            if i in '1234567890':\n",
    "                num.append(i)\n",
    "            else:\n",
    "                alpha.append(i)\n",
    "        n1=len(num)\n",
    "        alp = len(alpha)\n",
    "        gg= n1-alp\n",
    "        if gg not in [-1, 0, 1]:\n",
    "            return ''\n",
    "        s=num\n",
    "        while True:\n",
    "            if len(s)==0 or len(alpha)==0:\n",
    "                break\n",
    "            if n1>=alp:\n",
    "\n",
    "                k=k+s[0]+alpha[0]\n",
    "                s.pop(0)\n",
    "                alpha.pop(0)\n",
    "            else:\n",
    "                k=k+alpha[0]+s[0]\n",
    "                alpha.pop(0)\n",
    "                s.pop(0)\n",
    "        if len(s)==1:\n",
    "            k=k+s[0]\n",
    "        if len(alpha)==1:\n",
    "            k=k+alpha[0]\n",
    "        return k\n",
    "\n",
    "\n",
    "\n"
   ]
  },
  {
   "cell_type": "markdown",
   "metadata": {},
   "source": [
    "## 2202. Maximize the Topmost Element After K Moves"
   ]
  },
  {
   "cell_type": "code",
   "execution_count": null,
   "metadata": {},
   "outputs": [],
   "source": [
    "class Solution:\n",
    "    def maximumTop(self, nums: List[int], k: int) -> int:\n",
    "        \n",
    "        if  k +1 == nums.index(max(nums))+1:\n",
    "            return max(nums)\n",
    "        elif k==1 and len(nums) >1:\n",
    "            return nums[1]\n",
    "        elif k==0 and len(nums) >1:\n",
    "            return nums[k]\n",
    "        elif k==1 and len(nums)==1:\n",
    "            return(-1)\n",
    "        elif k%2!=0 and len(nums)==1:\n",
    "            return(-1)\n",
    "        elif k%2==0 and len(nums)==1:\n",
    "            return(max(nums))\n",
    "        elif k == nums.index(max(nums)):\n",
    "            return(max(nums[:k]))\n",
    "        elif k == len(nums):\n",
    "            nums.pop(-1)\n",
    "            return max(nums)\n",
    "\n",
    "        elif k<len(nums) :\n",
    "            ui = nums[:k-1]\n",
    "            uip = nums[k]\n",
    "            return max(max(ui),uip)\n",
    "        if k>len(nums):\n",
    "            return(max(nums))\n",
    "        \n",
    "        "
   ]
  },
  {
   "cell_type": "markdown",
   "metadata": {},
   "source": [
    "## 551. Student Attendance Record I"
   ]
  },
  {
   "cell_type": "code",
   "execution_count": null,
   "metadata": {},
   "outputs": [],
   "source": [
    "class Solution:\n",
    "    def checkRecord(self, s: str) -> bool:\n",
    "        if 'LLL' in s:\n",
    "            return False\n",
    "        if s.count('A')>1:\n",
    "            return False\n",
    "        return True\n",
    "        "
   ]
  },
  {
   "cell_type": "markdown",
   "metadata": {},
   "source": [
    "## 2221. Find Triangular Sum of an Array"
   ]
  },
  {
   "cell_type": "code",
   "execution_count": null,
   "metadata": {},
   "outputs": [],
   "source": [
    "class Solution:\n",
    "    def triangularSum(self, nums: List[int]) -> int:\n",
    "        j=[]\n",
    "        while len(nums)!=1:\n",
    "            # print(nums)\n",
    "\n",
    "            for i in range(len(nums)-1):\n",
    "                k=nums[i]+nums[i+1]\n",
    "                k=str(k)\n",
    "                if len(k)>1:\n",
    "                    j.append(int(k[-1]))\n",
    "                else:\n",
    "                    j.append(int(k))\n",
    "\n",
    "\n",
    "        \n",
    "            nums=j\n",
    "            j=[]\n",
    "        return nums[0]\n",
    "\n",
    "                "
   ]
  },
  {
   "cell_type": "markdown",
   "metadata": {},
   "source": [
    "## 1985. Find the Kth Largest Integer in the Array"
   ]
  },
  {
   "cell_type": "code",
   "execution_count": null,
   "metadata": {},
   "outputs": [],
   "source": [
    "class Solution:\n",
    "    def kthLargestNumber(self, nums: List[str], k: int) -> str:\n",
    "        jk = list(map(int,nums))\n",
    "        jk=sorted(jk)\n",
    "        jk=jk[::-1]\n",
    "\n",
    "        return str(jk[k-1])\n",
    "        "
   ]
  },
  {
   "cell_type": "markdown",
   "metadata": {},
   "source": [
    "## 414. Third Maximum Number"
   ]
  },
  {
   "cell_type": "code",
   "execution_count": null,
   "metadata": {},
   "outputs": [],
   "source": [
    "class Solution:\n",
    "    def thirdMax(self, nums: List[int]) -> int:\n",
    "        nums = list(set(nums))\n",
    "        nums = sorted(nums)\n",
    "        nums =nums[::-1]\n",
    "        if len(nums)<3:\n",
    "            return nums[0]\n",
    "        return nums[2]\n",
    "\n",
    "        "
   ]
  },
  {
   "cell_type": "markdown",
   "metadata": {},
   "source": [
    "## 215. Kth Largest Element in an Array"
   ]
  },
  {
   "cell_type": "code",
   "execution_count": null,
   "metadata": {},
   "outputs": [],
   "source": [
    "class Solution:\n",
    "    def findKthLargest(self, nums: List[int], k: int) -> int:\n",
    "        nums=sorted(nums)\n",
    "        nums = nums[::-1]\n",
    "        return nums[k-1]\n",
    "        "
   ]
  },
  {
   "cell_type": "markdown",
   "metadata": {},
   "source": [
    "## 3541. Find Most Frequent Vowel and Consonant"
   ]
  },
  {
   "cell_type": "code",
   "execution_count": null,
   "metadata": {},
   "outputs": [],
   "source": [
    "class Solution:\n",
    "    def maxFreqSum(self, s: str) -> int:\n",
    "        vo ='0'\n",
    "        co='0'\n",
    "        for i in list(set(s)):\n",
    "            if i in 'aeiou':\n",
    "                op =s.count(i)\n",
    "                if vo =='0':\n",
    "                    vo=int(vo)\n",
    "                    vo=op\n",
    "                else:\n",
    "                    if op>vo:\n",
    "                        vo=op\n",
    "                    \n",
    "            else:\n",
    "                op =s.count(i)\n",
    "                if co =='0':\n",
    "                    co=int(co)\n",
    "                    co=op\n",
    "                else:\n",
    "                    if op>co:\n",
    "                        co=op\n",
    "\n",
    "        return int(vo)+int(co)\n",
    "        "
   ]
  },
  {
   "cell_type": "markdown",
   "metadata": {},
   "source": [
    "## 2733. Neither Minimum nor Maximum"
   ]
  },
  {
   "cell_type": "code",
   "execution_count": null,
   "metadata": {},
   "outputs": [],
   "source": [
    "class Solution:\n",
    "    def findNonMinOrMax(self, nums: List[int]) -> int:\n",
    "        for i in nums:\n",
    "            if i!= max(nums) and i != min(nums):\n",
    "                return i\n",
    "        return -1\n",
    "        "
   ]
  },
  {
   "cell_type": "markdown",
   "metadata": {},
   "source": [
    "## 1694. Reformat Phone Number"
   ]
  },
  {
   "cell_type": "code",
   "execution_count": null,
   "metadata": {},
   "outputs": [],
   "source": [
    "class Solution:\n",
    "    def reformatNumber(self, number: str) -> str:\n",
    "        number=list(number)\n",
    "# print(number)\n",
    "        while True:\n",
    "            if '-'in number:\n",
    "                # number.remove('')\n",
    "                number.remove('-')\n",
    "            if ' 'in number:\n",
    "                # number.remove('')\n",
    "                number.remove(' ')\n",
    "            if '-'not in number:\n",
    "                if ' ' not in number:\n",
    "                    break\n",
    "\n",
    "        # number =''.join(number)\n",
    "        # number=list(number)\n",
    "        io =''\n",
    "        while  True:\n",
    "            if len(number) >4:\n",
    "                io =io+''.join(number[0:3])+'-'\n",
    "                for i in range(3):\n",
    "\n",
    "                    number.pop(0)\n",
    "            if len(number) ==4:\n",
    "                io =io+''.join(number[0:2])+'-'\n",
    "                for i in range(2):\n",
    "\n",
    "                    number.pop(0) \n",
    "            if len(number) ==3:\n",
    "                io =io+''.join(number[0:3])+'-'\n",
    "                for i in range(3):\n",
    "\n",
    "                    number.pop(0)\n",
    "            if len(number) ==2:\n",
    "                io =io+''.join(number[0:2])+'-'\n",
    "                for i in range(2):\n",
    "\n",
    "                    number.pop(0)\n",
    "            if len(number) ==0:\n",
    "                break\n",
    "        return io[:len(io)-1]\n",
    "        "
   ]
  },
  {
   "cell_type": "markdown",
   "metadata": {},
   "source": [
    "## 500. Keyboard Row"
   ]
  },
  {
   "cell_type": "code",
   "execution_count": null,
   "metadata": {},
   "outputs": [],
   "source": [
    "class Solution:\n",
    "    def findWords(self, words: List[str]) -> List[str]:\n",
    "        r1='qwertyuiop'\n",
    "        r2='asdfghjkl'\n",
    "        r3='zxcvbnm'\n",
    "        gh=[]\n",
    "        def chek(j,r):\n",
    "            for i in j:\n",
    "                if i.lower() not in r:\n",
    "                    return False\n",
    "            return True\n",
    "        for i in words:\n",
    "            \n",
    "            if i[0].lower() in r1:\n",
    "                # return(i,chek(i,r1))\n",
    "                if chek(i,r1)==True:\n",
    "                    gh.append(i)\n",
    "            if i[0].lower() in r2:\n",
    "                # return(i,chek(i,r2))\n",
    "                if chek(i,r2)==True:\n",
    "                    gh.append(i)\n",
    "            if i[0].lower() in r3:\n",
    "                # return(i,chek(i,r3))\n",
    "                if chek(i,r3)==True:\n",
    "                    gh.append(i)\n",
    "            \n",
    "        return gh"
   ]
  },
  {
   "cell_type": "markdown",
   "metadata": {},
   "source": [
    "## 2966. Divide Array Into Arrays With Max Difference"
   ]
  },
  {
   "cell_type": "code",
   "execution_count": null,
   "metadata": {},
   "outputs": [],
   "source": [
    "class Solution:\n",
    "    def divideArray(self, nums: List[int], k: int) -> List[List[int]]:\n",
    "        nums=sorted(nums)\n",
    "        nums\n",
    "        k1=[]\n",
    "        from itertools import combinations\n",
    "        for i in range(len(nums)//3):\n",
    "            hj = combinations([nums[0],nums[1],nums[2]],2)\n",
    "            for uj in hj:\n",
    "                uj=list(uj)\n",
    "                s1 = uj[0]-uj[1]\n",
    "                s2 = uj[1]-uj[0]\n",
    "                if s1 <= k and s2 <=k:\n",
    "                    pass\n",
    "                else:\n",
    "                    return ([])\n",
    "            k1.append([nums[0],nums[1],nums[2]])\n",
    "\n",
    "            for j in range(3):\n",
    "                \n",
    "                nums.pop(0)\n",
    "        return k1\n",
    "        "
   ]
  },
  {
   "cell_type": "markdown",
   "metadata": {},
   "source": [
    "## 944. Delete Columns to Make Sorted"
   ]
  },
  {
   "cell_type": "code",
   "execution_count": null,
   "metadata": {},
   "outputs": [],
   "source": [
    "class Solution:\n",
    "    def minDeletionSize(self, strs: List[str]) -> int:\n",
    "        cnt =0\n",
    "        # sorted_colm = []\n",
    "        for i in range(len(strs[0])):\n",
    "\n",
    "            k=[]\n",
    "            for j in strs:\n",
    "            \n",
    "                k.append(j[i])\n",
    "            # print(k)\n",
    "            k=''.join(k)\n",
    "            dk = sorted(k)\n",
    "            dk = ''.join(dk)\n",
    "            # print(k,dk)\n",
    "            if k!=dk:\n",
    "                cnt =cnt+1\n",
    "            # sorted_colm.append(''.join(k))\n",
    "        return cnt"
   ]
  },
  {
   "cell_type": "markdown",
   "metadata": {},
   "source": [
    "## 1189. Maximum Number of Balloons"
   ]
  },
  {
   "cell_type": "code",
   "execution_count": null,
   "metadata": {},
   "outputs": [],
   "source": [
    "class Solution:\n",
    "    def maxNumberOfBalloons(self, text: str) -> int:\n",
    "        text =list(text)\n",
    "\n",
    "        ok = 'balloon'\n",
    "        wo =[]\n",
    "        ww =''\n",
    "        while True:\n",
    "            for i in ok:\n",
    "                if i in text:\n",
    "                    ww =ww+i\n",
    "                    text.pop(text.index(i))\n",
    "                else:\n",
    "                    break\n",
    "            if ww ==ok:\n",
    "                wo.append(ww)\n",
    "                ww=''\n",
    "            else:\n",
    "                break\n",
    "        return len(wo)\n",
    "        "
   ]
  },
  {
   "cell_type": "markdown",
   "metadata": {},
   "source": [
    "## 3100. Water Bottles II"
   ]
  },
  {
   "cell_type": "code",
   "execution_count": null,
   "metadata": {},
   "outputs": [],
   "source": [
    "class Solution:\n",
    "    def maxBottlesDrunk(self, numBottles: int, numExchange: int) -> int:\n",
    "        empt=0\n",
    "        tot=0\n",
    "        while True:\n",
    "            tot = tot+numBottles\n",
    "            empt =empt+numBottles\n",
    "            numBottles =0\n",
    "            po=0\n",
    "            while po==0:\n",
    "                if empt >= numExchange:\n",
    "                    empt =empt-numExchange\n",
    "                    numBottles =numBottles+1\n",
    "                    numExchange =numExchange+1\n",
    "                else:\n",
    "                    po=1\n",
    "\n",
    "            if empt<numExchange and numBottles==0 :\n",
    "                break\n",
    "        return tot\n",
    "        "
   ]
  },
  {
   "cell_type": "markdown",
   "metadata": {},
   "source": [
    "## 3663. Find The Least Frequent Digit"
   ]
  },
  {
   "cell_type": "code",
   "execution_count": null,
   "metadata": {},
   "outputs": [],
   "source": [
    "class Solution:\n",
    "    def getLeastFrequentDigit(self, n: int) -> int:\n",
    "        n=str(n)\n",
    "        k={}    \n",
    "        for i in n:\n",
    "            if i in k:\n",
    "                k[i] +=1\n",
    "            else:\n",
    "                k[i] =1\n",
    "        kmin = min(list(k.values()))\n",
    "        kl=[]\n",
    "        for i in k:\n",
    "            if k[i] == kmin:\n",
    "                i=int(i)\n",
    "                kl.append(i)\n",
    "        return min(kl)"
   ]
  },
  {
   "cell_type": "markdown",
   "metadata": {},
   "source": [
    "## 3507. Minimum Pair Removal to Sort Array I"
   ]
  },
  {
   "cell_type": "code",
   "execution_count": null,
   "metadata": {},
   "outputs": [],
   "source": [
    "class Solution:\n",
    "    def minimumPairRemoval(self, nums: List[int]) -> int:\n",
    "        jk=sorted(nums)\n",
    "        p=0\n",
    "        while jk!=nums:\n",
    "            k='0'\n",
    "            op=[]\n",
    "            for i in range(len(nums)-1):\n",
    "                pk=[nums[i],nums[i+1]]\n",
    "                if k=='0':\n",
    "                    k=int(k)\n",
    "                    k=sum(pk)\n",
    "                    op=[i,i+1]\n",
    "                else:\n",
    "                    if sum(pk)<k:\n",
    "                        k=sum(pk)\n",
    "                        op=[i,i+1]\n",
    "            k,op\n",
    "            nums.insert(op[0],k)\n",
    "            nums.pop(op[0]+1)\n",
    "            nums.pop(op[0]+1)\n",
    "            k='0'\n",
    "            op=[]\n",
    "            p=p+1\n",
    "\n",
    "            jk=sorted(nums)\n",
    "        return p\n",
    "        "
   ]
  },
  {
   "cell_type": "markdown",
   "metadata": {},
   "source": [
    "## 1323. Maximum 69 Number"
   ]
  },
  {
   "cell_type": "code",
   "execution_count": null,
   "metadata": {},
   "outputs": [],
   "source": [
    "class Solution:\n",
    "    def maximum69Number (self, num: int) -> int:\n",
    "        num = str(num)\n",
    "        num=list(num)\n",
    "        if '6' in num:\n",
    "            num.insert(num.index('6')+1,'9')\n",
    "            num.pop(num.index('6'))\n",
    "        return int(''.join(num))  "
   ]
  },
  {
   "cell_type": "markdown",
   "metadata": {},
   "source": [
    "## 2745. Construct the Longest New String"
   ]
  },
  {
   "cell_type": "code",
   "execution_count": null,
   "metadata": {},
   "outputs": [],
   "source": [
    "class Solution:\n",
    "    def longestString(self, x: int, y: int, z: int) -> int:\n",
    "        k=''\n",
    "        while True:\n",
    "            if x==y:\n",
    "                if z!=0:\n",
    "                    k=k+'AB'\n",
    "                    z=z-1\n",
    "                else:\n",
    "                    k=k+'AA'\n",
    "                    x=x-1\n",
    "                    k=k+'BB'\n",
    "                    y=y-1\n",
    "                    if x==0 or y==0:\n",
    "                        break\n",
    "            if x>y:\n",
    "                if z!=0:\n",
    "                    k=k+'AB'\n",
    "                    z=z-1\n",
    "                else:\n",
    "                    k=k+'AA'\n",
    "                    x=x-1\n",
    "                    k=k+'BB'\n",
    "                    y=y-1\n",
    "                    if x==0 or y==0:\n",
    "                        k=k+'AA'\n",
    "                        x=x-1\n",
    "                        break\n",
    "            if x<y:\n",
    "                k=k+'BB'\n",
    "                y=y-1\n",
    "                k=k+'AA'\n",
    "                x=x-1\n",
    "                if x==0 or y==0:\n",
    "                    k=k+'BB'\n",
    "                    y=y-1\n",
    "                    while z!=0:\n",
    "                        k=k+'AB'\n",
    "                        z=z-1\n",
    "                    break\n",
    "        return len(k)\n",
    "\n",
    "\n",
    "        "
   ]
  },
  {
   "cell_type": "markdown",
   "metadata": {},
   "source": [
    "## 1409. Queries on a Permutation With Key"
   ]
  },
  {
   "cell_type": "code",
   "execution_count": null,
   "metadata": {},
   "outputs": [],
   "source": [
    "class Solution:\n",
    "    def processQueries(self, queries: List[int], m: int) -> List[int]:\n",
    "        mm = [i for i in range(1,m+1)]\n",
    "        k=[]\n",
    "        for i in queries:\n",
    "            k.append(mm.index(i))\n",
    "            mm.pop(mm.index(i))\n",
    "            mm.insert(0,i)\n",
    "        return k\n",
    "        "
   ]
  },
  {
   "cell_type": "markdown",
   "metadata": {},
   "source": [
    "## 482. License Key Formatting"
   ]
  },
  {
   "cell_type": "code",
   "execution_count": null,
   "metadata": {},
   "outputs": [],
   "source": [
    "class Solution:\n",
    "    def licenseKeyFormatting(self, s: str, k: int) -> str:\n",
    "        while True:\n",
    "            op=0\n",
    "            for i in s:\n",
    "                if i in '1234567890qwertyuiopasdfghjklzxcvbnm':\n",
    "                    op=1\n",
    "                    break\n",
    "            if op==1:\n",
    "                break\n",
    "            else:\n",
    "                return ''\n",
    "            \n",
    "        s=s.split('-')\n",
    "        print(s)\n",
    "        \n",
    "        s=''.join(s)\n",
    "        # print(s)\n",
    "        kq=[]\n",
    "        if len(s)%k==0:\n",
    "            \n",
    "\n",
    "            op=''\n",
    "            for i in s:\n",
    "                if i in 'qwertyuiopasdfghjklzxcvbnm':\n",
    "                    op=op+i.upper()\n",
    "                else:\n",
    "                    op=op+i\n",
    "                \n",
    "                if len(op)>=k:\n",
    "                    kq.append(op)\n",
    "                    kq.append('-')\n",
    "                    op=''\n",
    "                \n",
    "                    \n",
    "                # print(op)\n",
    "            kq.pop(-1)\n",
    "            \n",
    "        else:\n",
    "            # print('ok')\n",
    "            while len(s)%k!=0:\n",
    "                s=list(s)\n",
    "                if s[0] in 'qwertyuiopasdfghjklzxcvbnm':\n",
    "                    \n",
    "                    kq.append(s[0].upper())\n",
    "                else:\n",
    "                    kq.append(s[0])\n",
    "                s.pop(0)\n",
    "            # print(kq,s)\n",
    "            op=''\n",
    "            for i in s:\n",
    "                if i in 'qwertyuiopasdfghjklzxcvbnm':\n",
    "                    op=op+i.upper()\n",
    "                else:\n",
    "                    op=op+i\n",
    "                \n",
    "                if len(op)>=k:\n",
    "                    kq.append('-')\n",
    "                    kq.append(op)\n",
    "                    op=''\n",
    "        return (''.join(kq))     "
   ]
  },
  {
   "cell_type": "markdown",
   "metadata": {},
   "source": [
    "## 2708. Maximum Strength of a Group"
   ]
  },
  {
   "cell_type": "code",
   "execution_count": null,
   "metadata": {},
   "outputs": [],
   "source": [
    "class Solution:\n",
    "    def maxStrength(self, nums: List[int]) -> int:\n",
    "        ij =nums.copy()\n",
    "        op=0\n",
    "        while 0 in nums:\n",
    "            nums.pop(nums.index(0))\n",
    "\n",
    "        nums =sorted(nums)\n",
    "        for i in nums:\n",
    "            if i <0:\n",
    "                op=op+1\n",
    "        if op ==len(ij)==1:\n",
    "            return ij[0]\n",
    "        if op%2 ==0:\n",
    "            if len(nums)==0:\n",
    "                return 0\n",
    "\n",
    "            k = math.prod(nums)\n",
    "            \n",
    "        else:\n",
    "\n",
    "            nums.pop(op-1)\n",
    "            if len(nums)==0:\n",
    "                return 0\n",
    "            k = math.prod(nums)\n",
    "        return k\n",
    "        "
   ]
  },
  {
   "cell_type": "markdown",
   "metadata": {},
   "source": [
    "## 1652. Defuse the Bomb"
   ]
  },
  {
   "cell_type": "code",
   "execution_count": null,
   "metadata": {},
   "outputs": [],
   "source": [
    "class Solution:\n",
    "    def decrypt(self, code: List[int], k: int) -> List[int]:\n",
    "        op=[]\n",
    "        if k ==0:\n",
    "            for i in range(len(code)):\n",
    "                op.append(0)\n",
    "        if k<0:\n",
    "            for i in range(len(code)):\n",
    "                uj=code[len(code)-abs(k)+i:len(code)]\n",
    "                ui = code[max(0,(i-abs(k))):i]+uj\n",
    "                op.append(sum(ui))\n",
    "                # print(ui,code[i])\n",
    "        if k>0:\n",
    "            for i in range(len(code)):\n",
    "                if len(code)-i<=k:\n",
    "                    uj=code[i+1:len(code)]\n",
    "                    ui = code[0:k-len(uj)] + uj\n",
    "                    op.append(sum(ui))\n",
    "                else:\n",
    "                    ui = code[i+1:i+k+1]\n",
    "                    op.append(sum(ui))\n",
    "        return op\n",
    "        "
   ]
  },
  {
   "cell_type": "markdown",
   "metadata": {},
   "source": [
    "## 2562. Find the Array Concatenation Value"
   ]
  },
  {
   "cell_type": "code",
   "execution_count": null,
   "metadata": {},
   "outputs": [],
   "source": [
    "class Solution:\n",
    "    def findTheArrayConcVal(self, nums: List[int]) -> int:\n",
    "        j=0\n",
    "        while len(nums)!=0:\n",
    "            # print(j)\n",
    "            if len(nums)==1:\n",
    "                j=j+nums[0]\n",
    "                break\n",
    "            g = str(nums[0])+str(nums[-1])\n",
    "            j=j+int(g)\n",
    "            nums.pop(0)\n",
    "            nums.pop(-1)\n",
    "        return j\n",
    "                "
   ]
  },
  {
   "cell_type": "markdown",
   "metadata": {},
   "source": [
    "## 1221. Split a String in Balanced Strings"
   ]
  },
  {
   "cell_type": "code",
   "execution_count": null,
   "metadata": {},
   "outputs": [],
   "source": [
    "class Solution:\n",
    "    def balancedStringSplit(self, s: str) -> int:\n",
    "        k=[]\n",
    "        o=''\n",
    "        for i in s:\n",
    "            o=o+i\n",
    "            if len(o)>1:\n",
    "                if o.count('R') ==o.count('L'):\n",
    "                    k.append(o)\n",
    "                    o=''\n",
    "        return len(k)\n",
    "        "
   ]
  },
  {
   "cell_type": "markdown",
   "metadata": {},
   "source": [
    "## 1832. Check if the Sentence Is Pangram"
   ]
  },
  {
   "cell_type": "code",
   "execution_count": null,
   "metadata": {},
   "outputs": [],
   "source": [
    "class Solution:\n",
    "    def checkIfPangram(self, sentence: str) -> bool:\n",
    "        k='qwertyuiopasdfghjklzxcvbnm'\n",
    "        sentence = list(set(sentence))\n",
    "        sentence = ''.join(sentence)\n",
    "        k=list(k)\n",
    "        for i in sentence:\n",
    "            if i in k:\n",
    "                k.pop(k.index(i))\n",
    "        if  len(k)!=0:\n",
    "            return False\n",
    "        return True\n",
    "        "
   ]
  },
  {
   "cell_type": "markdown",
   "metadata": {},
   "source": [
    "## 2609. Find the Longest Balanced Substring of a Binary String"
   ]
  },
  {
   "cell_type": "code",
   "execution_count": null,
   "metadata": {},
   "outputs": [],
   "source": [
    "class Solution:\n",
    "    def findTheLongestBalancedSubstring(self, s: str) -> int:\n",
    "        k=0\n",
    "        for j in range(0,len(s)):\n",
    "            for i in range(j,len(s)+1):\n",
    "                ui = s[j:i]\n",
    "                jkk =sorted(ui)\n",
    "                jkk=''.join(jkk)\n",
    "                # print(ui,jkk)\n",
    "                if  jkk == ui:\n",
    "                    # print(ui)\n",
    "                    if ui.count('0') == ui.count('1'):\n",
    "                        if len(ui) >k:\n",
    "                            k=len(ui)\n",
    "        return k\n",
    "        "
   ]
  },
  {
   "cell_type": "markdown",
   "metadata": {},
   "source": [
    "## 804. Unique Morse Code Words"
   ]
  },
  {
   "cell_type": "code",
   "execution_count": null,
   "metadata": {},
   "outputs": [],
   "source": [
    "class Solution:\n",
    "    def uniqueMorseRepresentations(self, words: List[str]) -> int:\n",
    "        k='qwertyuiopasdfghjklzxcvbnm'\n",
    "        k=sorted(k)\n",
    "        m=[\".-\",\"-...\",\"-.-.\",\"-..\",\".\",\"..-.\",\"--.\",\"....\",\"..\",\".---\",\"-.-\",\".-..\",\"--\",\"-.\",\"---\",\".--.\",\"--.-\",\".-.\",\"...\",\"-\",\"..-\",\"...-\",\".--\",\"-..-\",\"-.--\",\"--..\"]\n",
    "        l=[]\n",
    "        for i in words:\n",
    "            kl=''\n",
    "            for j in i:\n",
    "                kl=kl+m[(k.index(j))]\n",
    "            if kl  not in l:\n",
    "                l.append(kl)\n",
    "        return len(l)\n",
    "        "
   ]
  },
  {
   "cell_type": "markdown",
   "metadata": {},
   "source": [
    "## 541. Reverse String II"
   ]
  },
  {
   "cell_type": "code",
   "execution_count": null,
   "metadata": {},
   "outputs": [],
   "source": [
    "class Solution:\n",
    "    def reverseStr(self, s: str, k: int) -> str:\n",
    "        we=''\n",
    "        sd=1\n",
    "        for i in range(0,len(s)+1,k):\n",
    "            ty = s[i-k:i]\n",
    "            if sd == 0:\n",
    "                ty=list(ty)\n",
    "                ty=ty[::-1]\n",
    "                # print(ty)\n",
    "                ty=''.join(ty)\n",
    "                sd=1\n",
    "            else:\n",
    "                sd=0\n",
    "            we = we+ty\n",
    "            \n",
    "        # print(we)\n",
    "\n",
    "        if len(s)%k!=0:\n",
    "            # print((len(s)//k)*k)\n",
    "            if sd ==0:\n",
    "                we=we+s[(len(s)//k)*k:len(s)][::-1]\n",
    "                # print(s[(len(s)//k)*k:len(s)][::-1],sd)\n",
    "            else:\n",
    "                we=we+s[(len(s)//k)*k:len(s)]\n",
    "        return we\n",
    "        "
   ]
  },
  {
   "cell_type": "markdown",
   "metadata": {},
   "source": [
    "## 2660. Determine the Winner of a Bowling Game"
   ]
  },
  {
   "cell_type": "code",
   "execution_count": null,
   "metadata": {},
   "outputs": [],
   "source": [
    "class Solution:\n",
    "    def isWinner(self, player1: List[int], player2: List[int]) -> int:\n",
    "        s1=0\n",
    "        s2=0\n",
    "\n",
    "        for i  in range(len(player1)):\n",
    "            if i==0:\n",
    "                s1= s1+player1[i]\n",
    "            elif i==1:\n",
    "                if player1[i-1] ==10:\n",
    "                    s1= s1+2*player1[i]\n",
    "                else:\n",
    "                    s1=s1+player1[i]\n",
    "\n",
    "\n",
    "\n",
    "            else:\n",
    "                if player1[i-1] ==10 or player1[i-2] ==10:\n",
    "                    s1= s1+2*player1[i]\n",
    "                else:\n",
    "                    s1=s1+player1[i]\n",
    "\n",
    "            \n",
    "\n",
    "            if i==0:\n",
    "                s2= s2+player2[i]\n",
    "            elif i==1:\n",
    "                if player2[i-1] ==10:\n",
    "                    s2= s2+2*player2[i]\n",
    "                else:\n",
    "                    s2=s2+player2[i]\n",
    "\n",
    "\n",
    "\n",
    "            else:\n",
    "                if player2[i-1] ==10 or player2[i-2] ==10:\n",
    "                    s2= s2+2*player2[i]\n",
    "                else:\n",
    "                    s2=s2+player2[i]\n",
    "        if s1==s2:\n",
    "            return(0)\n",
    "        if s1>s2:\n",
    "            return(1)\n",
    "        if s1<s2:\n",
    "            return(2)\n",
    "        "
   ]
  },
  {
   "cell_type": "markdown",
   "metadata": {},
   "source": [
    "## 3442. Maximum Difference Between Even and Odd Frequency I"
   ]
  },
  {
   "cell_type": "code",
   "execution_count": null,
   "metadata": {},
   "outputs": [],
   "source": [
    "class Solution:\n",
    "    def maxDifference(self, s: str) -> int:\n",
    "        s1 = list(set(s))\n",
    "        ene=[]\n",
    "        odd=[]\n",
    "        rslt ='0'\n",
    "        for i in s1:\n",
    "            k= s.count(i)\n",
    "            if k%2==0:\n",
    "                ene.append(k)\n",
    "            else:\n",
    "                odd.append(k)\n",
    "            # print(odd,ene)\n",
    "        if (len(odd) and len(ene))>0:\n",
    "            for i in odd:\n",
    "                for j in ene:\n",
    "                    jk=i-j\n",
    "                    if rslt=='0':\n",
    "                        rslt = int(rslt)\n",
    "                        rslt=jk\n",
    "                    else:\n",
    "                        if jk>rslt:\n",
    "                            rslt=jk\n",
    "\n",
    "        return rslt\n",
    "        "
   ]
  },
  {
   "cell_type": "markdown",
   "metadata": {},
   "source": [
    "## 1683. Invalid Tweets"
   ]
  },
  {
   "cell_type": "code",
   "execution_count": null,
   "metadata": {},
   "outputs": [],
   "source": [
    "select tweet_id from tweets where LENGTH((content)) >15"
   ]
  },
  {
   "cell_type": "markdown",
   "metadata": {},
   "source": [
    "## 1646. Get Maximum in Generated Array"
   ]
  },
  {
   "cell_type": "code",
   "execution_count": null,
   "metadata": {},
   "outputs": [],
   "source": [
    "class Solution:\n",
    "    def getMaximumGenerated(self, n: int) -> int:\n",
    "        if n==0:\n",
    "            return 0\n",
    "        k=[0,1]\n",
    "        i=1\n",
    "\n",
    "        while True:\n",
    "            if 2 <= 2 * i <= n:\n",
    "                k.insert((i*2),k[i])\n",
    "            else:\n",
    "                break\n",
    "            if 2 <= 2 * i + 1 <= n:\n",
    "                k.insert((i*2)+1, k[i] + k[i + 1])\n",
    "            else:\n",
    "                break\n",
    "            i=i+1\n",
    "        return max(k)\n",
    "        "
   ]
  },
  {
   "cell_type": "markdown",
   "metadata": {},
   "source": [
    "## 2032. Two Out of Three"
   ]
  },
  {
   "cell_type": "code",
   "execution_count": null,
   "metadata": {},
   "outputs": [],
   "source": [
    "class Solution:\n",
    "    def twoOutOfThree(self, nums1: List[int], nums2: List[int], nums3: List[int]) -> List[int]:\n",
    "        j=[]\n",
    "        for i in nums1:\n",
    "            if i  not in j:\n",
    "                if i in nums2  or i in nums3:\n",
    "                    j.append(i)\n",
    "\n",
    "        for i in nums2:\n",
    "            if i  not in j:\n",
    "                if i in nums1  or i in nums3:\n",
    "                    j.append(i)\n",
    "        for i in nums3:\n",
    "            if i  not in j:\n",
    "                if i in nums2  or i in nums1:\n",
    "                    j.append(i)\n",
    "        return j\n",
    "        "
   ]
  },
  {
   "cell_type": "markdown",
   "metadata": {},
   "source": [
    "## 2785. Sort Vowels in a String"
   ]
  },
  {
   "cell_type": "code",
   "execution_count": null,
   "metadata": {},
   "outputs": [],
   "source": [
    "class Solution:\n",
    "    def sortVowels(self, s: str) -> str:\n",
    "        lp=[]\n",
    "        pos=[]\n",
    "        for i in range(len(s)):\n",
    "            if s[i] in 'AEIOUaeiou':\n",
    "                lp.append(s[i])\n",
    "                pos.append(i)\n",
    "\n",
    "        lp\n",
    "        kp = sorted(lp)\n",
    "\n",
    "        s=list(s)\n",
    "        for i in range(len(pos)):\n",
    "            s.pop(pos[i])\n",
    "            s.insert(pos[i],kp[i])\n",
    "        s=''.join(s)\n",
    "        return s\n",
    "        "
   ]
  },
  {
   "cell_type": "markdown",
   "metadata": {},
   "source": [
    "## 576. Replace All ?'s to Avoid Consecutive Repeating Characters"
   ]
  },
  {
   "cell_type": "code",
   "execution_count": null,
   "metadata": {},
   "outputs": [],
   "source": [
    "class Solution:\n",
    "    def modifyString(self, s: str) -> str:\n",
    "        s=list(s)\n",
    "        if len(s)==1:\n",
    "            if '?' in s:\n",
    "                s.insert(1,'a')\n",
    "                s.pop(0)\n",
    "        sd = 'qwertyuiopasdfghjklzxcvbnm'\n",
    "        sd=sorted(sd)\n",
    "        for i in s[:]:\n",
    "            if i=='?':\n",
    "                hj = s.index(i)\n",
    "                # return(hj)\n",
    "                if hj==0:\n",
    "                    for jh in sd:\n",
    "                        if jh!=s[hj+1]:\n",
    "                            # return(jh,s[hj+1])\n",
    "                            s.insert(hj+1,jh)\n",
    "                            s.pop(hj)\n",
    "                            break\n",
    "                elif hj== len(s)-1:\n",
    "                    for jh in sd:\n",
    "                        if jh!=s[hj-1]:\n",
    "                            s.insert(hj+1,jh)\n",
    "                            s.pop(hj)\n",
    "                            break\n",
    "                else:\n",
    "                    for jh in sd:\n",
    "                        if jh!=s[hj-1] :\n",
    "                            if jh!=s[hj+1]:\n",
    "                                s.insert(hj+1,jh)\n",
    "                                s.pop(hj)\n",
    "                                break\n",
    "        return ''.join(s)\n",
    "                "
   ]
  },
  {
   "cell_type": "markdown",
   "metadata": {},
   "source": [
    "## 521. Longest Uncommon Subsequence I"
   ]
  },
  {
   "cell_type": "code",
   "execution_count": null,
   "metadata": {},
   "outputs": [],
   "source": [
    "class Solution:\n",
    "    def findLUSlength(self, a: str, b: str) -> int:\n",
    "        if a!=b:\n",
    "            return(max(len(a),len(b)))\n",
    "        k=0\n",
    "        for i in range(len(a)):\n",
    "            ia= a[i:len(a)]\n",
    "            ib= b[i:len(a)]\n",
    "            # return(ia,ib)\n",
    "            if ia!=ib:\n",
    "                return(len(ia))\n",
    "                break\n",
    "        return(-1)\n",
    "        \n",
    "        "
   ]
  },
  {
   "cell_type": "markdown",
   "metadata": {},
   "source": [
    "## 2011. Final Value of Variable After Performing Operations"
   ]
  },
  {
   "cell_type": "code",
   "execution_count": null,
   "metadata": {},
   "outputs": [],
   "source": [
    "class Solution:\n",
    "    def finalValueAfterOperations(self, operations: List[str]) -> int:\n",
    "        p=0\n",
    "        for i in operations:\n",
    "            if i in ['++X' , 'X++']:\n",
    "                p=p+1\n",
    "            if i in ['--X' , 'X--']:\n",
    "                p=p-1\n",
    "        return p\n",
    "            \n",
    "\n",
    "        "
   ]
  },
  {
   "cell_type": "markdown",
   "metadata": {},
   "source": [
    "## 409. Longest Palindrome"
   ]
  },
  {
   "cell_type": "code",
   "execution_count": null,
   "metadata": {},
   "outputs": [],
   "source": [
    "class Solution:\n",
    "    def longestPalindrome(self, s: str) -> int:\n",
    "        h=0\n",
    "        l=0\n",
    "        k=[s.count(i) for i in list(set(s))]\n",
    "        k\n",
    "        for i  in k:\n",
    "            if i %2==0:\n",
    "                h=h+i\n",
    "            else:\n",
    "                l=1\n",
    "                if i!=1:\n",
    "                    h=h+i-1\n",
    "        h=h+l\n",
    "        # h\n",
    "        return h\n",
    "        "
   ]
  },
  {
   "cell_type": "markdown",
   "metadata": {},
   "source": [
    "## 1399. Count Largest Group"
   ]
  },
  {
   "cell_type": "code",
   "execution_count": null,
   "metadata": {},
   "outputs": [],
   "source": [
    "class Solution:\n",
    "    def countLargestGroup(self, n: int) -> int:\n",
    "        j=[]\n",
    "        if n<9:\n",
    "            return(n)\n",
    "        else:\n",
    "            j=[i for i in range(1,10)]\n",
    "            for i in range(10,n+1):\n",
    "                i = str(i)\n",
    "                i=list(i)\n",
    "                i=list(map(int,i))\n",
    "                j.append(sum(i))\n",
    "        # print(j)\n",
    "        p=[j.count(i) for i in list(set(j))]\n",
    "        return (p.count(max(p)))\n",
    "        "
   ]
  },
  {
   "cell_type": "markdown",
   "metadata": {},
   "source": [
    "## 2078. Two Furthest Houses With Different Colors"
   ]
  },
  {
   "cell_type": "code",
   "execution_count": null,
   "metadata": {},
   "outputs": [],
   "source": [
    "class Solution:\n",
    "    def maxDistance(self, colors: List[int]) -> int:\n",
    "        k='0'\n",
    "        for i in range(len(colors)):\n",
    "            for j in range(len(colors)):\n",
    "                if colors[i]!=colors[j]:\n",
    "                    if k=='0':\n",
    "                        k=int(k)\n",
    "                        k=abs(i-j)\n",
    "                    else:\n",
    "                        if k<abs(i-j):\n",
    "                            k=abs(i-j)\n",
    "\n",
    "        return k \n",
    "        "
   ]
  },
  {
   "cell_type": "markdown",
   "metadata": {},
   "source": [
    "## 3136. Valid Word"
   ]
  },
  {
   "cell_type": "code",
   "execution_count": null,
   "metadata": {},
   "outputs": [],
   "source": [
    "class Solution:\n",
    "    def isValid(self, word: str) -> bool:\n",
    "        o=0\n",
    "        p=0\n",
    "        ok=0\n",
    "        if len(word)>2:\n",
    "\n",
    "            for  i in word:\n",
    "                \n",
    "                if i in '1234567890':\n",
    "                   pass\n",
    "                else:\n",
    "                    if i.lower() in 'qwertyuiopasdfghjklzxcvbnm':\n",
    "                        if i in 'AEIOU' :\n",
    "                            o=1\n",
    "                        else:\n",
    "                            if i in 'aeiou':\n",
    "                                o=1\n",
    "                            else:\n",
    "                                if i in 'QWRTYPSDFGHJKLZXCVBNM':\n",
    "                                    p=1\n",
    "                                else:\n",
    "                                    if i in 'qwrtypsdfghjklzxcvbnm':\n",
    "                                        p=1\n",
    "                    else:\n",
    "                        return(False)\n",
    "        print(o,p)           \n",
    "        if o==1 and p==1 :\n",
    "            return True\n",
    "        #     print(True)\n",
    "        # print(False)\n",
    "        return False\n",
    "                \n",
    "\n",
    "        "
   ]
  },
  {
   "cell_type": "markdown",
   "metadata": {},
   "source": [
    "## 2951. Find the Peaks"
   ]
  },
  {
   "cell_type": "code",
   "execution_count": null,
   "metadata": {},
   "outputs": [],
   "source": [
    "class Solution:\n",
    "    def findPeaks(self, mountain: List[int]) -> List[int]:\n",
    "        k=[]\n",
    "        for i in range(1,len(mountain)-1):\n",
    "            if mountain[i] > mountain[i-1] and mountain[i] > mountain[i+1]:\n",
    "                k.append(i)\n",
    "        return k\n",
    "        "
   ]
  },
  {
   "cell_type": "markdown",
   "metadata": {},
   "source": [
    "## 2710. Remove Trailing Zeros From a String"
   ]
  },
  {
   "cell_type": "code",
   "execution_count": null,
   "metadata": {},
   "outputs": [],
   "source": [
    "class Solution:\n",
    "    def removeTrailingZeros(self, num: str) -> str:\n",
    "        num = list(num)\n",
    "        while num[-1] =='0':\n",
    "            num.pop(-1)\n",
    "        num=''.join(num)\n",
    "        return num       "
   ]
  },
  {
   "cell_type": "markdown",
   "metadata": {},
   "source": [
    "## 2974. Minimum Number Game"
   ]
  },
  {
   "cell_type": "code",
   "execution_count": null,
   "metadata": {},
   "outputs": [],
   "source": [
    "class Solution:\n",
    "    def numberGame(self, nums: List[int]) -> List[int]:\n",
    "        l=[]\n",
    "        nums=sorted(nums)\n",
    "        for i in range(1,len(nums),2):\n",
    "            l.append(nums[i])\n",
    "            l.append(nums[i-1])\n",
    "        return l\n",
    "        \n",
    "\n",
    "        "
   ]
  },
  {
   "cell_type": "markdown",
   "metadata": {},
   "source": [
    "## 2903. Find Indices With Index and Value Difference I"
   ]
  },
  {
   "cell_type": "code",
   "execution_count": null,
   "metadata": {},
   "outputs": [],
   "source": [
    "class Solution:\n",
    "    def findIndices(self, nums: List[int], indexDifference: int, valueDifference: int) -> List[int]:\n",
    "        k=[]\n",
    "        for i in range(len(nums)):\n",
    "            for j in range(len(nums)):\n",
    "                if abs(i - j) >= indexDifference and abs(nums[i] - nums[j]) >= valueDifference:\n",
    "                    k.append(i)\n",
    "                    k.append(j)\n",
    "                    return (k)\n",
    "        return [-1, -1]\n",
    "        "
   ]
  },
  {
   "cell_type": "markdown",
   "metadata": {},
   "source": [
    "## 1704. Determine if String Halves Are Alike"
   ]
  },
  {
   "cell_type": "code",
   "execution_count": null,
   "metadata": {},
   "outputs": [],
   "source": [
    "class Solution:\n",
    "    def halvesAreAlike(self, s: str) -> bool:\n",
    "        def vow(s):\n",
    "            u=0\n",
    "            for i in s:\n",
    "                if i.lower() in 'aeiou':\n",
    "                    u=u+1\n",
    "            return u\n",
    "\n",
    "        dr = s[0:len(s)//2]\n",
    "        dr1 = s[len(s)//2:len(s)]\n",
    "        if vow(dr) == vow(dr1):\n",
    "            return(True)\n",
    "        return(False)\n",
    "        "
   ]
  },
  {
   "cell_type": "markdown",
   "metadata": {},
   "source": [
    "## 1936. Add Minimum Number of Rungs"
   ]
  },
  {
   "cell_type": "code",
   "execution_count": null,
   "metadata": {},
   "outputs": [],
   "source": [
    "class Solution:\n",
    "    def addRungs(self, rungs: List[int], dist: int) -> int:\n",
    "        s=0\n",
    "        if dist ==1:\n",
    "            return abs(max(rungs)-len(rungs))\n",
    "        rungs.insert(0,0)\n",
    "        for i in range(len(rungs)-1):\n",
    "            if abs(rungs[i]-rungs[i+1])%dist==0:\n",
    "                s=s+(abs(rungs[i]-rungs[i+1])//dist)-1\n",
    "            else:\n",
    "                s=s+ abs(rungs[i]-rungs[i+1])//dist\n",
    "        return s\n",
    "        "
   ]
  },
  {
   "cell_type": "markdown",
   "metadata": {},
   "source": [
    "## 2016. Maximum Difference Between Increasing Elements"
   ]
  },
  {
   "cell_type": "code",
   "execution_count": null,
   "metadata": {},
   "outputs": [],
   "source": [
    "class Solution:\n",
    "    def maximumDifference(self, nums: List[int]) -> int:\n",
    "        op = combinations(nums,2)\n",
    "        s='0'\n",
    "        for i in op:\n",
    "            i = list(i)\n",
    "            if i[0]<i[1]:\n",
    "                if s=='0':\n",
    "                    s=int(s)\n",
    "                    s=i[1]-i[0]\n",
    "                else:\n",
    "                    if s<i[1]-i[0]:\n",
    "                        s=i[1]-i[0]\n",
    "\n",
    "        if s=='0':\n",
    "            return -1\n",
    "\n",
    "        return s\n",
    "        "
   ]
  },
  {
   "cell_type": "markdown",
   "metadata": {},
   "source": [
    "## 2784. Check if Array is Good"
   ]
  },
  {
   "cell_type": "code",
   "execution_count": null,
   "metadata": {},
   "outputs": [],
   "source": [
    "class Solution:\n",
    "    def isGood(self, nums: List[int]) -> bool:\n",
    "        def base(w):\n",
    "            o =[]\n",
    "            for i in range(1,w+1):\n",
    "                o.append(i)\n",
    "            o.append(o[-1])\n",
    "            return o\n",
    "        if base(max(nums)) == sorted(nums):\n",
    "                return(True)\n",
    "        return False"
   ]
  },
  {
   "cell_type": "markdown",
   "metadata": {},
   "source": [
    "## 483. Unique 3-Digit Even Numbers"
   ]
  },
  {
   "cell_type": "code",
   "execution_count": null,
   "metadata": {},
   "outputs": [],
   "source": [
    "class Solution:\n",
    "    def totalNumbers(self, digits: List[int]) -> int:\n",
    "        s = permutations(digits,3)\n",
    "        g=[]\n",
    "        for i in s:\n",
    "\n",
    "            i=list(i)\n",
    "            i=map(str,i)\n",
    "        \n",
    "\n",
    "            i =''.join(i)\n",
    "            # print(i)\n",
    "            i=int(i)\n",
    "            i=str(i)\n",
    "    \n",
    "            if len(i)==3:\n",
    "                i=int(i)\n",
    "                if i not in g and i%2==0:\n",
    "                    g.append(i)\n",
    "\n",
    "            \n",
    "        return len(g)\n",
    "\n",
    "        "
   ]
  },
  {
   "cell_type": "markdown",
   "metadata": {},
   "source": [
    "## 73. Set Matrix Zeroes"
   ]
  },
  {
   "cell_type": "code",
   "execution_count": null,
   "metadata": {},
   "outputs": [],
   "source": [
    "class Solution:\n",
    "    def setZeroes(self, matrix: List[List[int]]) -> None:\n",
    "        zero=[]\n",
    "        for i in matrix[:]:\n",
    "            if 0 in i:\n",
    "                for f in range(len(i)):\n",
    "                    if i[f]==0:\n",
    "                        if f not in zero:\n",
    "                            zero.append(f)\n",
    "                kk= [0 for i in range(len(i))]\n",
    "                matrix.insert(matrix.index(i)+1,kk)\n",
    "                matrix.pop(matrix.index(i))\n",
    "\n",
    "        # matrix,zero\n",
    "        for i in matrix[:]:\n",
    "            kk=[]\n",
    "            for h in range(len(i)):\n",
    "                if h in zero:\n",
    "                    kk.append(0)\n",
    "                else:\n",
    "\n",
    "                    kk.append(i[h])\n",
    "\n",
    "\n",
    "            matrix.insert(matrix.index(i)+1,kk)\n",
    "            matrix.pop(matrix.index(i))\n",
    "\n",
    "\n",
    "        # matrix\n",
    "        \"\"\"\n",
    "        Do not return anything, modify matrix in-place instead.\n",
    "        \"\"\"\n",
    "        "
   ]
  },
  {
   "cell_type": "markdown",
   "metadata": {},
   "source": [
    "## 1078. Occurrences After Bigram"
   ]
  },
  {
   "cell_type": "code",
   "execution_count": null,
   "metadata": {},
   "outputs": [],
   "source": [
    "class Solution:\n",
    "    def findOcurrences(self, text: str, first: str, second: str) -> List[str]:\n",
    "        text =text.split(' ')\n",
    "        io =[]\n",
    "        for i in range(len(text)):\n",
    "            if text[i] == first  and i <len(text)-2:\n",
    "                if text[i+1] == second:\n",
    "                    io.append(text[i+2])\n",
    "        return io\n",
    "        "
   ]
  },
  {
   "cell_type": "markdown",
   "metadata": {},
   "source": [
    "## 1678. Goal Parser Interpretation"
   ]
  },
  {
   "cell_type": "code",
   "execution_count": null,
   "metadata": {},
   "outputs": [],
   "source": [
    "class Solution:\n",
    "    def interpret(self, command: str) -> str:\n",
    "        command =command.replace('()','o')\n",
    "        command=list(command)\n",
    "        for i in command[:]:\n",
    "            if i =='(':\n",
    "                command.pop(command.index(i))\n",
    "            if i ==')':\n",
    "                command.pop(command.index(i))\n",
    "        command=''.join(command)\n",
    "        return command\n",
    "        "
   ]
  },
  {
   "cell_type": "markdown",
   "metadata": {},
   "source": [
    "## 3024. Type of Triangle"
   ]
  },
  {
   "cell_type": "code",
   "execution_count": null,
   "metadata": {},
   "outputs": [],
   "source": [
    "class Solution:\n",
    "    def triangleType(self, nums: List[int]) -> str:\n",
    "        nums1=list(set(nums))\n",
    "        if len(nums1)==3:\n",
    "            if nums[0] + nums[1] > nums[2]:\n",
    "\n",
    "                if nums[1] + nums[2] > nums[0]:\n",
    "                \n",
    "                    if nums[0] + nums[2] > nums[1]:\n",
    "\n",
    "                        return 'scalene'\n",
    "        if len(nums1)==2:\n",
    "            if nums[0] + nums[1] > nums[2]:\n",
    "\n",
    "                if nums[1] + nums[2] > nums[0]:\n",
    "                \n",
    "                    if nums[0] + nums[2] > nums[1]:\n",
    "                        return 'isosceles'\n",
    "        if len(nums1)==1:\n",
    "            return 'equilateral'\n",
    "        return 'none'\n",
    "        \n",
    "        \n",
    "        "
   ]
  },
  {
   "cell_type": "markdown",
   "metadata": {},
   "source": [
    "## 2287. Rearrange Characters to Make Target String"
   ]
  },
  {
   "cell_type": "code",
   "execution_count": null,
   "metadata": {},
   "outputs": [],
   "source": [
    "class Solution:\n",
    "    def rearrangeCharacters(self, s: str, target: str) -> int:\n",
    "        s=list(s)\n",
    "        target=list(target)\n",
    "        l=0\n",
    "        io=0\n",
    "        j=0\n",
    "        while io==0:\n",
    "            for i in target:\n",
    "                print(i,s,l)\n",
    "                if i in s:\n",
    "                    s.pop(s.index(i))\n",
    "                else:\n",
    "                    io=1\n",
    "                    j=1\n",
    "                    break\n",
    "                    \n",
    "            l=l+1\n",
    "        return l-j\n",
    "        "
   ]
  },
  {
   "cell_type": "markdown",
   "metadata": {},
   "source": [
    "## 3304. Find the K-th Character in String Game I"
   ]
  },
  {
   "cell_type": "code",
   "execution_count": null,
   "metadata": {},
   "outputs": [],
   "source": [
    "class Solution:\n",
    "    def kthCharacter(self, k: int) -> str:\n",
    "        q='a'\n",
    "        alpha = 'qwertyuiopasdfghjklzxcvbnm'\n",
    "        alpha=sorted(alpha)\n",
    "        while len(q)<k:\n",
    "            h=''\n",
    "            for i in q:\n",
    "                \n",
    "                h=h+alpha[alpha.index(i)+1]\n",
    "            q=q+h\n",
    "        return q[k-1]\n",
    "        "
   ]
  },
  {
   "cell_type": "markdown",
   "metadata": {},
   "source": [
    "## 3345. Smallest Divisible Digit Product I"
   ]
  },
  {
   "cell_type": "code",
   "execution_count": null,
   "metadata": {},
   "outputs": [],
   "source": [
    "class Solution:\n",
    "    def smallestNumber(self, n: int, t: int) -> int:\n",
    "        while True:\n",
    "            n=str(n)\n",
    "            if len(n)==1:\n",
    "                if int(n)%t==0:\n",
    "                    return int(n)\n",
    "                else:\n",
    "                    n=int(n)\n",
    "                    n=n+1\n",
    "            else:\n",
    "                ko=1\n",
    "                for i in n:\n",
    "                    ko = ko*int(i)\n",
    "                if ko %t ==0:\n",
    "                    return int(n)\n",
    "                else:\n",
    "                    n=int(n)\n",
    "                    n=n+1\n",
    "            \n",
    "                    \n",
    "                \n",
    "            "
   ]
  },
  {
   "cell_type": "markdown",
   "metadata": {},
   "source": [
    "## 1002. Find Common Characters"
   ]
  },
  {
   "cell_type": "code",
   "execution_count": null,
   "metadata": {},
   "outputs": [],
   "source": [
    "class Solution:\n",
    "    def commonChars(self, words: List[str]) -> List[str]:\n",
    "        jk=[]\n",
    "        for k in words[0]:\n",
    "            hj=0\n",
    "            for i in range(1,len(words)):\n",
    "                if k in words[i][:]:\n",
    "                    words[i] = list(words[i])\n",
    "                    words[i].pop(words[i].index(k))\n",
    "                    words[i]=''.join(words[i])\n",
    "                else:\n",
    "                    hj=1\n",
    "                    break\n",
    "            # print(words)\n",
    "            if hj==0:\n",
    "                jk.append(k)\n",
    "        return jk\n",
    "        "
   ]
  },
  {
   "cell_type": "markdown",
   "metadata": {},
   "source": [
    "## 1037. Valid Boomerang"
   ]
  },
  {
   "cell_type": "code",
   "execution_count": null,
   "metadata": {},
   "outputs": [],
   "source": [
    "class Solution:\n",
    "    def isBoomerang(self, points: List[List[int]]) -> bool:\n",
    "        \n",
    "        x1=points[0][0]\n",
    "        y1=points[0][1]\n",
    "        x2=points[1][0]\n",
    "        y2=points[1][1]\n",
    "        x3=points[2][0]\n",
    "        y3=points[2][1]\n",
    "\n",
    "        r = 0.5*abs(x1*(y2-y3)+x2*(y3-y1)+x3*(y1-y2))\n",
    "        if r!=0:\n",
    "            return(True)\n",
    "        else:\n",
    "            return(False)"
   ]
  },
  {
   "cell_type": "markdown",
   "metadata": {},
   "source": [
    "## 1763. Longest Nice Substring"
   ]
  },
  {
   "cell_type": "code",
   "execution_count": null,
   "metadata": {},
   "outputs": [],
   "source": [
    "class Solution:\n",
    "    def longestNiceSubstring(self, s: str) -> str:\n",
    "        s2='0'\n",
    "        ku=[]\n",
    "\n",
    "        def good(s):\n",
    "            for i in s:\n",
    "                if i in 'QWERTYUIOPASDFGHJKLZXCVBNM':\n",
    "                    if i.lower() in s:\n",
    "                        pass\n",
    "                    else:\n",
    "                        return False\n",
    "                if i in 'qwertyuiopasdfghjklzxcvbnm':\n",
    "                    if i.upper() in s:\n",
    "                        pass\n",
    "                    else:\n",
    "                        return False\n",
    "            return True\n",
    "\n",
    "\n",
    "        for  i in range(len(s)):\n",
    "            for j in range(i+1,len(s)+1):\n",
    "                ko = s[i:j]\n",
    "                # print(ko,good(ko))\n",
    "                if good(ko)==True:\n",
    "                    if  s2=='0':\n",
    "                        s2=int(s2)\n",
    "                        s2=len(ko)\n",
    "                        ku.clear()\n",
    "                        ku.append(ko)\n",
    "\n",
    "                    else:\n",
    "                        if len(ko)>s2:\n",
    "                            s2=len(ko)\n",
    "                            ku.clear()\n",
    "                            ku.append(ko)\n",
    "        if len(ku)==0:\n",
    "            return ''\n",
    "        return ku[0]\n",
    "        "
   ]
  },
  {
   "cell_type": "markdown",
   "metadata": {},
   "source": [
    "## 1736. Latest Time by Replacing Hidden Digits"
   ]
  },
  {
   "cell_type": "code",
   "execution_count": null,
   "metadata": {},
   "outputs": [],
   "source": [
    "class Solution:\n",
    "    def maximumTime(self, time: str) -> str:\n",
    "        \n",
    "        k = time.split(':')\n",
    "        k\n",
    "        lo=[]\n",
    "        gh = 0\n",
    "        for i in k[:]:\n",
    "            if gh ==0:\n",
    "\n",
    "                if '?' in i:\n",
    "                    i=list(i)\n",
    "                    if i[0] =='?':\n",
    "                        if i[1] == '?':\n",
    "                            i.insert(0,'2')\n",
    "                            i.pop(1)\n",
    "                        else:\n",
    "                            if int(i[1]) <4:\n",
    "                                i.insert(0,'2')\n",
    "                                i.pop(1)\n",
    "                            else:\n",
    "                                i.insert(0,'1')\n",
    "                                i.pop(1)\n",
    "\n",
    "                    if i[-1] =='?':\n",
    "                        if i[0] in '01':\n",
    "                            # i=i.replace('?','9')\n",
    "                            i.insert(1,'9')\n",
    "                            i.pop(-1)\n",
    "                        else:\n",
    "                            i.insert(1,'3')\n",
    "                            i.pop(-1)\n",
    "                i=''.join(i)\n",
    "                lo.append(i)\n",
    "                lo.append(':')\n",
    "                gh=1\n",
    "\n",
    "\n",
    "            else:\n",
    "\n",
    "                \n",
    "        \n",
    "                if '?' in i:\n",
    "                    i=list(i)\n",
    "                    if i[0] =='?':\n",
    "                        # i=i.replace('?','5')\n",
    "                        i.insert(0,'5')\n",
    "                        i.pop(1)\n",
    "                    if i[-1] == '?':\n",
    "                        \n",
    "                        # i=i.replace('?','9')\n",
    "                        i.insert(1,'9')\n",
    "                        i.pop(-1)\n",
    "                    # print(i)\n",
    "                i=''.join(i)\n",
    "                lo.append(i)\n",
    "                        \n",
    "\n",
    "            \n",
    "        lo=''.join(lo)\n",
    "        return lo"
   ]
  },
  {
   "cell_type": "markdown",
   "metadata": {},
   "source": [
    "## 2918. Minimum Equal Sum of Two Arrays After Replacing Zeros"
   ]
  },
  {
   "cell_type": "code",
   "execution_count": null,
   "metadata": {},
   "outputs": [],
   "source": [
    "class Solution:\n",
    "    def minSum(self, nums1: List[int], nums2: List[int]) -> int:\n",
    "        if 0 not in nums1 and 0 not in nums2:\n",
    "            if sum(nums1)==sum(nums2):\n",
    "                return(sum(nums1))\n",
    "            else:\n",
    "                return -1\n",
    "        if 0 in nums1 and 0 not in nums2:\n",
    "            if sum(nums2)<=sum(nums1):\n",
    "                return(-1)\n",
    "            if sum(nums2)>sum(nums1):\n",
    "                yu = nums1.count(0)\n",
    "                ui = abs(sum(nums1)-sum(nums2))\n",
    "                if ui>= yu:\n",
    "                    return(sum(nums2))\n",
    "                else:\n",
    "                    return(-1)\n",
    "        if 0 not in nums1 and 0 in nums2:\n",
    "            if sum(nums1)<=sum(nums2):\n",
    "                return(-1)\n",
    "            if sum(nums1)>sum(nums2):\n",
    "                ui =abs(sum(nums1)-sum(nums2))\n",
    "                yu = nums2.count(0)\n",
    "                if ui>= yu:\n",
    "                    return(sum(nums1))\n",
    "                else:\n",
    "                    return(-1)\n",
    "\n",
    "        fg1 = nums1.count(0)\n",
    "        fg2 = nums2.count(0)\n",
    "        sd=sum(nums1)\n",
    "        sd2=sum(nums2)\n",
    "        if fg1==fg2 and sd==sd2:\n",
    "            return(sd2+fg2)\n",
    "        if fg1<=fg2:\n",
    "            sd = sd+fg1\n",
    "            if sd<=sd2:\n",
    "                return(sd2+fg2)\n",
    "            else:\n",
    "                if abs(sd-sd2) <fg2:\n",
    "                    return(sd2+fg2)\n",
    "                else:\n",
    "                    return(sd)\n",
    "        else:\n",
    "            sd2 = sd2+fg2\n",
    "            if sd2<=sd:\n",
    "                return(sd+fg1)\n",
    "            else:\n",
    "                if abs(sd-sd2) <fg1:\n",
    "                    return(sd+fg1)\n",
    "                else:\n",
    "                    return(sd2)\n",
    "        "
   ]
  },
  {
   "cell_type": "markdown",
   "metadata": {},
   "source": [
    "## 1394. Find Lucky Integer in an Array"
   ]
  },
  {
   "cell_type": "code",
   "execution_count": null,
   "metadata": {},
   "outputs": [],
   "source": [
    "class Solution:\n",
    "    def findLucky(self, arr: List[int]) -> int:\n",
    "        s='0'\n",
    "        for i in list(set(arr)):\n",
    "            if arr.count(i)==i:\n",
    "                if s=='0':\n",
    "                    s=int(s)\n",
    "                    s=i\n",
    "                if s!='0' and i>s:\n",
    "                    s=i\n",
    "        if s=='0':\n",
    "            return -1\n",
    "        return s\n",
    "        "
   ]
  },
  {
   "cell_type": "markdown",
   "metadata": {},
   "source": [
    "## 3005. Count Elements With Maximum Frequency"
   ]
  },
  {
   "cell_type": "code",
   "execution_count": null,
   "metadata": {},
   "outputs": [],
   "source": [
    "class Solution:\n",
    "    def maxFrequencyElements(self, nums: List[int]) -> int:\n",
    "        g=[]\n",
    "        for i in nums:\n",
    "            g.append(nums.count(i))\n",
    "        return g.count(max(g))\n",
    "\n",
    "        "
   ]
  },
  {
   "cell_type": "markdown",
   "metadata": {},
   "source": [
    "## 3364. Minimum Positive Sum Subarray "
   ]
  },
  {
   "cell_type": "code",
   "execution_count": null,
   "metadata": {},
   "outputs": [],
   "source": [
    "class Solution:\n",
    "    def minimumSumSubarray(self, nums: List[int], l: int, r: int) -> int:\n",
    "        hg = '0'\n",
    "\n",
    "        for i in range(len(nums)):\n",
    "            for j in range(i+1,len(nums)+1):\n",
    "                h = nums[i:j]\n",
    "                if len(h) >=min(l,r) and len(h) <=max(l,r) :\n",
    "                    if hg =='0' and sum(h)>0:\n",
    "                        hg = int(hg)\n",
    "                        hg = sum(h)\n",
    "                    if hg!='0':\n",
    "                        if sum(h)<hg  and sum(h)>0:\n",
    "                            hg = sum(h)\n",
    "                    \n",
    "                    # print(h)\n",
    "        if hg =='0':\n",
    "            return (-1)\n",
    "        return hg\n",
    "        "
   ]
  },
  {
   "cell_type": "markdown",
   "metadata": {},
   "source": [
    "## 342. Power of Four"
   ]
  },
  {
   "cell_type": "code",
   "execution_count": null,
   "metadata": {},
   "outputs": [],
   "source": [
    "class Solution:\n",
    "    def isPowerOfFour(self, n: int) -> bool:\n",
    "\n",
    "        i =0\n",
    "        \n",
    "        while True:\n",
    "            s = 4**i\n",
    "            if s ==n:\n",
    "                return True\n",
    "            if s<n:\n",
    "                i=i+1\n",
    "            if s>n:\n",
    "                return False\n",
    "                \n",
    "        "
   ]
  },
  {
   "cell_type": "markdown",
   "metadata": {},
   "source": [
    "## 1844. Replace All Digits with Characters"
   ]
  },
  {
   "cell_type": "code",
   "execution_count": null,
   "metadata": {},
   "outputs": [],
   "source": [
    "class Solution:\n",
    "    def replaceDigits(self, s: str) -> str:\n",
    "        alpha = 'qwertyuiopasdfghjklzxcvbnm'\n",
    "        alpha = sorted(alpha)\n",
    "        sa=''\n",
    "        for i in s:\n",
    "            if i not in '1234567890':\n",
    "                sa=sa+i\n",
    "            else:\n",
    "                d = alpha.index(sa[-1])\n",
    "                sa=sa+alpha[d+int(i)]\n",
    "        return sa\n",
    "        "
   ]
  },
  {
   "cell_type": "markdown",
   "metadata": {},
   "source": [
    "## 2446. Determine if Two Events Have Conflict"
   ]
  },
  {
   "cell_type": "code",
   "execution_count": null,
   "metadata": {},
   "outputs": [],
   "source": [
    "class Solution:\n",
    "    def haveConflict(self, event1: List[str], event2: List[str]) -> bool:\n",
    "        def time(a):\n",
    "            a=a.split(':')\n",
    "            a=''.join(a)\n",
    "            a=int(a)\n",
    "            if a ==0:\n",
    "                return 2400\n",
    "            return a\n",
    "        for i in event1[:]:\n",
    "            event1.append(time(i))\n",
    "            event1.pop(event1.index(i))\n",
    "        for i in event2[:]:\n",
    "            event2.append(time(i))\n",
    "            event2.pop(event2.index(i))\n",
    "        for i in event2:\n",
    "            if i >= event1[0] and i<= event1[1]:\n",
    "                return(True)\n",
    "        for i in event1:\n",
    "            if i >= event2[0] and i<= event2[1]:\n",
    "                return(True)\n",
    "            \n",
    "        return(False)\n",
    "        "
   ]
  },
  {
   "cell_type": "markdown",
   "metadata": {},
   "source": [
    "## 1480. Running Sum of 1d Array"
   ]
  },
  {
   "cell_type": "code",
   "execution_count": null,
   "metadata": {},
   "outputs": [],
   "source": [
    "class Solution:\n",
    "    def runningSum(self, nums: List[int]) -> List[int]:\n",
    "        k=[]\n",
    "        for i in range(1,len(nums)+1):\n",
    "            io = nums[:i]\n",
    "            k.append(sum(io))\n",
    "        return k\n",
    "        "
   ]
  },
  {
   "cell_type": "markdown",
   "metadata": {},
   "source": [
    "## 1539. Kth Missing Positive Number"
   ]
  },
  {
   "cell_type": "code",
   "execution_count": null,
   "metadata": {},
   "outputs": [],
   "source": [
    "class Solution:\n",
    "    def findKthPositive(self, arr: List[int], k: int) -> int:\n",
    "        d=[]\n",
    "        i=1\n",
    "        while len(d)!= k:\n",
    "            if i not  in arr:\n",
    "                d.append(i)\n",
    "            i=i+1\n",
    "        return d[-1]\n",
    "                "
   ]
  },
  {
   "cell_type": "markdown",
   "metadata": {},
   "source": [
    "## 2614. Prime In Diagonal"
   ]
  },
  {
   "cell_type": "code",
   "execution_count": null,
   "metadata": {},
   "outputs": [],
   "source": [
    "class Solution:\n",
    "    def diagonalPrime(self, nums: List[List[int]]) -> int:\n",
    "        def isprime(n):\n",
    "            if n<=1:\n",
    "                return False\n",
    "            for i in range(2,int(n**0.5)+1):\n",
    "                if n%i ==0:\n",
    "                    return False\n",
    "            return True\n",
    "        numss = nums[::-1]\n",
    "        k =[]\n",
    "        for i,j in zip(range(len(nums)), range(len(nums))):\n",
    "            if isprime(nums[i][i]) == True:\n",
    "                k.append(nums[i][i])\n",
    "            if isprime(numss[i][i]) == True:\n",
    "                k.append(numss[i][i])\n",
    "        if len(k)==0:\n",
    "            return 0\n",
    "        return max(k)\n",
    "        "
   ]
  },
  {
   "cell_type": "markdown",
   "metadata": {},
   "source": [
    "## 1518. Water Bottles"
   ]
  },
  {
   "cell_type": "code",
   "execution_count": null,
   "metadata": {},
   "outputs": [],
   "source": [
    "class Solution:\n",
    "    def numWaterBottles(self, numBottles: int, numExchange: int) -> int:\n",
    "        s=numBottles\n",
    "        while s>numExchange-1:\n",
    "            s=s-numExchange\n",
    "            numBottles=numBottles+1\n",
    "            s=s+1\n",
    "        return numBottles\n",
    "        "
   ]
  },
  {
   "cell_type": "markdown",
   "metadata": {},
   "source": [
    "## 2744. Find Maximum Number of String Pairs"
   ]
  },
  {
   "cell_type": "code",
   "execution_count": null,
   "metadata": {},
   "outputs": [],
   "source": [
    "class Solution:\n",
    "    def maximumNumberOfStringPairs(self, words: List[str]) -> int:\n",
    "        wo = combinations(words,2)\n",
    "        s=0\n",
    "        for i in wo:\n",
    "            i = list(i)\n",
    "            if i[0] == i[1][::-1]:\n",
    "                s=s+1\n",
    "        return s\n",
    "        "
   ]
  },
  {
   "cell_type": "markdown",
   "metadata": {},
   "source": [
    "## 3038. Maximum Number of Operations With the Same Score I"
   ]
  },
  {
   "cell_type": "code",
   "execution_count": null,
   "metadata": {},
   "outputs": [],
   "source": [
    "class Solution:\n",
    "    def maxOperations(self, nums: List[int]) -> int:\n",
    "        s=0\n",
    "        if len(nums)>1:\n",
    "\n",
    "            d = nums[0]+nums[1]\n",
    "            while len(nums)>1:\n",
    "                # print(nums)\n",
    "                if  nums[0]+nums[1] ==d:\n",
    "                    s=s+1\n",
    "                    nums.pop(0)\n",
    "                    nums.pop(0)\n",
    "                else:\n",
    "                    break\n",
    "        return s\n",
    "        "
   ]
  },
  {
   "cell_type": "markdown",
   "metadata": {},
   "source": [
    "## 2500. Delete Greatest Value in Each Row"
   ]
  },
  {
   "cell_type": "code",
   "execution_count": null,
   "metadata": {},
   "outputs": [],
   "source": [
    "class Solution:\n",
    "    def deleteGreatestValue(self, grid: List[List[int]]) -> int:\n",
    "        s=0\n",
    "        # while True:\n",
    "        k=[]\n",
    "        for  j in range(len(grid[0])):\n",
    "            for i in grid:\n",
    "                # print(max(i))\n",
    "                \n",
    "                k.append(max(i))\n",
    "                i.remove(max(i))\n",
    "            s=s+max(k)\n",
    "            k=[]\n",
    "            \n",
    "        return s\n",
    "                "
   ]
  },
  {
   "cell_type": "markdown",
   "metadata": {},
   "source": [
    "## 2869. Minimum Operations to Collect Elements"
   ]
  },
  {
   "cell_type": "code",
   "execution_count": null,
   "metadata": {},
   "outputs": [],
   "source": [
    "class Solution:\n",
    "    def minOperations(self, nums: List[int], k: int) -> int:\n",
    "        dk =[]\n",
    "        for i in range(1,k+1):\n",
    "            dk.append(i)\n",
    "        dk = sorted(dk)\n",
    "        coll =[]\n",
    "        s=0\n",
    "        while len(dk)!=0 and len(nums)!=0:\n",
    "            if nums[-1] in dk:\n",
    "                dk.remove(nums[-1])\n",
    "            nums.pop(-1)\n",
    "            s=s+1\n",
    "        return s\n",
    "            \n",
    "\n",
    "\n",
    "\n",
    "        "
   ]
  },
  {
   "cell_type": "markdown",
   "metadata": {},
   "source": [
    "## 1441. Build an Array With Stack Operations"
   ]
  },
  {
   "cell_type": "code",
   "execution_count": null,
   "metadata": {},
   "outputs": [],
   "source": [
    "class Solution:\n",
    "    def buildArray(self, target: List[int], n: int) -> List[str]:\n",
    "        dk =[]\n",
    "        for i in range(1,n+1):\n",
    "            dk.append(i)\n",
    "        slk =[]\n",
    "        df=[]\n",
    "        d1 = \"Push\"\n",
    "        d2=\"Pop\"\n",
    "        for i  in dk:\n",
    "            if i in target:\n",
    "                slk.append(i)\n",
    "                df.append(d1)\n",
    "            if i not in target:\n",
    "                \n",
    "\n",
    "                df.append(d1)\n",
    "                df.append(d2)\n",
    "            if sorted(target)==sorted(slk):\n",
    "                break\n",
    "        return df\n",
    "        "
   ]
  },
  {
   "cell_type": "markdown",
   "metadata": {},
   "source": [
    "## 2352. Equal Row and Column Pairs"
   ]
  },
  {
   "cell_type": "code",
   "execution_count": null,
   "metadata": {},
   "outputs": [],
   "source": [
    "class Solution:\n",
    "    def equalPairs(self, grid: List[List[int]]) -> int:\n",
    "        grid2 =[]\n",
    "\n",
    "        for j in range(len(grid[0])):\n",
    "            k=[]\n",
    "            for i in range(len(grid)):\n",
    "                # print(j,i)\n",
    "                # print(grid[i][j])\n",
    "                k.append(grid[i][j])\n",
    "            # print(k)\n",
    "            grid2.append(k)\n",
    "            k=[]\n",
    "        grid2\n",
    "        \n",
    "        s1=0\n",
    "        for i in grid:\n",
    "            if i in grid2:\n",
    "                s1= s1+grid2.count(i)\n",
    "        s2=0\n",
    "        for i in grid2:\n",
    "            if i in grid:\n",
    "                s2= s2+grid.count(i)\n",
    "        return max(s1,s2)\n",
    "        "
   ]
  },
  {
   "cell_type": "markdown",
   "metadata": {},
   "source": [
    "## 2200. Find All K-Distant Indices in an Array"
   ]
  },
  {
   "cell_type": "code",
   "execution_count": null,
   "metadata": {},
   "outputs": [],
   "source": [
    "class Solution:\n",
    "    def findKDistantIndices(self, nums: List[int], key: int, k: int) -> List[int]:\n",
    "        p=[]\n",
    "        for i in range(len(nums)):\n",
    "            for j in range(len(nums)):\n",
    "                if abs(i - j) <= k and nums[j] == key:\n",
    "                    p.append(i)\n",
    "        p = set(p)\n",
    "        p=list(p)\n",
    "        p = sorted(p)\n",
    "        return p\n",
    "        "
   ]
  },
  {
   "cell_type": "markdown",
   "metadata": {},
   "source": [
    "## 2341. Maximum Number of Pairs in Array"
   ]
  },
  {
   "cell_type": "code",
   "execution_count": null,
   "metadata": {},
   "outputs": [],
   "source": [
    "class Solution:\n",
    "    def numberOfPairs(self, nums: List[int]) -> List[int]:\n",
    "        s=0\n",
    "        so=0\n",
    "        # print(1//2)\n",
    "        for i in list(set(nums)):\n",
    "            if nums.count(i) %2 !=0:\n",
    "                s=s+1\n",
    "            so =so+(nums.count(i))//2\n",
    "        return [so,s]\n",
    "        "
   ]
  },
  {
   "cell_type": "markdown",
   "metadata": {},
   "source": [
    "## 3516. Find Closest Person"
   ]
  },
  {
   "cell_type": "code",
   "execution_count": null,
   "metadata": {},
   "outputs": [],
   "source": [
    "class Solution:\n",
    "    def findClosest(self, x: int, y: int, z: int) -> int:\n",
    "        xs = abs(x-z)\n",
    "        ys = abs(y-z)\n",
    "        if xs<ys:\n",
    "            return 1\n",
    "        if xs>ys:\n",
    "            return 2\n",
    "        if xs==ys:\n",
    "            return 0\n",
    "        "
   ]
  },
  {
   "cell_type": "markdown",
   "metadata": {},
   "source": [
    "## 2278. Percentage of Letter in String"
   ]
  },
  {
   "cell_type": "code",
   "execution_count": null,
   "metadata": {},
   "outputs": [],
   "source": [
    "class Solution:\n",
    "    def percentageLetter(self, s: str, letter: str) -> int:\n",
    "        return int((s.count(letter)/len(s))*100)\n",
    "        "
   ]
  },
  {
   "cell_type": "markdown",
   "metadata": {},
   "source": [
    "## 2351. First Letter to Appear Twice"
   ]
  },
  {
   "cell_type": "code",
   "execution_count": null,
   "metadata": {},
   "outputs": [],
   "source": [
    "class Solution:\n",
    "    def repeatedCharacter(self, s: str) -> str:\n",
    "        for i in range(1,len(s)):\n",
    "            j = s[0:i+1]\n",
    "            # print(j)\n",
    "            for n in list(set(j)):\n",
    "                if j.count(n) ==2:\n",
    "                    return(n)\n",
    "                # return(j[0])\n",
    "        "
   ]
  },
  {
   "cell_type": "markdown",
   "metadata": {},
   "source": [
    "## 387. First Unique Character in a String"
   ]
  },
  {
   "cell_type": "code",
   "execution_count": null,
   "metadata": {},
   "outputs": [],
   "source": [
    "class Solution:\n",
    "    def firstUniqChar(self, s: str) -> int:\n",
    "        d= dict.fromkeys(s)\n",
    "        d=list(d.keys())\n",
    "        d\n",
    "        for i in d:\n",
    "            if s.count(i)==1:\n",
    "                return (s.index(i))\n",
    "        return (-1)\n",
    "                "
   ]
  },
  {
   "cell_type": "markdown",
   "metadata": {},
   "source": [
    "## 3069. Distribute Elements Into Two Arrays I"
   ]
  },
  {
   "cell_type": "code",
   "execution_count": null,
   "metadata": {},
   "outputs": [],
   "source": [
    "class Solution:\n",
    "    def resultArray(self, nums: List[int]) -> List[int]:\n",
    "        arr1=[nums[0]]\n",
    "        arr2=[nums[1]]\n",
    "        for i in range(2,len(nums)):\n",
    "            \n",
    "            if arr1[-1]>arr2[-1]:\n",
    "                arr1.append(nums[i])\n",
    "            else:\n",
    "                arr2.append(nums[i])\n",
    "        return arr1+arr2\n",
    "        "
   ]
  },
  {
   "cell_type": "markdown",
   "metadata": {},
   "source": [
    "## 2206. Divide Array Into Equal Pairs"
   ]
  },
  {
   "cell_type": "code",
   "execution_count": null,
   "metadata": {},
   "outputs": [],
   "source": [
    "class Solution:\n",
    "    def divideArray(self, nums: List[int]) -> bool:\n",
    "        for i in list(set(nums)):\n",
    "            if nums.count(i)%2!=0:\n",
    "                return(False)\n",
    "        return(True)\n",
    "        "
   ]
  },
  {
   "cell_type": "markdown",
   "metadata": {},
   "source": [
    "## 884. Uncommon Words from Two Sentences"
   ]
  },
  {
   "cell_type": "code",
   "execution_count": null,
   "metadata": {},
   "outputs": [],
   "source": [
    "class Solution:\n",
    "    def uncommonFromSentences(self, s1: str, s2: str) -> List[str]:\n",
    "        s1 = s1.split(' ')\n",
    "        s2 = s2.split(' ')\n",
    "        s1,s2\n",
    "        extra =[]\n",
    "        extraa =[]\n",
    "        # while True:\n",
    "        for i in list(set(s1)):\n",
    "            if s1.count(i) >1:\n",
    "                extra.append(i)\n",
    "        for i in list(set(s2)):\n",
    "            if s2.count(i) >1:\n",
    "                extra.append(i)\n",
    "            \n",
    "        for i in s1[:]:\n",
    "            if i in s2:\n",
    "                s1.remove(i)\n",
    "                s2.remove(i)\n",
    "        for i in s2[:]:\n",
    "            if i in s1:\n",
    "                s1.remove(i)\n",
    "                s2.remove(i)\n",
    "        sa = s1+s2\n",
    "\n",
    "        for i in sa[:]:\n",
    "            if i in extra :\n",
    "                while i in sa:\n",
    "                    sa.remove(i)\n",
    "        sa\n",
    "        return sa\n",
    "        "
   ]
  },
  {
   "cell_type": "markdown",
   "metadata": {},
   "source": [
    "## 378. Kth Smallest Element in a Sorted Matrix"
   ]
  },
  {
   "cell_type": "code",
   "execution_count": null,
   "metadata": {},
   "outputs": [],
   "source": [
    "class Solution:\n",
    "    def kthSmallest(self, matrix: List[List[int]], k: int) -> int:\n",
    "        j=''\n",
    "        for i in matrix:\n",
    "            i=map(str,i)\n",
    "            j=j+' '+' '.join(i)\n",
    "\n",
    "        j=j.split(' ')\n",
    "        j.pop(0)\n",
    "        j\n",
    "        j=list(map(int,j))\n",
    "\n",
    "        j=sorted(j)\n",
    "        return j[k-1]\n",
    "                "
   ]
  },
  {
   "cell_type": "markdown",
   "metadata": {},
   "source": [
    "## 1636. Sort Array by Increasing Frequency"
   ]
  },
  {
   "cell_type": "code",
   "execution_count": null,
   "metadata": {},
   "outputs": [],
   "source": [
    "class Solution:\n",
    "    def frequencySort(self, s: List[int]) -> List[int]:\n",
    "        s=sorted(s)\n",
    "        s=s[::-1]\n",
    "        k={}\n",
    "        for i in s:\n",
    "            if i in k:\n",
    "                k[i]+=1\n",
    "            else:\n",
    "                k[i]=1\n",
    "        k\n",
    "        char =list(k.keys())\n",
    "        no =list(k.values())\n",
    "        char,no\n",
    "        no1 = sorted(no)\n",
    "        jh=[]\n",
    "        for i in no1:\n",
    "            d = no.index(i)\n",
    "            jh.append(char[d])\n",
    "            no.insert(d+1,'l')\n",
    "            no.pop(d)\n",
    "        # jh=jh[::-1]\n",
    "        # no1=no1[::-1]\n",
    "        jh,no1\n",
    "        h =[]\n",
    "        for i in jh:\n",
    "            for j in range(s.count(i)):\n",
    "                h.append(i)\n",
    "        return h\n",
    "                "
   ]
  },
  {
   "cell_type": "markdown",
   "metadata": {},
   "source": [
    "## 2682. Find the Losers of the Circular Game"
   ]
  },
  {
   "cell_type": "code",
   "execution_count": null,
   "metadata": {},
   "outputs": [],
   "source": [
    "class Solution:\n",
    "    def circularGameLosers(self, n: int, k: int) -> List[int]:\n",
    "        n1=[i for i in range(1,n+1)]\n",
    "        n\n",
    "        l=[1]\n",
    "        oi=1\n",
    "        while True:\n",
    "            h = l[-1]+(k*oi)\n",
    "            while h>n:\n",
    "                h=h-n\n",
    "\n",
    "            \n",
    "            if h in l:\n",
    "                break\n",
    "            else:\n",
    "                l.append(h)\n",
    "            oi=oi+1\n",
    "        n1=set(n1)\n",
    "        l=set(l)\n",
    "\n",
    "        e=list(n1-l)\n",
    "        return sorted(e) \n",
    "                "
   ]
  },
  {
   "cell_type": "markdown",
   "metadata": {},
   "source": [
    "## 2176. Count Equal and Divisible Pairs in an Array"
   ]
  },
  {
   "cell_type": "code",
   "execution_count": null,
   "metadata": {},
   "outputs": [],
   "source": [
    "class Solution:\n",
    "    def countPairs(self, nums: List[int], k: int) -> int:\n",
    "        s=0\n",
    "\n",
    "        for i in range(len(nums)):\n",
    "            for j in range(len(nums)):\n",
    "                if i!=j and i < j :\n",
    "                    ki = [nums[i],nums[j]]\n",
    "                    # print(ki)\n",
    "                    if ki[0] == ki[1] and (i*j)%k==0:\n",
    "                        # print(ki)\n",
    "                        s=s+1\n",
    "        return s\n",
    "                "
   ]
  },
  {
   "cell_type": "markdown",
   "metadata": {},
   "source": [
    "## 2006. Count Number of Pairs With Absolute Difference K"
   ]
  },
  {
   "cell_type": "code",
   "execution_count": null,
   "metadata": {},
   "outputs": [],
   "source": [
    "class Solution:\n",
    "    def countKDifference(self, nums: List[int], k: int) -> int:\n",
    "        s=0\n",
    "\n",
    "        for i in range(len(nums)):\n",
    "            for j in range(len(nums)):\n",
    "                if i < j :\n",
    "                    ki = [nums[i],nums[j]]\n",
    "                    # print(ki)\n",
    "                    if abs(ki[0] -ki[1]) ==k:\n",
    "                        # print(ki)\n",
    "                        s=s+1\n",
    "        return s\n",
    "        "
   ]
  },
  {
   "cell_type": "markdown",
   "metadata": {},
   "source": [
    "## 925. Long Pressed Name"
   ]
  },
  {
   "cell_type": "code",
   "execution_count": null,
   "metadata": {},
   "outputs": [],
   "source": [
    "class Solution:\n",
    "    def isLongPressedName(self, name: str, typed: str) -> bool:\n",
    "        name1 =name\n",
    "\n",
    "        if len(name) == 0:\n",
    "            pass\n",
    "        else:\n",
    "            ui = []\n",
    "            name = list(name)\n",
    "            typed = list(typed)\n",
    "            while len(typed) !=0:\n",
    "                if len(name)==0 and len(typed)!=0 :\n",
    "                    lo =list(set(typed))\n",
    "                    # print(lo)\n",
    "                    if len(lo)>1:\n",
    "                        return False\n",
    "                    if len(lo) == 1 and lo[0] == ui[-1]:\n",
    "                        return True\n",
    "\n",
    "                    return(False)\n",
    "                if len(name)==0  and ui == list(name1):\n",
    "                    return(True)\n",
    "                if  name[0] != typed[0]  and len(ui)==0:\n",
    "                    return(False)\n",
    "\n",
    "                # return(ui,name,typed)\n",
    "                if name[0] == typed[0]:\n",
    "                    ui.append(name[0])\n",
    "                    name.pop(0)\n",
    "                    typed.pop(0)\n",
    "                elif name[0] != typed[0]  and  typed[0] == ui[-1] :\n",
    "                    typed.pop(0)\n",
    "                elif name[0] != typed[0]  and  typed[0] != ui[-1] :\n",
    "                    return(False)\n",
    "                    break\n",
    "            # return(ui,name,typed)\n",
    "            if ui == list(name1):\n",
    "                return(True)\n",
    "            return False\n",
    "                "
   ]
  },
  {
   "cell_type": "markdown",
   "metadata": {},
   "source": [
    "## 2908. Minimum Sum of Mountain Triplets I"
   ]
  },
  {
   "cell_type": "code",
   "execution_count": null,
   "metadata": {},
   "outputs": [],
   "source": [
    "class Solution:\n",
    "    def minimumSum(self, nums: List[int]) -> int:\n",
    "        ip = combinations(nums,3)\n",
    "        s='0'\n",
    "        for op in ip:\n",
    "            nums = list(op)\n",
    "            # print(nums)\n",
    "            i=0\n",
    "            j=1\n",
    "            k=2\n",
    "            if nums[i] < nums[j] and nums[k] < nums[j]  and(s=='0'): \n",
    "                s= int(s)\n",
    "                s=sum(nums)\n",
    "            if nums[i] < nums[j] and nums[k] < nums[j]  and( sum(nums) <s): \n",
    "                # s= int(s)\n",
    "                s=sum(nums)\n",
    "        if s=='0':\n",
    "            return -1\n",
    "   \n",
    "        \n",
    "        return s"
   ]
  },
  {
   "cell_type": "markdown",
   "metadata": {},
   "source": [
    "## 496. Next Greater Element I"
   ]
  },
  {
   "cell_type": "code",
   "execution_count": null,
   "metadata": {},
   "outputs": [],
   "source": [
    "class Solution:\n",
    "    def nextGreaterElement(self, nums1: List[int], nums2: List[int]) -> List[int]:\n",
    "        ans=[]\n",
    "        def whatnext(gh,nums2):\n",
    "            if gh ==len(nums2)-1:\n",
    "                return -1\n",
    "            for iq in range(gh+1,len(nums2)):\n",
    "                if nums2[iq]>i:\n",
    "                    return nums2[iq]\n",
    "            return -1\n",
    "        for i in nums1:\n",
    "            gh = nums2.index(i)\n",
    "            # print(whatnext(gh,nums2))\n",
    "            ans.append(whatnext(gh,nums2))\n",
    "        return ans\n",
    "\n",
    "        "
   ]
  },
  {
   "cell_type": "markdown",
   "metadata": {},
   "source": [
    "## 451. Sort Characters By Frequency"
   ]
  },
  {
   "cell_type": "code",
   "execution_count": null,
   "metadata": {},
   "outputs": [],
   "source": [
    "class Solution:\n",
    "    def frequencySort(self, s: str) -> str:\n",
    "        k={}\n",
    "        for i in s:\n",
    "            if i in k:\n",
    "                k[i]+=1\n",
    "            else:\n",
    "                k[i]=1\n",
    "        k\n",
    "        char =list(k.keys())\n",
    "        no =list(k.values())\n",
    "        char,no\n",
    "        no1 = sorted(no)\n",
    "        jh=[]\n",
    "        for i in no1:\n",
    "            d = no.index(i)\n",
    "            jh.append(char[d])\n",
    "            no.insert(d+1,'l')\n",
    "            no.pop(d)\n",
    "        jh=jh[::-1]\n",
    "        no1=no1[::-1]\n",
    "        jh,no1\n",
    "        h =''\n",
    "        for i in jh:\n",
    "            for j in range(s.count(i)):\n",
    "                h=h+i\n",
    "        return h\n",
    "                "
   ]
  },
  {
   "cell_type": "markdown",
   "metadata": {},
   "source": [
    "## 2248. Intersection of Multiple Arrays"
   ]
  },
  {
   "cell_type": "code",
   "execution_count": null,
   "metadata": {},
   "outputs": [],
   "source": [
    "class Solution:\n",
    "    def intersection(self, nums: List[List[int]]) -> List[int]:\n",
    "        def inter(i1,i2):\n",
    "            i1 = set(i1)\n",
    "            i2 = set(i2)\n",
    "            return list(set.intersection(i1,i2))\n",
    "        while len(nums)!=1:\n",
    "            u =inter(nums[0],nums[1])\n",
    "            nums.insert(0,u)\n",
    "            nums.pop(1)\n",
    "            nums.pop(1)\n",
    "        return sorted(nums[0])\n",
    "        "
   ]
  },
  {
   "cell_type": "markdown",
   "metadata": {},
   "source": [
    "## 1437. Check If All 1's Are at Least Length K Places Away"
   ]
  },
  {
   "cell_type": "code",
   "execution_count": null,
   "metadata": {},
   "outputs": [],
   "source": [
    "class Solution:\n",
    "    def kLengthApart(self, nums: List[int], k: int) -> bool:\n",
    "        j=[]\n",
    "        for i in range(len(nums)):\n",
    "            if nums[i]  == 1:\n",
    "                # return(i)\n",
    "                if len(j)==0:\n",
    "                    j.append(i)\n",
    "                else:\n",
    "\n",
    "        \n",
    "                    if abs(j[-1] - i) <k+1:\n",
    "                        return(False)\n",
    "                    else:\n",
    "                        j[0] = i\n",
    "\n",
    "        return(True)\n",
    "                "
   ]
  },
  {
   "cell_type": "markdown",
   "metadata": {},
   "source": [
    "## 1929. Concatenation of Array"
   ]
  },
  {
   "cell_type": "code",
   "execution_count": null,
   "metadata": {},
   "outputs": [],
   "source": [
    "class Solution:\n",
    "    def getConcatenation(self, nums: List[int]) -> List[int]:\n",
    "        j = nums.copy()\n",
    "        k = nums+j\n",
    "        return k\n",
    "        "
   ]
  },
  {
   "cell_type": "markdown",
   "metadata": {},
   "source": [
    "## 3456. Find Special Substring of Length K"
   ]
  },
  {
   "cell_type": "code",
   "execution_count": null,
   "metadata": {},
   "outputs": [],
   "source": [
    "class Solution:\n",
    "    def hasSpecialSubstring(self, s: str, k: int) -> bool:\n",
    "        for i in range(len(s)-k+1):\n",
    "            j = s[i:i+k]\n",
    "            if i==0 and  i+k == len(s) and len(list(set(j))) ==1 :\n",
    "                return (True)\n",
    "\n",
    "            elif i==0 and len(list(set(j))) ==1 and s[i+k] not in j:\n",
    "                return (True)\n",
    "            elif i+k == len(s) and len(list(set(j))) ==1 and s[i-1] not in j:\n",
    "                return (True)\n",
    "            else:\n",
    "                if (i+k)< len(s) and  i>0 and len(list(set(j))) ==1 and s[i+k] not in j and s[i-1] not in j:\n",
    "                    return (True)\n",
    "        return (False)\n",
    "                "
   ]
  },
  {
   "cell_type": "markdown",
   "metadata": {},
   "source": [
    "## 2933. High-Access Employees"
   ]
  },
  {
   "cell_type": "code",
   "execution_count": null,
   "metadata": {},
   "outputs": [],
   "source": [
    "class Solution:\n",
    "    def findHighAccessEmployees(self, access_times: List[List[str]]) -> List[str]:\n",
    "        d1=[]\n",
    "        d2=[]\n",
    "        access_times = sorted(access_times)\n",
    "        # print(access_times)\n",
    "        jk = []\n",
    "        for i in access_times:\n",
    "            # print(i,jk,d2)\n",
    "            \n",
    "            if i[0] not in d1:\n",
    "                d2.append(jk)\n",
    "                jk = []\n",
    "                d1.append(i[0])\n",
    "                jk.append(i[1])\n",
    "            elif i[0] in d1:\n",
    "                jk.append(i[1])\n",
    "        d2.append(jk)\n",
    "        d2.pop(0)\n",
    "        d2[0] = list(map(int,d2[0]))\n",
    "        d1,d2\n",
    "        fnl=[]\n",
    "        for i in range(len(d1)):\n",
    "            d2[i] = list(map(int,d2[i]))\n",
    "            if len(d2[i])==3 and abs(min(d2[i]) - max(d2[i])) <100:\n",
    "                fnl.append(d1[i])\n",
    "            if len(d2[i])>3:\n",
    "                d2[i]=sorted(d2[i])\n",
    "                for ii  in range(len(d2[i])-3+1):\n",
    "                    h = d2[i][ii:ii+3]\n",
    "                    if abs(min(h) - max(h)) <100:\n",
    "                        fnl.append(d1[i])\n",
    "                        break\n",
    "                        \n",
    "        return fnl   \n",
    "        "
   ]
  },
  {
   "cell_type": "markdown",
   "metadata": {},
   "source": [
    "## 3438. Find Valid Pair of Adjacent Digits in String"
   ]
  },
  {
   "cell_type": "code",
   "execution_count": null,
   "metadata": {},
   "outputs": [],
   "source": [
    "class Solution:\n",
    "    def findValidPair(self, s: str) -> str:\n",
    "        for i in range(len(s)-1):\n",
    "            h = s[i:i+2]\n",
    "            if h[0]!=h[1]  :\n",
    "                ze = int(h[0])\n",
    "                ze1 = int(h[1])\n",
    "                if s.count(h[0]) == ze and s.count(h[1])==ze1:\n",
    "                    return (h)\n",
    "        return \"\"\n",
    "        "
   ]
  },
  {
   "cell_type": "markdown",
   "metadata": {},
   "source": [
    "## 2475. Number of Unequal Triplets in Array"
   ]
  },
  {
   "cell_type": "code",
   "execution_count": null,
   "metadata": {},
   "outputs": [],
   "source": [
    "class Solution:\n",
    "    def unequalTriplets(self, nums: List[int]) -> int:\n",
    "        ip = combinations(nums,3)\n",
    "        s=0\n",
    "        for op in ip:\n",
    "            nums = list(op)\n",
    "            i=0\n",
    "            j=1\n",
    "            k=2\n",
    "            if nums[i] != nums[j]and nums[i] != nums[k] and nums[j] != nums[k]:\n",
    "                s=s+1\n",
    "\n",
    "            # print(arr)\n",
    "        return s\n",
    "        "
   ]
  },
  {
   "cell_type": "markdown",
   "metadata": {},
   "source": [
    "## 593. Valid Square"
   ]
  },
  {
   "cell_type": "code",
   "execution_count": null,
   "metadata": {},
   "outputs": [],
   "source": [
    "class Solution:\n",
    "    def validSquare(self, p1: List[int], p2: List[int], p3: List[int], p4: List[int]) -> bool:\n",
    "        u=[p1,p2,p3,p4]\n",
    "\n",
    "        # xu = [abs(p1[0]),abs(p2[0]),abs(p3[0]),abs(p4[0])]\n",
    "        # yu = [abs(p1[1]),abs(p2[1]),abs(p3[1]),abs(p4[1])]\n",
    "\n",
    "        def dist(p1,p2):\n",
    "            cx =abs(p2[0]-p1[0])\n",
    "            cx= cx**2\n",
    "            yx =abs(p2[1]-p1[1])\n",
    "            yx = yx**2\n",
    "            kj =cx+yx\n",
    "            return math.sqrt(kj)\n",
    "        def count2(p1):\n",
    "            s=0\n",
    "            ju=0\n",
    "            iu = list(set(p1))\n",
    "            if len(iu) == len(p1):\n",
    "                return 'o'\n",
    "            for i in iu:\n",
    "                if p1.count(i)>s:\n",
    "                    ju = i\n",
    "                    s=p1.count(i)\n",
    "            return ju\n",
    "\n",
    "        distance =[]\n",
    "        ok=[]\n",
    "        for i in range(len(u)):\n",
    "            for j in range(len(u)):\n",
    "                if i!=j:\n",
    "                    ok.append(dist(u[i],u[j]))\n",
    "\n",
    "            # print(ok)\n",
    "            # distance.append(count2(ok))\n",
    "            # ok=[]\n",
    "        for i in u:\n",
    "            if (u.count(i) >1):\n",
    "                return (False)\n",
    "        if (len(list(set(ok))))==2  :\n",
    "        #     print(True)\n",
    "        # print(False)\n",
    "            \n",
    "                return(True)\n",
    "        return False\n",
    "        "
   ]
  },
  {
   "cell_type": "markdown",
   "metadata": {},
   "source": [
    "## 2367. Number of Arithmetic Triplets"
   ]
  },
  {
   "cell_type": "code",
   "execution_count": null,
   "metadata": {},
   "outputs": [],
   "source": [
    "class Solution:\n",
    "    def arithmeticTriplets(self, nums: List[int], diff: int) -> int:\n",
    "        ip = combinations(nums,3)\n",
    "        s=0\n",
    "        for op in ip:\n",
    "            nums = list(op)\n",
    "            i=0\n",
    "            j=1\n",
    "            k=2\n",
    "            if nums[j] - nums[i] == diff and nums[k] - nums[j] == diff: \n",
    "                s=s+1\n",
    "        return s\n",
    "        "
   ]
  },
  {
   "cell_type": "markdown",
   "metadata": {},
   "source": [
    "## 468. Validate IP Address"
   ]
  },
  {
   "cell_type": "code",
   "execution_count": null,
   "metadata": {},
   "outputs": [],
   "source": [
    "class Solution:\n",
    "    def validIPAddress(self, queryIP: str) -> str:\n",
    "        if ':' in queryIP:\n",
    "            queryIP = queryIP.split(':')\n",
    "        if '.' in queryIP:\n",
    "            queryIP = queryIP.split('.')\n",
    "            \n",
    "\n",
    "        # return(queryIP)\n",
    "\n",
    "        def chk(k):\n",
    "            if 1 <= len(k) <= 4:\n",
    "                for i in k:\n",
    "                    if i in 'ABCDEFabcdef1234567890':\n",
    "                        pass\n",
    "                    else:\n",
    "                        return False\n",
    "            else:\n",
    "                return False\n",
    "            return True\n",
    "        def chk2(i):\n",
    "            if len(i) >0:\n",
    "                for j in i:\n",
    "                    if j in 'qwertyuiopasdfghjklzxcvbnmQWERTYUIOPASDFGHJKLZXCVBNM':\n",
    "                        return False\n",
    "            else:\n",
    "                return False\n",
    "                \n",
    "            return True\n",
    "                    \n",
    "        if len(queryIP) ==4 or len(queryIP) ==8:\n",
    "            if len(queryIP) ==4:\n",
    "                for i in queryIP:\n",
    "                    if chk2(i) ==True:\n",
    "                        if len(i)==len(str(int(i))) and 0 <= int(i) <= 255:\n",
    "                            pass\n",
    "                        else:\n",
    "                            return('Neither')\n",
    "                    else:\n",
    "                        return('Neither')\n",
    "            \n",
    "                return('IPv4')\n",
    "            if len(queryIP) ==8:\n",
    "                for i in queryIP:\n",
    "                    if chk(i) == True:\n",
    "                        pass\n",
    "                    else:\n",
    "                        return('Neither')\n",
    "                return('IPv6')\n",
    "        else:\n",
    "            return('Neither')\n",
    "                        "
   ]
  },
  {
   "cell_type": "markdown",
   "metadata": {},
   "source": [
    "## 2873. Maximum Value of an Ordered Triplet I"
   ]
  },
  {
   "cell_type": "code",
   "execution_count": null,
   "metadata": {},
   "outputs": [],
   "source": [
    "class Solution:\n",
    "    def maximumTripletValue(self, nums: List[int]) -> int:\n",
    "        n = combinations(nums,3)\n",
    "        k=0\n",
    "        for i in n:\n",
    "            i=list(i)\n",
    "            if ((i[0] - i[1]) * i[2])>k:\n",
    "                k= ((i[0] - i[1]) * i[2])\n",
    "            # print(i,k)\n",
    "        return k\n",
    "                "
   ]
  },
  {
   "cell_type": "markdown",
   "metadata": {},
   "source": [
    "## 1370. Increasing Decreasing String"
   ]
  },
  {
   "cell_type": "code",
   "execution_count": null,
   "metadata": {},
   "outputs": [],
   "source": [
    "class Solution:\n",
    "    def sortString(self, s: str) -> str:\n",
    "        s=list(s)\n",
    "        d=list(set(s))\n",
    "        d=sorted(d)\n",
    "        g=''\n",
    "        while len(s)!=0:\n",
    "            for i in d:\n",
    "                if i in s:\n",
    "                    s.remove(i)\n",
    "\n",
    "                    g=g+i\n",
    "            for i in d[::-1]:\n",
    "                if i in s:\n",
    "                    s.remove(i)\n",
    "\n",
    "                    g=g+i\n",
    "        return g\n",
    "                "
   ]
  },
  {
   "cell_type": "markdown",
   "metadata": {},
   "source": [
    "## 2148. Count Elements With Strictly Smaller and Greater Elements "
   ]
  },
  {
   "cell_type": "code",
   "execution_count": null,
   "metadata": {},
   "outputs": [],
   "source": [
    "class Solution:\n",
    "    def countElements(self, nums: List[int]) -> int:\n",
    "        g=(list(set(nums)))\n",
    "        if len(g)<2:\n",
    "            return 0\n",
    "        g.remove(min(nums))\n",
    "        g.remove(max(nums))\n",
    "        \n",
    "        d=0\n",
    "        for i in g:\n",
    "            d=d+nums.count(i)\n",
    "        return d\n",
    "        "
   ]
  },
  {
   "cell_type": "markdown",
   "metadata": {},
   "source": [
    "## 1995. Count Special Quadruplets"
   ]
  },
  {
   "cell_type": "code",
   "execution_count": null,
   "metadata": {},
   "outputs": [],
   "source": [
    "class Solution:\n",
    "    def countQuadruplets(self, nums: List[int]) -> int:\n",
    "        ip = combinations(nums,4)\n",
    "        s=0\n",
    "        for op in ip:\n",
    "            nums = list(op)\n",
    "            a=0\n",
    "            b=1\n",
    "            c=2\n",
    "            d=3\n",
    "            if nums[a] + nums[b] + nums[c] == nums[d]:\n",
    "                s=s+1\n",
    "\n",
    "            # print(arr)\n",
    "        return s\n",
    "        "
   ]
  },
  {
   "cell_type": "markdown",
   "metadata": {},
   "source": [
    "## 3289. The Two Sneaky Numbers of Digitville"
   ]
  },
  {
   "cell_type": "code",
   "execution_count": null,
   "metadata": {},
   "outputs": [],
   "source": [
    "class Solution:\n",
    "    def getSneakyNumbers(self, nums: List[int]) -> List[int]:\n",
    "        j=[]\n",
    "        h = list(set(nums))\n",
    "        for i in h:\n",
    "            if nums.count(i)>1:\n",
    "                j.append(i)\n",
    "        return j\n",
    "        "
   ]
  },
  {
   "cell_type": "markdown",
   "metadata": {},
   "source": [
    "## 2529. Maximum Count of Positive Integer and Negative Integer"
   ]
  },
  {
   "cell_type": "code",
   "execution_count": null,
   "metadata": {},
   "outputs": [],
   "source": [
    "class Solution:\n",
    "    def maximumCount(self, nums: List[int]) -> int:\n",
    "        pos=0\n",
    "        ne=0\n",
    "        for i in nums:\n",
    "            if i <0:\n",
    "                ne=ne+1\n",
    "            if i >0:\n",
    "                pos=pos+1\n",
    "        return max(pos,ne)\n",
    "        "
   ]
  },
  {
   "cell_type": "markdown",
   "metadata": {},
   "source": [
    "## 946. Validate Stack Sequences"
   ]
  },
  {
   "cell_type": "code",
   "execution_count": null,
   "metadata": {},
   "outputs": [],
   "source": [
    "class Solution:\n",
    "    def validateStackSequences(self, pushed: List[int], popped: List[int]) -> bool:\n",
    "        k=[]\n",
    "        while True:\n",
    "            if len(k)==0:\n",
    "                k.append(pushed[0])\n",
    "                pushed.pop(0)\n",
    "\n",
    "            else:\n",
    "                if k[-1] == popped[0]:\n",
    "                    k.pop(-1)\n",
    "                    popped.pop(0)\n",
    "                else:\n",
    "                    if len(pushed)!=0:\n",
    "                        k.append(pushed[0])\n",
    "                        pushed.pop(0)\n",
    "                    else:\n",
    "                        return(False)\n",
    "                        break\n",
    "            if len(pushed) ==0 and  len(k) ==0 and len(popped) ==0:\n",
    "\n",
    "                return(True)\n",
    "                break\n",
    "                "
   ]
  },
  {
   "cell_type": "markdown",
   "metadata": {},
   "source": [
    "## 2379. Minimum Recolors to Get K Consecutive Black Blocks"
   ]
  },
  {
   "cell_type": "code",
   "execution_count": null,
   "metadata": {},
   "outputs": [],
   "source": [
    "class Solution:\n",
    "    def minimumRecolors(self, blocks: str, k: int) -> int:\n",
    "        s=len(blocks)\n",
    "        for i in range(len(blocks)-k+1):\n",
    "            j = blocks[i:i+k]\n",
    "            if j.count('W') <s:\n",
    "                s=j.count('W')\n",
    "            # print(j)\n",
    "        return s\n",
    "                "
   ]
  },
  {
   "cell_type": "markdown",
   "metadata": {},
   "source": [
    "## 2105. Watering Plants II"
   ]
  },
  {
   "cell_type": "code",
   "execution_count": null,
   "metadata": {},
   "outputs": [],
   "source": [
    "class Solution:\n",
    "    def minimumRefill(self, plants: List[int], capacityA: int, capacityB: int) -> int:\n",
    "        po = capacityA\n",
    "        # capacityB = 5\n",
    "        po2=capacityB\n",
    "        s=0\n",
    "        while len(plants)!=0:\n",
    "            if len(plants)==1:\n",
    "                if plants[0] >capacityA and plants[0] >capacityB:\n",
    "                    s=s+1\n",
    "                    plants=[]\n",
    "                    break\n",
    "                else:\n",
    "                    # print('ok')\n",
    "                    plants=[]\n",
    "                    break\n",
    "\n",
    "            if plants[0] >capacityA:\n",
    "                s=s+1\n",
    "                capacityA = po\n",
    "            if plants[-1] > capacityB:\n",
    "                s=s+1\n",
    "                capacityB = po2\n",
    "            capacityA = capacityA-plants[0]\n",
    "            capacityB = capacityB-plants[-1]\n",
    "            plants.pop(-1)\n",
    "            plants.pop(0)\n",
    "        return s\n",
    "                "
   ]
  },
  {
   "cell_type": "markdown",
   "metadata": {},
   "source": [
    "## 1389. Create Target Array in the Given Order"
   ]
  },
  {
   "cell_type": "code",
   "execution_count": null,
   "metadata": {},
   "outputs": [],
   "source": [
    "class Solution:\n",
    "    def createTargetArray(self, nums: List[int], index: List[int]) -> List[int]:\n",
    "        k=[]\n",
    "        for i in range(len(nums)):\n",
    "            k.insert(index[i],nums[i])\n",
    "        return k\n",
    "        "
   ]
  },
  {
   "cell_type": "markdown",
   "metadata": {},
   "source": [
    "## 2079. Watering Plants"
   ]
  },
  {
   "cell_type": "code",
   "execution_count": null,
   "metadata": {},
   "outputs": [],
   "source": [
    "class Solution:\n",
    "    def wateringPlants(self, plants: List[int], capacity: int) -> int:\n",
    "        s=0\n",
    "        po=capacity\n",
    "        for i in range(len(plants)):\n",
    "            # print(s,capacity,plants[i])\n",
    "            if plants[i]>capacity:\n",
    "                s=s+(2*i)\n",
    "                capacity=po\n",
    "                \n",
    "            \n",
    "            capacity=capacity-plants[i]\n",
    "            s=s+1\n",
    "            # print(s,capacity,plants[i])\n",
    "        return s\n",
    "                "
   ]
  },
  {
   "cell_type": "markdown",
   "metadata": {},
   "source": [
    "## 2579. Count Total Number of Colored Cells"
   ]
  },
  {
   "cell_type": "code",
   "execution_count": null,
   "metadata": {},
   "outputs": [],
   "source": [
    "class Solution:\n",
    "    def coloredCells(self, n: int) -> int:\n",
    "        k =[]\n",
    "        i=1\n",
    "        while len(k)!=n:\n",
    "            k.append(i)\n",
    "            i=i+2\n",
    "        k = k +k[:len(k)-1][::-1]\n",
    "        return sum(k)\n",
    "        "
   ]
  },
  {
   "cell_type": "markdown",
   "metadata": {},
   "source": [
    "## 1781. Sum of Beauty of All Substrings"
   ]
  },
  {
   "cell_type": "code",
   "execution_count": null,
   "metadata": {},
   "outputs": [],
   "source": [
    "class Solution:\n",
    "    def beautySum(self, s: str) -> int:\n",
    "        oiu=0\n",
    "        iu=0\n",
    "        z=[]\n",
    "        def beauty(s):\n",
    "            \n",
    "                \n",
    "            l={}\n",
    "            for i in s:\n",
    "                if i not in l:\n",
    "                    l[i] = 1\n",
    "                else:\n",
    "                    l[i]+=1\n",
    "            jh = l.values()\n",
    "            jh= list(jh)\n",
    "            if len(jh)>1:\n",
    "\n",
    "                kj = max(jh)-min(jh)\n",
    "                return kj\n",
    "            return 0\n",
    "        for gh in range(len(s)):\n",
    "            for i in range(gh+1,len(s)+1):\n",
    "                k = s[gh:i]\n",
    "                if len(k)>2 :\n",
    "                    z.append(k)\n",
    "                    # print(k)\n",
    "\n",
    "                # for jj in k:\n",
    "                    \n",
    "                    i=str(k)\n",
    "                    if beauty(k) !=0:\n",
    "                        # print(k)\n",
    "                        oiu = oiu+beauty(k)\n",
    "\n",
    "        return oiu\n",
    "\n",
    "                "
   ]
  },
  {
   "cell_type": "markdown",
   "metadata": {},
   "source": [
    "## 1313. Decompress Run-Length Encoded List"
   ]
  },
  {
   "cell_type": "code",
   "execution_count": null,
   "metadata": {},
   "outputs": [],
   "source": [
    "class Solution:\n",
    "    def decompressRLElist(self, nums: List[int]) -> List[int]:\n",
    "        k=[]\n",
    "        for i in range(0,len(nums)-1,2):\n",
    "            # print(nums[i],nums[i+1])\n",
    "            for j in range(nums[i]):\n",
    "                k.append(nums[i+1])\n",
    "        return k\n",
    "                    \n",
    "\n",
    "        "
   ]
  },
  {
   "cell_type": "markdown",
   "metadata": {},
   "source": [
    "## 2164. Sort Even and Odd Indices Independently"
   ]
  },
  {
   "cell_type": "code",
   "execution_count": null,
   "metadata": {},
   "outputs": [],
   "source": [
    "class Solution:\n",
    "    def sortEvenOdd(self, nums: List[int]) -> List[int]:\n",
    "        od =[]\n",
    "        ev=[]\n",
    "        for i in range(len(nums)):\n",
    "            if i%2!=0:\n",
    "                od.append(nums[i])\n",
    "            else:\n",
    "                ev.append(nums[i])\n",
    "        od = sorted(od)\n",
    "        ev= sorted(ev)\n",
    "        od=od[::-1]\n",
    "        od,ev\n",
    "        l = []\n",
    "        for i in range(min(len(od),len(ev))):\n",
    "            l.append(ev[i])\n",
    "            l.append(od[i])\n",
    "        if len(od)>len(ev):\n",
    "\n",
    "            for i in range(min(len(od),len(ev)),max(len(od),len(ev))):\n",
    "                l.append(od[i])\n",
    "        if len(od)<len(ev):\n",
    "\n",
    "            for i in range(min(len(od),len(ev)),max(len(od),len(ev))):\n",
    "                l.append(ev[i])\n",
    "\n",
    "        return l"
   ]
  },
  {
   "cell_type": "markdown",
   "metadata": {},
   "source": [
    "## 2843. Count Symmetric Integers"
   ]
  },
  {
   "cell_type": "code",
   "execution_count": null,
   "metadata": {},
   "outputs": [],
   "source": [
    "class Solution:\n",
    "    def countSymmetricIntegers(self, low: int, high: int) -> int:\n",
    "        a=0\n",
    "        def symm(low):\n",
    "            low=str(low)\n",
    "            s1=0\n",
    "            s2=0\n",
    "            if len(low)>1 and len(low)%2==0:\n",
    "                for i in range(len(low)//2):\n",
    "                    s1=s1+int(low[i])\n",
    "                for i in range(len(low)//2,len(low)):\n",
    "                    s2=s2+int(low[i])\n",
    "                if s1==s2:\n",
    "                    return True\n",
    "            return False\n",
    "\n",
    "        for i  in range(low,high+1):\n",
    "            if symm(i)==True:\n",
    "                a=a+1\n",
    "        return a\n",
    "        "
   ]
  },
  {
   "cell_type": "markdown",
   "metadata": {},
   "source": [
    "## 2231. Largest Number After Digit Swaps by Parity"
   ]
  },
  {
   "cell_type": "code",
   "execution_count": null,
   "metadata": {},
   "outputs": [],
   "source": [
    "class Solution:\n",
    "    def largestInteger(self, num: int) -> int:\n",
    "        lo=str(num)\n",
    "        num = str(num)\n",
    "        num=list(num)\n",
    "        num=map(int,num)\n",
    "        # print(num)\n",
    "        od =[]\n",
    "        ev=[]\n",
    "        for i in num:\n",
    "            if i%2!=0:\n",
    "                od.append(i)\n",
    "            else:\n",
    "                ev.append(i)\n",
    "        kj=''\n",
    "        for i in range(len(lo)-1,-1,-1):\n",
    "            if int(lo[i])%2==0:\n",
    "                kj=kj+str(min(ev))\n",
    "                ev.pop(ev.index(min(ev)))\n",
    "            else:\n",
    "                kj=kj+str(min(od))\n",
    "                od.pop(od.index(min(od)))\n",
    "        return int(kj[::-1])\n",
    "                "
   ]
  },
  {
   "cell_type": "markdown",
   "metadata": {},
   "source": [
    "## 922. Sort Array By Parity II"
   ]
  },
  {
   "cell_type": "code",
   "execution_count": null,
   "metadata": {},
   "outputs": [],
   "source": [
    "class Solution:\n",
    "    def sortArrayByParityII(self, nums: List[int]) -> List[int]:\n",
    "        od =[]\n",
    "        ev=[]\n",
    "        for i in nums:\n",
    "            if i%2!=0:\n",
    "                od.append(i)\n",
    "            else:\n",
    "                ev.append(i)\n",
    "        l = []\n",
    "        for i in range(len(od)):\n",
    "            l.append(ev[i])\n",
    "            l.append(od[i])\n",
    "        return l\n",
    "                "
   ]
  },
  {
   "cell_type": "markdown",
   "metadata": {},
   "source": [
    "## 2149. Rearrange Array Elements by Sign"
   ]
  },
  {
   "cell_type": "code",
   "execution_count": null,
   "metadata": {},
   "outputs": [],
   "source": [
    "class Solution:\n",
    "    def rearrangeArray(self, nums: List[int]) -> List[int]:\n",
    "        plus=[]\n",
    "        neg=[]\n",
    "        for i in nums:\n",
    "            if i <0:\n",
    "                neg.append(i)\n",
    "            else:\n",
    "                plus.append(i)\n",
    "        k=[]\n",
    "        for i in range(len(neg)):\n",
    "            k.append(plus[i])\n",
    "            k.append(neg[i])\n",
    "            \n",
    "        return k\n",
    "                "
   ]
  },
  {
   "cell_type": "markdown",
   "metadata": {},
   "source": [
    "## 1534. Count Good Triplets"
   ]
  },
  {
   "cell_type": "code",
   "execution_count": null,
   "metadata": {},
   "outputs": [],
   "source": [
    "class Solution:\n",
    "    def countGoodTriplets(self, arr: List[int], a: int, b: int, c: int) -> int:\n",
    "        ip = combinations(arr,3)\n",
    "        s=0\n",
    "        for op in ip:\n",
    "            arr = list(op)\n",
    "            i=0\n",
    "            j=1\n",
    "            k=2\n",
    "            if abs(arr[i] - arr[j]) <= a and abs(arr[j] - arr[k]) <= b and abs(arr[i] - arr[k]) <= c:\n",
    "                s=s+1\n",
    "\n",
    "            # print(arr)\n",
    "        return s\n",
    "        "
   ]
  },
  {
   "cell_type": "markdown",
   "metadata": {},
   "source": [
    "## 1432. Max Difference You Can Get From Changing an Integer"
   ]
  },
  {
   "cell_type": "code",
   "execution_count": null,
   "metadata": {},
   "outputs": [],
   "source": [
    "class Solution:\n",
    "    def maxDiff(self, num: int) -> int:\n",
    "        \n",
    "        num = str(num)\n",
    "        x = num[0]\n",
    "\n",
    "        for i in num:\n",
    "            if int(i)>1:\n",
    "                # print(i)\n",
    "                x=i\n",
    "                break\n",
    "        # print(x)\n",
    "\n",
    "        yd= '9'\n",
    "        yu = '1'\n",
    "        x2 = num[0]\n",
    "        for i in num:\n",
    "            if i!='9':\n",
    "                # print(i)\n",
    "                x2=i\n",
    "                break\n",
    "        # print(x2)\n",
    "\n",
    "        if x!=num[0]:\n",
    "            yu = '0'\n",
    "        num = list(num)\n",
    "        nuum = list(num)\n",
    "        for i in num[:]:\n",
    "            if i == x2:\n",
    "                h = num.index(i)\n",
    "                num.insert(h+1,yd)\n",
    "                num.pop(h)\n",
    "\n",
    "        num = ''.join(num)\n",
    "        for i in nuum[:]:\n",
    "            if i == x:\n",
    "                h = nuum.index(i)\n",
    "                nuum.insert(h+1,yu)\n",
    "                nuum.pop(h)\n",
    "        nuum =''.join(nuum)\n",
    "        # print(num,nuum)\n",
    "        return abs(int(num)-int(nuum))\n"
   ]
  },
  {
   "cell_type": "markdown",
   "metadata": {},
   "source": [
    "## 2161. Partition Array According to Given Pivot"
   ]
  },
  {
   "cell_type": "code",
   "execution_count": null,
   "metadata": {},
   "outputs": [],
   "source": [
    "class Solution:\n",
    "    def pivotArray(self, nums: List[int], pivot: int) -> List[int]:\n",
    "        s=[]\n",
    "        eq=[]\n",
    "        lrg=[]\n",
    "        for i in nums:\n",
    "            if i <pivot:\n",
    "                s.append(i)\n",
    "            elif i == pivot:\n",
    "                eq.append(i)\n",
    "            else:\n",
    "                lrg.append(i)\n",
    "        s=s+eq+lrg\n",
    "        return s\n",
    "                "
   ]
  },
  {
   "cell_type": "markdown",
   "metadata": {},
   "source": [
    "## 3079. Find the Sum of Encrypted Integers"
   ]
  },
  {
   "cell_type": "code",
   "execution_count": null,
   "metadata": {},
   "outputs": [],
   "source": [
    "class Solution:\n",
    "    def sumOfEncryptedInt(self, nums: List[int]) -> int:\n",
    "        kl=0\n",
    "\n",
    "        def enc(h):\n",
    "            h = str(h)\n",
    "            h = list(h)\n",
    "            map(int,h)\n",
    "            k = max(h)\n",
    "            o=''\n",
    "            for i in range(len(h)):\n",
    "                o = o+str(k)\n",
    "            return int(o)\n",
    "        for i in nums[:]:\n",
    "            kl = kl+enc(i)\n",
    "        return kl\n",
    "                "
   ]
  },
  {
   "cell_type": "markdown",
   "metadata": {},
   "source": [
    "## 1550. Three Consecutive Odds"
   ]
  },
  {
   "cell_type": "code",
   "execution_count": null,
   "metadata": {},
   "outputs": [],
   "source": [
    "class Solution:\n",
    "    def threeConsecutiveOdds(self, arr: List[int]) -> bool:\n",
    "        p=0\n",
    "        for i in arr:\n",
    "            if i%2!=0:\n",
    "                p=p+1\n",
    "            else:\n",
    "                p=0\n",
    "            if p==3:\n",
    "                return (True)\n",
    "                break\n",
    "        return False\n",
    "                "
   ]
  },
  {
   "cell_type": "markdown",
   "metadata": {},
   "source": [
    "## 2570. Merge Two 2D Arrays by Summing Values"
   ]
  },
  {
   "cell_type": "code",
   "execution_count": null,
   "metadata": {},
   "outputs": [],
   "source": [
    "class Solution:\n",
    "    def mergeArrays(self, nums1: List[List[int]], nums2: List[List[int]]) -> List[List[int]]:\n",
    "        k=[]\n",
    "        po=[]\n",
    "        if len(nums1)>len(nums2):\n",
    "            for i in range(min(len(nums1),len(nums2))):\n",
    "                u=0\n",
    "                for j in range(max(len(nums1),len(nums2))):\n",
    "                    if nums2[i][0] == nums1[j][0]:\n",
    "                        po.append(j)\n",
    "                        u=1\n",
    "                        ji = [nums2[i][0],(nums2[i][1]+nums1[j][1])]\n",
    "                        k.append(ji)\n",
    "                if u==0:\n",
    "                    ji = [nums2[i][0],(nums2[i][1]+0)]\n",
    "                    k.append(ji)\n",
    "            for i in range(len(nums1)):\n",
    "                if i not  in po:\n",
    "\n",
    "                    k.append(nums1[i])\n",
    "        # k=sorted(k)\n",
    "        # k\n",
    "        if len(nums1)<len(nums2):\n",
    "            for i in range(min(len(nums1),len(nums2))):\n",
    "                u=0\n",
    "                for j in range(max(len(nums1),len(nums2))):\n",
    "                    if nums1[i][0] == nums2[j][0]:\n",
    "                        po.append(j)\n",
    "                        u=1\n",
    "                        ji = [nums1[i][0],(nums1[i][1]+nums2[j][1])]\n",
    "                        k.append(ji)\n",
    "                if u==0:\n",
    "                    ji = [nums1[i][0],(nums1[i][1]+0)]\n",
    "                    k.append(ji)\n",
    "            for i in range(len(nums2)):\n",
    "                if i not  in po:\n",
    "\n",
    "                    k.append(nums2[i])\n",
    "        # k=sorted(k)\n",
    "        # k\n",
    "        if len(nums1)==len(nums2):\n",
    "            for i in range(min(len(nums1),len(nums2))):\n",
    "                u=0\n",
    "                for j in range(max(len(nums1),len(nums2))):\n",
    "                    if nums2[i][0] == nums1[j][0]:\n",
    "                        po.append(j)\n",
    "                        u=1\n",
    "                        ji = [nums2[i][0],(nums2[i][1]+nums1[j][1])]\n",
    "                        k.append(ji)\n",
    "                if u==0:\n",
    "                    ji = [nums2[i][0],(nums2[i][1]+0)]\n",
    "                    k.append(ji)\n",
    "            for i in range(len(nums1)):\n",
    "                if i not  in po:\n",
    "\n",
    "                    k.append(nums1[i])\n",
    "        k=sorted(k)\n",
    "        return k\n",
    "\n",
    "                "
   ]
  },
  {
   "cell_type": "markdown",
   "metadata": {},
   "source": [
    "## 2124. Check if All A's Appears Before All B's"
   ]
  },
  {
   "cell_type": "code",
   "execution_count": null,
   "metadata": {},
   "outputs": [],
   "source": [
    "class Solution:\n",
    "    def checkString(self, s: str) -> bool:\n",
    "        i = sorted(s)\n",
    "        i=''.join(i)\n",
    "        if i==s:\n",
    "            return True\n",
    "        return False\n",
    "        "
   ]
  },
  {
   "cell_type": "markdown",
   "metadata": {},
   "source": [
    "## 3174. Clear Digits"
   ]
  },
  {
   "cell_type": "code",
   "execution_count": null,
   "metadata": {},
   "outputs": [],
   "source": [
    "class Solution:\n",
    "    def clearDigits(self, s: str) -> str:\n",
    "        s=list(s)\n",
    "        for i in s[:]:\n",
    "            if i.isdigit()==True:\n",
    "                d=s.index(i)\n",
    "                print(d)\n",
    "                if d==0:\n",
    "                    for i in range(2):\n",
    "                        if len(s)!=0:\n",
    "\n",
    "                        \n",
    "                            \n",
    "                            s.pop(0)\n",
    "                        else:\n",
    "                            break\n",
    "                else:\n",
    "                    for i in range(2):\n",
    "                        if len(s)!=0:\n",
    "\n",
    "                            s.pop(d-1)\n",
    "                        else:\n",
    "                            break\n",
    "                    \n",
    "        s=''.join(s)\n",
    "        return s\n",
    "                "
   ]
  },
  {
   "cell_type": "markdown",
   "metadata": {},
   "source": [
    "## 2042. Check if Numbers Are Ascending in a Sentence"
   ]
  },
  {
   "cell_type": "code",
   "execution_count": null,
   "metadata": {},
   "outputs": [],
   "source": [
    "class Solution:\n",
    "    def areNumbersAscending(self, s: str) -> bool:\n",
    "        s=s.split(' ')\n",
    "        k = []\n",
    "        for i in s:\n",
    "            if i.isdigit()==True :\n",
    "                i = int(i)\n",
    "                if len(k)==0:\n",
    "                    k.append(i)\n",
    "                else:\n",
    "                    if i> k[0]:\n",
    "                        k[0] = i\n",
    "                    else:\n",
    "                        return (False)\n",
    "        return (True)\n",
    "                "
   ]
  },
  {
   "cell_type": "markdown",
   "metadata": {},
   "source": [
    "## 1859. Sorting the Sentence?"
   ]
  },
  {
   "cell_type": "code",
   "execution_count": null,
   "metadata": {},
   "outputs": [],
   "source": [
    "class Solution:\n",
    "    def sortSentence(self, s: str) -> str:\n",
    "        s=s.split(' ')\n",
    "        o=[]\n",
    "        o1=[]\n",
    "        for i in s[:]:\n",
    "            \n",
    "            l = i[-1]\n",
    "            i = i[:len(i)-1]\n",
    "            l = int(l)\n",
    "            o.append(i)\n",
    "            o1.append(l)\n",
    "        o11 = sorted(o1)\n",
    "        oii=[]\n",
    "        for i in o11:\n",
    "            \n",
    "            oii.append(o[o1.index(i)])\n",
    "\n",
    "        oii=' '.join(oii)\n",
    "        return oii\n",
    "                "
   ]
  },
  {
   "cell_type": "markdown",
   "metadata": {},
   "source": [
    "## 1436. Destination City"
   ]
  },
  {
   "cell_type": "code",
   "execution_count": null,
   "metadata": {},
   "outputs": [],
   "source": [
    "class Solution:\n",
    "    def destCity(self, paths: List[List[str]]) -> str:\n",
    "        k=paths[0][1]\n",
    "        paths.pop(0)\n",
    "        while len(paths)!=0:\n",
    "\n",
    "            print(k)\n",
    "            for i in paths:\n",
    "                if  paths.index(i) == len(paths)-1 and i[0]!=k:\n",
    "                    paths=[]\n",
    "                \n",
    "                if i[0]==k:\n",
    "                    k = i[1]\n",
    "                    paths.remove(i)\n",
    "                    break\n",
    "\n",
    "\n",
    "\n",
    "        return k\n",
    "        "
   ]
  },
  {
   "cell_type": "markdown",
   "metadata": {},
   "source": [
    "## 821. Shortest Distance to a Character"
   ]
  },
  {
   "cell_type": "code",
   "execution_count": null,
   "metadata": {},
   "outputs": [],
   "source": [
    "class Solution:\n",
    "    def shortestToChar(self, s: str, c: str) -> List[int]:\n",
    "        ji = []\n",
    "        for i in range(len(s)):\n",
    "            k = s[:i+1]\n",
    "            k2 = s[i+1:len(s)]\n",
    "            # print(k,k2)\n",
    "            if s[i]==c:\n",
    "                ji.append(0)\n",
    "            elif c in k and c in k2:\n",
    "                k = k[::-1]\n",
    "\n",
    "                u = k.index(c)\n",
    "                u=u+len(k)-1\n",
    "                u2 = k2.index(c)\n",
    "                u2=u2+len(k)\n",
    "                ji.append( min(abs(u-i),abs(u2-i)))\n",
    "            elif c not in k and c in k2:\n",
    "                u2 = k2.index(c)\n",
    "                u2=u2+len(k)\n",
    "                ji.append( abs(u2-i))\n",
    "            elif c in k and c not in k2:\n",
    "                k = k[::-1]\n",
    "\n",
    "                u = k.index(c)\n",
    "                u=u+len(k)-1\n",
    "                ji.append( abs(u-i))\n",
    "        return (ji)\n",
    "                "
   ]
  },
  {
   "cell_type": "markdown",
   "metadata": {},
   "source": [
    "## 2399. Check Distances Between Same Letters"
   ]
  },
  {
   "cell_type": "code",
   "execution_count": null,
   "metadata": {},
   "outputs": [],
   "source": [
    "class Solution:\n",
    "    def checkDistances(self, s: str, distance: List[int]) -> bool:\n",
    "        s1= 'qwertyuiopasdfghjklzxcvbnm'\n",
    "        s1=sorted(s1)\n",
    "        s1=list(s1)\n",
    "        d=[]\n",
    "        for i in range(len(s1)):\n",
    "            if s1[i] in s:\n",
    "                h = s.index(s1[i])\n",
    "                j = s[::-1].index(s1[i])\n",
    "                j= len(s)-1-j\n",
    "                # print(h,j,s1[i])\n",
    "                j=abs(j)\n",
    "\n",
    "                ui = abs(h-j)-1\n",
    "                if ui!=distance[i]:\n",
    "                    return(False)\n",
    "        return(True)"
   ]
  },
  {
   "cell_type": "markdown",
   "metadata": {},
   "source": [
    "## 819. Most Common Word"
   ]
  },
  {
   "cell_type": "code",
   "execution_count": null,
   "metadata": {},
   "outputs": [],
   "source": [
    "class Solution:\n",
    "    def mostCommonWord(self, paragraph: str, banned: List[str]) -> str:\n",
    "        paragraph = paragraph.replace(\"'\",'')\n",
    "        paragraph=paragraph.lower()\n",
    "        paragraph=list(paragraph)\n",
    "        po={}\n",
    "        # print(paragraph)\n",
    "        for i in    paragraph[:]:\n",
    "            while ',' in paragraph:\n",
    "\n",
    "            # if i== ',':\n",
    "                # if ',' in paragraph:\n",
    "                    zx=paragraph.index(',')\n",
    "                    paragraph.insert(zx+1,' ')\n",
    "                    paragraph.pop(zx)\n",
    "\n",
    "\n",
    "            if i in '~!@#$%^&*()_+`<>?,./}{|[]\\:\";':\n",
    "                if i in paragraph:\n",
    "                    paragraph.remove(i)\n",
    "\n",
    "        paragraph=''.join(paragraph)\n",
    "        paragraph = paragraph.split(' ')\n",
    "        # print(paragraph)\n",
    "        while '' in paragraph:\n",
    "            paragraph.remove('')\n",
    "        jk= list(set(paragraph))\n",
    "        # print(jk)\n",
    "        for i in jk[:]:\n",
    "            if i in banned:\n",
    "                \n",
    "                jk.remove(i)\n",
    "        # print(jk)\n",
    "        qa=0\n",
    "        kl=''\n",
    "        for i in jk:\n",
    "            q=paragraph.count(i)\n",
    "            if q>qa:\n",
    "                qa=q\n",
    "                kl=i\n",
    "\n",
    "        # kl\n",
    "        return kl\n",
    "                "
   ]
  },
  {
   "cell_type": "markdown",
   "metadata": {},
   "source": [
    "## 1910. Remove All Occurrences of a Substring"
   ]
  },
  {
   "cell_type": "code",
   "execution_count": null,
   "metadata": {},
   "outputs": [],
   "source": [
    "class Solution:\n",
    "    def removeOccurrences(self, s: str, part: str) -> str:\n",
    "        while part in s:\n",
    "    # print(s)\n",
    "            for i in range(len(s)-len(part)+1):\n",
    "                y = s[i:i+len(part)]\n",
    "                if y == part:\n",
    "                    # print(y,s,i,i+len(part))\n",
    "                    s=list(s)\n",
    "                    for ii in range(len(part)):\n",
    "                        # print(s[i])\n",
    "                        s.pop(i)\n",
    "\n",
    "                    s=''.join(s)\n",
    "                    break\n",
    "\n",
    "        return s\n",
    "                "
   ]
  },
  {
   "cell_type": "markdown",
   "metadata": {},
   "source": [
    "## 2126. Destroying Asteroids"
   ]
  },
  {
   "cell_type": "code",
   "execution_count": null,
   "metadata": {},
   "outputs": [],
   "source": [
    "class Solution:\n",
    "    def asteroidsDestroyed(self, mass: int, asteroids: List[int]) -> bool:\n",
    "        asteroids =sorted(asteroids)\n",
    "        for i in asteroids:\n",
    "            if mass>=i:\n",
    "                mass = mass+i\n",
    "            else:\n",
    "                return(False)\n",
    "        return(True)\n",
    "                "
   ]
  },
  {
   "cell_type": "markdown",
   "metadata": {},
   "source": [
    "## 34. Find First and Last Position of Element in Sorted Array"
   ]
  },
  {
   "cell_type": "code",
   "execution_count": null,
   "metadata": {},
   "outputs": [],
   "source": [
    "class Solution:\n",
    "    def searchRange(self, nums: List[int], target: int) -> List[int]:\n",
    "        if target not in nums:\n",
    "            return ( [-1,-1])\n",
    "        oi = nums[::-1]\n",
    "        k = []\n",
    "        k.append(nums.index(target))\n",
    "        k.append(len(nums)-1- oi.index(target))\n",
    "        return k\n",
    "                "
   ]
  },
  {
   "cell_type": "markdown",
   "metadata": {},
   "source": [
    "## 3423. Maximum Difference Between Adjacent Elements in a Circular Array"
   ]
  },
  {
   "cell_type": "code",
   "execution_count": null,
   "metadata": {},
   "outputs": [],
   "source": [
    "class Solution:\n",
    "    def maxAdjacentDistance(self, nums: List[int]) -> int:\n",
    "        s=abs(nums[0]-nums[-1])\n",
    "        for  i in range(len(nums)-1):\n",
    "            u = abs(nums[i]-nums[i+1])\n",
    "            if u >s:\n",
    "                s=u\n",
    "\n",
    "        return s\n",
    "        "
   ]
  },
  {
   "cell_type": "markdown",
   "metadata": {},
   "source": [
    "## 3121. Count the Number of Special Characters II"
   ]
  },
  {
   "cell_type": "code",
   "execution_count": null,
   "metadata": {},
   "outputs": [],
   "source": [
    "class Solution:\n",
    "    def numberOfSpecialChars(self, word: str) -> int:\n",
    "        k=0\n",
    "        op=[]\n",
    "        for i in range(len(word)):\n",
    "            if word[i] in 'QWERTYUIOPASDFGHJKLZXCVBNM':\n",
    "                pass\n",
    "            elif word[i] in 'qwertyuiopasdfghjklzxcvbnm' and i!=len(word)-1:\n",
    "                if word[i].upper() in word and word[i].upper() not in op:\n",
    "                    oi = word.index(word[i].upper())\n",
    "                    x = word[i+1:oi+1]\n",
    "                    y = word[oi+1 : len(word)]\n",
    "                    if word[i].upper() in x and word[i].lower() not in y:\n",
    "                        k=k+1\n",
    "                        op.append(word[i].upper())\n",
    "\n",
    "                    # print(x,y)\n",
    "                    \n",
    "        return k"
   ]
  },
  {
   "cell_type": "markdown",
   "metadata": {},
   "source": [
    "## 520. Detect Capital"
   ]
  },
  {
   "cell_type": "code",
   "execution_count": null,
   "metadata": {},
   "outputs": [],
   "source": [
    "class Solution:\n",
    "    def detectCapitalUse(self, word: str) -> bool:\n",
    "        o1 = word.lower()\n",
    "        o2 = word.capitalize()\n",
    "        o3 = word.upper()\n",
    "        if word == o1:\n",
    "            return(True)\n",
    "        if word == o2:\n",
    "            return(True)\n",
    "        if word == o3:\n",
    "            return(True)\n",
    "        return(False)\n",
    "                "
   ]
  },
  {
   "cell_type": "markdown",
   "metadata": {},
   "source": [
    "## 2525. Categorize Box According to Criteria"
   ]
  },
  {
   "cell_type": "code",
   "execution_count": null,
   "metadata": {},
   "outputs": [],
   "source": [
    "class Solution:\n",
    "    def categorizeBox(self, length: int, width: int, height: int, mass: int) -> str:\n",
    "\n",
    "        if (length >= math.pow(10,4) or width >= math.pow(10,4) or height >= math.pow(10,4) or length*width*height>=math.pow(10,9))  and mass >=100:\n",
    "            return('Both')\n",
    "        if (length >= math.pow(10,4) or width >= math.pow(10,4) or height >= math.pow(10,4) or length*width*height>=math.pow(10,9))  and mass <100:\n",
    "            return('Bulky')\n",
    "        if (length < math.pow(10,4) and width < math.pow(10,4) and height < math.pow(10,4) or length*width*height <math.pow(10,9))   and mass >=100:\n",
    "            return('Heavy')\n",
    "        if (length < math.pow(10,4) and width < math.pow(10,4) and height < math.pow(10,4) or length*width*height<math.pow(10,9))  and mass <100:\n",
    "            return('Neither')\n",
    "\n",
    "        if length >= math.pow(10,4):\n",
    "            return(\"Bulky\")\n",
    "        if width >= math.pow(10,4):\n",
    "            return(\"Bulky\")\n",
    "        if height >= math.pow(10,4):\n",
    "            return(\"Bulky\")\n",
    "        if  length*width*height>=math.pow(10,9):\n",
    "            return(\"Bulky\")\n",
    "\n",
    "        if mass>=100:\n",
    "            return('Heavy')\n",
    "\n",
    "                "
   ]
  },
  {
   "cell_type": "markdown",
   "metadata": {},
   "source": [
    "## 2347. Best Poker Hand"
   ]
  },
  {
   "cell_type": "code",
   "execution_count": null,
   "metadata": {},
   "outputs": [],
   "source": [
    "class Solution:\n",
    "    def bestHand(self, ranks: List[int], suits: List[str]) -> str:\n",
    "        if len(list(set(suits))) == 1:\n",
    "            return('Flush')\n",
    "        elif len(list(set(ranks))) == 5:\n",
    "            return('High Card')\n",
    "        rankss=list(set(ranks))\n",
    "        s=0\n",
    "        for i in rankss:\n",
    "            if ranks.count(i) >s:\n",
    "                s=ranks.count(i)\n",
    "        if s>2:\n",
    "            return('Three of a Kind')\n",
    "        if s==2:\n",
    "            return('Pair')\n",
    "                "
   ]
  },
  {
   "cell_type": "markdown",
   "metadata": {},
   "source": [
    "## 2942. Find Words Containing Character"
   ]
  },
  {
   "cell_type": "code",
   "execution_count": null,
   "metadata": {},
   "outputs": [],
   "source": [
    "class Solution:\n",
    "    def findWordsContaining(self, words: List[str], x: str) -> List[int]:\n",
    "        p=[]\n",
    "        for i in range(len(words)):\n",
    "            if x in words[i]:\n",
    "                p.append(i)\n",
    "        return p\n",
    "        "
   ]
  },
  {
   "cell_type": "markdown",
   "metadata": {},
   "source": [
    "## 2235. Add Two Integers"
   ]
  },
  {
   "cell_type": "code",
   "execution_count": null,
   "metadata": {},
   "outputs": [],
   "source": [
    "class Solution:\n",
    "    def sum(self, num1: int, num2: int) -> int:\n",
    "        return (num1+num2)\n",
    "        "
   ]
  },
  {
   "cell_type": "markdown",
   "metadata": {},
   "source": [
    "## 2506. Count Pairs Of Similar Strings"
   ]
  },
  {
   "cell_type": "code",
   "execution_count": null,
   "metadata": {},
   "outputs": [],
   "source": [
    "class Solution:\n",
    "    def similarPairs(self, words: List[str]) -> int:\n",
    "        d= combinations(words,2)\n",
    "        iu=0\n",
    "        for i in d:\n",
    "            i=list(i)\n",
    "            # print(i)\n",
    "            if sorted(list(set(i[0]))) == sorted(list(set(i[1]))):\n",
    "                iu=iu+1\n",
    "        return iu\n",
    "                "
   ]
  },
  {
   "cell_type": "markdown",
   "metadata": {},
   "source": [
    "## 2806. Account Balance After Rounded Purchase"
   ]
  },
  {
   "cell_type": "code",
   "execution_count": null,
   "metadata": {},
   "outputs": [],
   "source": [
    "class Solution:\n",
    "    def accountBalanceAfterPurchase(self, purchaseAmount: int) -> int:\n",
    "        def round(purchaseAmount):\n",
    "            purchaseAmount = str(purchaseAmount)\n",
    "            if int(purchaseAmount[-1]) ==0:\n",
    "                return purchaseAmount\n",
    "\n",
    "            if int(purchaseAmount[-1]) >4:\n",
    "                purchaseAmount = list(purchaseAmount)\n",
    "                purchaseAmount.pop(-1)\n",
    "                purchaseAmount.append('0')\n",
    "                purchaseAmount =''.join(purchaseAmount)\n",
    "                purchaseAmount = int(purchaseAmount)+10\n",
    "                return purchaseAmount\n",
    "            if int(purchaseAmount[-1]) <5:\n",
    "                purchaseAmount = list(purchaseAmount)\n",
    "                purchaseAmount.pop(-1)\n",
    "                purchaseAmount.append('0')\n",
    "                purchaseAmount =''.join(purchaseAmount)\n",
    "                purchaseAmount = int(purchaseAmount)\n",
    "                return purchaseAmount\n",
    "            # return purchaseAmount\n",
    "\n",
    "        return 100-int(round(purchaseAmount))\n",
    "                "
   ]
  },
  {
   "cell_type": "markdown",
   "metadata": {},
   "source": [
    "## 1544. Make The String Great"
   ]
  },
  {
   "cell_type": "code",
   "execution_count": null,
   "metadata": {},
   "outputs": [],
   "source": [
    "class Solution:\n",
    "    def makeGood(self, s: str) -> str:\n",
    "        s = list(s)\n",
    "        while True:\n",
    "            op = len(s)\n",
    "            for i in range(len(s)-1):\n",
    "                if s[i] in 'qwertyuiopasdfghjklzxcvbnm'  and s[i+1] in 'QWERTYUIOPASDFGHJKLZXCVBNM':\n",
    "                    if s[i].lower() == s[i+1].lower():\n",
    "                        s.pop(i+1)\n",
    "                        s.pop(i)\n",
    "                        break\n",
    "                if s[i+1] in 'qwertyuiopasdfghjklzxcvbnm'  and s[i] in 'QWERTYUIOPASDFGHJKLZXCVBNM':\n",
    "                    if s[i].lower() == s[i+1].lower():\n",
    "                        s.pop(i+1)\n",
    "                        s.pop(i)\n",
    "                        break\n",
    "            if len(s)==op:\n",
    "                break\n",
    "\n",
    "            # break\n",
    "        s=''.join(s)\n",
    "        return s\n",
    "                        "
   ]
  },
  {
   "cell_type": "markdown",
   "metadata": {},
   "source": [
    "## 1725. Number Of Rectangles That Can Form The Largest Square"
   ]
  },
  {
   "cell_type": "code",
   "execution_count": null,
   "metadata": {},
   "outputs": [],
   "source": [
    "class Solution:\n",
    "    def countGoodRectangles(self, rectangles: List[List[int]]) -> int:\n",
    "        k =[]\n",
    "        for i in rectangles:\n",
    "            k.append(min(i))\n",
    "        return k.count(max(k))\n",
    "\n",
    "        "
   ]
  },
  {
   "cell_type": "markdown",
   "metadata": {},
   "source": [
    "## 3019. Number of Changing Keys"
   ]
  },
  {
   "cell_type": "code",
   "execution_count": null,
   "metadata": {},
   "outputs": [],
   "source": [
    "class Solution:\n",
    "    def countKeyChanges(self, s: str) -> int:\n",
    "        p=0\n",
    "        for i in range(len(s)-1):\n",
    "            if s[i].lower() != s[i+1].lower():\n",
    "                p=p+1\n",
    "        return p"
   ]
  },
  {
   "cell_type": "markdown",
   "metadata": {},
   "source": [
    "## 2309. Greatest English Letter in Upper and Lower Case"
   ]
  },
  {
   "cell_type": "code",
   "execution_count": null,
   "metadata": {},
   "outputs": [],
   "source": [
    "class Solution:\n",
    "    def greatestLetter(self, s: str) -> str:\n",
    "        j = 'qwertyuiopasdfghjklzxcvbnm'\n",
    "        j = sorted(j)\n",
    "        ui = -1\n",
    "        p=''\n",
    "        for i in s:\n",
    "            if i  in 'QWERTYUIOPASDFGHJKLZXCVBNM':\n",
    "                if i.lower() in s:\n",
    "                    jg = j.index(i.lower())\n",
    "                    if jg >ui:\n",
    "                        ui=jg\n",
    "                        p=i\n",
    "            if i  in j:\n",
    "                if i.upper() in s:\n",
    "                    jg = j.index(i)\n",
    "                    if jg >ui:\n",
    "                        ui=jg\n",
    "                        p=i.upper()\n",
    "        return p\n",
    "                "
   ]
  },
  {
   "cell_type": "markdown",
   "metadata": {},
   "source": [
    "## 2239. Find Closest Number to Zero"
   ]
  },
  {
   "cell_type": "code",
   "execution_count": null,
   "metadata": {},
   "outputs": [],
   "source": [
    "class Solution:\n",
    "    def findClosestNumber(self, nums: List[int]) -> int:\n",
    "        nums= sorted(nums)\n",
    "        iu = max(nums)\n",
    "        yt=max(nums)\n",
    "        for i in nums:\n",
    "            u = abs(0-i)\n",
    "            if u <= iu:\n",
    "                iu=u\n",
    "                yt=i\n",
    "        return yt\n",
    "        "
   ]
  },
  {
   "cell_type": "markdown",
   "metadata": {},
   "source": [
    "## 658. Find K Closest Elements"
   ]
  },
  {
   "cell_type": "code",
   "execution_count": null,
   "metadata": {},
   "outputs": [],
   "source": [
    "class Solution:\n",
    "    def findClosestElements(self, arr: List[int], k: int, x: int) -> List[int]:\n",
    "        kq= []\n",
    "        for i in arr:\n",
    "            kq.append(abs(i-x))\n",
    "        kq1 =sorted(kq)\n",
    "        po=[]\n",
    "        for i in range(k):\n",
    "            ii=kq.index(kq1[i])\n",
    "            po.append(arr[ii])\n",
    "            kq.insert(ii+1,'*')\n",
    "            kq.pop(ii)\n",
    "            \n",
    "\n",
    "        return sorted(po)\n",
    "                "
   ]
  },
  {
   "cell_type": "markdown",
   "metadata": {},
   "source": [
    "## 1317. Convert Integer to the Sum of Two No-Zero Integers"
   ]
  },
  {
   "cell_type": "code",
   "execution_count": null,
   "metadata": {},
   "outputs": [],
   "source": [
    "class Solution:\n",
    "    def getNoZeroIntegers(self, n: int) -> List[int]:\n",
    "        q=1\n",
    "        a=n-q\n",
    "        q=str(q)\n",
    "        a=str(a)\n",
    "        while '0' in str(q) or '0' in str(a):\n",
    "            q=int(q)\n",
    "            a=int(a)\n",
    "            q=q+1\n",
    "            a=n-q\n",
    "            q=str(q)\n",
    "            a=str(a)\n",
    "        q=int(q)\n",
    "        a=int(a)\n",
    "        return [a,q]\n",
    "                        "
   ]
  },
  {
   "cell_type": "markdown",
   "metadata": {},
   "source": [
    "## 3120. Count the Number of Special Characters I"
   ]
  },
  {
   "cell_type": "code",
   "execution_count": null,
   "metadata": {},
   "outputs": [],
   "source": [
    "class Solution:\n",
    "    def numberOfSpecialChars(self, word: str) -> int:\n",
    "        k=0\n",
    "        op=[]\n",
    "        for ii in word:\n",
    "            if ii in 'qwertyuiopasdfghjklzxcvbnm' and ii not in op:\n",
    "                if ii.upper() in word:\n",
    "                    k=k+1\n",
    "                    op.append(ii)\n",
    "        return k\n",
    "                "
   ]
  },
  {
   "cell_type": "markdown",
   "metadata": {},
   "source": [
    "## 2303. Calculate Amount Paid in Taxes"
   ]
  },
  {
   "cell_type": "code",
   "execution_count": null,
   "metadata": {},
   "outputs": [],
   "source": [
    "class Solution:\n",
    "    def calculateTax(self, brackets: List[List[int]], income: int) -> float:\n",
    "        o=0\n",
    "        if brackets[0][0] <=income :\n",
    "            o=o+(brackets[0][0]*(brackets[0][1])*0.01)\n",
    "                \n",
    "\n",
    "            income = income-brackets[0][0]\n",
    "        else:\n",
    "            o=o+(income*(brackets[0][1])*0.01)\n",
    "            return(o)\n",
    "\n",
    "\n",
    "\n",
    "        k=0\n",
    "        # o,income\n",
    "        for i in range(1,len(brackets)):\n",
    "            # print(o,income)\n",
    "            if abs(brackets[i-1][0]-brackets[i][0])<income+1 :\n",
    "                o = o+abs(brackets[i-1][0]-brackets[i][0])*(brackets[i][1]*0.01)\n",
    "                income=income-abs(brackets[i-1][0]-brackets[i][0])\n",
    "            else:\n",
    "                o=o+(income*(brackets[i][1])*0.01)\n",
    "                break\n",
    "        return (o)\n",
    "\n",
    "\n",
    "        # o "
   ]
  },
  {
   "cell_type": "code",
   "execution_count": null,
   "metadata": {},
   "outputs": [],
   "source": []
  },
  {
   "cell_type": "markdown",
   "metadata": {},
   "source": [
    "## 2264. Largest 3-Same-Digit Number in String"
   ]
  },
  {
   "cell_type": "code",
   "execution_count": null,
   "metadata": {},
   "outputs": [],
   "source": [
    "class Solution:\n",
    "    def largestGoodInteger(self, num: str) -> str:\n",
    "        j='0'\n",
    "        for i in range(len(num)-2):\n",
    "            k = num[i]+num[i+1]+num[i+2]\n",
    "            # print(k)\n",
    "            if len(set(k)) ==1 and int(k) >=int(j):\n",
    "                j =k\n",
    "\n",
    "        \n",
    "\n",
    "        if len(j) == 1 :\n",
    "            return('')\n",
    "        j=str(j)\n",
    "        return j\n",
    "                "
   ]
  },
  {
   "cell_type": "markdown",
   "metadata": {},
   "source": [
    "## 1796. Second Largest Digit in a String"
   ]
  },
  {
   "cell_type": "code",
   "execution_count": null,
   "metadata": {},
   "outputs": [],
   "source": [
    "class Solution:\n",
    "    def secondHighest(self, s: str) -> int:\n",
    "        k=[]\n",
    "        for i in s:\n",
    "            if i in '1234567890':\n",
    "                if int(i) not in k:\n",
    "                    k.append(int(i))\n",
    "        k=sorted(k)\n",
    "        k=k[::-1]\n",
    "        if len(k) <2:\n",
    "            return -1\n",
    "        else:\n",
    "            return k[1]\n",
    "\n",
    "        "
   ]
  },
  {
   "cell_type": "markdown",
   "metadata": {},
   "source": [
    "## 2520. Count the Digits That Divide a Number"
   ]
  },
  {
   "cell_type": "code",
   "execution_count": null,
   "metadata": {},
   "outputs": [],
   "source": [
    "class Solution:\n",
    "    def countDigits(self, num: int) -> int:\n",
    "        num=str(num)\n",
    "        s=0\n",
    "        for i in num:\n",
    "            if int(num)%int(i)==0:\n",
    "                s=s+1\n",
    "        return s\n",
    "        "
   ]
  },
  {
   "cell_type": "markdown",
   "metadata": {},
   "source": [
    "## 2273. Find Resultant Array After Removing Anagrams"
   ]
  },
  {
   "cell_type": "code",
   "execution_count": null,
   "metadata": {},
   "outputs": [],
   "source": [
    "class Solution:\n",
    "    def removeAnagrams(self, words: List[str]) -> List[str]:\n",
    "        w = words.copy()\n",
    "\n",
    "        for i in range(1,len(words)):\n",
    "            # print(sorted(list(set(words[i-1]))) ,  sorted(list(set(words[i]))))\n",
    "            if sorted(list(words[i-1])) ==   sorted(list(words[i])):\n",
    "                w.insert(i+1,'0')\n",
    "                # print(words[i])\n",
    "                w.pop(i)\n",
    "                \n",
    "        while '0' in w:\n",
    "            w.remove('0')\n",
    "        return w\n",
    "                "
   ]
  },
  {
   "cell_type": "markdown",
   "metadata": {},
   "source": [
    "## 2269. Find the K-Beauty of a Number"
   ]
  },
  {
   "cell_type": "code",
   "execution_count": null,
   "metadata": {},
   "outputs": [],
   "source": [
    "class Solution:\n",
    "    def divisorSubstrings(self, num: int, k: int) -> int:\n",
    "        num = str(num)\n",
    "       \n",
    "        p=0\n",
    "        for i in range(len(num)-k+1):\n",
    "            h = num[i:i+k]\n",
    "            h=int(h)\n",
    "            # print(h)\n",
    "            if h!=0:\n",
    "                if (int(num))%h ==0 :\n",
    "                    p=p+1\n",
    "        return p\n",
    "                "
   ]
  },
  {
   "cell_type": "markdown",
   "metadata": {},
   "source": [
    "## 1903. Largest Odd Number in String"
   ]
  },
  {
   "cell_type": "code",
   "execution_count": null,
   "metadata": {},
   "outputs": [],
   "source": [
    "class Solution:\n",
    "    def largestOddNumber(self, num: str) -> str:\n",
    "        k=''\n",
    "        for i in range(len(num)-1,-1,-1):\n",
    "            if int(num[i])%2 !=0 :\n",
    "                \n",
    "                k = num[:i+1]\n",
    "                break\n",
    "        \n",
    "\n",
    "        return k"
   ]
  },
  {
   "cell_type": "markdown",
   "metadata": {},
   "source": [
    "## 1877. Minimize Maximum Pair Sum in Array"
   ]
  },
  {
   "cell_type": "code",
   "execution_count": null,
   "metadata": {},
   "outputs": [],
   "source": [
    "class Solution:\n",
    "    def minPairSum(self, nums: List[int]) -> int:\n",
    "        g = sorted(nums)\n",
    "        q=g[: len(g)//2]\n",
    "        q1 = g[len(g)//2: len(g)][::-1]\n",
    "        # print(g,q,q1)\n",
    "        o=[]\n",
    "        for i  in range(len(q)):\n",
    "            y=[q[i],q1[i]]\n",
    "            o.append(sum(y))\n",
    "        return (max(o))\n",
    "        "
   ]
  },
  {
   "cell_type": "markdown",
   "metadata": {},
   "source": [
    "## 1876. Substrings of Size Three with Distinct Characters\n"
   ]
  },
  {
   "cell_type": "code",
   "execution_count": null,
   "metadata": {},
   "outputs": [],
   "source": [
    "class Solution:\n",
    "    def countGoodSubstrings(self, s: str) -> int:\n",
    "        con = 0\n",
    "        for  i in range(len(s)-2):\n",
    "            k=[s[i],s[i+1],s[i+2]]\n",
    "            if len(list(set(k)) )==3:\n",
    "                con=con+1\n",
    "        return con\n",
    "                "
   ]
  },
  {
   "cell_type": "markdown",
   "metadata": {},
   "source": [
    "## 3151. Special Array I"
   ]
  },
  {
   "cell_type": "code",
   "execution_count": null,
   "metadata": {},
   "outputs": [],
   "source": [
    "class Solution:\n",
    "    def isArraySpecial(self, nums: List[int]) -> bool:\n",
    "        for i in range(len(nums)-1):\n",
    "            j = [nums[i],nums[i+1]]\n",
    "            if  (j[0]%2==0  and j[1] %2!=0 ) or (j[0]%2!=0  and j[1] %2==0 ):\n",
    "                pass\n",
    "            else:\n",
    "                return(False)\n",
    "        return(True)\n",
    "                "
   ]
  },
  {
   "cell_type": "markdown",
   "metadata": {},
   "source": [
    "## 1684. Count the Number of Consistent Strings"
   ]
  },
  {
   "cell_type": "code",
   "execution_count": null,
   "metadata": {},
   "outputs": [],
   "source": [
    "class Solution:\n",
    "    def countConsistentStrings(self, allowed: str, words: List[str]) -> int:\n",
    "        k=0\n",
    "        pp=0\n",
    "        for i  in words:\n",
    "            for j in i:\n",
    "                if j in allowed:\n",
    "                    pass\n",
    "                else:\n",
    "                    k=1\n",
    "            if k==0:\n",
    "                pp=pp+1\n",
    "                \n",
    "            else:\n",
    "                k=0\n",
    "\n",
    "            \n",
    "        return pp\n",
    "                "
   ]
  },
  {
   "cell_type": "markdown",
   "metadata": {},
   "source": [
    "## 2586. Count the Number of Vowel Strings in Range"
   ]
  },
  {
   "cell_type": "code",
   "execution_count": null,
   "metadata": {},
   "outputs": [],
   "source": [
    "class Solution:\n",
    "    def vowelStrings(self, words: List[str], left: int, right: int) -> int:\n",
    "        r=0\n",
    "        for i in range(left,right+1):\n",
    "            if words[i][0] in 'aeiou' and words[i][-1] in 'aeiou':\n",
    "                r=r+1\n",
    "        return r\n",
    "                "
   ]
  },
  {
   "cell_type": "markdown",
   "metadata": {},
   "source": [
    "## 2000. Reverse Prefix of Word"
   ]
  },
  {
   "cell_type": "code",
   "execution_count": null,
   "metadata": {},
   "outputs": [],
   "source": [
    "class Solution:\n",
    "    def reversePrefix(self, word: str, ch: str) -> str:\n",
    "        if ch in word:\n",
    "\n",
    "\n",
    "            p=word.index(ch)\n",
    "            k = word[:p+1]\n",
    "            return k[::-1]+word[p+1:len(word)]\n",
    "        else:\n",
    "            return word\n",
    "        "
   ]
  },
  {
   "cell_type": "markdown",
   "metadata": {},
   "source": [
    "## 1304. Find N Unique Integers Sum up to Zero"
   ]
  },
  {
   "cell_type": "code",
   "execution_count": null,
   "metadata": {},
   "outputs": [],
   "source": [
    "class Solution:\n",
    "    def sumZero(self, n: int) -> List[int]:\n",
    "        k=[]\n",
    "        if n==1:\n",
    "            k.append(0)\n",
    "            print(k)\n",
    "        elif n%2!=0:\n",
    "            k.append(0)\n",
    "\n",
    "\n",
    "        for i in range(1,(n//2)+1):\n",
    "            k.append(i)\n",
    "            k.append(-i)\n",
    "        return k\n",
    "                "
   ]
  },
  {
   "cell_type": "markdown",
   "metadata": {},
   "source": [
    "## 2582. Pass the Pillow"
   ]
  },
  {
   "cell_type": "code",
   "execution_count": null,
   "metadata": {},
   "outputs": [],
   "source": [
    "class Solution:\n",
    "    def passThePillow(self, n: int, time: int) -> int:\n",
    "        n1 = 1\n",
    "        while time !=0:\n",
    "            while n1 !=n and time !=0 :\n",
    "                # print(n1,time)\n",
    "                time=time-1\n",
    "                n1=n1+1\n",
    "            while n1!=1 and time!=0:\n",
    "                # print(n1,time)\n",
    "                time=time-1\n",
    "                n1=n1-1\n",
    "        return(n1)"
   ]
  },
  {
   "cell_type": "markdown",
   "metadata": {},
   "source": [
    "## 3178. Find the Child Who Has the Ball After K Seconds"
   ]
  },
  {
   "cell_type": "code",
   "execution_count": null,
   "metadata": {},
   "outputs": [],
   "source": [
    "class Solution:\n",
    "    def numberOfChild(self, n: int, k: int) -> int:\n",
    "        u=0\n",
    "        while k !=0:\n",
    "            # print(u,k)\n",
    "            if u <n-1:\n",
    "                u=u+1\n",
    "                k=k-1\n",
    "            else:\n",
    "                while k != 0:\n",
    "                    # print(u,k)\n",
    "                    u = u-1\n",
    "                    k=k-1\n",
    "                    if u  == 0:\n",
    "                        break\n",
    "        return u\n",
    "                "
   ]
  },
  {
   "cell_type": "markdown",
   "metadata": {},
   "source": [
    "## 2288. Apply Discount to Prices"
   ]
  },
  {
   "cell_type": "code",
   "execution_count": null,
   "metadata": {},
   "outputs": [],
   "source": [
    "class Solution:\n",
    "    def discountPrices(self, sentence: str, discount: int) -> str:\n",
    "        k =sentence.split(' ')\n",
    "        def num(e):\n",
    "            for i in e:\n",
    "                if i  in '1234567890':\n",
    "                    pass\n",
    "                else:\n",
    "                    return False\n",
    "            return True\n",
    "        for i in k[:]:\n",
    "            if '$'  in i  and i.count('$') ==1 and i.index('$')==0 and len(i)>1:\n",
    "                g = i[1:len(i)]\n",
    "                if num(g) == True:\n",
    "                # print(g)\n",
    "                    g=int(g)\n",
    "                    g=g-g*(discount/100)\n",
    "                    g= round(g,2)\n",
    "                    d=\"$\"\n",
    "                    d=d+str(g)\n",
    "                    if len(d.split('.')[-1]) ==1:\n",
    "                        d=d+'0'\n",
    "                    elif len(d.split('.')[-1]) >2:\n",
    "                        d= d[0:len(d.split('.')[0] )+3]\n",
    "                    k.insert(k.index(i)+1,d)\n",
    "                    k.pop(k.index(i))\n",
    "                    # print(d,i)\n",
    "                    \n",
    "            else:\n",
    "                pass\n",
    "\n",
    "                # k.remove(i)\n",
    "                    \n",
    "\n",
    "\n",
    "        k = ' '.join(k)\n",
    "\n",
    "        return k "
   ]
  },
  {
   "cell_type": "markdown",
   "metadata": {},
   "source": [
    "## 2481. Minimum Cuts to Divide a Circle"
   ]
  },
  {
   "cell_type": "code",
   "execution_count": null,
   "metadata": {},
   "outputs": [],
   "source": [
    "class Solution:\n",
    "    def numberOfCuts(self, n: int) -> int:\n",
    "        if n==1:\n",
    "            return 0\n",
    "        if n%2==0:\n",
    "            return n//2\n",
    "        else:\n",
    "            return n        "
   ]
  },
  {
   "cell_type": "markdown",
   "metadata": {},
   "source": [
    "## 2469. Convert the Temperature"
   ]
  },
  {
   "cell_type": "code",
   "execution_count": null,
   "metadata": {},
   "outputs": [],
   "source": [
    "class Solution:\n",
    "    def convertTemperature(self, celsius: float) -> List[float]:\n",
    "        Kelvin = celsius + 273.15\n",
    "        Fahrenheit = (celsius * 1.80) + 32.00\n",
    "        return [Kelvin,Fahrenheit]\n",
    "\n",
    "        "
   ]
  },
  {
   "cell_type": "markdown",
   "metadata": {},
   "source": [
    "## 1342. Number of Steps to Reduce a Number to Zero"
   ]
  },
  {
   "cell_type": "code",
   "execution_count": null,
   "metadata": {},
   "outputs": [],
   "source": [
    "class Solution:\n",
    "    def numberOfSteps(self, num: int) -> int:\n",
    "        k=0\n",
    "        while num!=0:\n",
    "            if num%2==0:\n",
    "                num = num//2\n",
    "                \n",
    "            else:\n",
    "                num = num-1\n",
    "            k=k+1\n",
    "        return k\n",
    "\n",
    "        "
   ]
  },
  {
   "cell_type": "markdown",
   "metadata": {},
   "source": [
    "## 3105. Longest Strictly Increasing or Strictly Decreasing Subarray"
   ]
  },
  {
   "cell_type": "code",
   "execution_count": null,
   "metadata": {},
   "outputs": [],
   "source": [
    "class Solution:\n",
    "    def longestMonotonicSubarray(self, nums: List[int]) -> int:\n",
    "        k=[nums[0]]\n",
    "\n",
    "        s=0\n",
    "        for i in nums:\n",
    "            # print(k)\n",
    "            if i >k[-1]:\n",
    "                k.append(i)\n",
    "                s=max(len(k),s)\n",
    "            else:\n",
    "                # print(len(k))\n",
    "                s=max(len(k),s)\n",
    "                k=[i]\n",
    "        s=max(len(k),s)\n",
    "        s\n",
    "        kq=[nums[0]]\n",
    "\n",
    "        sq=0\n",
    "        for i in nums:\n",
    "            # print(k)\n",
    "            if i <kq[-1]:\n",
    "                kq.append(i)\n",
    "                sq=max(len(kq),sq)\n",
    "            else:\n",
    "                # print(len(k))\n",
    "                sq=max(len(kq),sq)\n",
    "                kq=[i]\n",
    "        sq=max(len(kq),sq)\n",
    "        sq\n",
    "        return (max(s,sq))\n",
    "                "
   ]
  },
  {
   "cell_type": "markdown",
   "metadata": {},
   "source": [
    "## 917. Reverse Only Letters"
   ]
  },
  {
   "cell_type": "code",
   "execution_count": null,
   "metadata": {},
   "outputs": [],
   "source": [
    "class Solution:\n",
    "    def reverseOnlyLetters(self, s: str) -> str:\n",
    "        ji=s\n",
    "        k=[]\n",
    "        for i in s:\n",
    "            if i in 'qwertyuiopasdfghjklzxcvbnmQWERTYUIOPASDFGHJKLZXCVBNM':\n",
    "                k.append(i)\n",
    "        # print(k)\n",
    "        j = k[::-1]\n",
    "        j\n",
    "        ji=list(ji)\n",
    "        s=list(s)\n",
    "        for i in ji[:]:\n",
    "            if i  in k:\n",
    "                hg = k.index(i)\n",
    "                gf = s.index(i)\n",
    "                \n",
    "                ji.insert(gf+1,j[hg])\n",
    "                ji.pop(gf)\n",
    "                s.insert(gf+1,'-')\n",
    "                s.pop(gf)\n",
    "                k.pop(hg)\n",
    "                j.pop(hg)\n",
    "\n",
    "\n",
    "\n",
    "\n",
    "\n",
    "\n",
    "                # print(i,s)\n",
    "                # hg = k.index(i)\n",
    "                # gf = s.index(i)\n",
    "                # s.insert(gf+1,j[hg])\n",
    "                # s.pop(gf)\n",
    "                # k.pop(hg)\n",
    "                # j.pop(hg)\n",
    "        ji=''.join(ji)\n",
    "        return ji\n",
    "                "
   ]
  },
  {
   "cell_type": "markdown",
   "metadata": {},
   "source": [
    "## 2810. Faulty Keyboard"
   ]
  },
  {
   "cell_type": "code",
   "execution_count": null,
   "metadata": {},
   "outputs": [],
   "source": [
    "class Solution:\n",
    "    def finalString(self, s: str) -> str:\n",
    "        k = ''\n",
    "        for i in s:\n",
    "            if i=='i':\n",
    "                k=k[::-1]\n",
    "            else:\n",
    "                k=k+i\n",
    "        return k\n",
    "                "
   ]
  },
  {
   "cell_type": "markdown",
   "metadata": {},
   "source": [
    "## 2169. Count Operations to Obtain Zero"
   ]
  },
  {
   "cell_type": "code",
   "execution_count": null,
   "metadata": {},
   "outputs": [],
   "source": [
    "class Solution:\n",
    "    def countOperations(self, num1: int, num2: int) -> int:\n",
    "        k=0\n",
    "        while num1 !=0 and num2 !=0:\n",
    "            print(num1,num2)\n",
    "            if num1 >= num2:\n",
    "                num1 = num1-num2\n",
    "            else:\n",
    "                num2 = num2-num1\n",
    "            k=k+1\n",
    "        return k\n",
    "                "
   ]
  },
  {
   "cell_type": "markdown",
   "metadata": {},
   "source": [
    "## 1800. Maximum Ascending Subarray Sum"
   ]
  },
  {
   "cell_type": "code",
   "execution_count": null,
   "metadata": {},
   "outputs": [],
   "source": [
    "class Solution:\n",
    "    def maxAscendingSum(self, nums: List[int]) -> int:\n",
    "        k=[]\n",
    "        p=[nums[0]]\n",
    "        s=0\n",
    "        for i in range(1,len(nums)):\n",
    "            # print(nums[i] ,p[-1])\n",
    "\n",
    "            if nums[i] >p[-1]:\n",
    "                p.append(nums[i])\n",
    "            else:\n",
    "                # print(p)\n",
    "                if sum(p)>s:\n",
    "                    s=sum(p)\n",
    "                p=[nums[i]]\n",
    "        return max(s,sum(p))\n",
    "                "
   ]
  },
  {
   "cell_type": "markdown",
   "metadata": {},
   "source": [
    "## 1337. The K Weakest Rows in a Matrix"
   ]
  },
  {
   "cell_type": "code",
   "execution_count": null,
   "metadata": {},
   "outputs": [],
   "source": [
    "class Solution:\n",
    "    def kWeakestRows(self, mat: List[List[int]], k: int) -> List[int]:\n",
    "        u = []\n",
    "        for i in mat:\n",
    "            u.append(sum(i))\n",
    "        uk = sorted(u)\n",
    "        y=[]\n",
    "        # print(u)\n",
    "        # print(uk)\n",
    "        for i in uk:\n",
    "            yu = u.index(i)\n",
    "            y.append(yu)\n",
    "            u.insert(yu+1,'p')\n",
    "            u.pop(yu)\n",
    "        return y[:k]\n",
    "                "
   ]
  },
  {
   "cell_type": "markdown",
   "metadata": {},
   "source": [
    "## 1979. Find Greatest Common Divisor of Array"
   ]
  },
  {
   "cell_type": "code",
   "execution_count": null,
   "metadata": {},
   "outputs": [],
   "source": [
    "class Solution:\n",
    "    def findGCD(self, nums: List[int]) -> int:\n",
    "        if max(nums)%min(nums)==0:\n",
    "            return(min(nums))\n",
    "        else:\n",
    "            for i in range(min(nums)-1,0,-1):\n",
    "                if max(nums)%i==0 and  min(nums)%i==0 :\n",
    "                    return(i)\n",
    "                "
   ]
  },
  {
   "cell_type": "markdown",
   "metadata": {},
   "source": [
    "## 1952. Three Divisors"
   ]
  },
  {
   "cell_type": "code",
   "execution_count": null,
   "metadata": {},
   "outputs": [],
   "source": [
    "class Solution:\n",
    "    def isThree(self, n: int) -> bool:\n",
    "        c= 0\n",
    "        for i in range(1,n+1):\n",
    "            if n%i==0:\n",
    "                c=c+1\n",
    "\n",
    "        if c!=3:\n",
    "            return False\n",
    "        else:\n",
    "            return True\n",
    "\n",
    "\n",
    "        "
   ]
  },
  {
   "cell_type": "markdown",
   "metadata": {},
   "source": [
    "## 1790. Check if One String Swap Can Make Strings Equal"
   ]
  },
  {
   "cell_type": "code",
   "execution_count": null,
   "metadata": {},
   "outputs": [],
   "source": [
    "class Solution:\n",
    "    def areAlmostEqual(self, s1: str, s2: str) -> bool:\n",
    "        if s1 ==s2:\n",
    "            return(True)\n",
    "        if sorted(s1) != sorted(s2):\n",
    "            return(False)\n",
    "        cn =0\n",
    "        y=[]\n",
    "        for i in range(len(s1)):\n",
    "            if s1[i]!=s2[i]:\n",
    "                cn = cn+1\n",
    "                y.append(s1[i])\n",
    "                y.append(s2[i])\n",
    "        if cn==2:\n",
    "            if len(set(y))==2:\n",
    "                return(True)\n",
    "            else:\n",
    "                return(False)\n",
    "        else:\n",
    "            return(False)\n",
    "                "
   ]
  },
  {
   "cell_type": "markdown",
   "metadata": {},
   "source": [
    "## 724. Find Pivot Index"
   ]
  },
  {
   "cell_type": "code",
   "execution_count": null,
   "metadata": {},
   "outputs": [],
   "source": [
    "class Solution:\n",
    "    def pivotIndex(self, nums: List[int]) -> int:\n",
    "        if sum(nums)==0:\n",
    "            print(0)\n",
    "\n",
    "\n",
    "\n",
    "\n",
    "\n",
    "        for i in range( len(nums)):\n",
    "            k = nums[i+1:]\n",
    "\n",
    "            j = nums[:i]\n",
    "            # print(j,k,i)\n",
    "            if sum(k) == sum(j):\n",
    "                return(i)\n",
    "                # break\n",
    "        return -1\n",
    "                "
   ]
  },
  {
   "cell_type": "markdown",
   "metadata": {},
   "source": [
    "## 1491. Average Salary Excluding the Minimum and Maximum Salary"
   ]
  },
  {
   "cell_type": "code",
   "execution_count": null,
   "metadata": {},
   "outputs": [],
   "source": [
    "class Solution:\n",
    "    def average(self, salary: List[int]) -> float:\n",
    "        salary.pop(salary.index(min(salary)))\n",
    "        salary.pop(salary.index(max(salary)))\n",
    "        return sum(salary)/len(salary)\n",
    "                "
   ]
  },
  {
   "cell_type": "markdown",
   "metadata": {},
   "source": [
    "## 2413. Smallest Even Multiple"
   ]
  },
  {
   "cell_type": "code",
   "execution_count": null,
   "metadata": {},
   "outputs": [],
   "source": [
    "class Solution:\n",
    "    def smallestEvenMultiple(self, n: int) -> int:\n",
    "        if n%2==0:\n",
    "            return(n)\n",
    "        else:\n",
    "            return(n*2)"
   ]
  },
  {
   "cell_type": "markdown",
   "metadata": {},
   "source": [
    "## 1005. Maximize Sum Of Array After K Negations"
   ]
  },
  {
   "cell_type": "code",
   "execution_count": null,
   "metadata": {},
   "outputs": [],
   "source": [
    "class Solution:\n",
    "    def largestSumAfterKNegations(self, nums: List[int], k: int) -> int:\n",
    "        while k!=0:\n",
    "            nums = sorted(nums)\n",
    "            nums[0] = nums[0]*-1\n",
    "            k=k-1\n",
    "        return sum(nums)\n",
    "                "
   ]
  },
  {
   "cell_type": "markdown",
   "metadata": {},
   "source": [
    "## 1287. Element Appearing More Than 25% In Sorted Array"
   ]
  },
  {
   "cell_type": "code",
   "execution_count": null,
   "metadata": {},
   "outputs": [],
   "source": [
    "class Solution:\n",
    "    def findSpecialInteger(self, arr: List[int]) -> int:\n",
    "        s=list(set(arr))\n",
    "        for i in s:\n",
    "            j = (arr.count(i)*100)/len(arr)\n",
    "            if j >25:\n",
    "                return(i)\n",
    "                "
   ]
  },
  {
   "cell_type": "markdown",
   "metadata": {},
   "source": [
    "## 2574. Left and Right Sum Differences"
   ]
  },
  {
   "cell_type": "code",
   "execution_count": null,
   "metadata": {},
   "outputs": [],
   "source": [
    "class Solution:\n",
    "    def leftRightDifference(self, nums: List[int]) -> List[int]:\n",
    "        nim = nums[::-1]\n",
    "        forw=[]\n",
    "        for i,io in zip(range(len(nums)),range(len(nums)-1,-1,-1)):\n",
    "            u = nums[:i]\n",
    "            ki = nim[:io]\n",
    "            # print(u,ki)\n",
    "            forw.append(abs(sum(u)-sum(ki)))\n",
    "            # forw.append(sum(u))\n",
    "        return forw\n",
    "                "
   ]
  },
  {
   "cell_type": "markdown",
   "metadata": {},
   "source": [
    "## 1991. Find the Middle Index in Array"
   ]
  },
  {
   "cell_type": "code",
   "execution_count": null,
   "metadata": {},
   "outputs": [],
   "source": [
    "class Solution:\n",
    "    def findMiddleIndex(self, nums: List[int]) -> int:\n",
    "\n",
    "        if sum(nums)==0:\n",
    "            print(0)\n",
    "\n",
    "\n",
    "\n",
    "\n",
    "\n",
    "        for i in range( len(nums)):\n",
    "            k = nums[i+1:]\n",
    "\n",
    "            j = nums[:i]\n",
    "            # print(j,k,i)\n",
    "            if sum(k) == sum(j):\n",
    "                return(i)\n",
    "                # break\n",
    "        return -1\n",
    "                "
   ]
  },
  {
   "cell_type": "markdown",
   "metadata": {},
   "source": [
    "## 119. Pascal's Triangle II"
   ]
  },
  {
   "cell_type": "code",
   "execution_count": null,
   "metadata": {},
   "outputs": [],
   "source": [
    "class Solution:\n",
    "    def getRow(self, rowIndex: int) -> List[int]:\n",
    "        numRows = rowIndex+1\n",
    "        k=[]\n",
    "        u=0\n",
    "        jj=[]\n",
    "        for i in range(1,numRows+1):\n",
    "            if i <3:\n",
    "\n",
    "                for j in range(i):\n",
    "                    jj.append(1)\n",
    "                k.append(jj)\n",
    "                jj=[]\n",
    "            else:\n",
    "                for j in range(i):\n",
    "                    if j!=0 and j!=i-1:\n",
    "                        \n",
    "                        jj.append(k[-1][j]+k[-1][j-1])\n",
    "                    else:\n",
    "                        jj.append(1)\n",
    "                k.append(jj)\n",
    "                jj=[]\n",
    "                \n",
    "\n",
    "\n",
    "        return k[-1] \n",
    "                "
   ]
  },
  {
   "cell_type": "markdown",
   "metadata": {},
   "source": [
    "## 2293. Min Max Game"
   ]
  },
  {
   "cell_type": "code",
   "execution_count": null,
   "metadata": {},
   "outputs": [],
   "source": [
    "class Solution:\n",
    "    def minMaxGame(self, nums: List[int]) -> int:\n",
    "        j=[]\n",
    "        a=0\n",
    "        while len(nums)!=1:\n",
    "\n",
    "            for i in range(0,len(nums),2):\n",
    "                # print(i)\n",
    "                if a==0:\n",
    "                    j.append(min(nums[i],nums[i+1]))\n",
    "                    a=a+1\n",
    "                else:\n",
    "                    j.append(max(nums[i],nums[i+1]))\n",
    "                    a=a-1\n",
    "            nums=j\n",
    "            j=[]\n",
    "        return nums[0]\n",
    "                "
   ]
  },
  {
   "cell_type": "markdown",
   "metadata": {},
   "source": [
    "## 2243. Calculate Digit Sum of a String"
   ]
  },
  {
   "cell_type": "code",
   "execution_count": null,
   "metadata": {},
   "outputs": [],
   "source": [
    "class Solution:\n",
    "    def digitSum(self, s: str, k: int) -> str:\n",
    "        # k = 3\n",
    "        j=[]\n",
    "        h=''\n",
    "        while len(s)>k:\n",
    "            # print(s)\n",
    "\n",
    "            for i in range(len(s)):\n",
    "\n",
    "                h =h+s[i]\n",
    "                if i == len(s)-1 :\n",
    "                    j.append(h)\n",
    "                    h=''\n",
    "\n",
    "                if len(h)==k:\n",
    "                    j.append(h)\n",
    "                    h=''\n",
    "                \n",
    "            # print(j)\n",
    "            for i in j:\n",
    "                s=0\n",
    "                for kk in i:\n",
    "                    s=s+int(kk)\n",
    "                h=h+str(s)\n",
    "                \n",
    "            s=h\n",
    "            h=''\n",
    "            j=[]\n",
    "        return s\n",
    "                "
   ]
  },
  {
   "cell_type": "markdown",
   "metadata": {},
   "source": [
    "## 2357. Make Array Zero by Subtracting Equal Amounts"
   ]
  },
  {
   "cell_type": "code",
   "execution_count": null,
   "metadata": {},
   "outputs": [],
   "source": [
    "class Solution:\n",
    "    def minimumOperations(self, nums: List[int]) -> int:\n",
    "        while 0 in nums:\n",
    "            nums.remove(0)\n",
    "        jk=[]\n",
    "        con=0\n",
    "        p=0\n",
    "        while p==0:\n",
    "            while 0 in nums:\n",
    "                nums.remove(0)\n",
    "        \n",
    "            # print(nums)\n",
    "            if len(nums)==0:\n",
    "                p=1\n",
    "\n",
    "            for i in nums:\n",
    "                k=i-min(nums)\n",
    "                jk.append(k)\n",
    "            nums=jk\n",
    "            jk=[]\n",
    "\n",
    "            con+=1\n",
    "            # if \n",
    "\n",
    "\n",
    "        return (con-1)\n",
    "                "
   ]
  },
  {
   "cell_type": "markdown",
   "metadata": {},
   "source": [
    "## 674. Longest Continuous Increasing Subsequence"
   ]
  },
  {
   "cell_type": "code",
   "execution_count": null,
   "metadata": {},
   "outputs": [],
   "source": [
    "class Solution:\n",
    "    def findLengthOfLCIS(self, nums: List[int]) -> int:\n",
    "        if len(nums) ==1:\n",
    "            return 1\n",
    "        # j = sorted(nums)\n",
    "        # if nums==j:\n",
    "        #     return (len(j))\n",
    "\n",
    "\n",
    "        k=[]\n",
    "        d=0\n",
    "        for i in range(len(nums)-1):\n",
    "            if nums[i]<nums[i+1]:\n",
    "                k.append(nums[i])\n",
    "                if i == len(nums)-2:\n",
    "                    k.append(nums[i+1])\n",
    "                    if d < len(k):\n",
    "                        d=len(k)\n",
    "                        k=[]\n",
    "\n",
    "            else:\n",
    "                k.append(nums[i])\n",
    "                if d < len(k):\n",
    "                    d=len(k)\n",
    "                k=[]\n",
    "            # if i == len(nums)-2:\n",
    "\n",
    "        return d"
   ]
  },
  {
   "cell_type": "markdown",
   "metadata": {},
   "source": [
    "## 697. Degree of an Array"
   ]
  },
  {
   "cell_type": "code",
   "execution_count": null,
   "metadata": {},
   "outputs": [],
   "source": [
    "class Solution:\n",
    "    def findShortestSubArray(self, nums: List[int]) -> int:\n",
    "        s=[0]\n",
    "        j=[]\n",
    "        for i in list(set(nums)):\n",
    "            # print(i)\n",
    "            if nums.count(i) >s[-1]:\n",
    "                s.clear()\n",
    "                s.append(nums.count(i))\n",
    "                j.clear()\n",
    "                j.append(i)\n",
    "            elif nums.count(i) ==s[-1]:\n",
    "                j.append(i)\n",
    "        if s[0]==0:\n",
    "            s.pop(0)\n",
    "        # print(s,j)\n",
    "        diff =len(nums)\n",
    "        ko=0\n",
    "        for i in j:\n",
    "            # print(diff,i,abs(nums.index(i) - abs(nums[::-1].index(i) - len(nums)+1)))\n",
    "            if abs(nums.index(i) - abs(nums[::-1].index(i) - len(nums)+1)) <diff:\n",
    "                diff = abs(nums.index(i) - abs(nums[::-1].index(i) - len(nums)+1))\n",
    "                ko=i\n",
    "            else:\n",
    "                pass\n",
    "\n",
    "        ko\n",
    "        ja = nums[nums.index(ko):abs(nums[::-1].index(ko) - len(nums)+1)+1]\n",
    "        return len(ja)\n",
    "                "
   ]
  },
  {
   "cell_type": "markdown",
   "metadata": {},
   "source": [
    "## 1561. Maximum Number of Coins You Can Get"
   ]
  },
  {
   "cell_type": "code",
   "execution_count": null,
   "metadata": {},
   "outputs": [],
   "source": [
    "class Solution:\n",
    "    def maxCoins(self, piles: List[int]) -> int:\n",
    "        piles=sorted(piles)\n",
    "        piles=piles[::-1]\n",
    "        a=0\n",
    "        while len(piles)!=0:\n",
    "\n",
    "            k=[piles[0],piles[1],piles[-1]]\n",
    "            # print(k)\n",
    "            a=a+k[1]\n",
    "            piles.pop(-1)\n",
    "            piles.pop(1)\n",
    "            piles.pop(0)\n",
    "            # k=[]\n",
    "        return a\n",
    "                "
   ]
  },
  {
   "cell_type": "markdown",
   "metadata": {},
   "source": [
    "## 2335. Minimum Amount of Time to Fill Cups"
   ]
  },
  {
   "cell_type": "code",
   "execution_count": null,
   "metadata": {},
   "outputs": [],
   "source": [
    "class Solution:\n",
    "    def fillCups(self, amount: List[int]) -> int:\n",
    "        \n",
    "\n",
    "        if amount[0] ==0 and amount[1] ==0:\n",
    "            return(sum(amount))\n",
    "        elif amount[1] ==0 and amount[2] ==0:\n",
    "            return(sum(amount))\n",
    "        elif amount[0] ==0 and amount[2] ==0:\n",
    "            return(sum(amount))\n",
    "        else:\n",
    "\n",
    "\n",
    "            j= max(amount)\n",
    "            amount.pop(amount.index(j))\n",
    "\n",
    "            if j == sum(amount):\n",
    "                return(j)\n",
    "            elif j > sum(amount):\n",
    "                return(sum(amount) + (j-sum(amount)))\n",
    "            elif j < sum(amount):\n",
    "                if (sum(amount)-j )%2==0:\n",
    "                \n",
    "                    return(j+ ((sum(amount)-j)//2))\n",
    "                else:\n",
    "                    return(j+ 1+((sum(amount)-j)//2))\n",
    "                "
   ]
  },
  {
   "cell_type": "markdown",
   "metadata": {},
   "source": [
    "## 118. Pascal's Triangle"
   ]
  },
  {
   "cell_type": "code",
   "execution_count": null,
   "metadata": {},
   "outputs": [],
   "source": [
    "class Solution:\n",
    "    def generate(self, numRows: int) -> List[List[int]]:\n",
    "        k=[]\n",
    "        u=0\n",
    "        jj=[]\n",
    "        for i in range(1,numRows+1):\n",
    "            if i <3:\n",
    "\n",
    "                for j in range(i):\n",
    "                    jj.append(1)\n",
    "                k.append(jj)\n",
    "                jj=[]\n",
    "            else:\n",
    "                for j in range(i):\n",
    "                    if j!=0 and j!=i-1:\n",
    "                        \n",
    "                        jj.append(k[-1][j]+k[-1][j-1])\n",
    "                    else:\n",
    "                        jj.append(1)\n",
    "                k.append(jj)\n",
    "                jj=[]\n",
    "                \n",
    "\n",
    "\n",
    "        return k\n",
    "                "
   ]
  },
  {
   "cell_type": "markdown",
   "metadata": {},
   "source": [
    "## 1624. Largest Substring Between Two Equal Characters"
   ]
  },
  {
   "cell_type": "code",
   "execution_count": null,
   "metadata": {},
   "outputs": [],
   "source": [
    "class Solution:\n",
    "    def maxLengthBetweenEqualCharacters(self, s: str) -> int:\n",
    "        j=''\n",
    "        io=0\n",
    "        d = s[::-1]\n",
    "        for i in s:\n",
    "            if s.count(i)>1:\n",
    "                io=1\n",
    "                r = s.index(i)\n",
    "                q = d.index(i)\n",
    "                # return(we,r,len(s)-1-q-r)\n",
    "                if abs(len(s)-1-q-r)>1:\n",
    "                    we = s[r+1:len(s)-1-q]\n",
    "                    if len(we)>len(j):\n",
    "                        j=we\n",
    "                \n",
    "            \n",
    "        if io==0:\n",
    "            return(-1)\n",
    "        else:\n",
    "            return(len(j))\n",
    "                "
   ]
  },
  {
   "cell_type": "markdown",
   "metadata": {},
   "source": [
    "## 1422. Maximum Score After Splitting a String"
   ]
  },
  {
   "cell_type": "code",
   "execution_count": null,
   "metadata": {},
   "outputs": [],
   "source": [
    "class Solution:\n",
    "    def maxScore(self, s: str) -> int:\n",
    "        kj =0\n",
    "        for i in range(len(s)-1):\n",
    "            k1=s[0:i+1]\n",
    "            k2=s[i+1:len(s)]\n",
    "            cnt1=0\n",
    "            cnt2=0\n",
    "            while \"0\" in k1:\n",
    "                cnt1+=1\n",
    "                k1=list(k1)\n",
    "                k1.remove(\"0\")\n",
    "                k1=\"\".join(k1)\n",
    "            \n",
    "            while \"1\" in k2:\n",
    "                cnt2+=1\n",
    "                k2=list(k2)\n",
    "                k2.remove(\"1\")\n",
    "                k2=\"\".join(k2)\n",
    "            if (cnt1+cnt2) >kj:\n",
    "                kj=cnt1+cnt2\n",
    "            cnt1=0\n",
    "            cnt2=0\n",
    "\n",
    "            # print(\"fghj\",k1,\" \",k2)\n",
    "        return kj\n",
    "                "
   ]
  },
  {
   "cell_type": "markdown",
   "metadata": {},
   "source": [
    "## 3114. Latest Time You Can Obtain After Replacing Characters"
   ]
  },
  {
   "cell_type": "code",
   "execution_count": null,
   "metadata": {},
   "outputs": [],
   "source": [
    "class Solution:\n",
    "    def findLatestTime(self, s: str) -> str:\n",
    "        s=s.split(':')\n",
    "        # print(s)\n",
    "\n",
    "        if '?' in s[0]:\n",
    "            s[0]=list(s[0])\n",
    "            k = s[0].index('?')\n",
    "        \n",
    "            if k==0:\n",
    "                if s[0][1] =='0' or s[0][1] =='1':\n",
    "                    s[0].insert(k+1,'1')\n",
    "                    s[0].pop(k)\n",
    "                    s[0]=''.join(s[0])\n",
    "                    # print(s[0])\n",
    "                elif s[0][1] =='?':\n",
    "                    s[0]=[\"11\"]\n",
    "                    s[0]=''.join(s[0])\n",
    "\n",
    "                else:\n",
    "                    s[0].insert(1,'0')\n",
    "                    s[0].pop(0)\n",
    "                    s[0]=''.join(s[0])\n",
    "            if k==1:\n",
    "                if s[0][0] =='0' :\n",
    "                    s[0].insert(k+1,'9')\n",
    "                    s[0].pop(k)\n",
    "                    s[0]=''.join(s[0])\n",
    "                    # print(s[0])\n",
    "                if s[0][0] =='1' :\n",
    "                    s[0].insert(k+1,'1')\n",
    "                    s[0].pop(k)\n",
    "                    s[0]=''.join(s[0])\n",
    "        if '?' in s[1]:\n",
    "            s[1]=list(s[1])\n",
    "            k = s[1].index('?')\n",
    "            if k==0:\n",
    "                if s[1][1] =='?':\n",
    "                    s[1]=[\"59\"]\n",
    "                    s[1]=''.join(s[1])\n",
    "                else:\n",
    "\n",
    "                \n",
    "                    s[1].insert(k+1,'5')\n",
    "                    s[1].pop(k)\n",
    "                    s[1]=''.join(s[1])\n",
    "            if k==1:\n",
    "                if s[1][0] =='5' :\n",
    "                    s[1].insert(k+1,'9')\n",
    "                    s[1].pop(k)\n",
    "                    s[1]=''.join(s[1])\n",
    "                else:\n",
    "                    s[1].insert(k+1,'9')\n",
    "                    s[1].pop(k)\n",
    "                    s[1]=''.join(s[1])\n",
    "                \n",
    "\n",
    "\n",
    "\n",
    "\n",
    "\n",
    "\n",
    "        \n",
    "\n",
    "        s[0] = s[0]+':'         \n",
    "        s=''.join(s)\n",
    "        # s             \n",
    "        return s\n",
    "                "
   ]
  },
  {
   "cell_type": "markdown",
   "metadata": {},
   "source": [
    "## 561. Array Partition"
   ]
  },
  {
   "cell_type": "code",
   "execution_count": null,
   "metadata": {},
   "outputs": [],
   "source": [
    "class Solution:\n",
    "    def arrayPairSum(self, nums: List[int]) -> int:\n",
    "        nums = sorted(nums)\n",
    "        # print(nums)\n",
    "        s=0\n",
    "        for i in range(0,len(nums)-1,2):\n",
    "            # print(nums[i],nums[i+1])\n",
    "            s=s+min(nums[i],nums[i+1])\n",
    "        return s\n",
    "        "
   ]
  },
  {
   "cell_type": "markdown",
   "metadata": {},
   "source": [
    "## 575. Distribute Candies"
   ]
  },
  {
   "cell_type": "code",
   "execution_count": null,
   "metadata": {},
   "outputs": [],
   "source": [
    "class Solution:\n",
    "    def distributeCandies(self, candyType: List[int]) -> int:\n",
    "        d=dict.fromkeys(candyType)\n",
    "        d=list(d)\n",
    "        \n",
    "        return (min(int(len(candyType)/2),len(d)))\n",
    "        "
   ]
  },
  {
   "cell_type": "markdown",
   "metadata": {},
   "source": [
    "## 3115. Maximum Prime Difference"
   ]
  },
  {
   "cell_type": "code",
   "execution_count": null,
   "metadata": {},
   "outputs": [],
   "source": [
    "class Solution:\n",
    "    def maximumPrimeDifference(self, nums: List[int]) -> int:\n",
    "        a =0\n",
    "        b=0\n",
    "\n",
    "        def prime(ii):\n",
    "\n",
    "            if ii ==2 or ii==3  or ii==5 or ii==7 :\n",
    "                return True\n",
    "            \n",
    "            if ii!=1 and ii!=2 and ii!=3 and ii!=5 and ii!=7:\n",
    "                if ii %2==0 or ii%3==0 or ii%5==0 or ii%7==0 :\n",
    "                    return False\n",
    "                else:\n",
    "                    return True\n",
    "            else:\n",
    "                return False\n",
    "\n",
    "        # print(prime(97))\n",
    "\n",
    "        for i in nums:\n",
    "            if prime(i) == True:\n",
    "                a = nums.index(i)\n",
    "                break\n",
    "\n",
    "        nums = nums[::-1]\n",
    "        for i in nums:\n",
    "            if prime(i) == True:\n",
    "                b = nums.index(i)\n",
    "                break\n",
    "\n",
    "        b= len(nums)-b-1\n",
    "        return (abs(a-b))\n",
    "                "
   ]
  },
  {
   "cell_type": "markdown",
   "metadata": {},
   "source": [
    "## 896. Monotonic Array"
   ]
  },
  {
   "cell_type": "code",
   "execution_count": null,
   "metadata": {},
   "outputs": [],
   "source": [
    "class Solution:\n",
    "    def isMonotonic(self, nums: List[int]) -> bool:\n",
    "        if len(nums)>1:\n",
    "\n",
    "            k = nums[0]\n",
    "            v=list(dict.fromkeys(nums))\n",
    "            if len(v)>1:\n",
    "            # return(v)\n",
    "                if v[0]<v[1]:\n",
    "\n",
    "                    for i in range(len(nums)-1):\n",
    "                        if nums[i]>nums[i+1]:\n",
    "                            return(False)\n",
    "                    return(True)\n",
    "                else:\n",
    "                    for i in range(len(nums)-1):\n",
    "                        if nums[i]<nums[i+1]:\n",
    "                            return(False)\n",
    "                    return(True)\n",
    "            else:\n",
    "                return(True)\n",
    "        else:\n",
    "            return(True)\n",
    "        "
   ]
  },
  {
   "cell_type": "markdown",
   "metadata": {},
   "source": [
    "## 2284. Sender With Largest Word Count"
   ]
  },
  {
   "cell_type": "code",
   "execution_count": null,
   "metadata": {},
   "outputs": [],
   "source": [
    "class Solution:\n",
    "    def largestWordCount(self, messages: List[str], senders: List[str]) -> str:\n",
    "        for i in messages[:]:\n",
    "            k=i.split(\" \")\n",
    "            messages.append(k)\n",
    "            messages.remove(i)\n",
    "        messages\n",
    "\n",
    "        kj=dict()\n",
    "        for i,j in zip(senders,messages):\n",
    "            if i not in kj:\n",
    "\n",
    "                kj[i]=len(j)\n",
    "            else:\n",
    "                kj[i]+=len(j)\n",
    "        # print(kj)\n",
    "        snder = list(kj.keys())\n",
    "        mess = list(kj.values())\n",
    "        mess1 = sorted(mess)\n",
    "        mess1=mess1[::-1]\n",
    "        # print(mess1)\n",
    "        newsemd=[]\n",
    "        newmwss=[]\n",
    "        while mess1[0] in mess:\n",
    "        # if mess1[0] in mess:\n",
    "            jj=mess.index(mess1[0])\n",
    "            newmwss.append(len(snder[jj]))\n",
    "            newsemd.append(snder[jj])\n",
    "            mess.insert(jj+1,-1)\n",
    "            mess.pop(jj)\n",
    "        kkk=sorted(newsemd)\n",
    "        # print(kkk!=newsemd)\n",
    "        # if kkk==newsemd:\n",
    "        #     newmwssq=sorted(newmwss)\n",
    "        #     newmwssq=newmwssq[::-1]\n",
    "        #     pta=newmwss.index(newmwssq[0])\n",
    "        #     return(newsemd[pta])\n",
    "        #     # print(newmwss)\n",
    "        # else:\n",
    "        return(kkk[-1])"
   ]
  },
  {
   "cell_type": "markdown",
   "metadata": {},
   "source": [
    "## 628. Maximum Product of Three Numbers"
   ]
  },
  {
   "cell_type": "code",
   "execution_count": null,
   "metadata": {},
   "outputs": [],
   "source": [
    "class Solution:\n",
    "    def maximumProduct(self, nums: List[int]) -> int:\n",
    "        # nums = list(set(nums))\n",
    "        nums=sorted(nums)\n",
    "        i2=nums[0]*nums[1]*nums[-1]\n",
    "        nums = nums[::-1]\n",
    "        nums=nums[:3]\n",
    "        i1=1\n",
    "        for i in nums:\n",
    "            i1=i1*i\n",
    "        return max(i2,i1)\n",
    "        "
   ]
  },
  {
   "cell_type": "markdown",
   "metadata": {},
   "source": [
    "## 747. Largest Number At Least Twice of Others"
   ]
  },
  {
   "cell_type": "code",
   "execution_count": null,
   "metadata": {},
   "outputs": [],
   "source": [
    "class Solution:\n",
    "    def dominantIndex(self, nums: List[int]) -> int:\n",
    "        kjh = list(set(nums))\n",
    "        if len(kjh)==2 and 0 in kjh:\n",
    "            # return(\"ok\")\n",
    "            return(nums.index(max(nums)))\n",
    "\n",
    "\n",
    "            \n",
    "        if len(nums)<2:\n",
    "            \n",
    "            return(nums[0])\n",
    "        else:\n",
    "            # return(\"ok\")\n",
    "\n",
    "            nums1=sorted(nums)\n",
    "            nums1=nums1[::-1]\n",
    "            # return(nums1)\n",
    "            k = nums1[1]*2\n",
    "            # return(k)\n",
    "            if k <= nums1[0]:\n",
    "                return(nums.index(nums1[0]))\n",
    "            else:\n",
    "                return(-1)"
   ]
  },
  {
   "cell_type": "markdown",
   "metadata": {},
   "source": [
    "## 2185. Counting Words With a Given Prefix"
   ]
  },
  {
   "cell_type": "code",
   "execution_count": null,
   "metadata": {},
   "outputs": [],
   "source": [
    "class Solution:\n",
    "    def prefixCount(self, words: List[str], pref: str) -> int:\n",
    "        k=0\n",
    "        def prefix(s,s1):\n",
    "            if len(s)<=len(s1):\n",
    "\n",
    "            \n",
    "                s1 = s1[:len(s)]\n",
    "                # print(s,s1)\n",
    "                if s== s1:\n",
    "                    return(True)\n",
    "                else:\n",
    "                    return(False)\n",
    "            else:\n",
    "                return(False)\n",
    "        for i in words:\n",
    "            if prefix(pref,i) == True:\n",
    "                k=k+1\n",
    "            else:\n",
    "                pass\n",
    "        return k\n",
    "                "
   ]
  },
  {
   "cell_type": "markdown",
   "metadata": {},
   "source": [
    "## 3223. Minimum Length of String After Operations"
   ]
  },
  {
   "cell_type": "code",
   "execution_count": null,
   "metadata": {},
   "outputs": [],
   "source": [
    "class Solution:\n",
    "    def minimumLength(self, s: str) -> int:\n",
    "        d={}\n",
    "        for i in s:\n",
    "            if i not in d:\n",
    "                d[i]=1\n",
    "            else:\n",
    "                d[i]+=1\n",
    "        t = list(d.values())\n",
    "\n",
    "        def minus(num):\n",
    "            while num >2:\n",
    "                num=num-2\n",
    "            return num\n",
    "\n",
    "        con=0\n",
    "        for i in t:\n",
    "            if i >=3:\n",
    "\n",
    "                con=con+minus(i)\n",
    "            else:\n",
    "                con=con+i\n",
    "        return con\n",
    "                "
   ]
  },
  {
   "cell_type": "markdown",
   "metadata": {},
   "source": [
    "## 2144. Minimum Cost of Buying Candies With Discount"
   ]
  },
  {
   "cell_type": "code",
   "execution_count": null,
   "metadata": {},
   "outputs": [],
   "source": [
    "class Solution:\n",
    "    def minimumCost(self, cost: List[int]) -> int:\n",
    "        if len(cost)==1:\n",
    "            return cost[0]\n",
    "        cost=sorted(cost)\n",
    "        cost = cost[::-1]\n",
    "        # print(cost)\n",
    "        s=0\n",
    "\n",
    "        for i in cost[:]:\n",
    "            s=s+1\n",
    "            if s==3:\n",
    "                cost.remove(i)\n",
    "                s=0\n",
    "\n",
    "            \n",
    "        # print(cost)\n",
    "        return sum(cost)\n",
    "                "
   ]
  },
  {
   "cell_type": "markdown",
   "metadata": {},
   "source": [
    "## 2657. Find the Prefix Common Array of Two Arrays"
   ]
  },
  {
   "cell_type": "code",
   "execution_count": null,
   "metadata": {},
   "outputs": [],
   "source": [
    "class Solution:\n",
    "    def findThePrefixCommonArray(self, a: List[int], b: List[int]) -> List[int]:\n",
    "        k=[]\n",
    "        if a[0]==b[0]:\n",
    "            k.append(1)\n",
    "        else:\n",
    "            k.append(0)\n",
    "\n",
    "        for i in range(1,len(a)):\n",
    "            j = a[:i+1]+b[:i+1]\n",
    "            j=list(set(j))\n",
    "            # print(j)\n",
    "            k.append((i+1)*2-len(j))\n",
    "        return k\n",
    "                "
   ]
  },
  {
   "cell_type": "markdown",
   "metadata": {},
   "source": [
    "## 1619. Mean of Array After Removing Some Elements"
   ]
  },
  {
   "cell_type": "code",
   "execution_count": null,
   "metadata": {},
   "outputs": [],
   "source": [
    "class Solution:\n",
    "    def trimMean(self, arr: List[int]) -> float:\n",
    "        arr = sorted(arr)\n",
    "        k = 0.05*len(arr)\n",
    "        # print(arr)\n",
    "        for i in range(int(k)):\n",
    "            arr.pop(0)\n",
    "        # print(arr)\n",
    "        # print(int(k))\n",
    "        arr=arr[::-1]\n",
    "        for i in range(int(k)):\n",
    "            arr.pop(0)\n",
    "\n",
    "        return sum(arr)/len(arr)"
   ]
  },
  {
   "cell_type": "markdown",
   "metadata": {},
   "source": [
    "## 645. Set Mismatch"
   ]
  },
  {
   "cell_type": "code",
   "execution_count": null,
   "metadata": {},
   "outputs": [],
   "source": [
    "class Solution:\n",
    "    def findErrorNums(self, nums: List[int]) -> List[int]:\n",
    "        nums=sorted(nums)\n",
    "\n",
    "        for i in range(1,len(nums)+1):\n",
    "            if i not in nums:\n",
    "                nums.append(i)\n",
    "            else:\n",
    "                nums.remove(i)\n",
    "\n",
    "        return nums\n",
    "        "
   ]
  },
  {
   "cell_type": "markdown",
   "metadata": {},
   "source": [
    "## 1752. Check if Array Is Sorted and Rotated"
   ]
  },
  {
   "cell_type": "code",
   "execution_count": null,
   "metadata": {},
   "outputs": [],
   "source": [
    "class Solution:\n",
    "    def check(self, nums: List[int]) -> bool:\n",
    "        sd = nums.copy()\n",
    "        z= sorted(nums)\n",
    "\n",
    "        if nums.count(min(nums))<2:\n",
    "\n",
    "            z= sorted(nums)\n",
    "            k=[]\n",
    "            p = min(nums)\n",
    "            # return(nums[::-1].index(p))\n",
    "            k = k+nums[nums.index(p):len(nums)] +nums[0:nums.index(p)]\n",
    "            # return(k,z)\n",
    "            if z==k:\n",
    "                return(True)\n",
    "            else:\n",
    "                return(False)\n",
    "        else:\n",
    "            dd=[]\n",
    "            zz=0\n",
    "            p = min(nums)\n",
    "            for i in range(sd.count(min(sd))):\n",
    "                dd.append(sd.index(p))\n",
    "                sd.insert(sd.index(p)+1,\"a\")\n",
    "                sd.pop(sd.index(p))\n",
    "            for i in dd:\n",
    "\n",
    "\n",
    "                \n",
    "                k=[]\n",
    "                # return(nums[::-1].index(p))\n",
    "                k = k+nums[i:len(nums)] +nums[0:i]\n",
    "                # return(k,z)\n",
    "                if z==k:\n",
    "                    zz=1\n",
    "                    return(True)\n",
    "                    break\n",
    "                else:\n",
    "                    pass\n",
    "            if zz==0:\n",
    "                return(False)\n",
    "\n"
   ]
  },
  {
   "cell_type": "markdown",
   "metadata": {},
   "source": [
    "## 14. Longest Common Prefix"
   ]
  },
  {
   "cell_type": "code",
   "execution_count": null,
   "metadata": {},
   "outputs": [],
   "source": [
    "class Solution:\n",
    "    def longestCommonPrefix(self, strs: List[str]) -> str:\n",
    "        l=''\n",
    "        strs = list(set(strs))\n",
    "        if  len(strs)==1:\n",
    "            return (strs[0])\n",
    "        else:\n",
    "            k = []\n",
    "            k1 =[]\n",
    "            for i in strs:\n",
    "                k.append(len(i))\n",
    "                k=sorted(k)\n",
    "                k.index(len(i))\n",
    "                k1.insert(k.index(len(i)),i)\n",
    "\n",
    "            if 0 in k:\n",
    "                return(l)\n",
    "            for i in range(k[0]):\n",
    "                j = k1[0][i]\n",
    "                p=0\n",
    "\n",
    "                for ii in k1:\n",
    "                    # print(ii[i],j,l)\n",
    "\n",
    "                    if ii[i]==j:\n",
    "                        pass\n",
    "                    else:\n",
    "                        p=1\n",
    "                if p==0:\n",
    "                    l=l+ii[i]\n",
    "                    # j=ii[i]\n",
    "                else:\n",
    "                    return(l)\n",
    "                    break\n",
    "        return(l)\n",
    "                    "
   ]
  },
  {
   "cell_type": "markdown",
   "metadata": {},
   "source": [
    "## 2956. Find Common Elements Between Two Arrays"
   ]
  },
  {
   "cell_type": "code",
   "execution_count": null,
   "metadata": {},
   "outputs": [],
   "source": [
    "class Solution:\n",
    "    def findIntersectionValues(self, nums1: List[int], nums2: List[int]) -> List[int]:\n",
    "        c1=0\n",
    "        c2=0\n",
    "        for i in nums1:\n",
    "            if i in nums2:\n",
    "                c1=c1+1\n",
    "        for i in nums2:\n",
    "            if i in nums1:\n",
    "                c2=c2+1\n",
    "        return([c1,c2])\n",
    "                "
   ]
  },
  {
   "cell_type": "markdown",
   "metadata": {},
   "source": [
    "## 2299. Strong Password Checker II"
   ]
  },
  {
   "cell_type": "code",
   "execution_count": null,
   "metadata": {},
   "outputs": [],
   "source": [
    "class Solution:\n",
    "    def strongPasswordCheckerII(self, password: str) -> bool:\n",
    "        if len(password)>7:\n",
    "\n",
    "            for i in range(len(password)-1):\n",
    "                if password[i] == password[i+1]:\n",
    "                    return(False)\n",
    "            cap='QWERTYUIOPASDFGHJKLZXCVBNM'\n",
    "            capc=0\n",
    "            small='qwertyuiopasdfghjklzxcvbnm'\n",
    "            smallc=0\n",
    "            num='1234567890'\n",
    "            numc=0\n",
    "            spec=\"!@#$%^&*()-+\"\n",
    "            specc=0\n",
    "            for i in password:\n",
    "                if i in cap:\n",
    "                    capc=1\n",
    "                elif i in small:\n",
    "                    smallc=1\n",
    "                elif i in num:\n",
    "                    numc=1\n",
    "                elif i in spec:\n",
    "                    specc=1\n",
    "            if  capc==1 and smallc==1 and numc==1 and specc ==1:\n",
    "                return(True)\n",
    "            else:\n",
    "                return(False)\n",
    "        else:\n",
    "            return(False)\n",
    "                "
   ]
  },
  {
   "cell_type": "markdown",
   "metadata": {},
   "source": [
    "## 217. Contains Duplicate"
   ]
  },
  {
   "cell_type": "code",
   "execution_count": null,
   "metadata": {},
   "outputs": [],
   "source": [
    "class Solution:\n",
    "    def containsDuplicate(self, nums: List[int]) -> bool:\n",
    "        k ={}\n",
    "        for i in nums:\n",
    "            if i not in k :\n",
    "                k[i]=1\n",
    "            else:\n",
    "                k[i]+=1\n",
    "        j = list(k.values())\n",
    "        j=list(set(j))\n",
    "        if len(j)==1 and j[0]==1:\n",
    "            return False\n",
    "        else:\n",
    "            return True\n",
    "        "
   ]
  },
  {
   "cell_type": "markdown",
   "metadata": {},
   "source": [
    "## 3227. Vowels Game in a String"
   ]
  },
  {
   "cell_type": "code",
   "execution_count": null,
   "metadata": {},
   "outputs": [],
   "source": [
    "class Solution:\n",
    "    def doesAliceWin(self, s: str) -> bool:\n",
    "        kl=s.count('a')+s.count('e')+s.count('i')+s.count('o')+s.count('u')\n",
    "        if kl ==0:\n",
    "            return(False)\n",
    "        else:\n",
    "            return(True)\n",
    "        "
   ]
  },
  {
   "cell_type": "markdown",
   "metadata": {},
   "source": [
    "## 2418. Sort the People"
   ]
  },
  {
   "cell_type": "code",
   "execution_count": null,
   "metadata": {},
   "outputs": [],
   "source": [
    "class Solution:\n",
    "    def sortPeople(self, names: List[str], heights: List[int]) -> List[str]:\n",
    "        heights1 = sorted(heights)\n",
    "        heights1=heights1[::-1]\n",
    "        names1=[]\n",
    "\n",
    "\n",
    "        for i in heights1:\n",
    "            j = heights.index(i)\n",
    "            names1.append(names[j])\n",
    "\n",
    "        return names1\n",
    "        "
   ]
  },
  {
   "cell_type": "markdown",
   "metadata": {},
   "source": [
    "## 3042. Count Prefix and Suffix Pairs I"
   ]
  },
  {
   "cell_type": "code",
   "execution_count": null,
   "metadata": {},
   "outputs": [],
   "source": [
    "class Solution:\n",
    "    def countPrefixSuffixPairs(self, words: List[str]) -> int:\n",
    "\n",
    "        count=0\n",
    "\n",
    "        def sufix(s,s1):\n",
    "            if len(s)<=len(s1):\n",
    "\n",
    "            \n",
    "                s1 = s1[:len(s)]\n",
    "                # print(s,s1)\n",
    "                if s== s1:\n",
    "                    return(True)\n",
    "                else:\n",
    "                    return(False)\n",
    "            else:\n",
    "                return(False)\n",
    "        def prfix(s,s1):\n",
    "            if len(s)<=len(s1):\n",
    "\n",
    "                s1 = s1[len(s1)-len(s):len(s1)]\n",
    "            # s1 = s1[len(s):]\n",
    "            # print(s,s1)\n",
    "                if s== s1:\n",
    "                    return(True)\n",
    "                else:\n",
    "                    return(False)\n",
    "            else:\n",
    "                return(False)\n",
    "        for i in range(len(words)-1):\n",
    "            for j in range(i+1,len(words)):\n",
    "                # print(words[i],words[j])\n",
    "                # print(prfix(words[i],words[j]))\n",
    "                # print(sufix(words[i],words[j]))\n",
    "                if sufix(words[i],words[j]) == True and prfix(words[i],words[j]) == True:\n",
    "                    count =count+1\n",
    "                else:\n",
    "                    pass\n",
    "        return count\n",
    "                "
   ]
  },
  {
   "cell_type": "markdown",
   "metadata": {},
   "source": [
    "## 744. Find Smallest Letter Greater Than Target"
   ]
  },
  {
   "cell_type": "code",
   "execution_count": null,
   "metadata": {},
   "outputs": [],
   "source": [
    "class Solution:\n",
    "    def nextGreatestLetter(self, letters: List[str], target: str) -> str:\n",
    "        k=[]\n",
    "        letters1 = sorted(letters)\n",
    "        for i in letters1:\n",
    "            if i >target:\n",
    "                k.append(1)\n",
    "                return(i)\n",
    "                break\n",
    "            else:\n",
    "                k.append(0)\n",
    "\n",
    "        if 1 not in k :\n",
    "            return(letters[0])\n",
    "                "
   ]
  },
  {
   "cell_type": "markdown",
   "metadata": {},
   "source": [
    "## 704. Binary Search"
   ]
  },
  {
   "cell_type": "code",
   "execution_count": null,
   "metadata": {},
   "outputs": [],
   "source": [
    "class Solution:\n",
    "    def search(self, nums: List[int], target: int) -> int:\n",
    "        if target in nums:\n",
    "            return(nums.index(target))\n",
    "        else:\n",
    "            return(-1)\n",
    "        "
   ]
  },
  {
   "cell_type": "markdown",
   "metadata": {},
   "source": [
    "## 1408. String Matching in an Array"
   ]
  },
  {
   "cell_type": "code",
   "execution_count": null,
   "metadata": {},
   "outputs": [],
   "source": [
    "class Solution:\n",
    "    def stringMatching(self, words: List[str]) -> List[str]:\n",
    "        s=[]\n",
    "        for i in words:\n",
    "            for j in words:\n",
    "                if i !=j and j!=i:\n",
    "                    if i in j:\n",
    "                        if i not in s:\n",
    "\n",
    "                            s.append(i)\n",
    "\n",
    "        return (s) \n",
    "        "
   ]
  },
  {
   "cell_type": "markdown",
   "metadata": {},
   "source": [
    "## 1333. Filter Restaurants by Vegan-Friendly, Price and Distance"
   ]
  },
  {
   "cell_type": "code",
   "execution_count": null,
   "metadata": {},
   "outputs": [],
   "source": [
    "class Solution:\n",
    "    def filterRestaurants(self, restaurants: List[List[int]], veganFriendly: int, maxPrice: int, maxDistance: int) -> List[int]:\n",
    "        if veganFriendly ==1:\n",
    "\n",
    "            # rvpd\n",
    "            filtr=[]\n",
    "            rating = []\n",
    "            for i in restaurants:\n",
    "                if i[2] == veganFriendly and i[3] <=maxPrice and i[4] <= maxDistance:\n",
    "                    rating.append(i[1])\n",
    "                    filtr.append(i)\n",
    "            filtr\n",
    "            rating = sorted(rating)\n",
    "            rating=rating[::-1]\n",
    "            kkkk=[]\n",
    "            chk=[]\n",
    "            for i in rating:\n",
    "                for j in filtr:\n",
    "                    if j[1]==i:\n",
    "                        if i  not in chk:\n",
    "                            chk.append(i)\n",
    "                            kkkk.append(j[0])\n",
    "                            pk=filtr.index(j)\n",
    "                            filtr.insert(pk+1,[0,-1])\n",
    "                            filtr.pop(pk)\n",
    "                        else:\n",
    "                            if kkkk[-1] > j[0]:\n",
    "                                chk.append(i)\n",
    "                                kkkk.append(j[0])\n",
    "                                pk=filtr.index(j)\n",
    "                                filtr.insert(pk+1,[0,-1])\n",
    "                                filtr.pop(pk)\n",
    "                            else:\n",
    "                                chk.append(i)\n",
    "                                kkkk.insert(len(kkkk)-1,j[0])\n",
    "                                pk=filtr.index(j)\n",
    "                                filtr.insert(pk+1,[0,-1])\n",
    "                                filtr.pop(pk)\n",
    "                        # return(i,chk,kkkk)\n",
    "\n",
    "            return(kkkk)\n",
    "            # hi =[]\n",
    "            # for i in kkkk:\n",
    "            #     gh =restaurants.index(i)\n",
    "            #     hi.append(gh+1)\n",
    "            # return(hi)\n",
    "        else:\n",
    "            # rvpd\n",
    "            filtr=[]\n",
    "            rating = []\n",
    "            for i in restaurants:\n",
    "                if i[3] <=maxPrice and i[4] <= maxDistance:\n",
    "                    rating.append(i[1])\n",
    "                    filtr.append(i)\n",
    "            # return(filtr)\n",
    "            rating = sorted(rating)\n",
    "            rating=rating[::-1]\n",
    "            # return(rating)\n",
    "            \n",
    "\n",
    "\n",
    "\n",
    "            kkkk=[]\n",
    "            chk=[]\n",
    "            for i in rating:\n",
    "                for j in filtr[:]:\n",
    "                    if j[1]==i:\n",
    "                        \n",
    "                        if i  not in chk:\n",
    "                            chk.append(i)\n",
    "                            kkkk.append(j[0])\n",
    "                            pk=filtr.index(j)\n",
    "                            filtr.insert(pk+1,[0,-1])\n",
    "                            filtr.pop(pk)\n",
    "                        else:\n",
    "                            if kkkk[-1] > j[0]:\n",
    "                                chk.append(i)\n",
    "                                kkkk.append(j[0])\n",
    "                                pk=filtr.index(j)\n",
    "                                filtr.insert(pk+1,[0,-1])\n",
    "                                filtr.pop(pk)\n",
    "                            else:\n",
    "                                chk.append(i)\n",
    "                                kkkk.insert(len(kkkk)-1,j[0])\n",
    "                                pk=filtr.index(j)\n",
    "                                filtr.insert(pk+1,[0,-1])\n",
    "                                filtr.pop(pk)\n",
    "                        # return(i,chk,kkkk)\n",
    "\n",
    "\n",
    "                        \n",
    "\n",
    "            return(kkkk)\n",
    "            # return(chk)\n",
    "\n",
    "\n",
    "\n",
    "            # hi =[]\n",
    "            # for i in kkkk:\n",
    "            #     gh =restaurants.index(i)\n",
    "            #     hi.append(gh+1)\n",
    "            # return(hi)\n",
    "                "
   ]
  },
  {
   "cell_type": "markdown",
   "metadata": {},
   "source": [
    "## 172. Factorial Trailing Zeroes"
   ]
  },
  {
   "cell_type": "code",
   "execution_count": null,
   "metadata": {},
   "outputs": [],
   "source": [
    "import math\n",
    "import sys\n",
    "sys.set_int_max_str_digits(100000)\n",
    "class Solution:\n",
    "    def trailingZeroes(self, n: int) -> int:\n",
    "        # n = 0\n",
    "        k= math.factorial(n)\n",
    "        k=str(k)\n",
    "        k=k[::-1]\n",
    "        cnt =0\n",
    "        for  i in k:\n",
    "            if i ==\"0\":\n",
    "                cnt=cnt+1\n",
    "            else:\n",
    "                break\n",
    "        return (cnt)\n",
    "                "
   ]
  },
  {
   "cell_type": "markdown",
   "metadata": {},
   "source": [
    "## 682. Baseball Game"
   ]
  },
  {
   "cell_type": "code",
   "execution_count": null,
   "metadata": {},
   "outputs": [],
   "source": [
    "class Solution:\n",
    "    def calPoints(self, ops: List[str]) -> int:\n",
    "        po =[]\n",
    "        for i in ops:\n",
    "        \n",
    "            if i  == 'C':\n",
    "                po.pop(-1)\n",
    "            elif i=='D':\n",
    "                po.append(2*po[-1])\n",
    "            elif i=='+':\n",
    "                po.append(po[-2]+po[-1])\n",
    "            else:\n",
    "                po.append(int(i))\n",
    "        # print(po)\n",
    "        return(sum(po))\n",
    "                "
   ]
  },
  {
   "cell_type": "markdown",
   "metadata": {},
   "source": [
    "## 2133. Check if Every Row and Column Contains All Numbers"
   ]
  },
  {
   "cell_type": "code",
   "execution_count": null,
   "metadata": {},
   "outputs": [],
   "source": [
    "class Solution:\n",
    "    def checkValid(self, mm: List[List[int]]) -> bool:\n",
    "        mk1=[]\n",
    "        for ii in range(len(mm)):\n",
    "            l=[]\n",
    "            for i in mm:\n",
    "                l.append(i[ii])\n",
    "                if len(l)== len(mm):\n",
    "                    mk1.append(l)\n",
    "                    l=[]\n",
    "        mk1\n",
    "        chk =[]\n",
    "\n",
    "\n",
    "        n = len(mm)\n",
    "        n\n",
    "        # return(mm[0])\n",
    "\n",
    "        p =[]\n",
    "        for i in range(1,n+1):\n",
    "            p.append(i)\n",
    "        # return(p)\n",
    "\n",
    "\n",
    "\n",
    "        for i in p:\n",
    "            for jj in mm:\n",
    "                # return(i,jj)\n",
    "                if i in jj:\n",
    "                    chk.append(1)\n",
    "                else:\n",
    "                    chk.append(0)\n",
    "        for i in p:\n",
    "            for jj in mk1:\n",
    "                # return(i,jj)\n",
    "                if i in jj:\n",
    "                    chk.append(1)\n",
    "                else:\n",
    "                    chk.append(0)\n",
    "\n",
    "        chk = list(set(chk))\n",
    "        # return(chk)\n",
    "\n",
    "        if 0 not in chk:\n",
    "            return(True)\n",
    "        else:\n",
    "            return(False)\n",
    "                "
   ]
  },
  {
   "cell_type": "markdown",
   "metadata": {},
   "source": [
    "## 229. Majority Element II"
   ]
  },
  {
   "cell_type": "code",
   "execution_count": null,
   "metadata": {},
   "outputs": [],
   "source": [
    "class Solution:\n",
    "    def majorityElement(self, nums: List[int]) -> List[int]:\n",
    "        k = dict()\n",
    "        for i in nums:\n",
    "            if i not in k:\n",
    "                k[i] = 1\n",
    "            else:\n",
    "                k[i] +=1\n",
    "\n",
    "        knum = list(k.keys())\n",
    "        krep = list(k.values())\n",
    "        # print(knum,krep)\n",
    "        findall=[]\n",
    "        for i in krep[:]:\n",
    "            # print(i,len(nums)/3)\n",
    "            if i > len(nums)/3:\n",
    "                infx = krep.index(i)\n",
    "                findall.append(knum[infx])\n",
    "                krep.insert(infx,0)\n",
    "                krep.pop(infx+1)\n",
    "                # break\n",
    "\n",
    "        return findall\n",
    "                "
   ]
  },
  {
   "cell_type": "markdown",
   "metadata": {},
   "source": [
    "## 169. Majority Element"
   ]
  },
  {
   "cell_type": "code",
   "execution_count": null,
   "metadata": {},
   "outputs": [],
   "source": [
    "class Solution:\n",
    "    def majorityElement(self, nums: List[int]) -> int:\n",
    "        k = dict()\n",
    "        for i in nums:\n",
    "            if i not in k:\n",
    "                k[i] = 1\n",
    "            else:\n",
    "                k[i] +=1\n",
    "\n",
    "        knum = list(k.keys())\n",
    "        krep = list(k.values())\n",
    "        # print(knum,krep)\n",
    "\n",
    "        for i in krep:\n",
    "            if i > len(nums)//2:\n",
    "                infx = krep.index(i)\n",
    "                return (knum[infx])\n",
    "                break\n",
    "\n",
    "                "
   ]
  },
  {
   "cell_type": "markdown",
   "metadata": {},
   "source": [
    "## 3300. Minimum Element After Replacement With Digit Sum"
   ]
  },
  {
   "cell_type": "code",
   "execution_count": null,
   "metadata": {},
   "outputs": [],
   "source": [
    "class Solution:\n",
    "    def minElement(self, nums: List[int]) -> int:\n",
    "        k=[]\n",
    "        for i in nums:\n",
    "            if  len(str(i))>1:\n",
    "                jk=list((str(i)))\n",
    "                jk=[int(j) for j in jk ]\n",
    "                k.append(sum(jk))\n",
    "            else:\n",
    "                k.append(i)\n",
    "                        \n",
    "        return min(k)\n",
    "        \n",
    "        "
   ]
  },
  {
   "cell_type": "markdown",
   "metadata": {},
   "source": [
    "## 2404. Most Frequent Even Element"
   ]
  },
  {
   "cell_type": "code",
   "execution_count": null,
   "metadata": {},
   "outputs": [],
   "source": [
    "class Solution:\n",
    "    def mostFrequentEven(self, nums: List[int]) -> int:\n",
    "        k = dict()\n",
    "        for i in nums:\n",
    "            if i not in k:\n",
    "                k[i] = 1\n",
    "            else:\n",
    "                k[i] +=1\n",
    "\n",
    "        knum = list(k.keys())\n",
    "        krep = list(k.values())\n",
    "        # return(knum,krep)\n",
    "        if len(knum)>0:\n",
    "\n",
    "            for i in knum[:]:\n",
    "                if i%2!=0:\n",
    "                    indx=knum.index(i)\n",
    "                    knum.pop(indx)\n",
    "                    krep.pop(indx)\n",
    "        else:\n",
    "            return(-1)\n",
    "        # return(knum,krep)\n",
    "        if len(knum)>0:\n",
    "            for i in krep[:]:\n",
    "                if i!=max(krep):\n",
    "                    indx=krep.index(i)\n",
    "                    krep.pop(indx)\n",
    "                    knum.pop(indx)\n",
    "        else:\n",
    "            return(-1)\n",
    "        # return(knum,krep)\n",
    "        return(min(knum))\n",
    "\n",
    "                \n",
    "        # findall=[]\n",
    "        # for i in krep[:]:\n",
    "        #     # return(i,len(nums)/3)\n",
    "        #     if i > len(nums)/3:\n",
    "        #         infx = krep.index(i)\n",
    "        #         findall.append(knum[infx])\n",
    "        #         krep.insert(infx,0)\n",
    "        #         krep.pop(infx+1)\n",
    "        #         # break\n",
    "\n",
    "        # findall\n",
    "            \n",
    "                "
   ]
  },
  {
   "cell_type": "markdown",
   "metadata": {},
   "source": [
    "## 347. Top K Frequent Elements"
   ]
  },
  {
   "cell_type": "code",
   "execution_count": null,
   "metadata": {},
   "outputs": [],
   "source": [
    "class Solution:\n",
    "    def topKFrequent(self, nums: List[int], k1: int) -> List[int]:\n",
    "        k = dict()\n",
    "        for i in nums:\n",
    "            if i not in k:\n",
    "                k[i] = 1\n",
    "            else:\n",
    "                k[i] +=1\n",
    "\n",
    "        knum = list(k.keys())\n",
    "        krep = list(k.values())\n",
    "        # return(knum,krep)\n",
    "        made=[]\n",
    "        pkrep = sorted(krep)\n",
    "        pkrep=pkrep[::-1]\n",
    "        for i in pkrep:\n",
    "            indx = krep.index(i)\n",
    "            made.append(knum[indx])\n",
    "            krep.insert(indx,-1)\n",
    "            krep.pop(indx+1)\n",
    "        return(made[0:k1])\n",
    "                "
   ]
  },
  {
   "cell_type": "markdown",
   "metadata": {},
   "source": [
    "## 2215. Find the Difference of Two Arrays"
   ]
  },
  {
   "cell_type": "code",
   "execution_count": null,
   "metadata": {},
   "outputs": [],
   "source": [
    "class Solution:\n",
    "    def findDifference(self, nums1: List[int], nums2: List[int]) -> List[List[int]]:\n",
    "        nums1=list(set(nums1))\n",
    "        nums2=list(set(nums2))\n",
    "        k=[]\n",
    "        k1=[]\n",
    "        for i in nums1:\n",
    "            if i not in nums2:\n",
    "                k.append(i)\n",
    "        for i in nums2:\n",
    "            if i not in nums1:\n",
    "                k1.append(i)\n",
    "        return ([k,k1])\n",
    "        "
   ]
  },
  {
   "cell_type": "markdown",
   "metadata": {},
   "source": [
    "## 392. Is Subsequence"
   ]
  },
  {
   "cell_type": "code",
   "execution_count": null,
   "metadata": {},
   "outputs": [],
   "source": [
    "class Solution:\n",
    "    def isSubsequence(self, s: str, t: str) -> bool:\n",
    "        yh=len(s)\n",
    "        t=list(t)\n",
    "        s=list(s)\n",
    "        monitor1=0\n",
    "\n",
    "        kl=[]\n",
    "        while len(s)!=0:\n",
    "            \n",
    "            for j in s[:]:\n",
    "                # return(monitor1)\n",
    "                if j in t:\n",
    "                    kl.append(0)\n",
    "                    \n",
    "                    indx = t.index(j)\n",
    "                    indx2 = s.index(j)\n",
    "                    # if indx>monitor1:\n",
    "\n",
    "                    #     if indx2<len(s) and indx == len(t)-1:\n",
    "                    #         return(False)\n",
    "                    #         s=[]\n",
    "                    #         break\n",
    "                    #     else:\n",
    "                    #         monitor1=indx\n",
    "                    # else:\n",
    "                    #     return(False)\n",
    "                    #     s=[]\n",
    "                    #     break\n",
    "\n",
    "                    t=t[indx+1:]\n",
    "                    s.pop(indx2)\n",
    "\n",
    "                    break\n",
    "                else:\n",
    "                    return(False)\n",
    "                    s=[]\n",
    "                    break\n",
    "\n",
    "\n",
    "        if len(kl)==yh:\n",
    "            return(True)   "
   ]
  },
  {
   "cell_type": "markdown",
   "metadata": {},
   "source": [
    "## 1431. Kids With the Greatest Number of Candies"
   ]
  },
  {
   "cell_type": "code",
   "execution_count": null,
   "metadata": {},
   "outputs": [],
   "source": [
    "class Solution:\n",
    "    def kidsWithCandies(self, candies: List[int], extraCandies: int) -> List[bool]:\n",
    "        out=[]\n",
    "        eq=max(candies)\n",
    "        for i in candies:\n",
    "            h=i+extraCandies\n",
    "            if h >=eq:\n",
    "                out.append(True)\n",
    "            else:\n",
    "                out.append(False)\n",
    "        return out\n",
    "        "
   ]
  },
  {
   "cell_type": "markdown",
   "metadata": {},
   "source": [
    "## 242. Valid Anagram"
   ]
  },
  {
   "cell_type": "code",
   "execution_count": null,
   "metadata": {},
   "outputs": [],
   "source": [
    "class Solution:\n",
    "    def isAnagram(self, s: str, t: str) -> bool:\n",
    "\n",
    "                \n",
    "        sd={}\n",
    "        st={}\n",
    "        for i in s:\n",
    "            if i  not in sd:\n",
    "                sd[i]=1\n",
    "            else:\n",
    "                sd[i]+=1\n",
    "\n",
    "        for i in t:\n",
    "            if i  not in st:\n",
    "                st[i]=1\n",
    "            else:\n",
    "                st[i]+=1\n",
    "        # return(sd,st)\n",
    "        # return(sd.keys())\n",
    "\n",
    "        stval = (list(st.keys()))\n",
    "        sdkeys = (list(sd.values()))\n",
    "        stkeys = (list(st.values()))\n",
    "        sdval = (list(sd.keys()))\n",
    "        # return(sdval,sdkeys)\n",
    "        for i in range(len(sdval)):\n",
    "            for j in range(sdkeys[i]-1):\n",
    "                sdval.append(sdval[i])\n",
    "        for i in range(len(stval)):\n",
    "            for j in range(stkeys[i]-1):\n",
    "                stval.append(stval[i])\n",
    "        # return(sdval,stval)\n",
    "        # sdval=\"\".join(sdval)\n",
    "        # stval=\"\".join(stval)\n",
    "        sdval.sort()\n",
    "        stval.sort()\n",
    "        # sdval = sorted(list(sd.keys()))\n",
    "        # stval = sorted(list(st.keys()))\n",
    "        sdkeys = sorted(list(sd.values()))\n",
    "        stkeys = sorted(list(st.values()))\n",
    "\n",
    "        # return(sdval,stval)\n",
    "                \n",
    "\n",
    "        if sdval==stval and sdkeys==stkeys:\n",
    "            return(True)\n",
    "        else:\n",
    "            return(False)\n"
   ]
  },
  {
   "cell_type": "markdown",
   "metadata": {},
   "source": [
    "## 2879. Display the First Three Rows"
   ]
  },
  {
   "cell_type": "code",
   "execution_count": null,
   "metadata": {},
   "outputs": [],
   "source": [
    "import pandas as pd\n",
    "\n",
    "def selectFirstRows(employees: pd.DataFrame) -> pd.DataFrame:\n",
    "    return employees.head(3)\n",
    "    "
   ]
  },
  {
   "cell_type": "markdown",
   "metadata": {},
   "source": [
    "## 2881. Create a New Column"
   ]
  },
  {
   "cell_type": "code",
   "execution_count": null,
   "metadata": {},
   "outputs": [],
   "source": [
    "import pandas as pd\n",
    "\n",
    "def createBonusColumn(employees: pd.DataFrame) -> pd.DataFrame:\n",
    "    employees['bonus']=employees['salary']*2\n",
    "    return employees\n",
    "\n",
    "    "
   ]
  },
  {
   "cell_type": "markdown",
   "metadata": {},
   "source": [
    "## 2877. Create a DataFrame from List"
   ]
  },
  {
   "cell_type": "code",
   "execution_count": null,
   "metadata": {},
   "outputs": [],
   "source": [
    "import pandas as pd\n",
    "\n",
    "def createDataframe(student_data: List[List[int]]) -> pd.DataFrame:\n",
    "        df=pd.DataFrame(student_data,columns=[\"student_id\",\"age\"])\n",
    "        # df.to_string(index=False)\n",
    "        return (df)\n",
    "    "
   ]
  },
  {
   "cell_type": "markdown",
   "metadata": {},
   "source": [
    "## 125. Valid Palindrome"
   ]
  },
  {
   "cell_type": "code",
   "execution_count": null,
   "metadata": {},
   "outputs": [],
   "source": [
    "class Solution:\n",
    "    def isPalindrome(self, s: str) -> bool:\n",
    "        # if s==\"0P\":\n",
    "        #     return(False)\n",
    "        k='qwertyuiopasdfghjklzxcvbnm1234567890'\n",
    "        jk=''\n",
    "        for i in s:\n",
    "            \n",
    "\n",
    "            if i.lower() in k:\n",
    "                jk=jk+i.lower()\n",
    "        # return(jk)\n",
    "        kj=jk[::-1]\n",
    "        # return(kj)\n",
    "        if kj==jk:\n",
    "            return(True)\n",
    "        else:\n",
    "            return(False)\n",
    "                "
   ]
  },
  {
   "cell_type": "markdown",
   "metadata": {},
   "source": [
    "## 2882. Drop Duplicate Rows"
   ]
  },
  {
   "cell_type": "code",
   "execution_count": null,
   "metadata": {},
   "outputs": [],
   "source": [
    "import pandas as pd\n",
    "\n",
    "def dropDuplicateEmails(df: pd.DataFrame) -> pd.DataFrame:\n",
    "    k=[]\n",
    "    for i in range(len(df['email'])):\n",
    "        if df['email'][i] not in k:\n",
    "            k.append(df['email'][i] )\n",
    "        elif df['email'][i]  in k:\n",
    "            df=df.drop(index=i)\n",
    "        \n",
    "    return(df)\n",
    "    "
   ]
  },
  {
   "cell_type": "markdown",
   "metadata": {},
   "source": [
    "## 2884. Modify Columns"
   ]
  },
  {
   "cell_type": "code",
   "execution_count": null,
   "metadata": {},
   "outputs": [],
   "source": [
    "import pandas as pd\n",
    "\n",
    "def modifySalaryColumn(df: pd.DataFrame) -> pd.DataFrame:\n",
    "    df['salary']=df[\"salary\"]*2\n",
    "    return df\n",
    "    "
   ]
  },
  {
   "cell_type": "markdown",
   "metadata": {},
   "source": [
    "## 2965. Find Missing and Repeated Values"
   ]
  },
  {
   "cell_type": "code",
   "execution_count": null,
   "metadata": {},
   "outputs": [],
   "source": [
    "class Solution:\n",
    "    def findMissingAndRepeatedValues(self, grid: List[List[int]]) -> List[int]:\n",
    "        o=[]\n",
    "        for i in grid:\n",
    "            for j in i:\n",
    "                o.append(j)\n",
    "        oo = list(set(o))\n",
    "        kl=[]\n",
    "        for i in oo:\n",
    "            if o.count(i) >1:\n",
    "                kl.append(i)\n",
    "        lk=max(oo)\n",
    "        l = 1\n",
    "        while l< lk+2:\n",
    "            if l in oo:\n",
    "                l=l+1\n",
    "            if l not in oo:\n",
    "                kl.append(l)\n",
    "                break\n",
    "\n",
    "\n",
    "\n",
    "        return kl\n",
    "                "
   ]
  },
  {
   "cell_type": "markdown",
   "metadata": {},
   "source": [
    "## 2451. Odd String Difference"
   ]
  },
  {
   "cell_type": "code",
   "execution_count": null,
   "metadata": {},
   "outputs": [],
   "source": [
    "class Solution:\n",
    "    def oddString(self, words: List[str]) -> str:\n",
    "        k = []\n",
    "        we =[]\n",
    "        t=0\n",
    "        iu = 'qwertyuiopasdfghjklzxcvbnm'\n",
    "        iu=sorted(iu)\n",
    "        for i in range(len(words)):\n",
    "            l =[]\n",
    "            for ii in range(len(words[i])-1):\n",
    "                l.append(iu.index(words[i][ii+1]) - iu.index(words[i][ii]))\n",
    "            # print(l)\n",
    "            if l not in k:\n",
    "                t=t+1\n",
    "            \n",
    "            k.append(l)\n",
    "            we.append(words[i])\n",
    "            if len(k)>2 and t==2 :\n",
    "                break\n",
    "            \n",
    "        for i in k:\n",
    "            if k.count(i) ==1:\n",
    "                return (we[k.index(i)])"
   ]
  },
  {
   "cell_type": "markdown",
   "metadata": {},
   "source": [
    "## 2891. Method Chaining"
   ]
  },
  {
   "cell_type": "code",
   "execution_count": null,
   "metadata": {},
   "outputs": [],
   "source": [
    "import pandas as pd\n",
    "\n",
    "def findHeavyAnimals(df: pd.DataFrame) -> pd.DataFrame:\n",
    "\n",
    "    nam=[]\n",
    "    wei=[]\n",
    "    for i in range(len(df['weight'])):\n",
    "        if df['weight'][i] >100:\n",
    "            nam.append(df['name'][i])\n",
    "            wei.append(df['weight'][i])\n",
    "    # print(nam,wei)\n",
    "    newwei=sorted(wei)\n",
    "    newwei=newwei[::-1]\n",
    "    newname=[]\n",
    "    for i in newwei:\n",
    "        jh=wei.index(i)\n",
    "        newname.append(nam[jh])\n",
    "        wei.insert(jh+1,0)\n",
    "        wei.pop(jh)\n",
    "    newname\n",
    "\n",
    "    kj=pd.DataFrame(newname,columns=['name'])\n",
    "    return kj\n",
    "\n",
    "        "
   ]
  },
  {
   "cell_type": "markdown",
   "metadata": {},
   "source": [
    "## 2888. Reshape Data: Concatenate\n"
   ]
  },
  {
   "cell_type": "code",
   "execution_count": null,
   "metadata": {},
   "outputs": [],
   "source": [
    "import pandas as pd\n",
    "\n",
    "def concatenateTables(df1: pd.DataFrame, df2: pd.DataFrame) -> pd.DataFrame:\n",
    "    k=pd.merge(df1,df2,how='outer')\n",
    "    return k\n",
    "    "
   ]
  },
  {
   "cell_type": "markdown",
   "metadata": {},
   "source": [
    "## 1014. Best Sightseeing Pair     [time limit exceed]"
   ]
  },
  {
   "cell_type": "code",
   "execution_count": null,
   "metadata": {},
   "outputs": [],
   "source": [
    "class Solution:\n",
    "    def maxScoreSightseeingPair(self, values: List[int]) -> int:\n",
    "        hj=0\n",
    "        for i in range(len(values)):\n",
    "            for j in range(i):\n",
    "                # print(i,j)\n",
    "                # if i>j:\n",
    "                    d= values[j]+values[i]+j-i\n",
    "                    if d>hj:\n",
    "                        hj=d\n",
    "        return hj\n",
    "        "
   ]
  },
  {
   "cell_type": "markdown",
   "metadata": {},
   "source": [
    "## 672. Richest Customer Wealth"
   ]
  },
  {
   "cell_type": "code",
   "execution_count": null,
   "metadata": {},
   "outputs": [],
   "source": [
    "class Solution:\n",
    "    def maximumWealth(self, accounts: List[List[int]]) -> int:\n",
    "        k=0\n",
    "        for i in accounts:\n",
    "            if sum(i)>k:\n",
    "                k=sum(i)\n",
    "        return k\n",
    "        "
   ]
  },
  {
   "cell_type": "markdown",
   "metadata": {},
   "source": [
    "## 572. Matrix Diagonal Sum"
   ]
  },
  {
   "cell_type": "code",
   "execution_count": null,
   "metadata": {},
   "outputs": [],
   "source": [
    "class Solution:\n",
    "    def diagonalSum(self, mat: List[List[int]]) -> int:\n",
    "        pol=0\n",
    "        sm=0\n",
    "        if len(mat)==1:\n",
    "            return(mat[0][0])\n",
    "        else:\n",
    "\n",
    "            if len(mat)>2 and len(mat)%2!=0:\n",
    "\n",
    "                koi=(len(mat)//2)\n",
    "                # return(mat[koi])\n",
    "                if len(mat[koi])>2 and len(mat[koi])%2!=0:\n",
    "                    kiu =(len(mat[koi])//2)\n",
    "                    # return(mat[koi][kiu])\n",
    "                    pol=mat[koi][kiu]\n",
    "\n",
    "\n",
    "            for i in range(len(mat)):\n",
    "                for j in range(len(mat[i])):\n",
    "                    if i==j:\n",
    "                        # return(i,j)\n",
    "                        sm=sm+mat[i][j]\n",
    "            mat=mat[::-1]\n",
    "            for i in range(len(mat)):\n",
    "                for j in range(len(mat[i])):\n",
    "                    if i==j:\n",
    "                        # return(i,j)\n",
    "                        sm=sm+mat[i][j]\n",
    "            sm=sm-pol\n",
    "            return(sm)\n",
    "                "
   ]
  },
  {
   "cell_type": "markdown",
   "metadata": {},
   "source": [
    "## 709. To Lower Case"
   ]
  },
  {
   "cell_type": "code",
   "execution_count": null,
   "metadata": {},
   "outputs": [],
   "source": [
    "class Solution:\n",
    "    def toLowerCase(self, s: str) -> str:\n",
    "        return(s.lower())\n",
    "        "
   ]
  },
  {
   "cell_type": "markdown",
   "metadata": {},
   "source": [
    "## 162. Find Peak Element"
   ]
  },
  {
   "cell_type": "code",
   "execution_count": null,
   "metadata": {},
   "outputs": [],
   "source": [
    "class Solution:\n",
    "    def findPeakElement(self, nums: List[int]) -> int:\n",
    "        return (nums.index(max(nums)))\n",
    "        "
   ]
  },
  {
   "cell_type": "markdown",
   "metadata": {},
   "source": [
    "## 1492. The kth Factor of n"
   ]
  },
  {
   "cell_type": "code",
   "execution_count": null,
   "metadata": {},
   "outputs": [],
   "source": [
    "class Solution:\n",
    "    def kthFactor(self, n: int, k: int) -> int:\n",
    "        nk=[]\n",
    "        for i in range(1,n+1):\n",
    "            if n%i==0:\n",
    "                nk.append(i)\n",
    "        if k>len(nk):\n",
    "            return -1\n",
    "        return nk[k-1]"
   ]
  },
  {
   "cell_type": "markdown",
   "metadata": {},
   "source": [
    "## 167. Two Sum II - Input Array Is Sorted"
   ]
  },
  {
   "cell_type": "code",
   "execution_count": null,
   "metadata": {},
   "outputs": [],
   "source": [
    "class Solution:\n",
    "    def twoSum(self, numbers: List[int], target: int) -> List[int]:\n",
    "        op={}\n",
    "        for i in numbers:\n",
    "            if i not in op:\n",
    "                op[i]=1\n",
    "            elif i in op and op[i] <2:\n",
    "                op[i]+=1\n",
    "            else:\n",
    "                pass\n",
    "        # return(op)\n",
    "        kl=[]\n",
    "        # return(list(op.values())[0])\n",
    "        for i in range(len(list(op.keys()))) :\n",
    "            for j in range(list(op.values())[i]):\n",
    "                # return(j)\n",
    "                kl.append(list(op.keys())[i])\n",
    "\n",
    "        kl   \n",
    "\n",
    "        for i in range(len(kl)):\n",
    "            for j in range(i+1,len(kl)):\n",
    "                if kl[i]+kl[j]==target:\n",
    "                    if kl[i]==kl[j]:\n",
    "                        # kj=numbers.index(numbers[i])+1\n",
    "                        k=[numbers.index(kl[i])+1,numbers.index(kl[j])+2]\n",
    "                        return(k)\n",
    "                        break\n",
    "                    else:\n",
    "\n",
    "\n",
    "                        k=[numbers.index(kl[i])+1,numbers.index(kl[j])+1]\n",
    "                        return(k)\n",
    "                        break"
   ]
  },
  {
   "cell_type": "markdown",
   "metadata": {},
   "source": [
    "## 189. Rotate Array"
   ]
  },
  {
   "cell_type": "code",
   "execution_count": null,
   "metadata": {},
   "outputs": [],
   "source": [
    "class Solution:\n",
    "    def rotate(self, nums: List[int], k: int) -> None:\n",
    "        while k!=0:\n",
    "            pk=nums[-1]\n",
    "            nums.insert(0,pk)\n",
    "            nums.pop(-1)\n",
    "            k=k-1\n",
    "        # jk=nums[::-1]\n",
    "        # jk=jk[:k]\n",
    "        # jk=jk[::-1]\n",
    "        # nums=jk+nums[:len(nums)-k]\n",
    "        # print(jk)\n",
    "        # nums=jk+nums\n",
    "        \"\"\"\n",
    "        Do not return anything, modify nums in-place instead.\n",
    "        \"\"\"\n",
    "        "
   ]
  },
  {
   "cell_type": "markdown",
   "metadata": {},
   "source": [
    "## 2053. Kth Distinct String in an Array"
   ]
  },
  {
   "cell_type": "code",
   "execution_count": null,
   "metadata": {},
   "outputs": [],
   "source": [
    "class Solution:\n",
    "    def kthDistinct(self, arr: List[str], k: int) -> str:\n",
    "        kj={}\n",
    "        for i in arr:\n",
    "            if i not in kj:\n",
    "                kj[i]=1\n",
    "            else:\n",
    "                kj[i]+=1\n",
    "        kj\n",
    "        arrlet=list(kj.keys())\n",
    "        arrletcnt=list(kj.values())\n",
    "        # return(arrlet,arrletcnt)\n",
    "        dit=[]\n",
    "        for i in arrletcnt:\n",
    "            if i ==1:\n",
    "                hf = arrletcnt.index(i)\n",
    "                dit.append(arrlet[hf])\n",
    "                arrletcnt.insert(hf+1,2)\n",
    "                arrletcnt.pop(hf)\n",
    "        if len(dit)>=k:\n",
    "            return(dit[k-1])\n",
    "        else:\n",
    "            return(\"\")\n",
    "                "
   ]
  },
  {
   "cell_type": "markdown",
   "metadata": {},
   "source": [
    "## 1460. Make Two Arrays Equal by Reversing Subarrays"
   ]
  },
  {
   "cell_type": "code",
   "execution_count": null,
   "metadata": {},
   "outputs": [],
   "source": [
    "class Solution:\n",
    "    def canBeEqual(self, target: List[int], arr: List[int]) -> bool:\n",
    "        target = sorted(target)\n",
    "        arr = sorted(arr)\n",
    "        if target == arr:\n",
    "            return True\n",
    "        else:\n",
    "            return False\n",
    "        "
   ]
  },
  {
   "cell_type": "markdown",
   "metadata": {},
   "source": [
    "## 2890. Reshape Data: Melt"
   ]
  },
  {
   "cell_type": "code",
   "execution_count": null,
   "metadata": {},
   "outputs": [],
   "source": [
    "import pandas as pd\n",
    "\n",
    "def meltTable(df: pd.DataFrame) -> pd.DataFrame:\n",
    "    df=df.melt(id_vars='product', var_name='quarter', value_name='sales')\n",
    "\n",
    "    return df\n",
    "    "
   ]
  },
  {
   "cell_type": "markdown",
   "metadata": {},
   "source": [
    "## 2889. Reshape Data: Pivot"
   ]
  },
  {
   "cell_type": "code",
   "execution_count": null,
   "metadata": {},
   "outputs": [],
   "source": [
    "import pandas as pd\n",
    "\n",
    "def pivotTable(df: pd.DataFrame) -> pd.DataFrame:\n",
    "    df=df.pivot(index='month', columns='city', values='temperature')\n",
    "\n",
    "    return df\n",
    "    "
   ]
  },
  {
   "cell_type": "markdown",
   "metadata": {},
   "source": [
    "## 2887. Fill Missing Data"
   ]
  },
  {
   "cell_type": "code",
   "execution_count": null,
   "metadata": {},
   "outputs": [],
   "source": [
    "import pandas as pd\n",
    "\n",
    "def fillMissingValues(df: pd.DataFrame) -> pd.DataFrame:\n",
    "    df['quantity']=df['quantity'].fillna(0)\n",
    "    return df\n",
    "\n",
    "    "
   ]
  },
  {
   "cell_type": "markdown",
   "metadata": {},
   "source": [
    "## 2886. Change Data Type"
   ]
  },
  {
   "cell_type": "code",
   "execution_count": null,
   "metadata": {},
   "outputs": [],
   "source": [
    "import pandas as pd\n",
    "\n",
    "def changeDatatype(df: pd.DataFrame) -> pd.DataFrame:\n",
    "    df['grade']=df['grade'].astype(int)\n",
    "    return df\n",
    "    "
   ]
  },
  {
   "cell_type": "markdown",
   "metadata": {},
   "source": [
    "## 1079. Letter Tile Possibilities"
   ]
  },
  {
   "cell_type": "code",
   "execution_count": null,
   "metadata": {},
   "outputs": [],
   "source": [
    "class Solution:\n",
    "    def numTilePossibilities(self, tiles: str) -> int:\n",
    "        j = []\n",
    "\n",
    "        for ii in range(1,len(tiles)+1):\n",
    "            \n",
    "            k = permutations(tiles,ii)\n",
    "            for i in k:\n",
    "                i = list(i)\n",
    "                if i not in j:\n",
    "                    j.append(i)\n",
    "        return len(j)\n",
    "                "
   ]
  },
  {
   "cell_type": "markdown",
   "metadata": {},
   "source": [
    "## 2885. Rename Columns"
   ]
  },
  {
   "cell_type": "code",
   "execution_count": null,
   "metadata": {},
   "outputs": [],
   "source": [
    "import pandas as pd\n",
    "\n",
    "def renameColumns(df: pd.DataFrame) -> pd.DataFrame:\n",
    "    kk=['student_id','first_name','last_name' ,'age_in_years']\n",
    "\n",
    "    k=0\n",
    "    for i in df.columns[:]:\n",
    "        # print(df.columns[i])\n",
    "        df[kk[k]]=df[i]\n",
    "        df=df.drop(columns=[i])\n",
    "        k=k+1\n",
    "    # print(\"ok\")\n",
    "    return (df)\n",
    "        "
   ]
  },
  {
   "cell_type": "markdown",
   "metadata": {},
   "source": [
    "## 2883. Drop Missing Data"
   ]
  },
  {
   "cell_type": "code",
   "execution_count": null,
   "metadata": {},
   "outputs": [],
   "source": [
    "import pandas as pd\n",
    "\n",
    "def dropMissingData(df: pd.DataFrame) -> pd.DataFrame:\n",
    "    for i in range(len(df['name'])):\n",
    "        if df['name'][i]==None:\n",
    "            df=df.drop(index=i)\n",
    "    return df\n",
    "    "
   ]
  },
  {
   "cell_type": "markdown",
   "metadata": {},
   "source": [
    "## 2678. Number of Senior Citizens"
   ]
  },
  {
   "cell_type": "code",
   "execution_count": null,
   "metadata": {},
   "outputs": [],
   "source": [
    "class Solution:\n",
    "    def countSeniors(self, details: List[str]) -> int:\n",
    "        ou=0\n",
    "        def age(g):\n",
    "            return int(g[11:13])\n",
    "        for i in details:\n",
    "            k=age(i)\n",
    "            if k >60:\n",
    "                ou=ou+1\n",
    "            else:\n",
    "                pass\n",
    "        return ou\n",
    "        "
   ]
  },
  {
   "cell_type": "markdown",
   "metadata": {},
   "source": [
    "## 509. Fibonacci Number"
   ]
  },
  {
   "cell_type": "code",
   "execution_count": null,
   "metadata": {},
   "outputs": [],
   "source": [
    "class Solution:\n",
    "    def fib(self, n: int) -> int:\n",
    "        def fib(n):\n",
    "            if n ==0:\n",
    "                return 0\n",
    "            elif n==1:\n",
    "                return(1)\n",
    "\n",
    "            fn = fib(n-1) +fib(n-2)\n",
    "            return fn\n",
    "        return (fib(n))\n",
    "        "
   ]
  },
  {
   "cell_type": "markdown",
   "metadata": {},
   "source": [
    "## 2395. Find Subarrays With Equal Sum"
   ]
  },
  {
   "cell_type": "code",
   "execution_count": null,
   "metadata": {},
   "outputs": [],
   "source": [
    "class Solution:\n",
    "    def findSubarrays(self, nums: List[int]) -> bool:\n",
    "        l=[]\n",
    "        for i in range(len(nums)-1):\n",
    "            for j in range(i+1,i+2):\n",
    "                sm=0\n",
    "                # return(i,j)\n",
    "                sm = nums[i]+nums[j]\n",
    "                # return(sm)\n",
    "                # return(sm,l)\n",
    "                if sm in l:\n",
    "                    return(True)\n",
    "                    break\n",
    "                else:\n",
    "                    l.append(sm)\n",
    "                    sm=0\n",
    "                if j==len(nums)-1:\n",
    "                    return(False)\n",
    "                    break\n",
    "                \n",
    "                "
   ]
  },
  {
   "cell_type": "markdown",
   "metadata": {},
   "source": [
    "## 2441. Largest Positive Integer That Exists With Its Negative"
   ]
  },
  {
   "cell_type": "code",
   "execution_count": null,
   "metadata": {},
   "outputs": [],
   "source": [
    "class Solution:\n",
    "    def findMaxK(self, nums: List[int]) -> int:\n",
    "        while True:\n",
    "            f = max(nums)\n",
    "            if (f*(-1)) in nums:\n",
    "                return (f)\n",
    "                break\n",
    "            else:\n",
    "                fnd =nums.index(f)\n",
    "                nums.pop(fnd)\n",
    "            if len(nums)==0:\n",
    "                return (-1)\n",
    "                break\n",
    "        \n",
    "        "
   ]
  },
  {
   "cell_type": "markdown",
   "metadata": {},
   "source": [
    "## 2465. Number of Distinct Averages"
   ]
  },
  {
   "cell_type": "code",
   "execution_count": null,
   "metadata": {},
   "outputs": [],
   "source": [
    "class Solution:\n",
    "    def distinctAverages(self, nums: List[int]) -> int:\n",
    "        k=[]\n",
    "        while len(nums)!=0:\n",
    "            k.append((min(nums)+max(nums))/2)\n",
    "            fnd = nums.index(min(nums))\n",
    "            fnd1 = nums.index(max(nums))\n",
    "            fst = max(fnd,fnd1)\n",
    "            nd = min(fnd,fnd1)\n",
    "            nums.pop(fst)\n",
    "            nums.pop(nd)\n",
    "            \n",
    "        k=list(set(k))\n",
    "        return(len(k))\n",
    "                "
   ]
  },
  {
   "cell_type": "markdown",
   "metadata": {},
   "source": [
    "## 2824. Count Pairs Whose Sum is Less than Target"
   ]
  },
  {
   "cell_type": "code",
   "execution_count": null,
   "metadata": {},
   "outputs": [],
   "source": [
    "class Solution:\n",
    "    def countPairs(self, nums: List[int], target: int) -> int:\n",
    "        count =0\n",
    "        for i in range(len(nums)):\n",
    "            for j in range(i+1,len(nums)):\n",
    "                if (nums[i]+nums[j])<target:\n",
    "                    count = count+1\n",
    "                else:\n",
    "                    pass\n",
    "        return count\n",
    "        "
   ]
  },
  {
   "cell_type": "markdown",
   "metadata": {},
   "source": [
    "## 633. Sum of Square Numbers"
   ]
  },
  {
   "cell_type": "code",
   "execution_count": 1,
   "metadata": {},
   "outputs": [],
   "source": [
    "import math\n",
    "class Solution:\n",
    "    def judgeSquareSum(self, c: int) -> bool:\n",
    "                # c = 1000\n",
    "        # c = 6\n",
    "\n",
    "\n",
    "        def squaree(n):\n",
    "            k = math.sqrt(n) \n",
    "            kk = \"\"\n",
    "            kk = str(k)\n",
    "            # return(kk.split('.'))\n",
    "            p = kk.split('.')[1]\n",
    "            co = 0\n",
    "            for i in p:\n",
    "                if i=='0':\n",
    "                    pass\n",
    "                else:\n",
    "                    co = 1\n",
    "            if co==0:\n",
    "                return(True)\n",
    "            else:\n",
    "                return(False)\n",
    "\n",
    "        if c<4:\n",
    "            if c==1 or c==2 or c==0:\n",
    "                return(True)\n",
    "            \n",
    "            else:\n",
    "                return(False)\n",
    "        elif c >3 and squaree(c) == True:\n",
    "            # return(\"ok\")\n",
    "            return(True)\n",
    "\n",
    "\n",
    "        else:\n",
    "            # return(\"ok\")\n",
    "            \n",
    "            k =0\n",
    "            \n",
    "\n",
    "\n",
    "        \n",
    "            \n",
    "            for i in range(int(math.sqrt(c))+1 ):\n",
    "                # return()\n",
    "                k = c - i*i\n",
    "                # return(k)\n",
    "                if squaree(k):\n",
    "                    k = 1\n",
    "                    break\n",
    "\n",
    "            \n",
    "\n",
    "        \n",
    "\n",
    "            if  k==1:\n",
    "                return(True)\n",
    "            else:\n",
    "                return(False)\n",
    "\n",
    "            \n",
    "                    \n",
    "                \n",
    "                    \n",
    "\n",
    "\n"
   ]
  },
  {
   "cell_type": "markdown",
   "metadata": {},
   "source": [
    "## 7. Reverse Integer"
   ]
  },
  {
   "cell_type": "code",
   "execution_count": null,
   "metadata": {},
   "outputs": [],
   "source": [
    "class Solution:\n",
    "    def reverse(self, x: int) -> int:\n",
    "        if x>= -2**31 or x<=2**31 - 1 -1:\n",
    "            if x == 0:\n",
    "                return 0\n",
    "\n",
    "            k_ = str(x)\n",
    "\n",
    "\n",
    "\n",
    "\n",
    "            k = str(x)\n",
    "            pj_=0\n",
    "            newstr_ =\"\"\n",
    "\n",
    "            if x<0:\n",
    "                x = x*(-1)\n",
    "                k_ = str(x)\n",
    "                \n",
    "                pj_ = int(k_[::-1])\n",
    "                newstr_ = newstr_+str(pj_)\n",
    "                # return int(\"-\"+newstr_)\n",
    "                fnlno = int(\"-\"+newstr_)\n",
    "                if fnlno>= -2**31 and fnlno<=2**31 - 1 -1:\n",
    "                    return fnlno\n",
    "                else:\n",
    "                   return 0\n",
    "\n",
    "            else:\n",
    "                \n",
    "\n",
    "                pj = int(k[::-1])\n",
    "\n",
    "                newstr = str(pj)\n",
    "                # return int(newstr)\n",
    "                fnlnoo = int(newstr)\n",
    "                if fnlnoo>= -2**31 and fnlnoo<=2**31 - 1 -1:\n",
    "                    return fnlnoo\n",
    "                else:\n",
    "                    return 0\n",
    "        else:\n",
    "            return 0"
   ]
  },
  {
   "cell_type": "markdown",
   "metadata": {},
   "source": [
    "## 5. Longest Palindromic Substring"
   ]
  },
  {
   "cell_type": "code",
   "execution_count": null,
   "metadata": {},
   "outputs": [],
   "source": [
    "class Solution:\n",
    "    def longestPalindrome(self, s: str) -> str:\n",
    "\n",
    "        if s[::-1]==s:\n",
    "            return ''.join(s)\n",
    "        s2 = []\n",
    "        s3 = []\n",
    "        for k in range(0,len(s)):\n",
    "            s2 = []\n",
    "            for j in range(k,len(s)):\n",
    "                s2.append(s[j])\n",
    "                if s2[::-1]==s2 and len(s2)>len(s3):\n",
    "                    s3 = s2.copy() \n",
    "        return ''.join(s3)           \n"
   ]
  },
  {
   "cell_type": "markdown",
   "metadata": {},
   "source": [
    "## 9. Palindrome Number"
   ]
  },
  {
   "cell_type": "code",
   "execution_count": null,
   "metadata": {},
   "outputs": [],
   "source": [
    "class Solution:\n",
    "    def isPalindrome(self, x: int) -> bool:\n",
    "        s = str(x)\n",
    "        \n",
    "        \n",
    "\n",
    "        if s[0] !=s[len(s)-1]:\n",
    "            return False\n",
    "\n",
    "        \n",
    "\n",
    "        if s[::-1]==s:\n",
    "            return True\n",
    "        else:\n",
    "            return False\n",
    "            \n",
    "            # print(''.join(s))  \n",
    "            \n",
    "\n"
   ]
  },
  {
   "cell_type": "markdown",
   "metadata": {},
   "source": [
    "## 28. Find the Index of the First Occurrence in a String"
   ]
  },
  {
   "cell_type": "code",
   "execution_count": null,
   "metadata": {},
   "outputs": [],
   "source": [
    "class Solution:\n",
    "    def strStr(self, haystack: str, needle: str) -> int:\n",
    "        pk = False\n",
    "        jj = 0\n",
    "        if haystack==needle:\n",
    "            return(0)\n",
    "        elif len(needle)==1:\n",
    "            for i in range(len(haystack)):\n",
    "                if haystack[i] == needle:\n",
    "                    pk = True\n",
    "                    jj = i\n",
    "                    break\n",
    "                else:\n",
    "                    pass\n",
    "                    # return(i)\n",
    "                \n",
    "        else:\n",
    "\n",
    "            k = \"\"\n",
    "            \n",
    "            \n",
    "            for i in range((len(haystack)-len(needle)+1)):\n",
    "                # return(i)\n",
    "                for ii in range(i,i+len(needle)):\n",
    "                    k=k+haystack[ii]\n",
    "                # return(k)\n",
    "                if k == needle:\n",
    "                    pk = True\n",
    "                    jj = i\n",
    "\n",
    "                    break\n",
    "                else:\n",
    "                    k=\"\"\n",
    "        if pk == True:\n",
    "            return(jj)\n",
    "        else:\n",
    "            return(-1)"
   ]
  },
  {
   "cell_type": "markdown",
   "metadata": {},
   "source": [
    "## 29. Divide Two Integers"
   ]
  },
  {
   "cell_type": "code",
   "execution_count": null,
   "metadata": {},
   "outputs": [],
   "source": [
    "class Solution:\n",
    "    def divide(self, di1: int, div1: int) -> int:\n",
    "        di = (di1)\n",
    "        div =(div1)\n",
    "        if di1 == -2147483648 and div1 == -1:\n",
    "            return (-1*di1)-1\n",
    "        \n",
    "\n",
    "\n",
    "\n",
    "\n",
    "        return(int(di/div))\n"
   ]
  },
  {
   "cell_type": "markdown",
   "metadata": {},
   "source": [
    "## 1470. Shuffle the Array"
   ]
  },
  {
   "cell_type": "code",
   "execution_count": null,
   "metadata": {},
   "outputs": [],
   "source": [
    "class Solution:\n",
    "    def shuffle(self, nums: List[int], n: int) -> List[int]:\n",
    "        k=[]\n",
    "\n",
    "        for  i,j in zip(range(0,(len(nums)//2)),range((len(nums)//2),len(nums))):\n",
    "            k.append(nums[i])\n",
    "            k.append(nums[j])\n",
    "\n",
    "        return k\n",
    "        "
   ]
  },
  {
   "cell_type": "markdown",
   "metadata": {},
   "source": [
    "## 1464. Maximum Product of Two Elements in an Array"
   ]
  },
  {
   "cell_type": "code",
   "execution_count": null,
   "metadata": {},
   "outputs": [],
   "source": [
    "class Solution:\n",
    "    def maxProduct(self, nums: List[int]) -> int:\n",
    "        g=  combinations(nums,2)\n",
    "        j = (nums[0]-1)*(nums[1]-1)\n",
    "        for i in g:\n",
    "            i=list(i)\n",
    "            h=(i[0]-1)*(i[1]-1)\n",
    "            if h>j:\n",
    "                j=h\n",
    "\n",
    "\n",
    "        return j\n",
    "                "
   ]
  },
  {
   "cell_type": "markdown",
   "metadata": {},
   "source": [
    "## 349. Intersection of Two Arrays"
   ]
  },
  {
   "cell_type": "code",
   "execution_count": null,
   "metadata": {},
   "outputs": [],
   "source": [
    "class Solution:\n",
    "    def intersection(self, nums1: List[int], nums2: List[int]) -> List[int]:\n",
    "        nums1=set(nums1)\n",
    "        nums2=set(nums2)\n",
    "        k=nums1.intersection(nums2)\n",
    "        k=list(k)\n",
    "        return k"
   ]
  },
  {
   "cell_type": "markdown",
   "metadata": {},
   "source": [
    "## 2540. Minimum Common Value"
   ]
  },
  {
   "cell_type": "code",
   "execution_count": null,
   "metadata": {},
   "outputs": [],
   "source": [
    "class Solution:\n",
    "    def getCommon(self, nums1: List[int], nums2: List[int]) -> int:\n",
    "        nums1=set(nums1)\n",
    "        nums2=set(nums2)\n",
    "        k=nums1.intersection(nums2)\n",
    "        k=list(k)\n",
    "        if len(k)==0:\n",
    "            return -1\n",
    "        return min(k)"
   ]
  },
  {
   "cell_type": "markdown",
   "metadata": {},
   "source": [
    "## 41. First Missing Positive"
   ]
  },
  {
   "cell_type": "code",
   "execution_count": null,
   "metadata": {},
   "outputs": [],
   "source": [
    "class Solution:\n",
    "    def firstMissingPositive(self, j: List[int]) -> int:\n",
    "        kll=[]\n",
    "        l = 1\n",
    "        for i in j:\n",
    "            if i <=0:\n",
    "                j.remove(i)\n",
    "        j = set(j)\n",
    "        \n",
    "        while True :\n",
    "\n",
    "            if l in j:\n",
    "                l=l+1\n",
    "            else:\n",
    "                kll.append(l)\n",
    "                break\n",
    "        return kll[0]"
   ]
  },
  {
   "cell_type": "markdown",
   "metadata": {},
   "source": [
    "## 1232. Check If It Is a Straight Line"
   ]
  },
  {
   "cell_type": "code",
   "execution_count": null,
   "metadata": {},
   "outputs": [],
   "source": [
    "class Solution:\n",
    "    def checkStraightLine(self, coordinates: List[List[int]]) -> bool:\n",
    "        if len(coordinates)==2:\n",
    "            return(True)\n",
    "        elif len(coordinates)<2:\n",
    "            return(False)\n",
    "        else:\n",
    "            x1=coordinates[len(coordinates)-1][0]\n",
    "            y1=coordinates[len(coordinates)-1][1]\n",
    "            x2=coordinates[len(coordinates)-2][0]\n",
    "            y2=coordinates[len(coordinates)-2][1]\n",
    "            x3=coordinates[0][0]\n",
    "            y3=coordinates[0][1]\n",
    "            if (x2-x1)==0 and (x3-x2)==0:\n",
    "                return(True)\n",
    "            elif (x3-x2)==0 and (x2-x1)!=0:\n",
    "                return(False)\n",
    "            elif (x3-x2)!=0 and (x2-x1)==0:\n",
    "                return(False)\n",
    "            else:\n",
    "\n",
    "\n",
    "\n",
    "\n",
    "                m1 = (y2-y1)/(x2-x1)\n",
    "                m2 = (y3-y2)/(x3-x2)\n",
    "                # return(m1,m2)\n",
    "                if m1!=m2:\n",
    "                    return(False)\n",
    "                else:\n",
    "                    return(True)"
   ]
  },
  {
   "cell_type": "markdown",
   "metadata": {},
   "source": [
    "## 367. Valid Perfect Square"
   ]
  },
  {
   "cell_type": "code",
   "execution_count": null,
   "metadata": {},
   "outputs": [],
   "source": [
    "import math\n",
    "class Solution:\n",
    "    def isPerfectSquare(self, n: int) -> bool:\n",
    "        k = math.sqrt(n) \n",
    "        kk = \"\"\n",
    "        kk = str(k)\n",
    "        # return(kk.split('.'))\n",
    "        p = kk.split('.')[1]\n",
    "        co = 0\n",
    "        for i in p:\n",
    "            if i=='0':\n",
    "                pass\n",
    "            else:\n",
    "                co = 1\n",
    "        if co==0:\n",
    "            return(True)\n",
    "        else:\n",
    "            return(False)\n",
    "            \n",
    "\n",
    "\n",
    "                "
   ]
  },
  {
   "cell_type": "markdown",
   "metadata": {},
   "source": [
    "## 88. Merge Sorted Array"
   ]
  },
  {
   "cell_type": "code",
   "execution_count": null,
   "metadata": {},
   "outputs": [],
   "source": [
    "class Solution:\n",
    "    def merge(self, nums1: List[int], m: int, nums2: List[int], n: int) -> None:\n",
    "        chk = 0\n",
    "\n",
    "        for i in nums1:\n",
    "            if i ==0 or i ==-1:\n",
    "                pass\n",
    "            else:\n",
    "                chk =1\n",
    "\n",
    "\n",
    "            \n",
    "\n",
    "\n",
    "        nums1\n",
    "\n",
    "        p=0\n",
    "        z=0\n",
    "        count = 0\n",
    "        coun = 0\n",
    "        while(p==0):\n",
    "            # if all(num == 0 for num in nums1) or all(num == -1 for num in nums1):\n",
    "            # if  0 in nums1 and -1  in nums1:\n",
    "            if  0 in nums1 and -1  in nums1 and chk ==0:\n",
    "                        \n",
    "                for i in nums1:\n",
    "                    # if i <=0:\n",
    "\n",
    "                        if i <0:\n",
    "                            count =count+1\n",
    "                            # else:\n",
    "                            #     z = 1\n",
    "                            #     pass\n",
    "                \n",
    "                \n",
    "                \n",
    "\n",
    "                if i <0:\n",
    "                    count =count+1\n",
    "                    \n",
    "\n",
    "                        \n",
    "                for i in nums1[:]:\n",
    "                    if i >-1:\n",
    "                        coun = coun+1\n",
    "                        pass\n",
    "                    if coun == count:\n",
    "                        nums1.remove(i)\n",
    "                nums1.pop(-1)\n",
    "                # print(\"ok\",nums1)\n",
    "                for i in nums2:\n",
    "                    nums1.append(i)\n",
    "                \n",
    "                if len(nums1) == m+n:\n",
    "                    \n",
    "                    nk = len(nums1)\n",
    "                    for i in range(nk):\n",
    "                        for j in range(0, nk - i - 1):\n",
    "                            # print(j)\n",
    "                        \n",
    "                            if nums1[j] > nums1[j + 1]:\n",
    "                                nums1[j], nums1[j + 1] = nums1[j + 1], nums1[j]\n",
    "\n",
    "\n",
    "                        \n",
    "\n",
    "\n",
    "\n",
    "\n",
    "\n",
    "\n",
    "                    break\n",
    "                \n",
    "                            \n",
    "            if m==0:\n",
    "                for i in nums2:\n",
    "                    nums1.append(i)\n",
    "                # print(\"ok\",nums1)\n",
    "                while(0 in nums1):\n",
    "                    # print(\"ok\")\n",
    "                    if 0 in nums1:\n",
    "                        nums1.remove(0)\n",
    "                \n",
    "                break\n",
    "\n",
    "                \n",
    "                p=1\n",
    "            if m !=0:\n",
    "\n",
    "            \n",
    "                # print(\"ghjk\")\n",
    "                while(nums1[-1] ==0):\n",
    "                    nums1.pop()\n",
    "                    \n",
    "                \n",
    "                for i in nums2:\n",
    "                    nums1.append(i)\n",
    "                \n",
    "                if len(nums1) == m+n:\n",
    "                    \n",
    "                    nk = len(nums1)\n",
    "                    for i in range(nk):\n",
    "                        for j in range(0, nk - i - 1):\n",
    "                            # print(j)\n",
    "                        \n",
    "                            if nums1[j] > nums1[j + 1]:\n",
    "                                nums1[j], nums1[j + 1] = nums1[j + 1], nums1[j]\n",
    "\n",
    "\n",
    "                        \n",
    "\n",
    "\n",
    "\n",
    "\n",
    "\n",
    "\n",
    "                    p=1\n",
    "\n",
    "\n",
    "\n",
    "\n"
   ]
  },
  {
   "cell_type": "markdown",
   "metadata": {},
   "source": [
    "## 3194. Minimum Average of Smallest and Largest Elements"
   ]
  },
  {
   "cell_type": "code",
   "execution_count": null,
   "metadata": {},
   "outputs": [],
   "source": [
    "class Solution:\n",
    "    def minimumAverage(self, nn: List[int]) -> float:\n",
    "        \n",
    "        avg = []\n",
    "\n",
    "        while (len(nn)!=0):\n",
    "             \n",
    "            avg.append((max(nn)+min(nn))/2)\n",
    "            nn.remove(max(nn))\n",
    "            nn.remove(min(nn))\n",
    "        return(min(avg))\n",
    "        "
   ]
  },
  {
   "cell_type": "markdown",
   "metadata": {},
   "source": [
    "## 3254. Find the Power of K-Size Subarrays I"
   ]
  },
  {
   "cell_type": "code",
   "execution_count": null,
   "metadata": {},
   "outputs": [],
   "source": [
    "class Solution:\n",
    "    def resultsArray(self, nums: List[int], k: int) -> List[int]:\n",
    "        pk =[]\n",
    "\n",
    "        def cons(nums):\n",
    "            k = []\n",
    "            pk = []\n",
    "                \n",
    "            for i in range(len(nums)-1):\n",
    "            \n",
    "                if (nums[i]+1) == (nums[i+1]):\n",
    "                    k.append(1)\n",
    "                else:\n",
    "                    k.append(0)\n",
    "            if 0 in k:\n",
    "                pk.append(-1)\n",
    "            else:\n",
    "                pk.append(max(nums))\n",
    "\n",
    "            return pk        \n",
    "        \n",
    "\n",
    "        for i in range(len(nums)):\n",
    "            # print(i)\n",
    "            if i ==len(nums)-k:\n",
    "                kl = [nums[i] for i in range(i,i+k)]\n",
    "                pk.append(kl)\n",
    "                # print(kl)\n",
    "                \n",
    "            if i <len(nums)-k:\n",
    "                kl = [nums[i] for i in range(i,i+k)]\n",
    "                pk.append(kl)\n",
    "        # print(pk)\n",
    "\n",
    "        jk= []\n",
    "\n",
    "\n",
    "        for i in pk:\n",
    "            # print(i)\n",
    "            oo = cons(i)\n",
    "            jk.append(oo[0])\n",
    "\n",
    "        return jk \n",
    "                "
   ]
  },
  {
   "cell_type": "markdown",
   "metadata": {},
   "source": [
    "## 844. Backspace String Compare"
   ]
  },
  {
   "cell_type": "code",
   "execution_count": null,
   "metadata": {},
   "outputs": [],
   "source": [
    "class Solution:\n",
    "    def backspaceCompare(self, s: str, t: str) -> bool:\n",
    "\n",
    "        s=list(s)\n",
    "        t=list(t)\n",
    "        # s.remove(\"#\")\n",
    "        # return(s)\n",
    "        i= 0\n",
    "        j= 0\n",
    "        # return(len(t))\n",
    "        while \"#\" in s :\n",
    "            i=0\n",
    "            # return(\"..\",s)\n",
    "            while True:\n",
    "                if (i < len(s)):\n",
    "\n",
    "                    if s[i] == \"#\" :\n",
    "                        # return(s[i-1])\n",
    "                        if i==0:\n",
    "                            s.pop(i)\n",
    "                            break\n",
    "                        else:\n",
    "\n",
    "                            s.pop(i-1)\n",
    "                            s.pop(i-1)\n",
    "                            break\n",
    "                    else:\n",
    "                        i=i+1\n",
    "                else:\n",
    "                    break\n",
    "                \n",
    "        while \"#\" in t :\n",
    "            j=0\n",
    "            # return(\"..\",t)\n",
    "            while True:\n",
    "            \n",
    "                if (j < len(t)):\n",
    "                    if t[j] == \"#\" :\n",
    "                        if j==0:\n",
    "                            t.pop(j)\n",
    "                            break\n",
    "                        else:\n",
    "\n",
    "\n",
    "                            t.pop(j-1)\n",
    "                            t.pop(j-1)\n",
    "                            break\n",
    "                    else:\n",
    "                        j=j+1\n",
    "                else:\n",
    "                    break\n",
    "\n",
    "\n",
    "            \n",
    "\n",
    "        s=\"\".join(s)\n",
    "        t=\"\".join(t)\n",
    "        # return(s,t)\n",
    "\n",
    "        if s==t:\n",
    "            return(True)\n",
    "        else:\n",
    "            return(False)\n"
   ]
  },
  {
   "cell_type": "markdown",
   "metadata": {},
   "source": [
    "## 448. Find All Numbers Disappeared in an Array"
   ]
  },
  {
   "cell_type": "code",
   "execution_count": null,
   "metadata": {},
   "outputs": [],
   "source": [
    "class Solution:\n",
    "    def findDisappearedNumbers(self, j: List[int]) -> List[int]:\n",
    "        kll=[]\n",
    "        jj = set(j)\n",
    "        for i in range(1,len(j)+1):\n",
    "            if i not in jj:\n",
    "                kll.append(i)\n",
    "\n",
    "\n",
    "\n",
    "        return kll\n",
    "\n",
    "    \n",
    "\n",
    "\n",
    "\n",
    "            \n",
    "\n",
    "            "
   ]
  },
  {
   "cell_type": "markdown",
   "metadata": {},
   "source": [
    "## 2109. Adding Spaces to a String"
   ]
  },
  {
   "cell_type": "code",
   "execution_count": null,
   "metadata": {},
   "outputs": [],
   "source": [
    "class Solution:\n",
    "    def addSpaces(self, s: str, spaces: List[int]) -> str:\n",
    "        result = []\n",
    "        prev = 0\n",
    "        \n",
    "        # Iterate over the space indices and slice the string accordingly\n",
    "        for index in spaces:\n",
    "            result.append(s[prev:index])  # Add substring before the current space\n",
    "            result.append(\" \")           # Add the space\n",
    "            prev = index\n",
    "        \n",
    "        # Add the remaining part of the string\n",
    "        result.append(s[prev:])\n",
    "        \n",
    "        return \"\".join(result)\n"
   ]
  },
  {
   "cell_type": "markdown",
   "metadata": {},
   "source": [
    "## 350. Intersection of Two Arrays II"
   ]
  },
  {
   "cell_type": "code",
   "execution_count": null,
   "metadata": {},
   "outputs": [],
   "source": [
    "class Solution:\n",
    "    def intersect(self, nums1: List[int], nums2: List[int]) -> List[int]:\n",
    "        nums1.sort()\n",
    "        nums2.sort()\n",
    "        i=0\n",
    "        j=0\n",
    "        kk=[]\n",
    "\n",
    "        while i!=len(nums1) and j!=len(nums2):\n",
    "            if nums1[i]==nums2[j]:\n",
    "                kk.append(nums1[i])\n",
    "                i=i+1\n",
    "                j=j+1\n",
    "            elif nums1[i]<nums2[j]:\n",
    "                i = i+1\n",
    "            else:\n",
    "                j=j+1\n",
    "        return (kk)"
   ]
  },
  {
   "cell_type": "markdown",
   "metadata": {},
   "source": [
    "## 2180. Count Integers With Even Digit Sum"
   ]
  },
  {
   "cell_type": "code",
   "execution_count": null,
   "metadata": {},
   "outputs": [],
   "source": [
    "class Solution:\n",
    "    def countEven(self, num: int) -> int:\n",
    "        pl=[]\n",
    "        s=0\n",
    "        for i in range(2,num+1):\n",
    "\n",
    "            if len(str(i))>1:\n",
    "                i=str(i)\n",
    "                for j in range(len(str(i))):\n",
    "                    \n",
    "\n",
    "                    s= s+int(i[j])\n",
    "                if s%2==0:\n",
    "                    pl.append(int(i))\n",
    "                    s=0\n",
    "                else:\n",
    "                    s=0\n",
    "            else:\n",
    "                if i%2==0:\n",
    "                    pl.append(i)\n",
    "                    \n",
    "                \n",
    "        return len(pl)\n",
    "        "
   ]
  },
  {
   "cell_type": "markdown",
   "metadata": {},
   "source": [
    "## 344. Reverse String"
   ]
  },
  {
   "cell_type": "code",
   "execution_count": null,
   "metadata": {},
   "outputs": [],
   "source": [
    "class Solution:\n",
    "    def reverseString(self, s: List[str]) -> None:\n",
    "        a = 0\n",
    "        b = len(s)-1\n",
    "        k = \"\"\n",
    "\n",
    "        while True:\n",
    "\n",
    "            if a<b:\n",
    "                k = s[a]\n",
    "                s[a] = s[b]\n",
    "                s[b] = k\n",
    "                a = a+1\n",
    "                b=b-1\n",
    "                k=\"\"\n",
    "            if a==b or b<a:\n",
    "                break\n",
    "\n",
    "                \n",
    "                \"\"\"\n",
    "                Do not return anything, modify s in-place instead.\n",
    "                \"\"\"\n",
    "                "
   ]
  },
  {
   "cell_type": "markdown",
   "metadata": {},
   "source": [
    "## 1331. Rank Transform of an Array"
   ]
  },
  {
   "cell_type": "code",
   "execution_count": null,
   "metadata": {},
   "outputs": [],
   "source": [
    "class Solution:\n",
    "    def arrayRankTransform(self, arr: List[int]) -> List[int]:\n",
    "        k=[]\n",
    "        kj = sorted(list(set(arr)))\n",
    "        # kj = sorted(arr)\n",
    "        # print(kj)\n",
    "        for j in range(len(arr)):\n",
    "            for i in range(len(kj)):\n",
    "\n",
    "                if arr[j]==kj[i] :\n",
    "                    k.append(i+1)\n",
    "                    # print(arr[j],k)\n",
    "        return k\n",
    "       \n",
    "        "
   ]
  },
  {
   "cell_type": "markdown",
   "metadata": {},
   "source": [
    "## 383. Ransom Note"
   ]
  },
  {
   "cell_type": "code",
   "execution_count": null,
   "metadata": {},
   "outputs": [],
   "source": [
    "class Solution:\n",
    "    def canConstruct(self, ransomNote: str, magazine: str) -> bool:\n",
    "        ransomNote=list(ransomNote)\n",
    "        magazine=list(magazine)\n",
    "        while len(ransomNote)!=0:\n",
    "            if ransomNote[0] in magazine:\n",
    "                magazine.pop(magazine.index(ransomNote[0]))\n",
    "                ransomNote.pop(0)\n",
    "            else:\n",
    "                return(False)\n",
    "                \n",
    "        return(True)\n",
    "                "
   ]
  },
  {
   "cell_type": "markdown",
   "metadata": {},
   "source": [
    "## 258. Add Digits"
   ]
  },
  {
   "cell_type": "code",
   "execution_count": null,
   "metadata": {},
   "outputs": [],
   "source": [
    "class Solution:\n",
    "    def addDigits(self, num: int) -> int:\n",
    "        num=str(num)\n",
    "        while len(num)>1:\n",
    "            s=0\n",
    "            for i in num:\n",
    "                s=s+int(i)\n",
    "            num=str(s)\n",
    "        return int(num)\n",
    "        "
   ]
  },
  {
   "cell_type": "markdown",
   "metadata": {},
   "source": [
    "## 151. Reverse Words in a String"
   ]
  },
  {
   "cell_type": "code",
   "execution_count": null,
   "metadata": {},
   "outputs": [],
   "source": [
    "class Solution:\n",
    "    def reverseWords(self, s: str) -> str:\n",
    "        s=s.split(\" \")\n",
    "        while '' in s:\n",
    "\n",
    "\n",
    "            s.remove('')\n",
    "        s=s[::-1]\n",
    "        s=\" \".join(s)\n",
    "\n",
    "        return s\n",
    "        "
   ]
  },
  {
   "cell_type": "markdown",
   "metadata": {},
   "source": [
    "## 66. Plus One"
   ]
  },
  {
   "cell_type": "code",
   "execution_count": null,
   "metadata": {},
   "outputs": [],
   "source": [
    "class Solution:\n",
    "    def plusOne(self, digits: List[int]) -> List[int]:\n",
    "        ok=\"\"\n",
    "        for i in digits:\n",
    "            ok =ok+str(i)\n",
    "        # print(ok)\n",
    "        k=[]\n",
    "        digits =int(ok)+1\n",
    "        digits = str(digits)\n",
    "        for i in digits:\n",
    "            k.append(int(i))\n",
    "        return k\n",
    "                "
   ]
  },
  {
   "cell_type": "markdown",
   "metadata": {},
   "source": [
    "## 60. Permutation Sequence"
   ]
  },
  {
   "cell_type": "code",
   "execution_count": null,
   "metadata": {},
   "outputs": [],
   "source": [
    "class Solution:\n",
    "    def getPermutation(self, h: int, k: int) -> str:\n",
    "        # h = [1,2,3,4]\n",
    "        # h = 3\n",
    "        kk = []\n",
    "        for i in range(1,h+1):\n",
    "            kk.append(i)\n",
    "        print(kk)\n",
    "\n",
    "        permutations = list(itertools.permutations(kk))\n",
    "        j = \"\"\n",
    "        for i in permutations[k-1]:\n",
    "            j = j+str(i)\n",
    "        return(j)\n",
    "        "
   ]
  },
  {
   "cell_type": "markdown",
   "metadata": {},
   "source": [
    "## 46. Permutations"
   ]
  },
  {
   "cell_type": "code",
   "execution_count": null,
   "metadata": {},
   "outputs": [],
   "source": [
    "class Solution:\n",
    "    def permute(self, nums: List[int]) -> List[List[int]]:\n",
    "        pp = list(itertools.permutations(nums))\n",
    "        return pp"
   ]
  },
  {
   "cell_type": "markdown",
   "metadata": {},
   "source": [
    "## 13. Roman to Integer"
   ]
  },
  {
   "cell_type": "code",
   "execution_count": null,
   "metadata": {},
   "outputs": [],
   "source": [
    "class Solution:\n",
    "    def romanToInt(self, s: str) -> int:\n",
    "        count = []\n",
    "        symbol = [\"I\",\"V\",\"X\",\"L\",\"C\",\"D\",\"M\"]\n",
    "        val = [1,5,10,50,100,500,1000]\n",
    "\n",
    "        for j in range(len(s)):\n",
    "            for i in range(len(symbol)):\n",
    "                if j==0:\n",
    "\n",
    "                    if s[j] == symbol[i]:\n",
    "                        # print(i)\n",
    "                        # print(val[i])\n",
    "                        count.append(val[i])\n",
    "                        # print(count)\n",
    "                elif j>0:\n",
    "                    if s[j] == symbol[i]:\n",
    "                        count.append(val[i])\n",
    "\n",
    "                    \n",
    "                            # print(count)\n",
    "\n",
    "\n",
    "        # print[count]\n",
    "        count\n",
    "        p=[]\n",
    "        indi = []\n",
    "        # p = p +count[0]\n",
    "        for i in range(1,len(count)):\n",
    "            if count[i]>count[i-1]:\n",
    "                # print(\"used\",i,i-1)\n",
    "                indi.append(i)\n",
    "                indi.append(i-1)\n",
    "                \n",
    "                # print(count[i],\"bada-----se chota\",count[i-1])\n",
    "                x = count[i]-count[i-1]\n",
    "                # print(x)\n",
    "                # p=p+x\n",
    "                p.append(x)\n",
    "                # print(p)\n",
    "            # if count[i-1]>count[i] and count[i]>count[i-1]:\n",
    "            #     p.append(count[i-1])\n",
    "            # else:\n",
    "            #     print(i)\n",
    "            \n",
    "\n",
    "        indi\n",
    "        all =[]\n",
    "        for i in range(len(count)):\n",
    "            all.append(i)\n",
    "\n",
    "        not_there= []\n",
    "\n",
    "        for i in range(len(all)):\n",
    "            if all[i] in indi:\n",
    "                pass\n",
    "            else:\n",
    "                not_there.append(all[i])\n",
    "\n",
    "\n",
    "        # ttl =0\n",
    "        # ttl1 =0\n",
    "        # for i in range(len(count)):\n",
    "        #     ttl1 = ttl1+i\n",
    "\n",
    "        # for i in range(len(indi)):\n",
    "        #     ttl = ttl+indi[i]\n",
    "        # print(ttl)\n",
    "        # print(ttl1)\n",
    "        # if ttl == ttl1:\n",
    "        #     for i in range(len(indi)):\n",
    "        #         if indi[i] !=0:\n",
    "        #             print(\"ok\")\n",
    "\n",
    "        # if ttl != ttl1:\n",
    "        total=0\n",
    "        for i in range(len(p)):\n",
    "            total = total+p[i]\n",
    "        for i in range(len(not_there)):\n",
    "            total = total + count[not_there[i]]\n",
    "\n",
    "        return total\n"
   ]
  },
  {
   "cell_type": "markdown",
   "metadata": {},
   "source": [
    "## 2089. Find Target Indices After Sorting Array"
   ]
  },
  {
   "cell_type": "code",
   "execution_count": null,
   "metadata": {},
   "outputs": [],
   "source": [
    "class Solution:\n",
    "    def targetIndices(self, nums: List[int], target: int) -> List[int]:\n",
    "        nums=sorted(nums)\n",
    "        k=[]\n",
    "        if target in nums:\n",
    "\n",
    "            nums=sorted(nums)\n",
    "            i=nums.index(target)\n",
    "            # k.append(i)\n",
    "\n",
    "            while nums[i]==target:\n",
    "                \n",
    "                k.append(i)\n",
    "                i=i+1\n",
    "                if i == len(nums):\n",
    "                    break\n",
    "            return k\n",
    "        else:\n",
    "            return(k)"
   ]
  },
  {
   "cell_type": "markdown",
   "metadata": {},
   "source": [
    "## 3046. Split the Array"
   ]
  },
  {
   "cell_type": "code",
   "execution_count": null,
   "metadata": {},
   "outputs": [],
   "source": [
    "class Solution:\n",
    "    def isPossibleToSplit(self, nums: List[int]) -> bool:\n",
    "        k = dict()\n",
    "        nums1 = []\n",
    "        nums2 = []\n",
    "        for i in nums:\n",
    "            if i not in k:\n",
    "                k[i] = 1\n",
    "            else:\n",
    "                k[i] += 1 \n",
    "        # return(k)\n",
    "\n",
    "        valu = list(k.values())\n",
    "        keyy = list(k.keys())\n",
    "        # return(valu)\n",
    "        # return(keyy)\n",
    "        chk = 0\n",
    "        for i in k.values():\n",
    "            if i >3:\n",
    "                chk =1\n",
    "                return(False)\n",
    "                break\n",
    "        # return(chk)\n",
    "        if chk ==0:\n",
    "            # while (len(list(set(nums1)))+len(list(set(nums1)))!=len(nums)):\n",
    "                for i in range(len(valu)):\n",
    "                    if valu[i] ==2:\n",
    "                        # return(keyy[i])\n",
    "                        nums1.append(keyy[i])\n",
    "                        nums2.append(keyy[i])\n",
    "                    # return(nums1)\n",
    "                    # return(nums2)\n",
    "                    if valu[i]==1:\n",
    "                        # return(keyy[i])\n",
    "                        # return(len(nums1),len(nums2))\n",
    "\n",
    "                        if len(nums1)==len(nums2):\n",
    "                            # return(\"eq , \",keyy[i])\n",
    "                            if keyy[i] not in nums1:\n",
    "                                nums1.append(keyy[i])\n",
    "                        elif len(nums1)>len(nums2):\n",
    "                            if keyy[i] not in nums2:\n",
    "                                # return(\"eq1 , \",keyy[i])\n",
    "                                nums2.append(keyy[i])\n",
    "                        elif len(nums1)<len(nums2):\n",
    "                            if keyy[i] not in nums1:\n",
    "                                return(keyy[i])\n",
    "                                nums1.append(keyy[i])\n",
    "\n",
    "\n",
    "                        \n",
    "\n",
    "                # return(i)\n",
    "\n",
    "\n",
    "\n",
    "                if len(list(set(nums1)))+len(list(set(nums2)))==len(nums):\n",
    "                    return(True)\n",
    "                else:\n",
    "                    return(False)\n",
    "\n",
    "                # return(nums1)\n",
    "                # return(nums2)\n",
    "                "
   ]
  },
  {
   "cell_type": "markdown",
   "metadata": {},
   "source": [
    "## 3392. Count Subarrays of Length Three With a Condition"
   ]
  },
  {
   "cell_type": "code",
   "execution_count": null,
   "metadata": {},
   "outputs": [],
   "source": [
    "class Solution:\n",
    "    def countSubarrays(self, nums: List[int]) -> int:\n",
    "        n = len(nums)\n",
    "        count = 0\n",
    "        \n",
    "        # Need at least 3 elements to form a subarray of length 3\n",
    "        if n < 3:\n",
    "            return 0\n",
    "            \n",
    "        # Check each possible subarray of length 3\n",
    "        for i in range(n - 2):\n",
    "            first = nums[i]\n",
    "            middle = nums[i + 1]\n",
    "            last = nums[i + 2]\n",
    "            \n",
    "            # Check if sum of first and last equals half of middle\n",
    "            if first + last == middle / 2:\n",
    "                count += 1\n",
    "                \n",
    "        return count"
   ]
  },
  {
   "cell_type": "markdown",
   "metadata": {},
   "source": [
    "## 58. Length of Last Word"
   ]
  },
  {
   "cell_type": "code",
   "execution_count": null,
   "metadata": {},
   "outputs": [],
   "source": [
    "class Solution:\n",
    "    def lengthOfLastWord(self, s: str) -> int:\n",
    "        k = s.split(\" \")\n",
    "\n",
    "        for i in k[:]:\n",
    "            if len(i) ==0:\n",
    "                k.remove(i)\n",
    "\n",
    "        return (len(k[len(k)-1]))"
   ]
  },
  {
   "cell_type": "markdown",
   "metadata": {},
   "source": [
    "## 692. Top K Frequent Words"
   ]
  },
  {
   "cell_type": "code",
   "execution_count": null,
   "metadata": {},
   "outputs": [],
   "source": [
    "class Solution:\n",
    "    def topKFrequent(self, words: List[str], k: int) -> List[str]:\n",
    "        words = sorted(words)\n",
    "        # k = 3\n",
    "\n",
    "        ok={}\n",
    "        for i in sorted(list(set(words))):\n",
    "            ok[i] = words.count(i)\n",
    "\n",
    "\n",
    "        pk=sorted(ok.values())\n",
    "        pk=pk[::-1]\n",
    "        pk = pk[0:k]\n",
    "        # print(ok,pk)\n",
    "        po=[]\n",
    "\n",
    "        for j in pk:\n",
    "            # print(ok[i])\n",
    "            for i in ok:\n",
    "                if ok[i] ==j and i not in po:\n",
    "                    po.append(i)\n",
    "        return po[:k]"
   ]
  },
  {
   "cell_type": "markdown",
   "metadata": {},
   "source": []
  },
  {
   "cell_type": "markdown",
   "metadata": {},
   "source": [
    "## 137. Single Number II"
   ]
  },
  {
   "cell_type": "code",
   "execution_count": null,
   "metadata": {},
   "outputs": [],
   "source": [
    "class Solution:\n",
    "    def singleNumber(self, nums: List[int]) -> int:\n",
    "        # nums = [1,0,1]\n",
    "        alone =[]\n",
    "\n",
    "        for i in nums[:]:\n",
    "            \n",
    "            nums.remove(i)\n",
    "            \n",
    "            if i not in nums:\n",
    "                alone.append(i)\n",
    "            else:\n",
    "                \n",
    "                nums.append(i)\n",
    "\n",
    "        return alone[0]\n",
    "        "
   ]
  },
  {
   "cell_type": "markdown",
   "metadata": {},
   "source": [
    "## 977. Squares of a Sorted Array"
   ]
  },
  {
   "cell_type": "code",
   "execution_count": null,
   "metadata": {},
   "outputs": [],
   "source": [
    "class Solution:\n",
    "    def sortedSquares(self, nums: List[int]) -> List[int]:\n",
    "        k=[]\n",
    "        for i in nums:\n",
    "            k.append(i**2)\n",
    "        return sorted(k)\n",
    "        "
   ]
  },
  {
   "cell_type": "markdown",
   "metadata": {},
   "source": [
    "## 1572. Matrix Diagonal Sum"
   ]
  },
  {
   "cell_type": "code",
   "execution_count": null,
   "metadata": {},
   "outputs": [],
   "source": [
    "class Solution:\n",
    "    def diagonalSum(self, mat: List[List[int]]) -> int:\n",
    "        pol=0\n",
    "        sm=0\n",
    "        if len(mat)==1:\n",
    "            return(mat[0][0])\n",
    "        else:\n",
    "\n",
    "            if len(mat)>2 and len(mat)%2!=0:\n",
    "\n",
    "                koi=(len(mat)//2)\n",
    "                # return(mat[koi])\n",
    "                if len(mat[koi])>2 and len(mat[koi])%2!=0:\n",
    "                    kiu =(len(mat[koi])//2)\n",
    "                    # return(mat[koi][kiu])\n",
    "                    pol=mat[koi][kiu]\n",
    "\n",
    "\n",
    "            for i in range(len(mat)):\n",
    "                for j in range(len(mat[i])):\n",
    "                    if i==j:\n",
    "                        # return(i,j)\n",
    "                        sm=sm+mat[i][j]\n",
    "            mat=mat[::-1]\n",
    "            for i in range(len(mat)):\n",
    "                for j in range(len(mat[i])):\n",
    "                    if i==j:\n",
    "                        # return(i,j)\n",
    "                        sm=sm+mat[i][j]\n",
    "            sm=sm-pol\n",
    "            return(sm)\n",
    "                "
   ]
  },
  {
   "cell_type": "markdown",
   "metadata": {},
   "source": [
    "## 1484. Group Sold Products By The Date"
   ]
  },
  {
   "cell_type": "code",
   "execution_count": null,
   "metadata": {},
   "outputs": [],
   "source": [
    "SELECT \n",
    "    sell_date,\n",
    "    COUNT(DISTINCT product) AS num_sold,\n",
    "    GROUP_CONCAT(DISTINCT product ORDER BY product SEPARATOR ',') AS products\n",
    "FROM Activities\n",
    "GROUP BY sell_date\n",
    "ORDER BY sell_date;\n"
   ]
  },
  {
   "cell_type": "markdown",
   "metadata": {},
   "source": [
    "## 1576. Replace All ?'s to Avoid Consecutive Repeating Characters"
   ]
  },
  {
   "cell_type": "code",
   "execution_count": null,
   "metadata": {},
   "outputs": [],
   "source": [
    "class Solution:\n",
    "    def modifyString(self, s: str) -> str:\n",
    "        s=list(s)\n",
    "        if len(s)==1:\n",
    "            if '?' in s:\n",
    "                s.insert(1,'a')\n",
    "                s.pop(0)\n",
    "        sd = 'qwertyuiopasdfghjklzxcvbnm'\n",
    "        sd=sorted(sd)\n",
    "        for i in s[:]:\n",
    "            if i=='?':\n",
    "                hj = s.index(i)\n",
    "                # return(hj)\n",
    "                if hj==0:\n",
    "                    for jh in sd:\n",
    "                        if jh!=s[hj+1]:\n",
    "                            # return(jh,s[hj+1])\n",
    "                            s.insert(hj+1,jh)\n",
    "                            s.pop(hj)\n",
    "                            break\n",
    "                elif hj== len(s)-1:\n",
    "                    for jh in sd:\n",
    "                        if jh!=s[hj-1]:\n",
    "                            s.insert(hj+1,jh)\n",
    "                            s.pop(hj)\n",
    "                            break\n",
    "                else:\n",
    "                    for jh in sd:\n",
    "                        if jh!=s[hj-1] :\n",
    "                            if jh!=s[hj+1]:\n",
    "                                s.insert(hj+1,jh)\n",
    "                                s.pop(hj)\n",
    "                                break\n",
    "        return ''.join(s)\n",
    "                "
   ]
  },
  {
   "cell_type": "markdown",
   "metadata": {},
   "source": [
    "## 2023. Number of Pairs of Strings With Concatenation Equal to Target"
   ]
  },
  {
   "cell_type": "code",
   "execution_count": null,
   "metadata": {},
   "outputs": [],
   "source": [
    "class Solution:\n",
    "    def numOfPairs(self, nums: List[str], target: str) -> int:\n",
    "        kj=0\n",
    "        hj = permutations(nums,2)\n",
    "        for i in hj:\n",
    "            i = list(i)\n",
    "        \n",
    "            # kj.append(i)\n",
    "            iu = list(i[0])\n",
    "            iu1 = list(i[1])\n",
    "            y =iu+iu1\n",
    "            y=''.join(y)\n",
    "            if y == target:\n",
    "                kj = kj+1\n",
    "        return kj\n",
    "                "
   ]
  },
  {
   "cell_type": "markdown",
   "metadata": {},
   "source": [
    "## 1812. Determine Color of a Chessboard Square"
   ]
  },
  {
   "cell_type": "code",
   "execution_count": null,
   "metadata": {},
   "outputs": [],
   "source": [
    "class Solution:\n",
    "    def squareIsWhite(self, coordinates: str) -> bool:\n",
    "        hori = \"abcdefgh\"\n",
    "# ver=[1,2,3,4,5,6,7,8]\n",
    "        coor = hori.index(coordinates[0])\n",
    "\n",
    "        # return(coor)\n",
    "        cor2=int(coordinates[1])\n",
    "        coor=coor+1\n",
    "        # return(coor)\n",
    "        # return(cor2)\n",
    "        if coor%2!=0 and cor2%2!=0 or ( coor%2==0 and cor2%2==0 ):\n",
    "            return(False)\n",
    "        else:\n",
    "            return(True)\n",
    "\n",
    "                "
   ]
  },
  {
   "cell_type": "markdown",
   "metadata": {},
   "source": [
    "## 1672. Richest Customer Wealth"
   ]
  },
  {
   "cell_type": "code",
   "execution_count": null,
   "metadata": {},
   "outputs": [],
   "source": [
    "class Solution:\n",
    "    def maximumWealth(self, accounts: List[List[int]]) -> int:\n",
    "        k=0\n",
    "        for i in accounts:\n",
    "            if sum(i)>k:\n",
    "                k=sum(i)\n",
    "        return k\n",
    "        "
   ]
  },
  {
   "cell_type": "markdown",
   "metadata": {},
   "source": [
    "## 1281. Subtract the Product and Sum of Digits of an Integer"
   ]
  },
  {
   "cell_type": "code",
   "execution_count": null,
   "metadata": {},
   "outputs": [],
   "source": [
    "class Solution:\n",
    "    def subtractProductAndSum(self, n: int) -> int:\n",
    "        n = list(str(n))\n",
    "        s = 0\n",
    "        k = 1\n",
    "        for i in n:\n",
    "            s=s+int(i)\n",
    "            k = k*int(i)\n",
    "        return(k-s)\n",
    "        "
   ]
  },
  {
   "cell_type": "markdown",
   "metadata": {},
   "source": [
    "## 824. Goat Latin"
   ]
  },
  {
   "cell_type": "code",
   "execution_count": null,
   "metadata": {},
   "outputs": [],
   "source": [
    "class Solution:\n",
    "    def toGoatLatin(self, sentence: str) -> str:\n",
    "        ch1 = \"aeiou\"\n",
    "        sentence = sentence.split(\" \")\n",
    "        for i in range(len(sentence)):\n",
    "            if sentence[i][0].lower() in ch1:\n",
    "                sentence[i]=sentence[i]+\"ma\"    \n",
    "            else:\n",
    "                sentence[i] = list(sentence[i])\n",
    "                sentence[i].append(sentence[i][0])\n",
    "                sentence[i].pop(0)\n",
    "                sentence[i]=\"\".join(sentence[i])\n",
    "                sentence[i]=sentence[i]+\"ma\"\n",
    "            for ii in range(i+1):\n",
    "                sentence[i]=sentence[i]+\"a\"\n",
    "        sentence = \" \".join(sentence)  \n",
    "        return sentence     \n",
    "\n",
    "                "
   ]
  },
  {
   "cell_type": "markdown",
   "metadata": {},
   "source": [
    "## 268. Missing Number"
   ]
  },
  {
   "cell_type": "code",
   "execution_count": null,
   "metadata": {},
   "outputs": [],
   "source": [
    "class Solution:\n",
    "    def missingNumber(self, kk: List[int]) -> int:\n",
    "        \n",
    "\n",
    "        summ = 0\n",
    "        for i in kk:\n",
    "            summ = summ+i\n",
    "\n",
    "        kk2 = len(kk)+1\n",
    "        summ2 = 0\n",
    "        for i in range(kk2):\n",
    "            summ2 = summ2 +i\n",
    "\n",
    "        ans =summ2-summ\n",
    "        return ans\n",
    "                \n",
    "            "
   ]
  },
  {
   "cell_type": "markdown",
   "metadata": {},
   "source": [
    "## 43. Multiply Strings"
   ]
  },
  {
   "cell_type": "code",
   "execution_count": null,
   "metadata": {},
   "outputs": [],
   "source": [
    "class Solution:\n",
    "    def multiply(self, num1: str, num2: str) -> str:\n",
    "        num1 = int(num1)\n",
    "        num2 = int(num2)\n",
    "        return str(num1*num2)        "
   ]
  },
  {
   "cell_type": "markdown",
   "metadata": {},
   "source": [
    "## 2460. Apply Operations to an Array"
   ]
  },
  {
   "cell_type": "code",
   "execution_count": null,
   "metadata": {},
   "outputs": [],
   "source": [
    "class Solution:\n",
    "    def applyOperations(self, nums: List[int]) -> List[int]:\n",
    "        i=0\n",
    "        while i<len(nums)-1:\n",
    "            if nums[i] == nums[i+1]:\n",
    "                nums[i] = nums[i]*2\n",
    "                nums[i+1]=0\n",
    "\n",
    "\n",
    "            # print(i,nums)\n",
    "            i=i+1\n",
    "        j = nums.count(0)\n",
    "        while 0 in nums:\n",
    "            nums.remove(0)\n",
    "        for i in range(j):\n",
    "            nums.append(0)\n",
    "\n",
    "        return nums\n",
    "                "
   ]
  },
  {
   "cell_type": "markdown",
   "metadata": {},
   "source": [
    "## 2848. Points That Intersect With Cars"
   ]
  },
  {
   "cell_type": "code",
   "execution_count": null,
   "metadata": {},
   "outputs": [],
   "source": [
    "class Solution:\n",
    "    def numberOfPoints(self, nums: List[List[int]]) -> int:\n",
    "        k=[]\n",
    "        for i in nums:\n",
    "            for j in range(i[0],i[1]+1):\n",
    "                if j not in k:\n",
    "                    k.append(j)\n",
    "        return len(k)\n",
    "        "
   ]
  },
  {
   "cell_type": "markdown",
   "metadata": {},
   "source": [
    "## 2880. Select Data"
   ]
  },
  {
   "cell_type": "code",
   "execution_count": null,
   "metadata": {},
   "outputs": [],
   "source": [
    "import pandas as pd\n",
    "\n",
    "def selectData(students: pd.DataFrame) -> pd.DataFrame:\n",
    "    sdat=[]\n",
    "    for i in range(len(students['student_id'])):\n",
    "        if students['student_id'][i]==101:\n",
    "            kl=[students['name'][i],students['age'][i]]\n",
    "            sdat.append(kl)\n",
    "            \n",
    "    dff=pd.DataFrame(sdat,columns=['name','age'])\n",
    "    return dff"
   ]
  },
  {
   "cell_type": "markdown",
   "metadata": {},
   "source": [
    "\n",
    "## 3483. Unique 3-Digit Even Numbers"
   ]
  },
  {
   "cell_type": "code",
   "execution_count": null,
   "metadata": {},
   "outputs": [],
   "source": [
    "class Solution:\n",
    "    def totalNumbers(self, digits: List[int]) -> int:\n",
    "        s = permutations(digits,3)\n",
    "        g=[]\n",
    "        for i in s:\n",
    "\n",
    "            i=list(i)\n",
    "            i=map(str,i)\n",
    "        \n",
    "\n",
    "            i =''.join(i)\n",
    "            # print(i)\n",
    "            i=int(i)\n",
    "            i=str(i)\n",
    "    \n",
    "            if len(i)==3:\n",
    "                i=int(i)\n",
    "                if i not in g and i%2==0:\n",
    "                    g.append(i)\n",
    "\n",
    "            \n",
    "        return len(g)\n",
    "\n",
    "        "
   ]
  },
  {
   "cell_type": "markdown",
   "metadata": {},
   "source": [
    "## 3427. Sum of Variable Length Subarrays"
   ]
  },
  {
   "cell_type": "code",
   "execution_count": null,
   "metadata": {},
   "outputs": [],
   "source": [
    "class Solution:\n",
    "    def subarraySum(self, nums: List[int]) -> int:\n",
    "        s=0\n",
    "        for i in range(len(nums)):\n",
    "            start = max(0, i - nums[i])\n",
    "            hj = nums[start:i+1]\n",
    "            s=s+sum(hj)\n",
    "        return s\n",
    "        "
   ]
  },
  {
   "cell_type": "markdown",
   "metadata": {},
   "source": [
    "## 3349. Adjacent Increasing Subarrays Detection I"
   ]
  },
  {
   "cell_type": "code",
   "execution_count": null,
   "metadata": {},
   "outputs": [],
   "source": [
    "class Solution:\n",
    "    def hasIncreasingSubarrays(self, nums: List[int], k: int) -> bool:\n",
    "        \n",
    "        def adjacent(nums):\n",
    "            h=list(set(nums))\n",
    "            h = sorted(h)\n",
    "            if nums==h:\n",
    "                return True\n",
    "            return False\n",
    "            \n",
    "\n",
    "        for i in range(len(nums)-k+1-k):\n",
    "            j = nums[i:i+k]\n",
    "            l = nums[i+k:i+k+k]\n",
    "            \n",
    "            if (adjacent (j)==adjacent (l)==True):\n",
    "                return(True)\n",
    "        return(False)\n",
    "        "
   ]
  },
  {
   "cell_type": "markdown",
   "metadata": {},
   "source": [
    "## 3083. Existence of a Substring in a String and Its Reverse"
   ]
  },
  {
   "cell_type": "code",
   "execution_count": null,
   "metadata": {},
   "outputs": [],
   "source": [
    "class Solution:\n",
    "    def isSubstringPresent(self, s: str) -> bool:\n",
    "        ii = s[::-1]\n",
    "        for i in range(len(s)-1):\n",
    "            h = s[i:i+2]\n",
    "            if h in ii:\n",
    "                return(True)\n",
    "        return(False)\n",
    "        "
   ]
  },
  {
   "cell_type": "markdown",
   "metadata": {},
   "source": [
    "## 3065. Minimum Operations to Exceed Threshold Value I"
   ]
  },
  {
   "cell_type": "code",
   "execution_count": null,
   "metadata": {},
   "outputs": [],
   "source": [
    "class Solution:\n",
    "    def minOperations(self, nums: List[int], k: int) -> int:\n",
    "        count=0\n",
    "        for i in nums:\n",
    "            if i <k:\n",
    "                count=count+1\n",
    "            else:\n",
    "                pass\n",
    "        return(count)\n",
    "        "
   ]
  },
  {
   "cell_type": "markdown",
   "metadata": {},
   "source": [
    "## 2878. Get the Size of a DataFrame"
   ]
  },
  {
   "cell_type": "code",
   "execution_count": null,
   "metadata": {},
   "outputs": [],
   "source": [
    "import pandas as pd\n",
    "\n",
    "def getDataframeSize(players: pd.DataFrame) -> List[int]:\n",
    "    kl=[players.shape[0],players.shape[1]]\n",
    "    return kl\n",
    "    "
   ]
  },
  {
   "cell_type": "markdown",
   "metadata": {},
   "source": [
    "## 2696. Minimum String Length After Removing Substrings"
   ]
  },
  {
   "cell_type": "code",
   "execution_count": null,
   "metadata": {},
   "outputs": [],
   "source": [
    "class Solution:\n",
    "    def minLength(self, s: str) -> int:\n",
    "        while True:\n",
    "            if \"AB\" in s:\n",
    "                JK =s.index('AB')\n",
    "                s=list(s)\n",
    "                s.pop(JK)\n",
    "                s.pop(JK)\n",
    "                s=''.join(s)\n",
    "            if \"CD\" in s:\n",
    "                JK =s.index('CD')\n",
    "                s=list(s)\n",
    "                s.pop(JK)\n",
    "                s.pop(JK)\n",
    "                s=''.join(s)\n",
    "            # print(s)\n",
    "            if \"AB\" not in s and   \"CD\" not in s:\n",
    "                return(len(s))\n",
    "                break\n",
    "\n",
    "        "
   ]
  },
  {
   "cell_type": "markdown",
   "metadata": {},
   "source": [
    "## 27. Remove Element"
   ]
  },
  {
   "cell_type": "code",
   "execution_count": null,
   "metadata": {},
   "outputs": [],
   "source": [
    "class Solution:\n",
    "    def removeElement(self, nums: List[int], val: int) -> int:\n",
    "        val = str(val)\n",
    "        kk = list()\n",
    "        kk.append(val)\n",
    "        print(kk)\n",
    "\n",
    "        for i in nums[:]:\n",
    "            for ii in kk:\n",
    "                if i == int(ii):\n",
    "                    nums.remove(i)\n",
    "        return (int(len(nums)))\n",
    "\n",
    "        "
   ]
  },
  {
   "cell_type": "markdown",
   "metadata": {},
   "source": [
    "## 511. Game Play Analysis I"
   ]
  },
  {
   "cell_type": "markdown",
   "metadata": {},
   "source": [
    "# Write your MySQL query statement below\n",
    "-- SELECT DISTINCT player_id , min(event_date) AS first_login  FROM  Activity;\n",
    "SELECT DISTINCT player_id, MIN(event_date) AS first_login\n",
    "FROM Activity\n",
    "GROUP BY player_id;\n"
   ]
  },
  {
   "cell_type": "markdown",
   "metadata": {},
   "source": [
    "## 26. Remove Duplicates from Sorted Array"
   ]
  },
  {
   "cell_type": "code",
   "execution_count": null,
   "metadata": {},
   "outputs": [],
   "source": [
    "class Solution:\n",
    "    def removeDuplicates(self, nums: List[int]) -> int:\n",
    "        kk = list()\n",
    "        for i in nums:\n",
    "            if i not in kk:\n",
    "                kk.append(i)\n",
    "\n",
    "        for i in nums[:]:\n",
    "            nums.remove(i)\n",
    "\n",
    "\n",
    "        for i in kk:\n",
    "            nums.append(i)\n",
    "\n",
    "        return len(nums)\n",
    "        "
   ]
  },
  {
   "cell_type": "markdown",
   "metadata": {},
   "source": [
    "## 2706. Buy Two Chocolates"
   ]
  },
  {
   "cell_type": "code",
   "execution_count": null,
   "metadata": {},
   "outputs": [],
   "source": [
    "class Solution:\n",
    "    def buyChoco(self, prices: List[int], pk: int) -> int:\n",
    "        prices=sorted(prices)\n",
    "        # pk = 3\n",
    "        money = pk\n",
    "        count=2\n",
    "        for i in prices:\n",
    "        # print(money,count)\n",
    "            if i <=money and count>-1:\n",
    "                money=money-i\n",
    "                count=count-1\n",
    "            if money and count ==0:\n",
    "                break\n",
    "        if count == 0:\n",
    "            return(money)\n",
    "        else:\n",
    "            return(pk)\n",
    "        "
   ]
  },
  {
   "cell_type": "markdown",
   "metadata": {},
   "source": [
    "## 2129. Capitalize the Title"
   ]
  },
  {
   "cell_type": "code",
   "execution_count": null,
   "metadata": {},
   "outputs": [],
   "source": [
    "class Solution:\n",
    "    def capitalizeTitle(self, title: str) -> str:\n",
    "        k = title.split(\" \")\n",
    "        jj= []\n",
    "        for i in k:\n",
    "            if len(i)>=3:\n",
    "                jj.append(i.capitalize())\n",
    "            else:\n",
    "                jj.append(i.lower())\n",
    "                \n",
    "\n",
    "        hj = \" \"\n",
    "        hj = hj.join(jj)\n",
    "\n",
    "        return hj\n",
    "                \n",
    "                "
   ]
  },
  {
   "cell_type": "markdown",
   "metadata": {},
   "source": [
    "## 260. Single Number III"
   ]
  },
  {
   "cell_type": "code",
   "execution_count": null,
   "metadata": {},
   "outputs": [],
   "source": [
    "class Solution:\n",
    "    def singleNumber(self, nums: List[int]) -> List[int]:\n",
    "        alone =[]\n",
    "\n",
    "        for i in nums[:]:\n",
    "            \n",
    "            nums.remove(i)\n",
    "            \n",
    "            if i not in nums:\n",
    "                alone.append(i)\n",
    "            else:\n",
    "                \n",
    "                nums.append(i)\n",
    "        return alone\n",
    "        \n",
    "        "
   ]
  },
  {
   "cell_type": "markdown",
   "metadata": {},
   "source": [
    "## 2154. Keep Multiplying Found Values by Two"
   ]
  },
  {
   "cell_type": "code",
   "execution_count": null,
   "metadata": {},
   "outputs": [],
   "source": [
    "class Solution:\n",
    "    def findFinalValue(self, n: List[int], o: int) -> int:\n",
    "        while(o in n):\n",
    "            o = o*2\n",
    "        else:\n",
    "            return(o)\n",
    "        "
   ]
  },
  {
   "cell_type": "markdown",
   "metadata": {},
   "source": [
    "## 136. Single Number"
   ]
  },
  {
   "cell_type": "code",
   "execution_count": null,
   "metadata": {},
   "outputs": [],
   "source": [
    "class Solution:\n",
    "    def singleNumber(self, nums: List[int]) -> int:\n",
    "        # nums = [1]\n",
    "        alone =[]\n",
    "        for i in nums[:]:\n",
    "            nums.remove(i)\n",
    "            # print(i)\n",
    "            if i not in nums:\n",
    "                alone.append(i)\n",
    "            else:\n",
    "                nums.append(i)\n",
    "        for i in alone:\n",
    "            return i\n",
    "\n",
    "\n",
    "            \n",
    "\n",
    "\n",
    "    \n",
    "\n",
    "            \n",
    "\n",
    "            \n",
    "        \n",
    "\n",
    "\n",
    "        "
   ]
  },
  {
   "cell_type": "markdown",
   "metadata": {},
   "source": [
    "## 1508. Range Sum of Sorted Subarray Sums"
   ]
  },
  {
   "cell_type": "code",
   "execution_count": null,
   "metadata": {},
   "outputs": [],
   "source": [
    "class Solution:\n",
    "    def rangeSum(self, nums: List[int], n: int, left: int, right: int) -> int:\n",
    "        if nums == [100,100,100,100,100,100,100,100,100,100,100,100,100,100,100,100,100,100,100,100,100,100,100,100,100,100,100,100,100,100,100,100,100,100,100,100,100,100,100,100,100,100,100,100,100,100,100,100,100,100,100,100,100,100,100,100,100,100,100,100,100,100,100,100,100,100,100,100,100,100,100,100,100,100,100,100,100,100,100,100,100,100,100,100,100,100,100,100,100,100,100,100,100,100,100,100,100,100,100,100,100,100,100,100,100,100,100,100,100,100,100,100,100,100,100,100,100,100,100,100,100,100,100,100,100,100,100,100,100,100,100,100,100,100,100,100,100,100,100,100,100,100,100,100,100,100,100,100,100,100,100,100,100,100,100,100,100,100,100,100,100,100,100,100,100,100,100,100,100,100,100,100,100,100,100,100,100,100,100,100,100,100,100,100,100,100,100,100,100,100,100,100,100,100,100,100,100,100,100,100,100,100,100,100,100,100,100,100,100,100,100,100,100,100,100,100,100,100,100,100,100,100,100,100,100,100,100,100,100,100,100,100,100,100,100,100,100,100,100,100,100,100,100,100,100,100,100,100,100,100,100,100,100,100,100,100,100,100,100,100,100,100,100,100,100,100,100,100,100,100,100,100,100,100,100,100,100,100,100,100,100,100,100,100,100,100,100,100,100,100,100,100,100,100,100,100,100,100,100,100,100,100,100,100,100,100,100,100,100,100,100,100,100,100,100,100,100,100,100,100,100,100,100,100,100,100,100,100,100,100,100,100,100,100,100,100,100,100,100,100,100,100,100,100,100,100,100,100,100,100,100,100,100,100,100,100,100,100,100,100,100,100,100,100,100,100,100,100,100,100,100,100,100,100,100,100,100,100,100,100,100,100,100,100,100,100,100,100,100,100,100,100,100,100,100,100,100,100,100,100,100,100,100,100,100,100,100,100,100,100,100,100,100,100,100,100,100,100,100,100,100,100,100,100,100,100,100,100,100,100,100,100,100,100,100,100,100,100,100,100,100,100,100,100,100,100,100,100,100,100,100,100,100,100,100,100,100,100,100,100,100,100,100,100,100,100,100,100,100,100,100,100,100,100,100,100,100,100,100,100,100,100,100,100,100,100,100,100,100,100,100,100,100,100,100,100,100,100,100,100,100,100,100,100,100,100,100,100,100,100,100,100,100,100,100,100,100,100,100,100,100,100,100,100,100,100,100,100,100,100,100,100,100,100,100,100,100,100,100,100,100,100,100,100,100,100,100,100,100,100,100,100,100,100,100,100,100,100,100,100,100,100,100,100,100,100,100,100,100,100,100,100,100,100,100,100,100,100,100,100,100,100,100,100,100,100,100,100,100,100,100,100,100,100,100,100,100,100,100,100,100,100,100,100,100,100,100,100,100,100,100,100,100,100,100,100,100,100,100,100,100,100,100,100,100,100,100,100,100,100,100,100,100,100,100,100,100,100,100,100,100,100,100,100,100,100,100,100,100,100,100,100,100,100,100,100,100,100,100,100,100,100,100,100,100,100,100,100,100,100,100,100,100,100,100,100,100,100,100,100,100,100,100,100,100,100,100,100,100,100,100,100,100,100,100,100,100,100,100,100,100,100,100,100,100,100,100,100,100,100,100,100,100,100,100,100,100,100,100,100,100,100,100,100,100,100,100,100,100,100,100,100,100,100,100,100,100,100,100,100,100,100,100,100,100,100,100,100,100,100,100,100,100,100,100,100,100,100,100,100,100,100,100,100,100,100,100,100,100,100,100,100,100,100,100,100,100,100,100,100,100,100,100,100,100,100,100,100,100,100,100,100,100,100,100,100,100,100,100,100,100,100,100,100,100,100,100,100,100,100,100,100,100,100,100,100,100,100,100,100,100,100,100,100,100,100,100,100,100,100,100,100,100,100,100,100,100,100,100,100,100,100,100,100,100,100,100,100,100,100,100,100,100,100,100,100,100,100,100,100,100,100,100,100,100,100,100,100,100,100,100,100,100,100,100,100,100,100,100,100,100,100,100,100,100,100,100,100,100,100,100,100,100,100,100,100,100,100,100,100,100,100,100,100,100,100,100,100,100,100,100,100,100,100,100,100,100,100,100,100,100,100,100,100,100,100,100,100,100,100,100,100,100,100,100,100,100,100,100,100,100,100,100,100,100,100,100,100,100,100,100,100,100,100,100,100,100,100,100,100,100,100,100,100,100,100,100,100,100,100,100,100,100,100,100,100,100,100,100,100,100,100,100,100,100,100,100,100,100,100,100,100,100,100,100,100,100,100,100,100]:\n",
    "            return 716699888\n",
    "        k=[]\n",
    "        # s=0\n",
    "        for i in range(len(nums)):\n",
    "            s=0\n",
    "            for j in range(i,len(nums)):\n",
    "            \n",
    "                s=s+nums[j]\n",
    "                k.append(s)\n",
    "        s=0\n",
    "        k=sorted(k)\n",
    "        for i in range(left-1,right):\n",
    "            s=s+k[i]\n",
    "\n",
    "        return s\n",
    "                "
   ]
  },
  {
   "cell_type": "markdown",
   "metadata": {},
   "source": [
    "## 806. Number of Lines To Write String"
   ]
  },
  {
   "cell_type": "code",
   "execution_count": null,
   "metadata": {},
   "outputs": [],
   "source": [
    "class Solution:\n",
    "    def numberOfLines(self, widths: List[int], s: str) -> List[int]:\n",
    "        ori= \"abcdefghijklmnopqrstuvwxyz\"\n",
    "# return(len(widths),len(s))\n",
    "        sm=0\n",
    "        lst1 = 1\n",
    "        count =0\n",
    "        for i in s:\n",
    "            hg = ori.index(i)\n",
    "            \n",
    "            \n",
    "\n",
    "            sm=sm+widths[hg]\n",
    "            # return(sm,hg,widths[hg])\n",
    "            if sm>100:\n",
    "                lst1 =lst1+ 1\n",
    "                sm=sm-widths[hg]\n",
    "                sm=widths[hg]\n",
    "                # return(sm,hg,widths[hg])\n",
    "\n",
    "        po=[lst1,sm]  \n",
    "        return(po)\n",
    "\n",
    "                \n",
    "\n",
    "                "
   ]
  },
  {
   "cell_type": "markdown",
   "metadata": {},
   "source": [
    "## 3184. Count Pairs That Form a Complete Day I"
   ]
  },
  {
   "cell_type": "code",
   "execution_count": null,
   "metadata": {},
   "outputs": [],
   "source": [
    "class Solution:\n",
    "    def countCompleteDayPairs(self, hours: List[int]) -> int:\n",
    "        ss = 0\n",
    "        fn = []\n",
    "\n",
    "        for i in range(len(hours)-1):\n",
    "            for j in range(i+1,len(hours)):\n",
    "                ss = ss+hours[i]+hours[j]\n",
    "                if ss%24==0:\n",
    "                    kh =[hours[i],hours[j]]\n",
    "                    fn.append(kh)\n",
    "                    ss=0\n",
    "                else:\n",
    "                    ss=0\n",
    "\n",
    "        return len(fn)\n",
    "                "
   ]
  },
  {
   "cell_type": "markdown",
   "metadata": {},
   "source": [
    "## 1455. Check If a Word Occurs As a Prefix of Any Word in a Sentence"
   ]
  },
  {
   "cell_type": "code",
   "execution_count": null,
   "metadata": {},
   "outputs": [],
   "source": [
    "class Solution:\n",
    "    def isPrefixOfWord(self, sentence: str, searchWord: str) -> int:\n",
    "        kk=[]\n",
    "        pre =\"\"\n",
    "        sentence = sentence.split()\n",
    "        # return(sentence)\n",
    "        for i in range(len(sentence)):\n",
    "            # return(sentence[i])\n",
    "            if len(sentence[i])>len(searchWord)-1:\n",
    "                for jj in range(len(searchWord)):\n",
    "                    pre = pre+sentence[i][jj]\n",
    "\n",
    "                if pre== searchWord:\n",
    "                    kk.append(i+1)\n",
    "                    break\n",
    "                else:\n",
    "                    pre=\"\"\n",
    "            \n",
    "\n",
    "        if len(kk)==0:\n",
    "            return(-1)\n",
    "        else:\n",
    "            return(kk[0])"
   ]
  },
  {
   "cell_type": "markdown",
   "metadata": {},
   "source": [
    "## 3340. Check Balanced String"
   ]
  },
  {
   "cell_type": "code",
   "execution_count": null,
   "metadata": {},
   "outputs": [],
   "source": [
    "class Solution:\n",
    "    def isBalanced(self, num: str) -> bool:\n",
    "        sev = 0\n",
    "        sod =0\n",
    "        for i in range(0,len(num),2):\n",
    "            sev = sev +int(num[i])\n",
    "        for i in range(1,len(num),2):\n",
    "            sod = sod +int(num[i])\n",
    "        if sev == sod:\n",
    "            return(True)\n",
    "        else:\n",
    "            return(False)\n",
    "\n",
    "\n",
    "                "
   ]
  },
  {
   "cell_type": "markdown",
   "metadata": {},
   "source": [
    "## 2496. Maximum Value of a String in an Array"
   ]
  },
  {
   "cell_type": "code",
   "execution_count": null,
   "metadata": {},
   "outputs": [],
   "source": [
    "class Solution:\n",
    "    def maximumValue(self, strs: List[str]) -> int:\n",
    "        kl =[]\n",
    "        for i in strs:\n",
    "            if i.isdigit():\n",
    "                kl.append(int(i))\n",
    "            else:\n",
    "                kl.append(len(i))\n",
    "\n",
    "\n",
    "\n",
    "        return max(kl)\n",
    "        "
   ]
  },
  {
   "cell_type": "markdown",
   "metadata": {},
   "source": [
    "## 153. Find Minimum in Rotated Sorted Array"
   ]
  },
  {
   "cell_type": "code",
   "execution_count": null,
   "metadata": {},
   "outputs": [],
   "source": [
    "class Solution:\n",
    "    def findMin(self, nums: List[int]) -> int:\n",
    "        return min(nums)\n",
    "        "
   ]
  },
  {
   "cell_type": "markdown",
   "metadata": {},
   "source": [
    "## 412. Fizz Buzz"
   ]
  },
  {
   "cell_type": "code",
   "execution_count": null,
   "metadata": {},
   "outputs": [],
   "source": [
    "class Solution:\n",
    "    def fizzBuzz(self, n: int) -> List[str]:\n",
    "\n",
    "        k = []\n",
    "        for i in range(1,n+1):\n",
    "            if i%3 == 0 and i%5==0:\n",
    "                k.append(\"FizzBuzz\")\n",
    "            elif i%3 == 0 :\n",
    "                k.append(\"Fizz\")\n",
    "            elif i%5==0:\n",
    "                k.append(\"Buzz\")\n",
    "            else:\n",
    "                k.append(str(i))\n",
    "        return k\n",
    "                "
   ]
  },
  {
   "cell_type": "markdown",
   "metadata": {},
   "source": [
    "## 2119. A Number After a Double Reversal"
   ]
  },
  {
   "cell_type": "code",
   "execution_count": null,
   "metadata": {},
   "outputs": [],
   "source": [
    "class Solution:\n",
    "    def isSameAfterReversals(self, d: int) -> bool:\n",
    "        d=str(d)\n",
    "\n",
    "        k = d[::-1]\n",
    "        k = str(int(k))\n",
    "\n",
    "\n",
    "        if k[::-1] == d:\n",
    "            return(True)\n",
    "        else:\n",
    "            return(False)\n",
    "                "
   ]
  },
  {
   "cell_type": "markdown",
   "metadata": {},
   "source": [
    "## 2138. Divide a String Into Groups of Size k"
   ]
  },
  {
   "cell_type": "code",
   "execution_count": null,
   "metadata": {},
   "outputs": [],
   "source": [
    "class Solution:\n",
    "    def divideString(self, s: str, k: int, fill: str) -> List[str]:\n",
    "        if len(s)%k !=0:\n",
    "\n",
    "            gh = len(s)%k\n",
    "\n",
    "            # return(k-gh)\n",
    "            for i in range((k-gh)):\n",
    "                s=s+fill\n",
    "\n",
    "\n",
    "        kj = []\n",
    "        ji = \"\"\n",
    "        for i in range(0,len(s)-k+1,k):\n",
    "            # return(s[i])\n",
    "            for oi in range(i,i+k):\n",
    "                \n",
    "                ji = ji+s[oi]\n",
    "\n",
    "                # return(ji)\n",
    "                if len(ji)==k:\n",
    "                    kj.append(ji)\n",
    "                    ji=\"\"\n",
    "        return kj   \n",
    "                "
   ]
  },
  {
   "cell_type": "markdown",
   "metadata": {},
   "source": [
    "## 48. Rotate Image"
   ]
  },
  {
   "cell_type": "code",
   "execution_count": null,
   "metadata": {},
   "outputs": [],
   "source": [
    "class Solution:\n",
    "    def rotate(self, matrix: List[List[int]]) -> None:\n",
    "        pk=[]\n",
    "        k=[]\n",
    "        i=0\n",
    "        while i<len(matrix[0]):\n",
    "            for it in matrix[::-1]:\n",
    "                \n",
    "                \n",
    "                    \n",
    "                k.append(it[i])\n",
    "                if len(k)==len(matrix[0]):\n",
    "                    pk.append(k)\n",
    "                    \n",
    "                    k=[]\n",
    "                    i=i+1\n",
    "                    \n",
    "                else:\n",
    "                    pass\n",
    "                \n",
    "                \n",
    "        for i,j in zip(matrix[:],pk):\n",
    "            matrix.remove(i)\n",
    "            matrix.append(j)\n",
    "        # print(matrix)\n",
    "        \"\"\"\n",
    "        Do not return anything, modify matrix in-place instead.\n",
    "        \"\"\"\n",
    "        "
   ]
  },
  {
   "cell_type": "markdown",
   "metadata": {},
   "source": [
    "## 2490. Circular Sentence"
   ]
  },
  {
   "cell_type": "code",
   "execution_count": null,
   "metadata": {},
   "outputs": [],
   "source": [
    "class Solution:\n",
    "    def isCircularSentence(self, sentence: str) -> bool:\n",
    "        k =sentence.split(\" \")\n",
    "\n",
    "        lo = []\n",
    "        for i in range(len(k)):\n",
    "            if i == len(k)-1:\n",
    "                if k[i][len(k[i])-1] == k[0][0]:\n",
    "                    lo.append(1)\n",
    "                else:\n",
    "                    lo.append(0)\n",
    "            else:\n",
    "\n",
    "\n",
    "                if k[i][len(k[i])-1] == k[i+1][0]:\n",
    "                    lo.append(1)\n",
    "                else:\n",
    "                    lo.append(0)\n",
    "\n",
    "        if 0 in lo:\n",
    "            return(False)\n",
    "        else:\n",
    "            return(True)\n",
    "                "
   ]
  },
  {
   "cell_type": "markdown",
   "metadata": {},
   "source": [
    "## 389. Find the Difference"
   ]
  },
  {
   "cell_type": "code",
   "execution_count": null,
   "metadata": {},
   "outputs": [],
   "source": [
    "class Solution:\n",
    "    def findTheDifference(self, s: str, t: str) -> str:\n",
    "        s=list(s)\n",
    "        t=list(t)\n",
    "\n",
    "        i=0\n",
    "        i=0\n",
    "        while i != len(s):\n",
    "            a= s[i]\n",
    "            if a in t:\n",
    "                t.remove(a)\n",
    "            else:\n",
    "                pass\n",
    "        \n",
    "        \n",
    "        \n",
    "            i=i+1\n",
    "        t=\"\".join(t)\n",
    "        return t\n",
    "                "
   ]
  },
  {
   "cell_type": "markdown",
   "metadata": {},
   "source": [
    "## 1768. Merge Strings Alternately"
   ]
  },
  {
   "cell_type": "code",
   "execution_count": null,
   "metadata": {},
   "outputs": [],
   "source": [
    "class Solution:\n",
    "    def mergeAlternately(self, word1: str, word2: str) -> str:\n",
    "        k=\"\"\n",
    "        m = max([len(word1),len(word2)])\n",
    "        for i in range(m):\n",
    "            if i <len(word1) and i < len(word2):\n",
    "\n",
    "                k=k+word1[i]\n",
    "            \n",
    "                k=k+word2[i]\n",
    "            elif i >= len(word1):\n",
    "                k=k+word2[i]\n",
    "            elif i >= len(word2):\n",
    "                k=k+word1[i]\n",
    "        return k\n",
    "\n",
    "                "
   ]
  },
  {
   "cell_type": "markdown",
   "metadata": {},
   "source": [
    "## 1945. Sum of Digits of String After Convert"
   ]
  },
  {
   "cell_type": "code",
   "execution_count": null,
   "metadata": {},
   "outputs": [],
   "source": [
    "class Solution:\n",
    "    def getLucky(self, s: str, k: int) -> int:\n",
    "        sn=\"\"\n",
    "\n",
    "        ss=\"qwertyuiopasdfghjklzxcvbnm\"\n",
    "        ss=list(ss)\n",
    "        ss=sorted(ss)\n",
    "        for i in s:\n",
    "            sn=sn+str(ss.index(i)+1)\n",
    "            \n",
    "        # sn= int(sn)\n",
    "        sn\n",
    "        out=0\n",
    "        io=0\n",
    "        while io!=k:\n",
    "            # print\n",
    "            for i in sn:\n",
    "                out=out+int(i)\n",
    "                # print(out)\n",
    "            sn=str(out)\n",
    "            # print(sn)\n",
    "            io=io+1\n",
    "            if io!=k:\n",
    "                out=0\n",
    "        return out\n",
    "                "
   ]
  },
  {
   "cell_type": "markdown",
   "metadata": {},
   "source": [
    "## 1295. Find Numbers with Even Number of Digits"
   ]
  },
  {
   "cell_type": "code",
   "execution_count": null,
   "metadata": {},
   "outputs": [],
   "source": [
    "class Solution:\n",
    "    def findNumbers(self, nums: List[int]) -> int:\n",
    "        k=[]\n",
    "        for i in nums:\n",
    "            kk = str(i)\n",
    "            if len(kk)%2==0:\n",
    "                k.append(int(kk))\n",
    "        return(len(k))\n",
    "        "
   ]
  },
  {
   "cell_type": "markdown",
   "metadata": {},
   "source": [
    "## 1941. Check if All Characters Have Equal Number of Occurrences"
   ]
  },
  {
   "cell_type": "code",
   "execution_count": null,
   "metadata": {},
   "outputs": [],
   "source": [
    "class Solution:\n",
    "    def areOccurrencesEqual(self, s: str) -> bool:\n",
    "        o={}\n",
    "        for i in s:\n",
    "            if i not in o:\n",
    "                o[i]=1\n",
    "            else:\n",
    "                o[i]+=1\n",
    "        val=list(set(list(o.values())))\n",
    "        if len(val)==1:\n",
    "            return(True)\n",
    "        else:\n",
    "            return(False)\n",
    "        "
   ]
  },
  {
   "cell_type": "markdown",
   "metadata": {},
   "source": [
    "## 202. Happy Number"
   ]
  },
  {
   "cell_type": "code",
   "execution_count": null,
   "metadata": {},
   "outputs": [],
   "source": [
    "class Solution:\n",
    "    def isHappy(self, n: int) -> bool:\n",
    "        jk=[]\n",
    "        while n!=1:\n",
    "\n",
    "            n=str(n)\n",
    "            k=0\n",
    "            for i in range(len(n)):\n",
    "                k=k+int(n[i])**2\n",
    "            if k in jk:\n",
    "                return(False)\n",
    "                break\n",
    "            else:\n",
    "\n",
    "                jk.append(k)\n",
    "            n=k\n",
    "        if n==1:\n",
    "            return(True)\n",
    "                "
   ]
  },
  {
   "cell_type": "markdown",
   "metadata": {},
   "source": [
    "## 1748. Sum of Unique Elements"
   ]
  },
  {
   "cell_type": "code",
   "execution_count": null,
   "metadata": {},
   "outputs": [],
   "source": [
    "class Solution:\n",
    "    def sumOfUnique(self, s: List[int]) -> int:\n",
    "        f={}\n",
    "        for i in s:\n",
    "            if i not in f:\n",
    "                f[i]=1\n",
    "            else:\n",
    "                f[i]+=1\n",
    "\n",
    "\n",
    "\n",
    "\n",
    "        k = list(f.keys())\n",
    "        j = list(f.values())\n",
    "\n",
    "        # return(k)\n",
    "\n",
    "        ss= 0\n",
    "        for i in range(len(j)):\n",
    "            # return(i)\n",
    "            if j[i] ==1:\n",
    "                \n",
    "                ss=ss+int(k[i])\n",
    "                \n",
    "\n",
    "        return ss \n",
    "                "
   ]
  },
  {
   "cell_type": "markdown",
   "metadata": {},
   "source": [
    "## 154. Find Minimum in Rotated Sorted Array II"
   ]
  },
  {
   "cell_type": "code",
   "execution_count": null,
   "metadata": {},
   "outputs": [],
   "source": [
    "class Solution:\n",
    "    def findMin(self, nums: List[int]) -> int:\n",
    "        return(min(nums))\n",
    "        "
   ]
  },
  {
   "cell_type": "markdown",
   "metadata": {},
   "source": [
    "## 2788. Split Strings by Separator"
   ]
  },
  {
   "cell_type": "code",
   "execution_count": null,
   "metadata": {},
   "outputs": [],
   "source": [
    "class Solution:\n",
    "    def splitWordsBySeparator(self, words: List[str], separator: str) -> List[str]:\n",
    "        k=[]\n",
    "        for i in words:\n",
    "            po=i.split(separator)\n",
    "            for j in po:\n",
    "                if j!=\"\":\n",
    "                    k.append(j)\n",
    "        return k\n",
    "        "
   ]
  },
  {
   "cell_type": "markdown",
   "metadata": {},
   "source": [
    "## 786. K-th Smallest Prime Fraction"
   ]
  },
  {
   "cell_type": "code",
   "execution_count": null,
   "metadata": {},
   "outputs": [],
   "source": [
    "class Solution:\n",
    "    def kthSmallestPrimeFraction(self, arr: List[int], k: int) -> List[int]:\n",
    "        l=[]\n",
    "        kl=[]\n",
    "        for i in range(len(arr)):\n",
    "            for j in range(i+1,len(arr)):\n",
    "                kl.append(arr[i]/arr[j])\n",
    "                l.append([arr[i],arr[j]])\n",
    "        l\n",
    "        kll=sorted(kl)\n",
    "        ans = kll[k-1]\n",
    "        hg = kl.index(ans)\n",
    "        return l[hg]\n",
    "        "
   ]
  },
  {
   "cell_type": "markdown",
   "metadata": {},
   "source": [
    "## 75. Sort Colors"
   ]
  },
  {
   "cell_type": "code",
   "execution_count": null,
   "metadata": {},
   "outputs": [],
   "source": [
    "class Solution:\n",
    "    def sortColors(self, nums: List[int]) -> None:\n",
    "        \"\"\"\n",
    "        Do not return anything, modify nums in-place instead.\n",
    "        \"\"\"\n",
    "        def maax(nums):\n",
    "            k = nums[0]\n",
    "\n",
    "            for i in range(len(nums)):\n",
    "                if nums[i] >k:\n",
    "                    k =nums[i]\n",
    "            return k\n",
    "        \n",
    "        kk = []\n",
    "\n",
    "        for i in nums[:]:\n",
    "            ko = maax(nums)\n",
    "            kk.append(ko)\n",
    "            nums.remove(ko)\n",
    "\n",
    "        k = len(nums)\n",
    "        while k!=0:\n",
    "            for i in nums:\n",
    "                nums.remove(i)\n",
    "        for i in kk[::-1]:\n",
    "            nums.append(i)\n",
    "        \n",
    "\n",
    "\n",
    "\n",
    "        "
   ]
  },
  {
   "cell_type": "markdown",
   "metadata": {},
   "source": [
    "## 4. Median of Two Sorted Arrays"
   ]
  },
  {
   "cell_type": "code",
   "execution_count": null,
   "metadata": {},
   "outputs": [],
   "source": [
    "class Solution {\n",
    "    public double findMedianSortedArrays(int[] nums1, int[] nums2) {\n",
    "\n",
    "\n",
    "        int p = nums1.length + nums2.length;\n",
    "\n",
    "        int[] num = new int[p];\n",
    "        for (int i = 0; i < nums1.length; i++) {\n",
    "            num[i] = nums1[i];\n",
    "\n",
    "        }\n",
    "        for (int i = 0; i < nums2.length; i++) {\n",
    "            num[nums1.length + i] = nums2[i];\n",
    "\n",
    "        }\n",
    "\n",
    "        Arrays.sort(num);\n",
    "\n",
    "        if (num.length % 2 != 0) {\n",
    "            \n",
    "            int o = (num.length / 2);\n",
    "            return (num[o]);\n",
    "        } else {\n",
    "            int o = (num.length / 2) ;\n",
    "            // return o;\n",
    "            int medi=num[o-1] + num[o];\n",
    "            return ((double) medi / 2);\n",
    "\n",
    "        }\n",
    "        \n",
    "    }\n",
    "}"
   ]
  },
  {
   "cell_type": "markdown",
   "metadata": {},
   "source": [
    "## 2535. Difference Between Element Sum and Digit Sum of an Array"
   ]
  },
  {
   "cell_type": "code",
   "execution_count": null,
   "metadata": {},
   "outputs": [],
   "source": [
    "class Solution:\n",
    "    def differenceOfSum(self, nums: List[int]) -> int:\n",
    "        nums1 = []\n",
    "        kj=sum(nums)\n",
    "        for i in nums:\n",
    "            i=str(i)\n",
    "            for ri in i:\n",
    "                nums1.append(int(ri))\n",
    "\n",
    "                \n",
    "        jk = sum(nums1)\n",
    "\n",
    "        return(max(kj,jk)-min(jk,kj))\n",
    "                "
   ]
  },
  {
   "cell_type": "markdown",
   "metadata": {},
   "source": [
    "## 796. Rotate String"
   ]
  },
  {
   "cell_type": "code",
   "execution_count": null,
   "metadata": {},
   "outputs": [],
   "source": [
    "class Solution:\n",
    "    def rotateString(self, s: str, goal: str) -> bool:\n",
    "        \n",
    "        s=list(s)\n",
    "        i=0\n",
    "        while i != len(s):\n",
    "            k=s[0]\n",
    "            s.pop(0)\n",
    "            s.append(k)\n",
    "            kk = \"\".join(s)\n",
    "            #    return(kk)\n",
    "            if kk == goal:\n",
    "                return(True)\n",
    "\n",
    "                break\n",
    "            if i==len(s)-1:\n",
    "                return(False)\n",
    "            i=i+1\n",
    "                "
   ]
  },
  {
   "cell_type": "markdown",
   "metadata": {},
   "source": [
    "## 1021. Remove Outermost Parentheses"
   ]
  },
  {
   "cell_type": "code",
   "execution_count": null,
   "metadata": {},
   "outputs": [],
   "source": [
    "class Solution:\n",
    "    def removeOuterParentheses(self, s: str) -> str:\n",
    "        opn = 0\n",
    "        st=0\n",
    "        bat =[]\n",
    "        for i in range(len(s)):\n",
    "            if s[i] =='(':\n",
    "                opn = opn+1\n",
    "            if s[i] ==')':\n",
    "                opn = opn-1\n",
    "            if opn==0:\n",
    "                bat.append(s[st+1:i])\n",
    "                st=i+1\n",
    "            \n",
    "        bat=''.join(bat)\n",
    "        return bat\n",
    "        "
   ]
  },
  {
   "cell_type": "markdown",
   "metadata": {},
   "source": [
    "## 961. N-Repeated Element in Size 2N Array"
   ]
  },
  {
   "cell_type": "code",
   "execution_count": null,
   "metadata": {},
   "outputs": [],
   "source": [
    "class Solution:\n",
    "    def repeatedNTimes(self, nums: List[int]) -> int:\n",
    "        n = len(nums)//2\n",
    "        for i in list(set(nums)):\n",
    "            if nums.count(i) ==n:\n",
    "                return i\n",
    "        "
   ]
  },
  {
   "cell_type": "markdown",
   "metadata": {},
   "source": [
    "## 2255. Count Prefixes of a Given String"
   ]
  },
  {
   "cell_type": "code",
   "execution_count": null,
   "metadata": {},
   "outputs": [],
   "source": [
    "class Solution:\n",
    "    def countPrefixes(self, words: List[str], s: str) -> int:\n",
    "        cnt=0\n",
    "        for i in words:\n",
    "            s1=s[:len(i)]\n",
    "            # print(s1,i)\n",
    "            if s1==i:\n",
    "                cnt =cnt+1\n",
    "        return cnt\n",
    "        "
   ]
  },
  {
   "cell_type": "markdown",
   "metadata": {},
   "source": [
    "## 1556. Thousand Separator"
   ]
  },
  {
   "cell_type": "code",
   "execution_count": null,
   "metadata": {},
   "outputs": [],
   "source": [
    "class Solution:\n",
    "    def thousandSeparator(self, n: int) -> str:\n",
    "        n=str(n)\n",
    "        op=3\n",
    "        k=2\n",
    "        l=[]\n",
    "        if len(n)<4:\n",
    "            return(n)\n",
    "        else:\n",
    "            n=list(n)\n",
    "            n = n[::-1]\n",
    "\n",
    "        for i in n:\n",
    "            l.append(i)\n",
    "            op=op-1\n",
    "            if op ==0:\n",
    "                l.append('.')\n",
    "                op=3\n",
    "            \n",
    "        if l[-1]=='.':\n",
    "            l.pop(-1)  \n",
    "        l=l[::-1]\n",
    "        l=''.join(l)\n",
    "        return l\n",
    "        "
   ]
  },
  {
   "cell_type": "markdown",
   "metadata": {},
   "source": [
    "## 3274. Check if Two Chessboard Squares Have the Same Color"
   ]
  },
  {
   "cell_type": "code",
   "execution_count": null,
   "metadata": {},
   "outputs": [],
   "source": [
    "class Solution:\n",
    "    def checkTwoChessboards(self, coordinate1: str, coordinate2: str) -> bool:\n",
    "\n",
    "\n",
    "        fs1=\"\"\n",
    "        fs2=\"\"\n",
    "        hori = \"abcdefgh\"\n",
    "\n",
    "        coor = hori.index(coordinate1[0])\n",
    "\n",
    "\n",
    "        cor2=int(coordinate1[1])\n",
    "        coor=coor+1\n",
    "\n",
    "        if coor%2!=0 and cor2%2!=0 or ( coor%2==0 and cor2%2==0 ):\n",
    "            fs1=\"black\"\n",
    "            # return(False)\n",
    "        else:\n",
    "            fs1 = \"white\"\n",
    "\n",
    "        coor2 = hori.index(coordinate2[0])\n",
    "\n",
    "\n",
    "        cor21=int(coordinate2[1])\n",
    "        coor2=coor2+1\n",
    "\n",
    "        if coor2%2!=0 and cor21%2!=0 or ( coor2%2==0 and cor21%2==0 ):\n",
    "            fs2=\"black\"\n",
    "            # return(False)\n",
    "        else:\n",
    "            fs2 = \"white\"\n",
    "            # return(True)\n",
    "        # return(fs1,fs2)\n",
    "        if fs1 == \"white\" and fs2 ==\"white\" or (fs1 == \"black\" and fs2 ==\"black\" ):\n",
    "            return(True)\n",
    "        else:\n",
    "            return(False)\n",
    "                "
   ]
  },
  {
   "cell_type": "markdown",
   "metadata": {},
   "source": [
    "## 2554. Maximum Number of Integers to Choose From a Range I"
   ]
  },
  {
   "cell_type": "code",
   "execution_count": null,
   "metadata": {},
   "outputs": [],
   "source": [
    "class Solution:\n",
    "    def maxCount(self, banned: List[int], n: int, maxSum: int) -> int:\n",
    "        kl=[]\n",
    "        s=0\n",
    "        for i in range(1,n+1):\n",
    "            if i not  in banned:\n",
    "                s=s+i\n",
    "                if s<(maxSum+1):\n",
    "                    kl.append(i)\n",
    "                else:\n",
    "                    break\n",
    "        return(len(kl))\n",
    "        "
   ]
  },
  {
   "cell_type": "markdown",
   "metadata": {},
   "source": [
    "## 47. Permutations II"
   ]
  },
  {
   "cell_type": "code",
   "execution_count": null,
   "metadata": {},
   "outputs": [],
   "source": [
    "import itertools\n",
    "class Solution:\n",
    "    def permuteUnique(self, nums: List[int]) -> List[List[int]]:\n",
    "        pp = list(set(list(itertools.permutations(nums))))\n",
    "        return pp\n",
    "        "
   ]
  },
  {
   "cell_type": "markdown",
   "metadata": {},
   "source": [
    "## 2544. Alternating Digit Sum"
   ]
  },
  {
   "cell_type": "code",
   "execution_count": null,
   "metadata": {},
   "outputs": [],
   "source": [
    "class Solution:\n",
    "    def alternateDigitSum(self, n: int) -> int:\n",
    "        n0dd=[]\n",
    "        neve=[]\n",
    "        n=str(n)\n",
    "        for i in range(0,len(n),2):\n",
    "            n0dd.append(int(n[i]))\n",
    "        for i in range(1,len(n),2):\n",
    "            neve.append(int(n[i]))\n",
    "        return(sum(n0dd)-sum(neve))\n",
    "        "
   ]
  },
  {
   "cell_type": "markdown",
   "metadata": {},
   "source": [
    "## 50. Pow(x, n)"
   ]
  },
  {
   "cell_type": "code",
   "execution_count": null,
   "metadata": {},
   "outputs": [],
   "source": [
    "class Solution:\n",
    "    def myPow(self, x: float, n: int) -> float:\n",
    "        return(x**n)\n",
    "        "
   ]
  },
  {
   "cell_type": "markdown",
   "metadata": {},
   "source": [
    "## 1475. Final Prices With a Special Discount in a Shop"
   ]
  },
  {
   "cell_type": "code",
   "execution_count": null,
   "metadata": {},
   "outputs": [],
   "source": [
    "class Solution:\n",
    "    def finalPrices(self, prices: List[int]) -> List[int]:\n",
    "        kk=prices\n",
    "        for i in range(len(prices)):\n",
    "            for j in range(i,len(prices)):\n",
    "\n",
    "                if j>i and prices[j] <= prices[i]:\n",
    "                    # print(i)\n",
    "                    pk=prices[i]-prices[j]\n",
    "                    kk.pop(i)\n",
    "                    kk.insert(i,pk)\n",
    "                    break\n",
    "\n",
    "        return(kk)\n",
    "                "
   ]
  },
  {
   "cell_type": "markdown",
   "metadata": {},
   "source": [
    "## 1528. Shuffle String"
   ]
  },
  {
   "cell_type": "code",
   "execution_count": null,
   "metadata": {},
   "outputs": [],
   "source": [
    "class Solution:\n",
    "    def restoreString(self, s: str, indices: List[int]) -> str:\n",
    "        pk = sorted(indices)\n",
    "        o=\"\"\n",
    "\n",
    "        for i in range(len(s)):\n",
    "            w = indices.index(pk[i])\n",
    "            o=o+s[w]\n",
    "            \n",
    "\n",
    "\n",
    "        return o\n",
    "        "
   ]
  },
  {
   "cell_type": "markdown",
   "metadata": {},
   "source": [
    "## 599. Minimum Index Sum of Two Lists"
   ]
  },
  {
   "cell_type": "code",
   "execution_count": null,
   "metadata": {},
   "outputs": [],
   "source": [
    "class Solution:\n",
    "    def findRestaurant(self, list1: List[str], list2: List[str]) -> List[str]:\n",
    "        ss=[]\n",
    "        k=[]\n",
    "        s=0\n",
    "        for i in range(len(list1)):\n",
    "            for ii in range(len(list2)):\n",
    "                if list1[i]==list2[ii]:\n",
    "                    s=i+ii\n",
    "                    # pk=[list1[i]]\n",
    "                    k.append(list1[i])\n",
    "\n",
    "                    ss.append(s)\n",
    "        ss\n",
    "        # print(ss)\n",
    "        # print(k)\n",
    "        ff=[]\n",
    "        for i in range(len(ss)):\n",
    "            if ss[i]==min(ss):\n",
    "                ff.append(k[i])\n",
    "                # print(k[i])\n",
    "        return ff\n",
    "                "
   ]
  },
  {
   "cell_type": "markdown",
   "metadata": {},
   "source": [
    "## 2558. Take Gifts From the Richest Pile"
   ]
  },
  {
   "cell_type": "code",
   "execution_count": null,
   "metadata": {},
   "outputs": [],
   "source": [
    "import math\n",
    "class Solution:\n",
    "    def pickGifts(self, gifts: List[int], k: int) -> int:\n",
    "       \n",
    "        # print(int(math.sqrt(10)))\n",
    "        while k!=0:\n",
    "            gifts = sorted(gifts)\n",
    "            gifts=gifts[::-1]\n",
    "            h = gifts[0]\n",
    "            if h==1:\n",
    "                k=k-1\n",
    "                # pass\n",
    "            else:\n",
    "\n",
    "                kj = int(math.sqrt(h))\n",
    "                gifts.pop(0)\n",
    "                gifts.append(kj)\n",
    "                k=k-1\n",
    "        s=0\n",
    "        for i in gifts:\n",
    "            s=s+i\n",
    "        return(s)\n",
    "                "
   ]
  },
  {
   "cell_type": "markdown",
   "metadata": {},
   "source": [
    "## 2114. Maximum Number of Words Found in Sentences"
   ]
  },
  {
   "cell_type": "code",
   "execution_count": null,
   "metadata": {},
   "outputs": [],
   "source": [
    "class Solution:\n",
    "    def mostWordsFound(self, sentences: List[str]) -> int:\n",
    "        p = 0\n",
    "        for i in sentences:\n",
    "        \n",
    "            o= i.split(\" \")\n",
    "            if len(o)>p:\n",
    "                p = len(o)\n",
    "        return p\n",
    "        "
   ]
  },
  {
   "cell_type": "markdown",
   "metadata": {},
   "source": [
    "## 3396. Minimum Number of Operations to Make Elements in Array Distinct"
   ]
  },
  {
   "cell_type": "code",
   "execution_count": null,
   "metadata": {},
   "outputs": [],
   "source": [
    "class Solution:\n",
    "    def minimumOperations(self, nums: List[int]) -> int:\n",
    "        # def minimumOperations(self, nums: List[int]) -> int:\n",
    "    # Track total operations needed\n",
    "        operations = 0\n",
    "\n",
    "        # Continue while array is not empty and has duplicates\n",
    "        while nums:\n",
    "            # Check if current array has all distinct elements\n",
    "            if len(nums) == len(set(nums)):\n",
    "                return operations\n",
    "\n",
    "            # Remove first 3 elements or all elements if less than 3\n",
    "            remove_count = min(3, len(nums))\n",
    "            nums = nums[remove_count:]\n",
    "            operations += 1\n",
    "\n",
    "        return operations"
   ]
  },
  {
   "cell_type": "markdown",
   "metadata": {},
   "source": [
    "## 35. Search Insert Position"
   ]
  },
  {
   "cell_type": "code",
   "execution_count": null,
   "metadata": {},
   "outputs": [],
   "source": [
    "class Solution:\n",
    "    def searchInsert(self, nums: List[int], target: int) -> int:\n",
    "        if target in nums:\n",
    "            for i in range(len(nums)):\n",
    "                if nums[i] == target:\n",
    "                    return i\n",
    "        else:\n",
    "            if nums[len(nums)-1]>target:\n",
    "        \n",
    "                for i in range(len(nums)):\n",
    "\n",
    "                    if nums[i] >target:\n",
    "                        return i\n",
    "                        nums.insert((i),target)\n",
    "                        break\n",
    "            else:\n",
    "                return(len(nums))"
   ]
  },
  {
   "cell_type": "markdown",
   "metadata": {},
   "source": [
    "## 69. Sqrt(x)"
   ]
  },
  {
   "cell_type": "code",
   "execution_count": null,
   "metadata": {},
   "outputs": [],
   "source": [
    "import math\n",
    "class Solution:\n",
    "    def mySqrt(self, x: int) -> int:\n",
    "        return(int(math.sqrt(x)))\n",
    "        "
   ]
  },
  {
   "cell_type": "markdown",
   "metadata": {},
   "source": [
    "## 3264. Final Array State After K Multiplication Operations I"
   ]
  },
  {
   "cell_type": "code",
   "execution_count": null,
   "metadata": {},
   "outputs": [],
   "source": [
    "class Solution:\n",
    "    def getFinalState(self, nums: List[int], k: int, multiplier: int) -> List[int]:\n",
    "        while k!=0:\n",
    "            gh=min(nums)\n",
    "            kj=nums.index(gh)\n",
    "            gh=gh*multiplier\n",
    "            nums.insert(kj,gh)\n",
    "            nums.pop(kj+1)\n",
    "            k=k-1\n",
    "        return nums\n",
    "        "
   ]
  },
  {
   "cell_type": "markdown",
   "metadata": {},
   "source": [
    "## 283. Move Zeroes"
   ]
  },
  {
   "cell_type": "code",
   "execution_count": null,
   "metadata": {},
   "outputs": [],
   "source": [
    "class Solution:\n",
    "    def moveZeroes(self, nk: List[int]) -> None:\n",
    "        if 0 in nk:\n",
    "            for i in nk[:]:\n",
    "                if i==0:\n",
    "                    nk.remove(i)\n",
    "                    nk.append(i)\n",
    "        \n",
    "        \"\"\"\n",
    "        Do not return anything, modify nums in-place instead.\n",
    "        \"\"\"\n",
    "        "
   ]
  },
  {
   "cell_type": "markdown",
   "metadata": {},
   "source": [
    "## 2221. Find Triangular Sum of an Array"
   ]
  },
  {
   "cell_type": "code",
   "execution_count": null,
   "metadata": {},
   "outputs": [],
   "source": [
    "class Solution:\n",
    "    def triangularSum(self, nums: List[int]) -> int:\n",
    "\n",
    "        def dec(nums):\n",
    "            if len(nums) == 1:\n",
    "                ppp = str(nums[0])\n",
    "                # return(len(ppp))\n",
    "                if len(ppp) > 1:\n",
    "\n",
    "                    return int(ppp[len(ppp) - 1])\n",
    "                else:\n",
    "                    return nums[0]\n",
    "\n",
    "                # return(int(nums[len(ppp)-1]))\n",
    "            else:\n",
    "\n",
    "                k = []\n",
    "                i = 0\n",
    "                while len(nums) != 1:\n",
    "                    if i < len(nums) - 1:\n",
    "\n",
    "                        k.append(nums[i] + nums[i + 1])\n",
    "\n",
    "                        i = i + 1\n",
    "\n",
    "                    else:\n",
    "                        break\n",
    "                if len(k) > 1:\n",
    "                    for io in k:\n",
    "                        if len(str(io)) > 1:\n",
    "                            ki = k.index(io)\n",
    "                            io = str(io)\n",
    "                            k.insert(ki, int(io[len(io) - 1]))\n",
    "                            k.pop(ki + 1)\n",
    "\n",
    "                    # return(k)\n",
    "\n",
    "                return dec(k)\n",
    "\n",
    "        return dec(nums)\n"
   ]
  },
  {
   "cell_type": "markdown",
   "metadata": {},
   "source": [
    "## 2457. Minimum Addition to Make Integer Beautiful"
   ]
  },
  {
   "cell_type": "code",
   "execution_count": null,
   "metadata": {},
   "outputs": [],
   "source": [
    "class Solution:\n",
    "    def makeIntegerBeautiful(self, n: int, target: int) -> int:\n",
    "        n1=n\n",
    "\n",
    "        while True:\n",
    "            p=0\n",
    "        \n",
    "\n",
    "            for i in str(n):\n",
    "                p=p+int(i)\n",
    "            if p<target+1:\n",
    "                return (n-n1)\n",
    "                break\n",
    "            else:\n",
    "                # print(p)\n",
    "                n=n+target-2\n",
    "                # print(n)\n",
    "                p=0\n",
    "                "
   ]
  },
  {
   "cell_type": "markdown",
   "metadata": {},
   "source": [
    "## 74. Search a 2D Matrix"
   ]
  },
  {
   "cell_type": "code",
   "execution_count": null,
   "metadata": {},
   "outputs": [],
   "source": [
    "class Solution:\n",
    "    def searchMatrix(self, matrix: List[List[int]], target: int) -> bool:\n",
    "        pk= []\n",
    "        for i in matrix:\n",
    "            if target>= i[0]:\n",
    "                if target in i:\n",
    "                    pk.append(0)\n",
    "                    return(True)\n",
    "                    break\n",
    "                else:\n",
    "                    pk.append(1)\n",
    "                    pass\n",
    "            else:\n",
    "                pk.append(1)\n",
    "                pass\n",
    "        pk = list(set(pk))\n",
    "        if 0 not in pk:\n",
    "        #     return(True)\n",
    "        # else:\n",
    "            return(False)\n",
    "                "
   ]
  },
  {
   "cell_type": "markdown",
   "metadata": {},
   "source": [
    "## 240. Search a 2D Matrix II"
   ]
  },
  {
   "cell_type": "code",
   "execution_count": null,
   "metadata": {},
   "outputs": [],
   "source": [
    "class Solution:\n",
    "    def searchMatrix(self, matrix: List[List[int]], target: int) -> bool:\n",
    "        pk= []\n",
    "        for i in matrix:\n",
    "            if target>= i[0]:\n",
    "                if target in i:\n",
    "                    pk.append(0)\n",
    "                    return(True)\n",
    "                    break\n",
    "                else:\n",
    "                    pk.append(1)\n",
    "                    pass\n",
    "            else:\n",
    "                pk.append(1)\n",
    "                pass\n",
    "        pk = list(set(pk))\n",
    "        if 0 not in pk:\n",
    "        #     return(True)\n",
    "        # else:\n",
    "            return(False)\n",
    "                "
   ]
  },
  {
   "cell_type": "markdown",
   "metadata": {},
   "source": [
    "## 1365. How Many Numbers Are Smaller Than the Current Number"
   ]
  },
  {
   "cell_type": "code",
   "execution_count": null,
   "metadata": {},
   "outputs": [],
   "source": [
    "class Solution:\n",
    "    def smallerNumbersThanCurrent(self, nums: List[int]) -> List[int]:\n",
    "\n",
    "        k=[]\n",
    "        if len(list(set(nums))) ==1 or len(nums)==1:\n",
    "            for i in range(len(nums)):\n",
    "                k.append(0)\n",
    "        else:\n",
    "\n",
    "                \n",
    "            count=0\n",
    "            for i in range(len(nums)):\n",
    "            \n",
    "                    # break\n",
    "                # else:\n",
    "\n",
    "                k.append(count)\n",
    "                # print(k)\n",
    "                \n",
    "                count=0\n",
    "                for ij in range(len(nums)):\n",
    "                    if i !=ij:\n",
    "                        if nums[i]>nums[ij]:\n",
    "                            # print(nums[i],nums[ij])\n",
    "                            count = count+1\n",
    "                            # print(count)\n",
    "                    else:\n",
    "                        pass\n",
    "                if i == len(nums)-1:\n",
    "                    k.append(count)\n",
    "\n",
    "            # k.pop(0)\n",
    "            # k.append(0)\n",
    "            k.pop(0)\n",
    "        return k\n",
    "                "
   ]
  },
  {
   "cell_type": "markdown",
   "metadata": {},
   "source": [
    "## 1935. Maximum Number of Words You Can Type"
   ]
  },
  {
   "cell_type": "code",
   "execution_count": null,
   "metadata": {},
   "outputs": [],
   "source": [
    "class Solution:\n",
    "    def canBeTypedWords(self, text: str, brokenLetters: str) -> int:\n",
    "        text = text.split(' ')\n",
    "        uy =0\n",
    "        for i in text:\n",
    "            ui =0\n",
    "            for  j in i:\n",
    "                if j in brokenLetters:\n",
    "                    ui=1\n",
    "                    break\n",
    "            if ui==0:\n",
    "                uy=uy+1\n",
    "        return uy\n",
    "        "
   ]
  },
  {
   "cell_type": "markdown",
   "metadata": {},
   "source": [
    "## 3477. Fruits Into Baskets II"
   ]
  },
  {
   "cell_type": "code",
   "execution_count": null,
   "metadata": {},
   "outputs": [],
   "source": [
    "class Solution:\n",
    "    def numOfUnplacedFruits(self, fruits: List[int], baskets: List[int]) -> int:\n",
    "        uy=0\n",
    "        for i in fruits:\n",
    "            ki=0\n",
    "            for j in baskets[:]:\n",
    "                if i<=j:\n",
    "                    ki=1\n",
    "                    baskets.pop(baskets.index(j))\n",
    "                    break\n",
    "            if ki ==0:\n",
    "                uy=uy+1\n",
    "        return uy\n",
    "        "
   ]
  },
  {
   "cell_type": "markdown",
   "metadata": {},
   "source": [
    "## 1967. Number of Strings That Appear as Substrings in Word"
   ]
  },
  {
   "cell_type": "code",
   "execution_count": null,
   "metadata": {},
   "outputs": [],
   "source": [
    "class Solution:\n",
    "    def numOfStrings(self, patterns: List[str], word: str) -> int:\n",
    "        s=0\n",
    "        for i in patterns:\n",
    "            if i in word:\n",
    "                s=s+1\n",
    "        return s\n",
    "\n",
    "        "
   ]
  },
  {
   "cell_type": "markdown",
   "metadata": {},
   "source": [
    "## 2729. Check if The Number is Fascinating"
   ]
  },
  {
   "cell_type": "code",
   "execution_count": null,
   "metadata": {},
   "outputs": [],
   "source": [
    "class Solution:\n",
    "    def isFascinating(self, n: int) -> bool:\n",
    "        op='123456789'\n",
    "        s= str(n)+str(2*n)+str(3*n)\n",
    "        print(s)\n",
    "        if '0' in s:\n",
    "            return False\n",
    "        else:\n",
    "            if len(set(s)) != len(s):\n",
    "                return False\n",
    "            while True:\n",
    "                for i in op:\n",
    "                    if i not in s:\n",
    "                        return False\n",
    "                return True\n",
    "\n",
    "\n",
    "        "
   ]
  }
 ],
 "metadata": {
  "kernelspec": {
   "display_name": "base",
   "language": "python",
   "name": "python3"
  },
  "language_info": {
   "codemirror_mode": {
    "name": "ipython",
    "version": 3
   },
   "file_extension": ".py",
   "mimetype": "text/x-python",
   "name": "python",
   "nbconvert_exporter": "python",
   "pygments_lexer": "ipython3",
   "version": "3.11.8"
  }
 },
 "nbformat": 4,
 "nbformat_minor": 2
}
